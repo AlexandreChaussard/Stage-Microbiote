{
 "cells": [
  {
   "cell_type": "markdown",
   "metadata": {
    "pycharm": {
     "name": "#%% md\n"
    }
   },
   "source": [
    "# Exploration of the microbiota dataset"
   ]
  },
  {
   "cell_type": "code",
   "execution_count": 24,
   "metadata": {
    "collapsed": false,
    "jupyter": {
     "outputs_hidden": false
    },
    "pycharm": {
     "name": "#%%\n"
    }
   },
   "outputs": [],
   "source": [
    "import os\n",
    "import pandas as pd\n",
    "import numpy as np\n",
    "import matplotlib.pyplot as plt\n",
    "\n",
    "import src.data.dataloader as dataloader"
   ]
  },
  {
   "cell_type": "markdown",
   "metadata": {
    "pycharm": {
     "name": "#%% md\n"
    }
   },
   "source": [
    "## NIPICOL Experiment: data extraction"
   ]
  },
  {
   "cell_type": "markdown",
   "metadata": {
    "pycharm": {
     "name": "#%% md\n"
    }
   },
   "source": [
    "We have at our disposal the results of a given experiments named \"NIPICOL\". The experiment was conducted over 83 patients, and consists in determining the patient's health state after the study given its microbiota composition.\n",
    "\n",
    "For the sake of anonymization, each patient name is encrypted in an id formatted as \"FRA...\"with 11 characters, and sometimes a \"bis\" annotation that is yet to be determined.\n",
    "\n",
    "In the NIPICOL dataframe, we get the microbiota composition of the individuals in the dataset. Each column is an individual, and each row represents the proportion of a given bacteria in its composition. The rows name match the taxonomy of the bacteria specimen for which the proportion is assessed.\n",
    "\n",
    "In the mapping dataframe, we get various annotations about each patient. Specifically, we are interested in the `best_irecist` column indicates the response of the patient to the study and forms our main interest label. `CR` signifying a complete remission, we will consider the other labels to be negative results of the study so to binarize our labels.\n",
    "\n",
    "Hence, our goal is to predict a complete remission given the microbiota composition of each individual."
   ]
  },
  {
   "cell_type": "code",
   "execution_count": 25,
   "metadata": {
    "collapsed": false,
    "jupyter": {
     "outputs_hidden": false
    },
    "pycharm": {
     "name": "#%%\n"
    }
   },
   "outputs": [
    {
     "name": "stderr",
     "output_type": "stream",
     "text": [
      "C:\\Users\\frigi\\Desktop\\Code\\Stage-Microbiote\\Expectation-Maximization\\src\\data\\dataloader.py:79: SettingWithCopyWarning: \n",
      "A value is trying to be set on a copy of a slice from a DataFrame.\n",
      "Try using .loc[row_indexer,col_indexer] = value instead\n",
      "\n",
      "See the caveats in the documentation: https://pandas.pydata.org/pandas-docs/stable/user_guide/indexing.html#returning-a-view-versus-a-copy\n",
      "  rdf['ASV_ID'] = rdf['ASV_ID'].str.split(f'{precisions[precision + 1]}__', n=1, expand=True)[0]\n"
     ]
    },
    {
     "data": {
      "text/plain": "                                                    FRA022001CA  FRA022002BB  \\\nASV_ID                                                                         \nd__Bacteria| p__Actinobacteriota| c__Actinobact...     0.000000     0.000000   \nd__Bacteria| p__Actinobacteriota| c__Actinobact...     0.029203     0.000150   \nd__Bacteria| p__Actinobacteriota| c__Actinobact...     0.000000     0.000000   \nd__Bacteria| p__Actinobacteriota| c__Actinobact...     0.000402     0.000414   \nd__Bacteria| p__Actinobacteriota| c__Actinobact...     0.000000     0.000000   \n...                                                         ...          ...   \nd__Bacteria| p__Proteobacteria| c__Gammaproteob...     0.000000     0.000000   \nd__Bacteria| p__Proteobacteria| c__Gammaproteob...     0.000000     0.000000   \nd__Bacteria| p__Proteobacteria| c__Gammaproteob...     0.000000     0.000000   \nd__Bacteria| p__Proteobacteria| c__Gammaproteob...     0.000000     0.000000   \nd__Bacteria| p__Spirochaetota| c__Spirochaetia|...     0.000000     0.000000   \n\n                                                    FRA022003GA  FRA022004MC  \\\nASV_ID                                                                         \nd__Bacteria| p__Actinobacteriota| c__Actinobact...     0.000235          0.0   \nd__Bacteria| p__Actinobacteriota| c__Actinobact...     0.000000          0.0   \nd__Bacteria| p__Actinobacteriota| c__Actinobact...     0.000000          0.0   \nd__Bacteria| p__Actinobacteriota| c__Actinobact...     0.000000          0.0   \nd__Bacteria| p__Actinobacteriota| c__Actinobact...     0.000000          0.0   \n...                                                         ...          ...   \nd__Bacteria| p__Proteobacteria| c__Gammaproteob...     0.000000          0.0   \nd__Bacteria| p__Proteobacteria| c__Gammaproteob...     0.000000          0.0   \nd__Bacteria| p__Proteobacteria| c__Gammaproteob...     0.000000          0.0   \nd__Bacteria| p__Proteobacteria| c__Gammaproteob...     0.000000          0.0   \nd__Bacteria| p__Spirochaetota| c__Spirochaetia|...     0.000000          0.0   \n\n                                                    FRA022005KF  FRA022006TS  \\\nASV_ID                                                                         \nd__Bacteria| p__Actinobacteriota| c__Actinobact...     0.000000     0.000000   \nd__Bacteria| p__Actinobacteriota| c__Actinobact...     0.004413     0.042085   \nd__Bacteria| p__Actinobacteriota| c__Actinobact...     0.000000     0.000000   \nd__Bacteria| p__Actinobacteriota| c__Actinobact...     0.000000     0.000000   \nd__Bacteria| p__Actinobacteriota| c__Actinobact...     0.000000     0.000000   \n...                                                         ...          ...   \nd__Bacteria| p__Proteobacteria| c__Gammaproteob...     0.000000     0.000000   \nd__Bacteria| p__Proteobacteria| c__Gammaproteob...     0.000000     0.000000   \nd__Bacteria| p__Proteobacteria| c__Gammaproteob...     0.000000     0.000000   \nd__Bacteria| p__Proteobacteria| c__Gammaproteob...     0.000000     0.005265   \nd__Bacteria| p__Spirochaetota| c__Spirochaetia|...     0.000000     0.000000   \n\n                                                    FRA022007LP  FRA022008DM  \\\nASV_ID                                                                         \nd__Bacteria| p__Actinobacteriota| c__Actinobact...     0.000000     0.000000   \nd__Bacteria| p__Actinobacteriota| c__Actinobact...     0.001818     0.166539   \nd__Bacteria| p__Actinobacteriota| c__Actinobact...     0.000523     0.000000   \nd__Bacteria| p__Actinobacteriota| c__Actinobact...     0.000303     0.000000   \nd__Bacteria| p__Actinobacteriota| c__Actinobact...     0.000000     0.000000   \n...                                                         ...          ...   \nd__Bacteria| p__Proteobacteria| c__Gammaproteob...     0.000000     0.000000   \nd__Bacteria| p__Proteobacteria| c__Gammaproteob...     0.000000     0.000000   \nd__Bacteria| p__Proteobacteria| c__Gammaproteob...     0.021400     0.000000   \nd__Bacteria| p__Proteobacteria| c__Gammaproteob...     0.000468     0.000000   \nd__Bacteria| p__Spirochaetota| c__Spirochaetia|...     0.000000     0.000000   \n\n                                                    FRA022010KI  FRA022011RB  \\\nASV_ID                                                                         \nd__Bacteria| p__Actinobacteriota| c__Actinobact...     0.000000     0.000000   \nd__Bacteria| p__Actinobacteriota| c__Actinobact...     0.327777     0.011556   \nd__Bacteria| p__Actinobacteriota| c__Actinobact...     0.000000     0.000000   \nd__Bacteria| p__Actinobacteriota| c__Actinobact...     0.000241     0.000000   \nd__Bacteria| p__Actinobacteriota| c__Actinobact...     0.000000     0.000000   \n...                                                         ...          ...   \nd__Bacteria| p__Proteobacteria| c__Gammaproteob...     0.000000     0.000000   \nd__Bacteria| p__Proteobacteria| c__Gammaproteob...     0.000000     0.000000   \nd__Bacteria| p__Proteobacteria| c__Gammaproteob...     0.000000     0.001780   \nd__Bacteria| p__Proteobacteria| c__Gammaproteob...     0.000000     0.000000   \nd__Bacteria| p__Spirochaetota| c__Spirochaetia|...     0.000000     0.000000   \n\n                                                    ...  FRA106001LH  \\\nASV_ID                                              ...                \nd__Bacteria| p__Actinobacteriota| c__Actinobact...  ...     0.000272   \nd__Bacteria| p__Actinobacteriota| c__Actinobact...  ...     0.001141   \nd__Bacteria| p__Actinobacteriota| c__Actinobact...  ...     0.000000   \nd__Bacteria| p__Actinobacteriota| c__Actinobact...  ...     0.006683   \nd__Bacteria| p__Actinobacteriota| c__Actinobact...  ...     0.000000   \n...                                                 ...          ...   \nd__Bacteria| p__Proteobacteria| c__Gammaproteob...  ...     0.002228   \nd__Bacteria| p__Proteobacteria| c__Gammaproteob...  ...     0.008748   \nd__Bacteria| p__Proteobacteria| c__Gammaproteob...  ...     0.000000   \nd__Bacteria| p__Proteobacteria| c__Gammaproteob...  ...     0.027005   \nd__Bacteria| p__Spirochaetota| c__Spirochaetia|...  ...     0.000000   \n\n                                                    FRA106003ER  FRA106004CA  \\\nASV_ID                                                                         \nd__Bacteria| p__Actinobacteriota| c__Actinobact...     0.000000     0.000000   \nd__Bacteria| p__Actinobacteriota| c__Actinobact...     0.086987     0.011556   \nd__Bacteria| p__Actinobacteriota| c__Actinobact...     0.000000     0.000000   \nd__Bacteria| p__Actinobacteriota| c__Actinobact...     0.000679     0.000000   \nd__Bacteria| p__Actinobacteriota| c__Actinobact...     0.000000     0.000000   \n...                                                         ...          ...   \nd__Bacteria| p__Proteobacteria| c__Gammaproteob...     0.000000     0.000000   \nd__Bacteria| p__Proteobacteria| c__Gammaproteob...     0.000000     0.000000   \nd__Bacteria| p__Proteobacteria| c__Gammaproteob...     0.004198     0.000000   \nd__Bacteria| p__Proteobacteria| c__Gammaproteob...     0.000000     0.000000   \nd__Bacteria| p__Spirochaetota| c__Spirochaetia|...     0.000000     0.000000   \n\n                                                    FRA123001AI  FRA189001NM  \\\nASV_ID                                                                         \nd__Bacteria| p__Actinobacteriota| c__Actinobact...     0.000000     0.000000   \nd__Bacteria| p__Actinobacteriota| c__Actinobact...     0.190892     0.007770   \nd__Bacteria| p__Actinobacteriota| c__Actinobact...     0.000000     0.000000   \nd__Bacteria| p__Actinobacteriota| c__Actinobact...     0.000000     0.000000   \nd__Bacteria| p__Actinobacteriota| c__Actinobact...     0.000000     0.000000   \n...                                                         ...          ...   \nd__Bacteria| p__Proteobacteria| c__Gammaproteob...     0.000000     0.000000   \nd__Bacteria| p__Proteobacteria| c__Gammaproteob...     0.000000     0.000000   \nd__Bacteria| p__Proteobacteria| c__Gammaproteob...     0.000000     0.000000   \nd__Bacteria| p__Proteobacteria| c__Gammaproteob...     0.000318     0.017627   \nd__Bacteria| p__Spirochaetota| c__Spirochaetia|...     0.000000     0.000000   \n\n                                                    FRA189002AL  FRA189004JL  \\\nASV_ID                                                                         \nd__Bacteria| p__Actinobacteriota| c__Actinobact...          0.0          0.0   \nd__Bacteria| p__Actinobacteriota| c__Actinobact...          0.0          0.0   \nd__Bacteria| p__Actinobacteriota| c__Actinobact...          0.0          0.0   \nd__Bacteria| p__Actinobacteriota| c__Actinobact...          0.0          0.0   \nd__Bacteria| p__Actinobacteriota| c__Actinobact...          0.0          0.0   \n...                                                         ...          ...   \nd__Bacteria| p__Proteobacteria| c__Gammaproteob...          0.0          0.0   \nd__Bacteria| p__Proteobacteria| c__Gammaproteob...          0.0          0.0   \nd__Bacteria| p__Proteobacteria| c__Gammaproteob...          0.0          0.0   \nd__Bacteria| p__Proteobacteria| c__Gammaproteob...          0.0          0.0   \nd__Bacteria| p__Spirochaetota| c__Spirochaetia|...          0.0          0.0   \n\n                                                    FRA189005JP  FRA189010CM  \\\nASV_ID                                                                         \nd__Bacteria| p__Actinobacteriota| c__Actinobact...     0.000247     0.000275   \nd__Bacteria| p__Actinobacteriota| c__Actinobact...     0.002864     0.000446   \nd__Bacteria| p__Actinobacteriota| c__Actinobact...     0.000000     0.000000   \nd__Bacteria| p__Actinobacteriota| c__Actinobact...     0.001975     0.001957   \nd__Bacteria| p__Actinobacteriota| c__Actinobact...     0.000198     0.000000   \n...                                                         ...          ...   \nd__Bacteria| p__Proteobacteria| c__Gammaproteob...     0.000000     0.000000   \nd__Bacteria| p__Proteobacteria| c__Gammaproteob...     0.000000     0.000000   \nd__Bacteria| p__Proteobacteria| c__Gammaproteob...     0.000000     0.011092   \nd__Bacteria| p__Proteobacteria| c__Gammaproteob...     0.001481     0.001339   \nd__Bacteria| p__Spirochaetota| c__Spirochaetia|...     0.000000     0.000000   \n\n                                                    FRA256001DJ  \nASV_ID                                                           \nd__Bacteria| p__Actinobacteriota| c__Actinobact...     0.000000  \nd__Bacteria| p__Actinobacteriota| c__Actinobact...     0.043452  \nd__Bacteria| p__Actinobacteriota| c__Actinobact...     0.000175  \nd__Bacteria| p__Actinobacteriota| c__Actinobact...     0.002480  \nd__Bacteria| p__Actinobacteriota| c__Actinobact...     0.000000  \n...                                                         ...  \nd__Bacteria| p__Proteobacteria| c__Gammaproteob...     0.000000  \nd__Bacteria| p__Proteobacteria| c__Gammaproteob...     0.000000  \nd__Bacteria| p__Proteobacteria| c__Gammaproteob...     0.000000  \nd__Bacteria| p__Proteobacteria| c__Gammaproteob...     0.000000  \nd__Bacteria| p__Spirochaetota| c__Spirochaetia|...     0.000000  \n\n[114 rows x 42 columns]",
      "text/html": "<div>\n<style scoped>\n    .dataframe tbody tr th:only-of-type {\n        vertical-align: middle;\n    }\n\n    .dataframe tbody tr th {\n        vertical-align: top;\n    }\n\n    .dataframe thead th {\n        text-align: right;\n    }\n</style>\n<table border=\"1\" class=\"dataframe\">\n  <thead>\n    <tr style=\"text-align: right;\">\n      <th></th>\n      <th>FRA022001CA</th>\n      <th>FRA022002BB</th>\n      <th>FRA022003GA</th>\n      <th>FRA022004MC</th>\n      <th>FRA022005KF</th>\n      <th>FRA022006TS</th>\n      <th>FRA022007LP</th>\n      <th>FRA022008DM</th>\n      <th>FRA022010KI</th>\n      <th>FRA022011RB</th>\n      <th>...</th>\n      <th>FRA106001LH</th>\n      <th>FRA106003ER</th>\n      <th>FRA106004CA</th>\n      <th>FRA123001AI</th>\n      <th>FRA189001NM</th>\n      <th>FRA189002AL</th>\n      <th>FRA189004JL</th>\n      <th>FRA189005JP</th>\n      <th>FRA189010CM</th>\n      <th>FRA256001DJ</th>\n    </tr>\n    <tr>\n      <th>ASV_ID</th>\n      <th></th>\n      <th></th>\n      <th></th>\n      <th></th>\n      <th></th>\n      <th></th>\n      <th></th>\n      <th></th>\n      <th></th>\n      <th></th>\n      <th></th>\n      <th></th>\n      <th></th>\n      <th></th>\n      <th></th>\n      <th></th>\n      <th></th>\n      <th></th>\n      <th></th>\n      <th></th>\n      <th></th>\n    </tr>\n  </thead>\n  <tbody>\n    <tr>\n      <th>d__Bacteria| p__Actinobacteriota| c__Actinobacteria| o__Actinomycetales| f__Actinomycetaceae|</th>\n      <td>0.000000</td>\n      <td>0.000000</td>\n      <td>0.000235</td>\n      <td>0.0</td>\n      <td>0.000000</td>\n      <td>0.000000</td>\n      <td>0.000000</td>\n      <td>0.000000</td>\n      <td>0.000000</td>\n      <td>0.000000</td>\n      <td>...</td>\n      <td>0.000272</td>\n      <td>0.000000</td>\n      <td>0.000000</td>\n      <td>0.000000</td>\n      <td>0.000000</td>\n      <td>0.0</td>\n      <td>0.0</td>\n      <td>0.000247</td>\n      <td>0.000275</td>\n      <td>0.000000</td>\n    </tr>\n    <tr>\n      <th>d__Bacteria| p__Actinobacteriota| c__Actinobacteria| o__Bifidobacteriales| f__Bifidobacteriaceae|</th>\n      <td>0.029203</td>\n      <td>0.000150</td>\n      <td>0.000000</td>\n      <td>0.0</td>\n      <td>0.004413</td>\n      <td>0.042085</td>\n      <td>0.001818</td>\n      <td>0.166539</td>\n      <td>0.327777</td>\n      <td>0.011556</td>\n      <td>...</td>\n      <td>0.001141</td>\n      <td>0.086987</td>\n      <td>0.011556</td>\n      <td>0.190892</td>\n      <td>0.007770</td>\n      <td>0.0</td>\n      <td>0.0</td>\n      <td>0.002864</td>\n      <td>0.000446</td>\n      <td>0.043452</td>\n    </tr>\n    <tr>\n      <th>d__Bacteria| p__Actinobacteriota| c__Actinobacteria| o__Corynebacteriales| f__Corynebacteriaceae|</th>\n      <td>0.000000</td>\n      <td>0.000000</td>\n      <td>0.000000</td>\n      <td>0.0</td>\n      <td>0.000000</td>\n      <td>0.000000</td>\n      <td>0.000523</td>\n      <td>0.000000</td>\n      <td>0.000000</td>\n      <td>0.000000</td>\n      <td>...</td>\n      <td>0.000000</td>\n      <td>0.000000</td>\n      <td>0.000000</td>\n      <td>0.000000</td>\n      <td>0.000000</td>\n      <td>0.0</td>\n      <td>0.0</td>\n      <td>0.000000</td>\n      <td>0.000000</td>\n      <td>0.000175</td>\n    </tr>\n    <tr>\n      <th>d__Bacteria| p__Actinobacteriota| c__Actinobacteria| o__Corynebacteriales| f__Dietziaceae|</th>\n      <td>0.000402</td>\n      <td>0.000414</td>\n      <td>0.000000</td>\n      <td>0.0</td>\n      <td>0.000000</td>\n      <td>0.000000</td>\n      <td>0.000303</td>\n      <td>0.000000</td>\n      <td>0.000241</td>\n      <td>0.000000</td>\n      <td>...</td>\n      <td>0.006683</td>\n      <td>0.000679</td>\n      <td>0.000000</td>\n      <td>0.000000</td>\n      <td>0.000000</td>\n      <td>0.0</td>\n      <td>0.0</td>\n      <td>0.001975</td>\n      <td>0.001957</td>\n      <td>0.002480</td>\n    </tr>\n    <tr>\n      <th>d__Bacteria| p__Actinobacteriota| c__Actinobacteria| o__Micrococcales| f__Microbacteriaceae|</th>\n      <td>0.000000</td>\n      <td>0.000000</td>\n      <td>0.000000</td>\n      <td>0.0</td>\n      <td>0.000000</td>\n      <td>0.000000</td>\n      <td>0.000000</td>\n      <td>0.000000</td>\n      <td>0.000000</td>\n      <td>0.000000</td>\n      <td>...</td>\n      <td>0.000000</td>\n      <td>0.000000</td>\n      <td>0.000000</td>\n      <td>0.000000</td>\n      <td>0.000000</td>\n      <td>0.0</td>\n      <td>0.0</td>\n      <td>0.000198</td>\n      <td>0.000000</td>\n      <td>0.000000</td>\n    </tr>\n    <tr>\n      <th>...</th>\n      <td>...</td>\n      <td>...</td>\n      <td>...</td>\n      <td>...</td>\n      <td>...</td>\n      <td>...</td>\n      <td>...</td>\n      <td>...</td>\n      <td>...</td>\n      <td>...</td>\n      <td>...</td>\n      <td>...</td>\n      <td>...</td>\n      <td>...</td>\n      <td>...</td>\n      <td>...</td>\n      <td>...</td>\n      <td>...</td>\n      <td>...</td>\n      <td>...</td>\n      <td>...</td>\n    </tr>\n    <tr>\n      <th>d__Bacteria| p__Proteobacteria| c__Gammaproteobacteria| o__Enterobacterales| f__Enterobacteriaceae|a0e658b68b3dda271e8617f5403542d3</th>\n      <td>0.000000</td>\n      <td>0.000000</td>\n      <td>0.000000</td>\n      <td>0.0</td>\n      <td>0.000000</td>\n      <td>0.000000</td>\n      <td>0.000000</td>\n      <td>0.000000</td>\n      <td>0.000000</td>\n      <td>0.000000</td>\n      <td>...</td>\n      <td>0.002228</td>\n      <td>0.000000</td>\n      <td>0.000000</td>\n      <td>0.000000</td>\n      <td>0.000000</td>\n      <td>0.0</td>\n      <td>0.0</td>\n      <td>0.000000</td>\n      <td>0.000000</td>\n      <td>0.000000</td>\n    </tr>\n    <tr>\n      <th>d__Bacteria| p__Proteobacteria| c__Gammaproteobacteria| o__Enterobacterales| f__Enterobacteriaceae|b54e85eefc32197ad3ce0852b2967396</th>\n      <td>0.000000</td>\n      <td>0.000000</td>\n      <td>0.000000</td>\n      <td>0.0</td>\n      <td>0.000000</td>\n      <td>0.000000</td>\n      <td>0.000000</td>\n      <td>0.000000</td>\n      <td>0.000000</td>\n      <td>0.000000</td>\n      <td>...</td>\n      <td>0.008748</td>\n      <td>0.000000</td>\n      <td>0.000000</td>\n      <td>0.000000</td>\n      <td>0.000000</td>\n      <td>0.0</td>\n      <td>0.0</td>\n      <td>0.000000</td>\n      <td>0.000000</td>\n      <td>0.000000</td>\n    </tr>\n    <tr>\n      <th>d__Bacteria| p__Proteobacteria| c__Gammaproteobacteria| o__Enterobacterales| f__Hafniaceae|</th>\n      <td>0.000000</td>\n      <td>0.000000</td>\n      <td>0.000000</td>\n      <td>0.0</td>\n      <td>0.000000</td>\n      <td>0.000000</td>\n      <td>0.021400</td>\n      <td>0.000000</td>\n      <td>0.000000</td>\n      <td>0.001780</td>\n      <td>...</td>\n      <td>0.000000</td>\n      <td>0.004198</td>\n      <td>0.000000</td>\n      <td>0.000000</td>\n      <td>0.000000</td>\n      <td>0.0</td>\n      <td>0.0</td>\n      <td>0.000000</td>\n      <td>0.011092</td>\n      <td>0.000000</td>\n    </tr>\n    <tr>\n      <th>d__Bacteria| p__Proteobacteria| c__Gammaproteobacteria| o__Pasteurellales| f__Pasteurellaceae|</th>\n      <td>0.000000</td>\n      <td>0.000000</td>\n      <td>0.000000</td>\n      <td>0.0</td>\n      <td>0.000000</td>\n      <td>0.005265</td>\n      <td>0.000468</td>\n      <td>0.000000</td>\n      <td>0.000000</td>\n      <td>0.000000</td>\n      <td>...</td>\n      <td>0.027005</td>\n      <td>0.000000</td>\n      <td>0.000000</td>\n      <td>0.000318</td>\n      <td>0.017627</td>\n      <td>0.0</td>\n      <td>0.0</td>\n      <td>0.001481</td>\n      <td>0.001339</td>\n      <td>0.000000</td>\n    </tr>\n    <tr>\n      <th>d__Bacteria| p__Spirochaetota| c__Spirochaetia| o__Spirochaetales| f__Spirochaetaceae|</th>\n      <td>0.000000</td>\n      <td>0.000000</td>\n      <td>0.000000</td>\n      <td>0.0</td>\n      <td>0.000000</td>\n      <td>0.000000</td>\n      <td>0.000000</td>\n      <td>0.000000</td>\n      <td>0.000000</td>\n      <td>0.000000</td>\n      <td>...</td>\n      <td>0.000000</td>\n      <td>0.000000</td>\n      <td>0.000000</td>\n      <td>0.000000</td>\n      <td>0.000000</td>\n      <td>0.0</td>\n      <td>0.0</td>\n      <td>0.000000</td>\n      <td>0.000000</td>\n      <td>0.000000</td>\n    </tr>\n  </tbody>\n</table>\n<p>114 rows × 42 columns</p>\n</div>"
     },
     "execution_count": 25,
     "metadata": {},
     "output_type": "execute_result"
    }
   ],
   "source": [
    "df = dataloader.get_NIPICOL(4, 'src/data')\n",
    "df"
   ]
  },
  {
   "cell_type": "code",
   "execution_count": 26,
   "metadata": {
    "collapsed": false,
    "jupyter": {
     "outputs_hidden": false
    },
    "pycharm": {
     "name": "#%%\n"
    }
   },
   "outputs": [
    {
     "data": {
      "text/plain": "             id      numpat      Exp timepoint to_take  Subject_ID irecistw12  \\\n0   FRA022001CA  FRA022-001  nipicol        S0     yes           1         SD   \n2   FRA022002BB  FRA022-002  nipicol        S0     yes           2         SD   \n4   FRA022003GA  FRA022-003  nipicol        S0     yes           3         SD   \n6   FRA022004MC  FRA022-004  nipicol        S0     yes           4         SD   \n8   FRA022005KF  FRA022-005  nipicol        S0     yes           5         PR   \n10  FRA022006TS  FRA022-006  nipicol        S0     yes           6         PR   \n12  FRA022007LP  FRA022-007  nipicol        S0     yes           7         PR   \n14  FRA022008DM  FRA022-008  nipicol        S0     yes           8         PR   \n16  FRA022010KI  FRA022-010  nipicol        S0     yes          12         SD   \n18  FRA022011RB  FRA022-011  nipicol        S0     yes          13         PR   \n20  FRA022012GF  FRA022-012  nipicol        S0     yes          16         SD   \n22  FRA022013ZV  FRA022-013  nipicol        S0     yes          18         SD   \n24  FRA022014RD  FRA022-014  nipicol        S0     yes          20         SD   \n26  FRA022015BF  FRA022-015  nipicol        S0     yes          23         SD   \n28  FRA022016AS  FRA022-016  nipicol        S0     yes          25        iSD   \n30  FRA022018LS  FRA022-018  nipicol        S0     yes          28         SD   \n32  FRA022019RX  FRA022-019  nipicol        S0     yes          31         SD   \n34  FRA022020BF  FRA022-020  nipicol       S12     yes          34         SD   \n36  FRA022021MP  FRA022-021  nipicol        S0     yes          36         CR   \n38  FRA022022RH  FRA022-022  nipicol        S0     yes          40         PR   \n40  FRA022023DC  FRA022-023  nipicol       S12     yes          41         SD   \n41  FRA022025BE  FRA022-025  nipicol        S0     yes          49         SD   \n43  FRA022026CN  FRA022-026  nipicol       S12     yes          56         SD   \n45  FRA022027LP  FRA022-027  nipicol        S0     yes          57         SD   \n47  FRA022028BM  FRA022-028  nipicol        S0     yes          60         PR   \n49  FRA074002DB  FRA074-002  nipicol       S12     yes          11         SD   \n51  FRA084001JL  FRA084-001  nipicol        S0      no          39         SD   \n53  FRA084005RC  FRA084-005  nipicol        S0     yes          54         SD   \n55  FRA094001CA  FRA094-001  nipicol        S0     yes          14         SD   \n57  FRA094002BD  FRA094-002  nipicol        S0     yes          17         SD   \n59  FRA094003DR  FRA094-003  nipicol        S0      no          32         PR   \n61  FRA094004TD  FRA094-004  nipicol        S0     yes          58         PR   \n63  FRA106001LH  FRA106-001  nipicol        S0     yes          26         SD   \n65  FRA106003ER  FRA106-003  nipicol        S0     yes          42         PR   \n67  FRA106004CA  FRA106-004  nipicol        S0     yes          48         PR   \n69  FRA123001AI  FRA123-001  nipicol        S0     yes          38         PR   \n71  FRA189001NM  FRA189-001  nipicol        S0      no          15        uPD   \n73  FRA189002AL  FRA189-002  nipicol        S0      no          19        uPD   \n75  FRA189004JL  FRA189-004  nipicol        S0      no          24         PR   \n77  FRA189005JP  FRA189-005  nipicol        S0     yes          29         PR   \n79  FRA189010CM  FRA189-010  nipicol        S0     yes          52         SD   \n81  FRA256001DJ  FRA256-001  nipicol        S0     yes          22         CR   \n\n   irecistw12_tp best_irecist best_irecist_tp best_irecist2 best_irecist2_tp  \\\n0          S0_SD           SD           S0_SD            SD            S0_SD   \n2          S0_SD           PR           S0_PR         PR_CR         S0_PR_CR   \n4          S0_SD           PR           S0_PR         PR_CR         S0_PR_CR   \n6          S0_SD           SD           S0_SD            SD            S0_SD   \n8          S0_PR           PR           S0_PR         PR_CR         S0_PR_CR   \n10         S0_PR           CR           S0_CR         PR_CR         S0_PR_CR   \n12         S0_PR           PR           S0_PR         PR_CR         S0_PR_CR   \n14         S0_PR           PR           S0_PR         PR_CR         S0_PR_CR   \n16         S0_SD           CR           S0_CR         PR_CR         S0_PR_CR   \n18         S0_PR           PR           S0_PR         PR_CR         S0_PR_CR   \n20         S0_SD           PR           S0_PR         PR_CR         S0_PR_CR   \n22         S0_SD           SD           S0_SD            SD            S0_SD   \n24         S0_SD           SD           S0_SD            SD            S0_SD   \n26         S0_SD           SD           S0_SD            SD            S0_SD   \n28        S0_iSD           SD           S0_SD            SD            S0_SD   \n30         S0_SD           PR           S0_PR         PR_CR         S0_PR_CR   \n32         S0_SD           PR           S0_PR         PR_CR         S0_PR_CR   \n34        S12_SD           SD          S12_SD            SD           S12_SD   \n36         S0_CR           CR           S0_CR         PR_CR         S0_PR_CR   \n38         S0_PR           CR           S0_CR         PR_CR         S0_PR_CR   \n40        S12_SD           PR          S12_PR         PR_CR        S12_PR_CR   \n41         S0_SD           SD           S0_SD            SD            S0_SD   \n43        S12_SD           SD          S12_SD            SD           S12_SD   \n45         S0_SD           PR           S0_PR         PR_CR         S0_PR_CR   \n47         S0_PR           CR           S0_CR         PR_CR         S0_PR_CR   \n49        S12_SD           SD          S12_SD            SD           S12_SD   \n51         S0_SD           PR           S0_PR         PR_CR         S0_PR_CR   \n53         S0_SD           SD           S0_SD            SD            S0_SD   \n55         S0_SD           SD           S0_SD            SD            S0_SD   \n57         S0_SD           SD           S0_SD            SD            S0_SD   \n59         S0_PR           PR           S0_PR         PR_CR         S0_PR_CR   \n61         S0_PR           CR           S0_CR         PR_CR         S0_PR_CR   \n63         S0_SD           SD           S0_SD            SD            S0_SD   \n65         S0_PR           CR           S0_CR         PR_CR         S0_PR_CR   \n67         S0_PR           PR           S0_PR         PR_CR         S0_PR_CR   \n69         S0_PR           CR           S0_CR         PR_CR         S0_PR_CR   \n71        S0_uPD           SD           S0_SD            SD            S0_SD   \n73        S0_uPD           PR           S0_PR         PR_CR         S0_PR_CR   \n75         S0_PR           PR           S0_PR         PR_CR         S0_PR_CR   \n77         S0_PR           PR           S0_PR         PR_CR         S0_PR_CR   \n79         S0_SD           PR           S0_PR         PR_CR         S0_PR_CR   \n81         S0_CR           CR           S0_CR         PR_CR         S0_PR_CR   \n\n    iPFS_progr  ipfs_time    os_time  os_event  \n0            0  19.022587  19.055441         0  \n2            0  25.494867  25.494867         0  \n4            0  25.297741  25.297741         0  \n6            1   4.501027   4.501027         1  \n8            0  25.626283  25.626283         0  \n10           0  25.396304  25.396304         0  \n12           0   5.749487   5.880903         0  \n14           0  24.837782  24.837782         0  \n16           0  25.034908  25.034908         0  \n18           0  24.804928  24.804928         0  \n20           0  24.804928  24.804928         0  \n22           0  21.815195  21.815195         0  \n24           0  21.979466  21.979466         0  \n26           1   4.895277   4.895277         1  \n28           0  21.618070  21.618070         0  \n30           0  22.242300  22.242300         0  \n32           0  19.219713  19.219713         0  \n34           0  19.252567  19.252567         0  \n36           0  19.219713  19.219713         0  \n38           0  18.069815  18.069815         0  \n40           0  18.989733  18.989733         0  \n41           0  18.431211  18.431211         0  \n43           1   5.388090  10.480493         0  \n45           0  16.459959  16.459959         0  \n47           0  14.225873  14.225873         0  \n49           0   5.552361  14.061602         0  \n51           0   8.082136  16.525667         0  \n53           0   3.975359  13.831622         0  \n55           0  23.852156  23.852156         0  \n57           1   8.640657  13.075975         0  \n59           1   4.271047   7.852156         0  \n61           0  13.601643  13.601643         0  \n63           1   3.811088   6.899384         1  \n65           0  13.831622  13.963039         0  \n67           0  13.601643  13.733060         0  \n69           0  13.535934  13.535934         0  \n71           1   2.529774  11.794661         1  \n73           1   4.139630   8.837782         0  \n75           0  14.685832  14.718686         0  \n77           0  13.963039  14.225873         0  \n79           0  12.747433  12.747433         0  \n81           0  10.973306  12.418891         0  ",
      "text/html": "<div>\n<style scoped>\n    .dataframe tbody tr th:only-of-type {\n        vertical-align: middle;\n    }\n\n    .dataframe tbody tr th {\n        vertical-align: top;\n    }\n\n    .dataframe thead th {\n        text-align: right;\n    }\n</style>\n<table border=\"1\" class=\"dataframe\">\n  <thead>\n    <tr style=\"text-align: right;\">\n      <th></th>\n      <th>id</th>\n      <th>numpat</th>\n      <th>Exp</th>\n      <th>timepoint</th>\n      <th>to_take</th>\n      <th>Subject_ID</th>\n      <th>irecistw12</th>\n      <th>irecistw12_tp</th>\n      <th>best_irecist</th>\n      <th>best_irecist_tp</th>\n      <th>best_irecist2</th>\n      <th>best_irecist2_tp</th>\n      <th>iPFS_progr</th>\n      <th>ipfs_time</th>\n      <th>os_time</th>\n      <th>os_event</th>\n    </tr>\n  </thead>\n  <tbody>\n    <tr>\n      <th>0</th>\n      <td>FRA022001CA</td>\n      <td>FRA022-001</td>\n      <td>nipicol</td>\n      <td>S0</td>\n      <td>yes</td>\n      <td>1</td>\n      <td>SD</td>\n      <td>S0_SD</td>\n      <td>SD</td>\n      <td>S0_SD</td>\n      <td>SD</td>\n      <td>S0_SD</td>\n      <td>0</td>\n      <td>19.022587</td>\n      <td>19.055441</td>\n      <td>0</td>\n    </tr>\n    <tr>\n      <th>2</th>\n      <td>FRA022002BB</td>\n      <td>FRA022-002</td>\n      <td>nipicol</td>\n      <td>S0</td>\n      <td>yes</td>\n      <td>2</td>\n      <td>SD</td>\n      <td>S0_SD</td>\n      <td>PR</td>\n      <td>S0_PR</td>\n      <td>PR_CR</td>\n      <td>S0_PR_CR</td>\n      <td>0</td>\n      <td>25.494867</td>\n      <td>25.494867</td>\n      <td>0</td>\n    </tr>\n    <tr>\n      <th>4</th>\n      <td>FRA022003GA</td>\n      <td>FRA022-003</td>\n      <td>nipicol</td>\n      <td>S0</td>\n      <td>yes</td>\n      <td>3</td>\n      <td>SD</td>\n      <td>S0_SD</td>\n      <td>PR</td>\n      <td>S0_PR</td>\n      <td>PR_CR</td>\n      <td>S0_PR_CR</td>\n      <td>0</td>\n      <td>25.297741</td>\n      <td>25.297741</td>\n      <td>0</td>\n    </tr>\n    <tr>\n      <th>6</th>\n      <td>FRA022004MC</td>\n      <td>FRA022-004</td>\n      <td>nipicol</td>\n      <td>S0</td>\n      <td>yes</td>\n      <td>4</td>\n      <td>SD</td>\n      <td>S0_SD</td>\n      <td>SD</td>\n      <td>S0_SD</td>\n      <td>SD</td>\n      <td>S0_SD</td>\n      <td>1</td>\n      <td>4.501027</td>\n      <td>4.501027</td>\n      <td>1</td>\n    </tr>\n    <tr>\n      <th>8</th>\n      <td>FRA022005KF</td>\n      <td>FRA022-005</td>\n      <td>nipicol</td>\n      <td>S0</td>\n      <td>yes</td>\n      <td>5</td>\n      <td>PR</td>\n      <td>S0_PR</td>\n      <td>PR</td>\n      <td>S0_PR</td>\n      <td>PR_CR</td>\n      <td>S0_PR_CR</td>\n      <td>0</td>\n      <td>25.626283</td>\n      <td>25.626283</td>\n      <td>0</td>\n    </tr>\n    <tr>\n      <th>10</th>\n      <td>FRA022006TS</td>\n      <td>FRA022-006</td>\n      <td>nipicol</td>\n      <td>S0</td>\n      <td>yes</td>\n      <td>6</td>\n      <td>PR</td>\n      <td>S0_PR</td>\n      <td>CR</td>\n      <td>S0_CR</td>\n      <td>PR_CR</td>\n      <td>S0_PR_CR</td>\n      <td>0</td>\n      <td>25.396304</td>\n      <td>25.396304</td>\n      <td>0</td>\n    </tr>\n    <tr>\n      <th>12</th>\n      <td>FRA022007LP</td>\n      <td>FRA022-007</td>\n      <td>nipicol</td>\n      <td>S0</td>\n      <td>yes</td>\n      <td>7</td>\n      <td>PR</td>\n      <td>S0_PR</td>\n      <td>PR</td>\n      <td>S0_PR</td>\n      <td>PR_CR</td>\n      <td>S0_PR_CR</td>\n      <td>0</td>\n      <td>5.749487</td>\n      <td>5.880903</td>\n      <td>0</td>\n    </tr>\n    <tr>\n      <th>14</th>\n      <td>FRA022008DM</td>\n      <td>FRA022-008</td>\n      <td>nipicol</td>\n      <td>S0</td>\n      <td>yes</td>\n      <td>8</td>\n      <td>PR</td>\n      <td>S0_PR</td>\n      <td>PR</td>\n      <td>S0_PR</td>\n      <td>PR_CR</td>\n      <td>S0_PR_CR</td>\n      <td>0</td>\n      <td>24.837782</td>\n      <td>24.837782</td>\n      <td>0</td>\n    </tr>\n    <tr>\n      <th>16</th>\n      <td>FRA022010KI</td>\n      <td>FRA022-010</td>\n      <td>nipicol</td>\n      <td>S0</td>\n      <td>yes</td>\n      <td>12</td>\n      <td>SD</td>\n      <td>S0_SD</td>\n      <td>CR</td>\n      <td>S0_CR</td>\n      <td>PR_CR</td>\n      <td>S0_PR_CR</td>\n      <td>0</td>\n      <td>25.034908</td>\n      <td>25.034908</td>\n      <td>0</td>\n    </tr>\n    <tr>\n      <th>18</th>\n      <td>FRA022011RB</td>\n      <td>FRA022-011</td>\n      <td>nipicol</td>\n      <td>S0</td>\n      <td>yes</td>\n      <td>13</td>\n      <td>PR</td>\n      <td>S0_PR</td>\n      <td>PR</td>\n      <td>S0_PR</td>\n      <td>PR_CR</td>\n      <td>S0_PR_CR</td>\n      <td>0</td>\n      <td>24.804928</td>\n      <td>24.804928</td>\n      <td>0</td>\n    </tr>\n    <tr>\n      <th>20</th>\n      <td>FRA022012GF</td>\n      <td>FRA022-012</td>\n      <td>nipicol</td>\n      <td>S0</td>\n      <td>yes</td>\n      <td>16</td>\n      <td>SD</td>\n      <td>S0_SD</td>\n      <td>PR</td>\n      <td>S0_PR</td>\n      <td>PR_CR</td>\n      <td>S0_PR_CR</td>\n      <td>0</td>\n      <td>24.804928</td>\n      <td>24.804928</td>\n      <td>0</td>\n    </tr>\n    <tr>\n      <th>22</th>\n      <td>FRA022013ZV</td>\n      <td>FRA022-013</td>\n      <td>nipicol</td>\n      <td>S0</td>\n      <td>yes</td>\n      <td>18</td>\n      <td>SD</td>\n      <td>S0_SD</td>\n      <td>SD</td>\n      <td>S0_SD</td>\n      <td>SD</td>\n      <td>S0_SD</td>\n      <td>0</td>\n      <td>21.815195</td>\n      <td>21.815195</td>\n      <td>0</td>\n    </tr>\n    <tr>\n      <th>24</th>\n      <td>FRA022014RD</td>\n      <td>FRA022-014</td>\n      <td>nipicol</td>\n      <td>S0</td>\n      <td>yes</td>\n      <td>20</td>\n      <td>SD</td>\n      <td>S0_SD</td>\n      <td>SD</td>\n      <td>S0_SD</td>\n      <td>SD</td>\n      <td>S0_SD</td>\n      <td>0</td>\n      <td>21.979466</td>\n      <td>21.979466</td>\n      <td>0</td>\n    </tr>\n    <tr>\n      <th>26</th>\n      <td>FRA022015BF</td>\n      <td>FRA022-015</td>\n      <td>nipicol</td>\n      <td>S0</td>\n      <td>yes</td>\n      <td>23</td>\n      <td>SD</td>\n      <td>S0_SD</td>\n      <td>SD</td>\n      <td>S0_SD</td>\n      <td>SD</td>\n      <td>S0_SD</td>\n      <td>1</td>\n      <td>4.895277</td>\n      <td>4.895277</td>\n      <td>1</td>\n    </tr>\n    <tr>\n      <th>28</th>\n      <td>FRA022016AS</td>\n      <td>FRA022-016</td>\n      <td>nipicol</td>\n      <td>S0</td>\n      <td>yes</td>\n      <td>25</td>\n      <td>iSD</td>\n      <td>S0_iSD</td>\n      <td>SD</td>\n      <td>S0_SD</td>\n      <td>SD</td>\n      <td>S0_SD</td>\n      <td>0</td>\n      <td>21.618070</td>\n      <td>21.618070</td>\n      <td>0</td>\n    </tr>\n    <tr>\n      <th>30</th>\n      <td>FRA022018LS</td>\n      <td>FRA022-018</td>\n      <td>nipicol</td>\n      <td>S0</td>\n      <td>yes</td>\n      <td>28</td>\n      <td>SD</td>\n      <td>S0_SD</td>\n      <td>PR</td>\n      <td>S0_PR</td>\n      <td>PR_CR</td>\n      <td>S0_PR_CR</td>\n      <td>0</td>\n      <td>22.242300</td>\n      <td>22.242300</td>\n      <td>0</td>\n    </tr>\n    <tr>\n      <th>32</th>\n      <td>FRA022019RX</td>\n      <td>FRA022-019</td>\n      <td>nipicol</td>\n      <td>S0</td>\n      <td>yes</td>\n      <td>31</td>\n      <td>SD</td>\n      <td>S0_SD</td>\n      <td>PR</td>\n      <td>S0_PR</td>\n      <td>PR_CR</td>\n      <td>S0_PR_CR</td>\n      <td>0</td>\n      <td>19.219713</td>\n      <td>19.219713</td>\n      <td>0</td>\n    </tr>\n    <tr>\n      <th>34</th>\n      <td>FRA022020BF</td>\n      <td>FRA022-020</td>\n      <td>nipicol</td>\n      <td>S12</td>\n      <td>yes</td>\n      <td>34</td>\n      <td>SD</td>\n      <td>S12_SD</td>\n      <td>SD</td>\n      <td>S12_SD</td>\n      <td>SD</td>\n      <td>S12_SD</td>\n      <td>0</td>\n      <td>19.252567</td>\n      <td>19.252567</td>\n      <td>0</td>\n    </tr>\n    <tr>\n      <th>36</th>\n      <td>FRA022021MP</td>\n      <td>FRA022-021</td>\n      <td>nipicol</td>\n      <td>S0</td>\n      <td>yes</td>\n      <td>36</td>\n      <td>CR</td>\n      <td>S0_CR</td>\n      <td>CR</td>\n      <td>S0_CR</td>\n      <td>PR_CR</td>\n      <td>S0_PR_CR</td>\n      <td>0</td>\n      <td>19.219713</td>\n      <td>19.219713</td>\n      <td>0</td>\n    </tr>\n    <tr>\n      <th>38</th>\n      <td>FRA022022RH</td>\n      <td>FRA022-022</td>\n      <td>nipicol</td>\n      <td>S0</td>\n      <td>yes</td>\n      <td>40</td>\n      <td>PR</td>\n      <td>S0_PR</td>\n      <td>CR</td>\n      <td>S0_CR</td>\n      <td>PR_CR</td>\n      <td>S0_PR_CR</td>\n      <td>0</td>\n      <td>18.069815</td>\n      <td>18.069815</td>\n      <td>0</td>\n    </tr>\n    <tr>\n      <th>40</th>\n      <td>FRA022023DC</td>\n      <td>FRA022-023</td>\n      <td>nipicol</td>\n      <td>S12</td>\n      <td>yes</td>\n      <td>41</td>\n      <td>SD</td>\n      <td>S12_SD</td>\n      <td>PR</td>\n      <td>S12_PR</td>\n      <td>PR_CR</td>\n      <td>S12_PR_CR</td>\n      <td>0</td>\n      <td>18.989733</td>\n      <td>18.989733</td>\n      <td>0</td>\n    </tr>\n    <tr>\n      <th>41</th>\n      <td>FRA022025BE</td>\n      <td>FRA022-025</td>\n      <td>nipicol</td>\n      <td>S0</td>\n      <td>yes</td>\n      <td>49</td>\n      <td>SD</td>\n      <td>S0_SD</td>\n      <td>SD</td>\n      <td>S0_SD</td>\n      <td>SD</td>\n      <td>S0_SD</td>\n      <td>0</td>\n      <td>18.431211</td>\n      <td>18.431211</td>\n      <td>0</td>\n    </tr>\n    <tr>\n      <th>43</th>\n      <td>FRA022026CN</td>\n      <td>FRA022-026</td>\n      <td>nipicol</td>\n      <td>S12</td>\n      <td>yes</td>\n      <td>56</td>\n      <td>SD</td>\n      <td>S12_SD</td>\n      <td>SD</td>\n      <td>S12_SD</td>\n      <td>SD</td>\n      <td>S12_SD</td>\n      <td>1</td>\n      <td>5.388090</td>\n      <td>10.480493</td>\n      <td>0</td>\n    </tr>\n    <tr>\n      <th>45</th>\n      <td>FRA022027LP</td>\n      <td>FRA022-027</td>\n      <td>nipicol</td>\n      <td>S0</td>\n      <td>yes</td>\n      <td>57</td>\n      <td>SD</td>\n      <td>S0_SD</td>\n      <td>PR</td>\n      <td>S0_PR</td>\n      <td>PR_CR</td>\n      <td>S0_PR_CR</td>\n      <td>0</td>\n      <td>16.459959</td>\n      <td>16.459959</td>\n      <td>0</td>\n    </tr>\n    <tr>\n      <th>47</th>\n      <td>FRA022028BM</td>\n      <td>FRA022-028</td>\n      <td>nipicol</td>\n      <td>S0</td>\n      <td>yes</td>\n      <td>60</td>\n      <td>PR</td>\n      <td>S0_PR</td>\n      <td>CR</td>\n      <td>S0_CR</td>\n      <td>PR_CR</td>\n      <td>S0_PR_CR</td>\n      <td>0</td>\n      <td>14.225873</td>\n      <td>14.225873</td>\n      <td>0</td>\n    </tr>\n    <tr>\n      <th>49</th>\n      <td>FRA074002DB</td>\n      <td>FRA074-002</td>\n      <td>nipicol</td>\n      <td>S12</td>\n      <td>yes</td>\n      <td>11</td>\n      <td>SD</td>\n      <td>S12_SD</td>\n      <td>SD</td>\n      <td>S12_SD</td>\n      <td>SD</td>\n      <td>S12_SD</td>\n      <td>0</td>\n      <td>5.552361</td>\n      <td>14.061602</td>\n      <td>0</td>\n    </tr>\n    <tr>\n      <th>51</th>\n      <td>FRA084001JL</td>\n      <td>FRA084-001</td>\n      <td>nipicol</td>\n      <td>S0</td>\n      <td>no</td>\n      <td>39</td>\n      <td>SD</td>\n      <td>S0_SD</td>\n      <td>PR</td>\n      <td>S0_PR</td>\n      <td>PR_CR</td>\n      <td>S0_PR_CR</td>\n      <td>0</td>\n      <td>8.082136</td>\n      <td>16.525667</td>\n      <td>0</td>\n    </tr>\n    <tr>\n      <th>53</th>\n      <td>FRA084005RC</td>\n      <td>FRA084-005</td>\n      <td>nipicol</td>\n      <td>S0</td>\n      <td>yes</td>\n      <td>54</td>\n      <td>SD</td>\n      <td>S0_SD</td>\n      <td>SD</td>\n      <td>S0_SD</td>\n      <td>SD</td>\n      <td>S0_SD</td>\n      <td>0</td>\n      <td>3.975359</td>\n      <td>13.831622</td>\n      <td>0</td>\n    </tr>\n    <tr>\n      <th>55</th>\n      <td>FRA094001CA</td>\n      <td>FRA094-001</td>\n      <td>nipicol</td>\n      <td>S0</td>\n      <td>yes</td>\n      <td>14</td>\n      <td>SD</td>\n      <td>S0_SD</td>\n      <td>SD</td>\n      <td>S0_SD</td>\n      <td>SD</td>\n      <td>S0_SD</td>\n      <td>0</td>\n      <td>23.852156</td>\n      <td>23.852156</td>\n      <td>0</td>\n    </tr>\n    <tr>\n      <th>57</th>\n      <td>FRA094002BD</td>\n      <td>FRA094-002</td>\n      <td>nipicol</td>\n      <td>S0</td>\n      <td>yes</td>\n      <td>17</td>\n      <td>SD</td>\n      <td>S0_SD</td>\n      <td>SD</td>\n      <td>S0_SD</td>\n      <td>SD</td>\n      <td>S0_SD</td>\n      <td>1</td>\n      <td>8.640657</td>\n      <td>13.075975</td>\n      <td>0</td>\n    </tr>\n    <tr>\n      <th>59</th>\n      <td>FRA094003DR</td>\n      <td>FRA094-003</td>\n      <td>nipicol</td>\n      <td>S0</td>\n      <td>no</td>\n      <td>32</td>\n      <td>PR</td>\n      <td>S0_PR</td>\n      <td>PR</td>\n      <td>S0_PR</td>\n      <td>PR_CR</td>\n      <td>S0_PR_CR</td>\n      <td>1</td>\n      <td>4.271047</td>\n      <td>7.852156</td>\n      <td>0</td>\n    </tr>\n    <tr>\n      <th>61</th>\n      <td>FRA094004TD</td>\n      <td>FRA094-004</td>\n      <td>nipicol</td>\n      <td>S0</td>\n      <td>yes</td>\n      <td>58</td>\n      <td>PR</td>\n      <td>S0_PR</td>\n      <td>CR</td>\n      <td>S0_CR</td>\n      <td>PR_CR</td>\n      <td>S0_PR_CR</td>\n      <td>0</td>\n      <td>13.601643</td>\n      <td>13.601643</td>\n      <td>0</td>\n    </tr>\n    <tr>\n      <th>63</th>\n      <td>FRA106001LH</td>\n      <td>FRA106-001</td>\n      <td>nipicol</td>\n      <td>S0</td>\n      <td>yes</td>\n      <td>26</td>\n      <td>SD</td>\n      <td>S0_SD</td>\n      <td>SD</td>\n      <td>S0_SD</td>\n      <td>SD</td>\n      <td>S0_SD</td>\n      <td>1</td>\n      <td>3.811088</td>\n      <td>6.899384</td>\n      <td>1</td>\n    </tr>\n    <tr>\n      <th>65</th>\n      <td>FRA106003ER</td>\n      <td>FRA106-003</td>\n      <td>nipicol</td>\n      <td>S0</td>\n      <td>yes</td>\n      <td>42</td>\n      <td>PR</td>\n      <td>S0_PR</td>\n      <td>CR</td>\n      <td>S0_CR</td>\n      <td>PR_CR</td>\n      <td>S0_PR_CR</td>\n      <td>0</td>\n      <td>13.831622</td>\n      <td>13.963039</td>\n      <td>0</td>\n    </tr>\n    <tr>\n      <th>67</th>\n      <td>FRA106004CA</td>\n      <td>FRA106-004</td>\n      <td>nipicol</td>\n      <td>S0</td>\n      <td>yes</td>\n      <td>48</td>\n      <td>PR</td>\n      <td>S0_PR</td>\n      <td>PR</td>\n      <td>S0_PR</td>\n      <td>PR_CR</td>\n      <td>S0_PR_CR</td>\n      <td>0</td>\n      <td>13.601643</td>\n      <td>13.733060</td>\n      <td>0</td>\n    </tr>\n    <tr>\n      <th>69</th>\n      <td>FRA123001AI</td>\n      <td>FRA123-001</td>\n      <td>nipicol</td>\n      <td>S0</td>\n      <td>yes</td>\n      <td>38</td>\n      <td>PR</td>\n      <td>S0_PR</td>\n      <td>CR</td>\n      <td>S0_CR</td>\n      <td>PR_CR</td>\n      <td>S0_PR_CR</td>\n      <td>0</td>\n      <td>13.535934</td>\n      <td>13.535934</td>\n      <td>0</td>\n    </tr>\n    <tr>\n      <th>71</th>\n      <td>FRA189001NM</td>\n      <td>FRA189-001</td>\n      <td>nipicol</td>\n      <td>S0</td>\n      <td>no</td>\n      <td>15</td>\n      <td>uPD</td>\n      <td>S0_uPD</td>\n      <td>SD</td>\n      <td>S0_SD</td>\n      <td>SD</td>\n      <td>S0_SD</td>\n      <td>1</td>\n      <td>2.529774</td>\n      <td>11.794661</td>\n      <td>1</td>\n    </tr>\n    <tr>\n      <th>73</th>\n      <td>FRA189002AL</td>\n      <td>FRA189-002</td>\n      <td>nipicol</td>\n      <td>S0</td>\n      <td>no</td>\n      <td>19</td>\n      <td>uPD</td>\n      <td>S0_uPD</td>\n      <td>PR</td>\n      <td>S0_PR</td>\n      <td>PR_CR</td>\n      <td>S0_PR_CR</td>\n      <td>1</td>\n      <td>4.139630</td>\n      <td>8.837782</td>\n      <td>0</td>\n    </tr>\n    <tr>\n      <th>75</th>\n      <td>FRA189004JL</td>\n      <td>FRA189-004</td>\n      <td>nipicol</td>\n      <td>S0</td>\n      <td>no</td>\n      <td>24</td>\n      <td>PR</td>\n      <td>S0_PR</td>\n      <td>PR</td>\n      <td>S0_PR</td>\n      <td>PR_CR</td>\n      <td>S0_PR_CR</td>\n      <td>0</td>\n      <td>14.685832</td>\n      <td>14.718686</td>\n      <td>0</td>\n    </tr>\n    <tr>\n      <th>77</th>\n      <td>FRA189005JP</td>\n      <td>FRA189-005</td>\n      <td>nipicol</td>\n      <td>S0</td>\n      <td>yes</td>\n      <td>29</td>\n      <td>PR</td>\n      <td>S0_PR</td>\n      <td>PR</td>\n      <td>S0_PR</td>\n      <td>PR_CR</td>\n      <td>S0_PR_CR</td>\n      <td>0</td>\n      <td>13.963039</td>\n      <td>14.225873</td>\n      <td>0</td>\n    </tr>\n    <tr>\n      <th>79</th>\n      <td>FRA189010CM</td>\n      <td>FRA189-010</td>\n      <td>nipicol</td>\n      <td>S0</td>\n      <td>yes</td>\n      <td>52</td>\n      <td>SD</td>\n      <td>S0_SD</td>\n      <td>PR</td>\n      <td>S0_PR</td>\n      <td>PR_CR</td>\n      <td>S0_PR_CR</td>\n      <td>0</td>\n      <td>12.747433</td>\n      <td>12.747433</td>\n      <td>0</td>\n    </tr>\n    <tr>\n      <th>81</th>\n      <td>FRA256001DJ</td>\n      <td>FRA256-001</td>\n      <td>nipicol</td>\n      <td>S0</td>\n      <td>yes</td>\n      <td>22</td>\n      <td>CR</td>\n      <td>S0_CR</td>\n      <td>CR</td>\n      <td>S0_CR</td>\n      <td>PR_CR</td>\n      <td>S0_PR_CR</td>\n      <td>0</td>\n      <td>10.973306</td>\n      <td>12.418891</td>\n      <td>0</td>\n    </tr>\n  </tbody>\n</table>\n</div>"
     },
     "execution_count": 26,
     "metadata": {},
     "output_type": "execute_result"
    }
   ],
   "source": [
    "mapping = dataloader.get_mapping_NIPICOL('src/data')\n",
    "mapping"
   ]
  },
  {
   "cell_type": "markdown",
   "metadata": {
    "pycharm": {
     "name": "#%% md\n"
    }
   },
   "source": [
    "From these raw data we will conceive our data matrix `X` and the labels `y`."
   ]
  },
  {
   "cell_type": "code",
   "execution_count": 27,
   "metadata": {
    "collapsed": false,
    "jupyter": {
     "outputs_hidden": false
    },
    "pycharm": {
     "name": "#%%\n"
    }
   },
   "outputs": [
    {
     "data": {
      "text/plain": "             d__Bacteria| p__Actinobacteriota| c__Actinobacteria| o__Actinomycetales| f__Actinomycetaceae|   \\\nFRA022001CA                                           0.000000                                                \nFRA022002BB                                           0.000000                                                \nFRA022003GA                                           0.000235                                                \nFRA022004MC                                           0.000000                                                \nFRA022005KF                                           0.000000                                                \nFRA022006TS                                           0.000000                                                \nFRA022007LP                                           0.000000                                                \nFRA022008DM                                           0.000000                                                \nFRA022010KI                                           0.000000                                                \nFRA022011RB                                           0.000000                                                \nFRA022012GF                                           0.000000                                                \nFRA022013ZV                                           0.000000                                                \nFRA022014RD                                           0.000573                                                \nFRA022015BF                                           0.000000                                                \nFRA022016AS                                           0.000000                                                \nFRA022018LS                                           0.000000                                                \nFRA022019RX                                           0.002231                                                \nFRA022020BF                                           0.000000                                                \nFRA022021MP                                           0.000000                                                \nFRA022022RH                                           0.000000                                                \nFRA022023DC                                           0.000000                                                \nFRA022025BE                                           0.000000                                                \nFRA022026CN                                           0.000000                                                \nFRA022027LP                                           0.000000                                                \nFRA022028BM                                           0.000000                                                \nFRA074002DB                                           0.000000                                                \nFRA084001JL                                           0.000000                                                \nFRA084005RC                                           0.000000                                                \nFRA094001CA                                           0.000000                                                \nFRA094002BD                                           0.000000                                                \nFRA094003DR                                           0.000000                                                \nFRA094004TD                                           0.000090                                                \nFRA106001LH                                           0.000272                                                \nFRA106003ER                                           0.000000                                                \nFRA106004CA                                           0.000000                                                \nFRA123001AI                                           0.000000                                                \nFRA189001NM                                           0.000000                                                \nFRA189002AL                                           0.000000                                                \nFRA189004JL                                           0.000000                                                \nFRA189005JP                                           0.000247                                                \nFRA189010CM                                           0.000275                                                \nFRA256001DJ                                           0.000000                                                \n\n             d__Bacteria| p__Actinobacteriota| c__Actinobacteria| o__Bifidobacteriales| f__Bifidobacteriaceae|   \\\nFRA022001CA                                           0.029203                                                    \nFRA022002BB                                           0.000150                                                    \nFRA022003GA                                           0.000000                                                    \nFRA022004MC                                           0.000000                                                    \nFRA022005KF                                           0.004413                                                    \nFRA022006TS                                           0.042085                                                    \nFRA022007LP                                           0.001818                                                    \nFRA022008DM                                           0.166539                                                    \nFRA022010KI                                           0.327777                                                    \nFRA022011RB                                           0.011556                                                    \nFRA022012GF                                           0.002313                                                    \nFRA022013ZV                                           0.001390                                                    \nFRA022014RD                                           0.003128                                                    \nFRA022015BF                                           0.000000                                                    \nFRA022016AS                                           0.014917                                                    \nFRA022018LS                                           0.037417                                                    \nFRA022019RX                                           0.036594                                                    \nFRA022020BF                                           0.002930                                                    \nFRA022021MP                                           0.040271                                                    \nFRA022022RH                                           0.136016                                                    \nFRA022023DC                                           0.055378                                                    \nFRA022025BE                                           0.010986                                                    \nFRA022026CN                                           0.088914                                                    \nFRA022027LP                                           0.000892                                                    \nFRA022028BM                                           0.000000                                                    \nFRA074002DB                                           0.010542                                                    \nFRA084001JL                                           0.000000                                                    \nFRA084005RC                                           0.001077                                                    \nFRA094001CA                                           0.422481                                                    \nFRA094002BD                                           0.029001                                                    \nFRA094003DR                                           0.001290                                                    \nFRA094004TD                                           0.522049                                                    \nFRA106001LH                                           0.001141                                                    \nFRA106003ER                                           0.086987                                                    \nFRA106004CA                                           0.011556                                                    \nFRA123001AI                                           0.190892                                                    \nFRA189001NM                                           0.007770                                                    \nFRA189002AL                                           0.000000                                                    \nFRA189004JL                                           0.000000                                                    \nFRA189005JP                                           0.002864                                                    \nFRA189010CM                                           0.000446                                                    \nFRA256001DJ                                           0.043452                                                    \n\n             d__Bacteria| p__Actinobacteriota| c__Actinobacteria| o__Corynebacteriales| f__Corynebacteriaceae|   \\\nFRA022001CA                                           0.000000                                                    \nFRA022002BB                                           0.000000                                                    \nFRA022003GA                                           0.000000                                                    \nFRA022004MC                                           0.000000                                                    \nFRA022005KF                                           0.000000                                                    \nFRA022006TS                                           0.000000                                                    \nFRA022007LP                                           0.000523                                                    \nFRA022008DM                                           0.000000                                                    \nFRA022010KI                                           0.000000                                                    \nFRA022011RB                                           0.000000                                                    \nFRA022012GF                                           0.000000                                                    \nFRA022013ZV                                           0.000000                                                    \nFRA022014RD                                           0.000000                                                    \nFRA022015BF                                           0.000000                                                    \nFRA022016AS                                           0.000000                                                    \nFRA022018LS                                           0.000000                                                    \nFRA022019RX                                           0.000714                                                    \nFRA022020BF                                           0.000000                                                    \nFRA022021MP                                           0.000000                                                    \nFRA022022RH                                           0.000000                                                    \nFRA022023DC                                           0.000000                                                    \nFRA022025BE                                           0.000000                                                    \nFRA022026CN                                           0.000000                                                    \nFRA022027LP                                           0.000000                                                    \nFRA022028BM                                           0.000000                                                    \nFRA074002DB                                           0.000122                                                    \nFRA084001JL                                           0.000000                                                    \nFRA084005RC                                           0.000000                                                    \nFRA094001CA                                           0.000000                                                    \nFRA094002BD                                           0.000000                                                    \nFRA094003DR                                           0.000000                                                    \nFRA094004TD                                           0.000000                                                    \nFRA106001LH                                           0.000000                                                    \nFRA106003ER                                           0.000000                                                    \nFRA106004CA                                           0.000000                                                    \nFRA123001AI                                           0.000000                                                    \nFRA189001NM                                           0.000000                                                    \nFRA189002AL                                           0.000000                                                    \nFRA189004JL                                           0.000000                                                    \nFRA189005JP                                           0.000000                                                    \nFRA189010CM                                           0.000000                                                    \nFRA256001DJ                                           0.000175                                                    \n\n             d__Bacteria| p__Actinobacteriota| c__Actinobacteria| o__Corynebacteriales| f__Dietziaceae|   \\\nFRA022001CA                                           0.000402                                             \nFRA022002BB                                           0.000414                                             \nFRA022003GA                                           0.000000                                             \nFRA022004MC                                           0.000000                                             \nFRA022005KF                                           0.000000                                             \nFRA022006TS                                           0.000000                                             \nFRA022007LP                                           0.000303                                             \nFRA022008DM                                           0.000000                                             \nFRA022010KI                                           0.000241                                             \nFRA022011RB                                           0.000000                                             \nFRA022012GF                                           0.000241                                             \nFRA022013ZV                                           0.000882                                             \nFRA022014RD                                           0.001079                                             \nFRA022015BF                                           0.002953                                             \nFRA022016AS                                           0.001641                                             \nFRA022018LS                                           0.001408                                             \nFRA022019RX                                           0.000000                                             \nFRA022020BF                                           0.000000                                             \nFRA022021MP                                           0.003393                                             \nFRA022022RH                                           0.001230                                             \nFRA022023DC                                           0.003289                                             \nFRA022025BE                                           0.000820                                             \nFRA022026CN                                           0.000288                                             \nFRA022027LP                                           0.001758                                             \nFRA022028BM                                           0.000000                                             \nFRA074002DB                                           0.000000                                             \nFRA084001JL                                           0.000000                                             \nFRA084005RC                                           0.002106                                             \nFRA094001CA                                           0.000322                                             \nFRA094002BD                                           0.000000                                             \nFRA094003DR                                           0.000573                                             \nFRA094004TD                                           0.000988                                             \nFRA106001LH                                           0.006683                                             \nFRA106003ER                                           0.000679                                             \nFRA106004CA                                           0.000000                                             \nFRA123001AI                                           0.000000                                             \nFRA189001NM                                           0.000000                                             \nFRA189002AL                                           0.000000                                             \nFRA189004JL                                           0.000000                                             \nFRA189005JP                                           0.001975                                             \nFRA189010CM                                           0.001957                                             \nFRA256001DJ                                           0.002480                                             \n\n             d__Bacteria| p__Actinobacteriota| c__Actinobacteria| o__Micrococcales| f__Microbacteriaceae|   \\\nFRA022001CA                                           0.000000                                               \nFRA022002BB                                           0.000000                                               \nFRA022003GA                                           0.000000                                               \nFRA022004MC                                           0.000000                                               \nFRA022005KF                                           0.000000                                               \nFRA022006TS                                           0.000000                                               \nFRA022007LP                                           0.000000                                               \nFRA022008DM                                           0.000000                                               \nFRA022010KI                                           0.000000                                               \nFRA022011RB                                           0.000000                                               \nFRA022012GF                                           0.000000                                               \nFRA022013ZV                                           0.000000                                               \nFRA022014RD                                           0.000000                                               \nFRA022015BF                                           0.000000                                               \nFRA022016AS                                           0.000000                                               \nFRA022018LS                                           0.000000                                               \nFRA022019RX                                           0.000000                                               \nFRA022020BF                                           0.000000                                               \nFRA022021MP                                           0.000000                                               \nFRA022022RH                                           0.000000                                               \nFRA022023DC                                           0.000290                                               \nFRA022025BE                                           0.000000                                               \nFRA022026CN                                           0.000000                                               \nFRA022027LP                                           0.000000                                               \nFRA022028BM                                           0.000000                                               \nFRA074002DB                                           0.000000                                               \nFRA084001JL                                           0.000000                                               \nFRA084005RC                                           0.000000                                               \nFRA094001CA                                           0.000000                                               \nFRA094002BD                                           0.000000                                               \nFRA094003DR                                           0.000108                                               \nFRA094004TD                                           0.000000                                               \nFRA106001LH                                           0.000000                                               \nFRA106003ER                                           0.000000                                               \nFRA106004CA                                           0.000000                                               \nFRA123001AI                                           0.000000                                               \nFRA189001NM                                           0.000000                                               \nFRA189002AL                                           0.000000                                               \nFRA189004JL                                           0.000000                                               \nFRA189005JP                                           0.000198                                               \nFRA189010CM                                           0.000000                                               \nFRA256001DJ                                           0.000000                                               \n\n             d__Bacteria| p__Actinobacteriota| c__Actinobacteria| o__Micrococcales| f__Micrococcaceae|   \\\nFRA022001CA                                           0.000000                                            \nFRA022002BB                                           0.000000                                            \nFRA022003GA                                           0.000000                                            \nFRA022004MC                                           0.000000                                            \nFRA022005KF                                           0.000501                                            \nFRA022006TS                                           0.000000                                            \nFRA022007LP                                           0.000000                                            \nFRA022008DM                                           0.000000                                            \nFRA022010KI                                           0.000000                                            \nFRA022011RB                                           0.000000                                            \nFRA022012GF                                           0.000000                                            \nFRA022013ZV                                           0.000000                                            \nFRA022014RD                                           0.000000                                            \nFRA022015BF                                           0.000000                                            \nFRA022016AS                                           0.000000                                            \nFRA022018LS                                           0.000000                                            \nFRA022019RX                                           0.000000                                            \nFRA022020BF                                           0.000686                                            \nFRA022021MP                                           0.000000                                            \nFRA022022RH                                           0.000000                                            \nFRA022023DC                                           0.000000                                            \nFRA022025BE                                           0.000000                                            \nFRA022026CN                                           0.000164                                            \nFRA022027LP                                           0.000000                                            \nFRA022028BM                                           0.000000                                            \nFRA074002DB                                           0.000000                                            \nFRA084001JL                                           0.000000                                            \nFRA084005RC                                           0.000000                                            \nFRA094001CA                                           0.000000                                            \nFRA094002BD                                           0.000000                                            \nFRA094003DR                                           0.000000                                            \nFRA094004TD                                           0.000000                                            \nFRA106001LH                                           0.000679                                            \nFRA106003ER                                           0.000000                                            \nFRA106004CA                                           0.000000                                            \nFRA123001AI                                           0.000000                                            \nFRA189001NM                                           0.000000                                            \nFRA189002AL                                           0.000000                                            \nFRA189004JL                                           0.000000                                            \nFRA189005JP                                           0.000420                                            \nFRA189010CM                                           0.000000                                            \nFRA256001DJ                                           0.000000                                            \n\n             d__Bacteria| p__Actinobacteriota| c__Coriobacteriia| o__Coriobacteriales| f__Atopobiaceae|   \\\nFRA022001CA                                           0.000000                                             \nFRA022002BB                                           0.000000                                             \nFRA022003GA                                           0.000000                                             \nFRA022004MC                                           0.000000                                             \nFRA022005KF                                           0.000000                                             \nFRA022006TS                                           0.000000                                             \nFRA022007LP                                           0.000000                                             \nFRA022008DM                                           0.000000                                             \nFRA022010KI                                           0.000000                                             \nFRA022011RB                                           0.000116                                             \nFRA022012GF                                           0.000265                                             \nFRA022013ZV                                           0.000000                                             \nFRA022014RD                                           0.000000                                             \nFRA022015BF                                           0.000000                                             \nFRA022016AS                                           0.000000                                             \nFRA022018LS                                           0.000000                                             \nFRA022019RX                                           0.000000                                             \nFRA022020BF                                           0.001267                                             \nFRA022021MP                                           0.000000                                             \nFRA022022RH                                           0.000000                                             \nFRA022023DC                                           0.000000                                             \nFRA022025BE                                           0.000000                                             \nFRA022026CN                                           0.000000                                             \nFRA022027LP                                           0.000000                                             \nFRA022028BM                                           0.000000                                             \nFRA074002DB                                           0.000000                                             \nFRA084001JL                                           0.000000                                             \nFRA084005RC                                           0.000000                                             \nFRA094001CA                                           0.000000                                             \nFRA094002BD                                           0.000000                                             \nFRA094003DR                                           0.000000                                             \nFRA094004TD                                           0.000000                                             \nFRA106001LH                                           0.000000                                             \nFRA106003ER                                           0.000146                                             \nFRA106004CA                                           0.000000                                             \nFRA123001AI                                           0.045897                                             \nFRA189001NM                                           0.000234                                             \nFRA189002AL                                           0.000000                                             \nFRA189004JL                                           0.000000                                             \nFRA189005JP                                           0.000000                                             \nFRA189010CM                                           0.000000                                             \nFRA256001DJ                                           0.000000                                             \n\n             d__Bacteria| p__Actinobacteriota| c__Coriobacteriia| o__Coriobacteriales| f__Coriobacteriaceae|   \\\nFRA022001CA                                           0.001406                                                  \nFRA022002BB                                           0.000000                                                  \nFRA022003GA                                           0.064885                                                  \nFRA022004MC                                           0.000000                                                  \nFRA022005KF                                           0.000407                                                  \nFRA022006TS                                           0.012995                                                  \nFRA022007LP                                           0.010521                                                  \nFRA022008DM                                           0.002789                                                  \nFRA022010KI                                           0.033420                                                  \nFRA022011RB                                           0.012919                                                  \nFRA022012GF                                           0.023084                                                  \nFRA022013ZV                                           0.006712                                                  \nFRA022014RD                                           0.000000                                                  \nFRA022015BF                                           0.009642                                                  \nFRA022016AS                                           0.000000                                                  \nFRA022018LS                                           0.000000                                                  \nFRA022019RX                                           0.000268                                                  \nFRA022020BF                                           0.002350                                                  \nFRA022021MP                                           0.000000                                                  \nFRA022022RH                                           0.001742                                                  \nFRA022023DC                                           0.002612                                                  \nFRA022025BE                                           0.037802                                                  \nFRA022026CN                                           0.000000                                                  \nFRA022027LP                                           0.000000                                                  \nFRA022028BM                                           0.001789                                                  \nFRA074002DB                                           0.003016                                                  \nFRA084001JL                                           0.000000                                                  \nFRA084005RC                                           0.003089                                                  \nFRA094001CA                                           0.005045                                                  \nFRA094002BD                                           0.041922                                                  \nFRA094003DR                                           0.000000                                                  \nFRA094004TD                                           0.076879                                                  \nFRA106001LH                                           0.000000                                                  \nFRA106003ER                                           0.000000                                                  \nFRA106004CA                                           0.000000                                                  \nFRA123001AI                                           0.000000                                                  \nFRA189001NM                                           0.000064                                                  \nFRA189002AL                                           0.020052                                                  \nFRA189004JL                                           0.000000                                                  \nFRA189005JP                                           0.005679                                                  \nFRA189010CM                                           0.037192                                                  \nFRA256001DJ                                           0.018764                                                  \n\n             d__Bacteria| p__Actinobacteriota| c__Coriobacteriia| o__Coriobacteriales| f__Coriobacteriales_Incertae_Sedis|   \\\nFRA022001CA                                           0.000000                                                                \nFRA022002BB                                           0.000000                                                                \nFRA022003GA                                           0.000000                                                                \nFRA022004MC                                           0.000375                                                                \nFRA022005KF                                           0.000000                                                                \nFRA022006TS                                           0.001046                                                                \nFRA022007LP                                           0.000000                                                                \nFRA022008DM                                           0.000000                                                                \nFRA022010KI                                           0.000000                                                                \nFRA022011RB                                           0.000277                                                                \nFRA022012GF                                           0.000096                                                                \nFRA022013ZV                                           0.000909                                                                \nFRA022014RD                                           0.000352                                                                \nFRA022015BF                                           0.000000                                                                \nFRA022016AS                                           0.000000                                                                \nFRA022018LS                                           0.001006                                                                \nFRA022019RX                                           0.000000                                                                \nFRA022020BF                                           0.000000                                                                \nFRA022021MP                                           0.001345                                                                \nFRA022022RH                                           0.000000                                                                \nFRA022023DC                                           0.001935                                                                \nFRA022025BE                                           0.000725                                                                \nFRA022026CN                                           0.000000                                                                \nFRA022027LP                                           0.000000                                                                \nFRA022028BM                                           0.000298                                                                \nFRA074002DB                                           0.014381                                                                \nFRA084001JL                                           0.000000                                                                \nFRA084005RC                                           0.000000                                                                \nFRA094001CA                                           0.000000                                                                \nFRA094002BD                                           0.000000                                                                \nFRA094003DR                                           0.000000                                                                \nFRA094004TD                                           0.004311                                                                \nFRA106001LH                                           0.000000                                                                \nFRA106003ER                                           0.000000                                                                \nFRA106004CA                                           0.018001                                                                \nFRA123001AI                                           0.000635                                                                \nFRA189001NM                                           0.000000                                                                \nFRA189002AL                                           0.002804                                                                \nFRA189004JL                                           0.000000                                                                \nFRA189005JP                                           0.000000                                                                \nFRA189010CM                                           0.000000                                                                \nFRA256001DJ                                           0.001838                                                                \n\n             d__Bacteria| p__Actinobacteriota| c__Coriobacteriia| o__Coriobacteriales| f__Eggerthellaceae|   \\\nFRA022001CA                                           0.000373                                                \nFRA022002BB                                           0.000996                                                \nFRA022003GA                                           0.000000                                                \nFRA022004MC                                           0.006144                                                \nFRA022005KF                                           0.001252                                                \nFRA022006TS                                           0.000373                                                \nFRA022007LP                                           0.005426                                                \nFRA022008DM                                           0.001738                                                \nFRA022010KI                                           0.000000                                                \nFRA022011RB                                           0.002357                                                \nFRA022012GF                                           0.003542                                                \nFRA022013ZV                                           0.005990                                                \nFRA022014RD                                           0.000000                                                \nFRA022015BF                                           0.000000                                                \nFRA022016AS                                           0.001060                                                \nFRA022018LS                                           0.000000                                                \nFRA022019RX                                           0.000000                                                \nFRA022020BF                                           0.001452                                                \nFRA022021MP                                           0.002881                                                \nFRA022022RH                                           0.002220                                                \nFRA022023DC                                           0.000339                                                \nFRA022025BE                                           0.000591                                                \nFRA022026CN                                           0.003494                                                \nFRA022027LP                                           0.000000                                                \nFRA022028BM                                           0.001491                                                \nFRA074002DB                                           0.000609                                                \nFRA084001JL                                           0.000000                                                \nFRA084005RC                                           0.004915                                                \nFRA094001CA                                           0.000569                                                \nFRA094002BD                                           0.001579                                                \nFRA094003DR                                           0.002437                                                \nFRA094004TD                                           0.001377                                                \nFRA106001LH                                           0.000000                                                \nFRA106003ER                                           0.000388                                                \nFRA106004CA                                           0.004593                                                \nFRA123001AI                                           0.000715                                                \nFRA189001NM                                           0.002555                                                \nFRA189002AL                                           0.004033                                                \nFRA189004JL                                           0.000000                                                \nFRA189005JP                                           0.001284                                                \nFRA189010CM                                           0.001751                                                \nFRA256001DJ                                           0.001109                                                \n\n             ...  \\\nFRA022001CA  ...   \nFRA022002BB  ...   \nFRA022003GA  ...   \nFRA022004MC  ...   \nFRA022005KF  ...   \nFRA022006TS  ...   \nFRA022007LP  ...   \nFRA022008DM  ...   \nFRA022010KI  ...   \nFRA022011RB  ...   \nFRA022012GF  ...   \nFRA022013ZV  ...   \nFRA022014RD  ...   \nFRA022015BF  ...   \nFRA022016AS  ...   \nFRA022018LS  ...   \nFRA022019RX  ...   \nFRA022020BF  ...   \nFRA022021MP  ...   \nFRA022022RH  ...   \nFRA022023DC  ...   \nFRA022025BE  ...   \nFRA022026CN  ...   \nFRA022027LP  ...   \nFRA022028BM  ...   \nFRA074002DB  ...   \nFRA084001JL  ...   \nFRA084005RC  ...   \nFRA094001CA  ...   \nFRA094002BD  ...   \nFRA094003DR  ...   \nFRA094004TD  ...   \nFRA106001LH  ...   \nFRA106003ER  ...   \nFRA106004CA  ...   \nFRA123001AI  ...   \nFRA189001NM  ...   \nFRA189002AL  ...   \nFRA189004JL  ...   \nFRA189005JP  ...   \nFRA189010CM  ...   \nFRA256001DJ  ...   \n\n             d__Bacteria| p__Proteobacteria| c__Gammaproteobacteria| o__Burkholderiales| f__Oxalobacteraceae|   \\\nFRA022001CA                                           0.001147                                                   \nFRA022002BB                                           0.002218                                                   \nFRA022003GA                                           0.000910                                                   \nFRA022004MC                                           0.001523                                                   \nFRA022005KF                                           0.000782                                                   \nFRA022006TS                                           0.000747                                                   \nFRA022007LP                                           0.000193                                                   \nFRA022008DM                                           0.000768                                                   \nFRA022010KI                                           0.000723                                                   \nFRA022011RB                                           0.000139                                                   \nFRA022012GF                                           0.001880                                                   \nFRA022013ZV                                           0.002193                                                   \nFRA022014RD                                           0.004648                                                   \nFRA022015BF                                           0.002860                                                   \nFRA022016AS                                           0.001767                                                   \nFRA022018LS                                           0.000402                                                   \nFRA022019RX                                           0.000536                                                   \nFRA022020BF                                           0.001901                                                   \nFRA022021MP                                           0.002881                                                   \nFRA022022RH                                           0.002459                                                   \nFRA022023DC                                           0.000967                                                   \nFRA022025BE                                           0.000610                                                   \nFRA022026CN                                           0.000945                                                   \nFRA022027LP                                           0.003847                                                   \nFRA022028BM                                           0.000417                                                   \nFRA074002DB                                           0.001158                                                   \nFRA084001JL                                           0.000000                                                   \nFRA084005RC                                           0.000000                                                   \nFRA094001CA                                           0.005391                                                   \nFRA094002BD                                           0.000419                                                   \nFRA094003DR                                           0.001004                                                   \nFRA094004TD                                           0.000599                                                   \nFRA106001LH                                           0.000109                                                   \nFRA106003ER                                           0.000704                                                   \nFRA106004CA                                           0.000000                                                   \nFRA123001AI                                           0.000238                                                   \nFRA189001NM                                           0.001001                                                   \nFRA189002AL                                           0.000423                                                   \nFRA189004JL                                           0.000000                                                   \nFRA189005JP                                           0.002642                                                   \nFRA189010CM                                           0.001683                                                   \nFRA256001DJ                                           0.005924                                                   \n\n             d__Bacteria| p__Proteobacteria| c__Gammaproteobacteria| o__Burkholderiales| f__Sutterellaceae|   \\\nFRA022001CA                                           0.004504                                                 \nFRA022002BB                                           0.016843                                                 \nFRA022003GA                                           0.004228                                                 \nFRA022004MC                                           0.008941                                                 \nFRA022005KF                                           0.001596                                                 \nFRA022006TS                                           0.003510                                                 \nFRA022007LP                                           0.000000                                                 \nFRA022008DM                                           0.026396                                                 \nFRA022010KI                                           0.005985                                                 \nFRA022011RB                                           0.007927                                                 \nFRA022012GF                                           0.002578                                                 \nFRA022013ZV                                           0.002086                                                 \nFRA022014RD                                           0.048552                                                 \nFRA022015BF                                           0.008074                                                 \nFRA022016AS                                           0.005099                                                 \nFRA022018LS                                           0.036814                                                 \nFRA022019RX                                           0.012674                                                 \nFRA022020BF                                           0.041765                                                 \nFRA022021MP                                           0.000000                                                 \nFRA022022RH                                           0.014893                                                 \nFRA022023DC                                           0.000000                                                 \nFRA022025BE                                           0.009060                                                 \nFRA022026CN                                           0.000000                                                 \nFRA022027LP                                           0.019337                                                 \nFRA022028BM                                           0.011152                                                 \nFRA074002DB                                           0.011517                                                 \nFRA084001JL                                           0.000000                                                 \nFRA084005RC                                           0.016570                                                 \nFRA094001CA                                           0.012143                                                 \nFRA094002BD                                           0.034177                                                 \nFRA094003DR                                           0.000000                                                 \nFRA094004TD                                           0.005987                                                 \nFRA106001LH                                           0.000000                                                 \nFRA106003ER                                           0.014146                                                 \nFRA106004CA                                           0.005186                                                 \nFRA123001AI                                           0.000000                                                 \nFRA189001NM                                           0.000000                                                 \nFRA189002AL                                           0.000000                                                 \nFRA189004JL                                           0.000000                                                 \nFRA189005JP                                           0.020962                                                 \nFRA189010CM                                           0.039459                                                 \nFRA256001DJ                                           0.023666                                                 \n\n             d__Bacteria| p__Proteobacteria| c__Gammaproteobacteria| o__Cardiobacteriales| f__Cardiobacteriaceae|   \\\nFRA022001CA                                                0.0                                                       \nFRA022002BB                                                0.0                                                       \nFRA022003GA                                                0.0                                                       \nFRA022004MC                                                0.0                                                       \nFRA022005KF                                                0.0                                                       \nFRA022006TS                                                0.0                                                       \nFRA022007LP                                                0.0                                                       \nFRA022008DM                                                0.0                                                       \nFRA022010KI                                                0.0                                                       \nFRA022011RB                                                0.0                                                       \nFRA022012GF                                                0.0                                                       \nFRA022013ZV                                                0.0                                                       \nFRA022014RD                                                0.0                                                       \nFRA022015BF                                                0.0                                                       \nFRA022016AS                                                0.0                                                       \nFRA022018LS                                                0.0                                                       \nFRA022019RX                                                0.0                                                       \nFRA022020BF                                                0.0                                                       \nFRA022021MP                                                0.0                                                       \nFRA022022RH                                                0.0                                                       \nFRA022023DC                                                0.0                                                       \nFRA022025BE                                                0.0                                                       \nFRA022026CN                                                0.0                                                       \nFRA022027LP                                                0.0                                                       \nFRA022028BM                                                0.0                                                       \nFRA074002DB                                                0.0                                                       \nFRA084001JL                                                0.0                                                       \nFRA084005RC                                                0.0                                                       \nFRA094001CA                                                0.0                                                       \nFRA094002BD                                                0.0                                                       \nFRA094003DR                                                0.0                                                       \nFRA094004TD                                                0.0                                                       \nFRA106001LH                                                0.0                                                       \nFRA106003ER                                                0.0                                                       \nFRA106004CA                                                0.0                                                       \nFRA123001AI                                                0.0                                                       \nFRA189001NM                                                0.0                                                       \nFRA189002AL                                                0.0                                                       \nFRA189004JL                                                0.0                                                       \nFRA189005JP                                                0.0                                                       \nFRA189010CM                                                0.0                                                       \nFRA256001DJ                                                0.0                                                       \n\n             d__Bacteria| p__Proteobacteria| c__Gammaproteobacteria| o__Enterobacterales| f__Enterobacteriaceae|   \\\nFRA022001CA                                           0.000000                                                      \nFRA022002BB                                           0.003929                                                      \nFRA022003GA                                           0.239137                                                      \nFRA022004MC                                           0.009965                                                      \nFRA022005KF                                           0.000000                                                      \nFRA022006TS                                           0.006834                                                      \nFRA022007LP                                           0.000964                                                      \nFRA022008DM                                           0.306075                                                      \nFRA022010KI                                           0.000402                                                      \nFRA022011RB                                           0.000208                                                      \nFRA022012GF                                           0.000530                                                      \nFRA022013ZV                                           0.005241                                                      \nFRA022014RD                                           0.059918                                                      \nFRA022015BF                                           0.011534                                                      \nFRA022016AS                                           0.678361                                                      \nFRA022018LS                                           0.002615                                                      \nFRA022019RX                                           0.043199                                                      \nFRA022020BF                                           0.229890                                                      \nFRA022021MP                                           0.000000                                                      \nFRA022022RH                                           0.006695                                                      \nFRA022023DC                                           0.000000                                                      \nFRA022025BE                                           0.037173                                                      \nFRA022026CN                                           0.032515                                                      \nFRA022027LP                                           0.004815                                                      \nFRA022028BM                                           0.013240                                                      \nFRA074002DB                                           0.000000                                                      \nFRA084001JL                                           0.000000                                                      \nFRA084005RC                                           0.000234                                                      \nFRA094001CA                                           0.001978                                                      \nFRA094002BD                                           0.000114                                                      \nFRA094003DR                                           0.001362                                                      \nFRA094004TD                                           0.000000                                                      \nFRA106001LH                                           0.372745                                                      \nFRA106003ER                                           0.000655                                                      \nFRA106004CA                                           0.015631                                                      \nFRA123001AI                                           0.010760                                                      \nFRA189001NM                                           0.000064                                                      \nFRA189002AL                                           0.000000                                                      \nFRA189004JL                                           0.000000                                                      \nFRA189005JP                                           0.004395                                                      \nFRA189010CM                                           0.192932                                                      \nFRA256001DJ                                           0.001051                                                      \n\n             d__Bacteria| p__Proteobacteria| c__Gammaproteobacteria| o__Enterobacterales| f__Enterobacteriaceae|4404333586add1e05fe280c5eaa5bdd2  \\\nFRA022001CA                                           0.000000                                                                                     \nFRA022002BB                                           0.000000                                                                                     \nFRA022003GA                                           0.000000                                                                                     \nFRA022004MC                                           0.000000                                                                                     \nFRA022005KF                                           0.000000                                                                                     \nFRA022006TS                                           0.000000                                                                                     \nFRA022007LP                                           0.000000                                                                                     \nFRA022008DM                                           0.000000                                                                                     \nFRA022010KI                                           0.000000                                                                                     \nFRA022011RB                                           0.000000                                                                                     \nFRA022012GF                                           0.035976                                                                                     \nFRA022013ZV                                           0.000000                                                                                     \nFRA022014RD                                           0.000000                                                                                     \nFRA022015BF                                           0.000000                                                                                     \nFRA022016AS                                           0.000631                                                                                     \nFRA022018LS                                           0.000000                                                                                     \nFRA022019RX                                           0.000000                                                                                     \nFRA022020BF                                           0.000000                                                                                     \nFRA022021MP                                           0.000000                                                                                     \nFRA022022RH                                           0.000000                                                                                     \nFRA022023DC                                           0.000000                                                                                     \nFRA022025BE                                           0.000820                                                                                     \nFRA022026CN                                           0.000000                                                                                     \nFRA022027LP                                           0.000000                                                                                     \nFRA022028BM                                           0.000000                                                                                     \nFRA074002DB                                           0.000000                                                                                     \nFRA084001JL                                           0.000000                                                                                     \nFRA084005RC                                           0.000000                                                                                     \nFRA094001CA                                           0.000000                                                                                     \nFRA094002BD                                           0.000000                                                                                     \nFRA094003DR                                           0.000000                                                                                     \nFRA094004TD                                           0.000000                                                                                     \nFRA106001LH                                           0.000000                                                                                     \nFRA106003ER                                           0.000000                                                                                     \nFRA106004CA                                           0.000000                                                                                     \nFRA123001AI                                           0.000000                                                                                     \nFRA189001NM                                           0.000000                                                                                     \nFRA189002AL                                           0.000000                                                                                     \nFRA189004JL                                           0.000000                                                                                     \nFRA189005JP                                           0.000000                                                                                     \nFRA189010CM                                           0.000000                                                                                     \nFRA256001DJ                                           0.000000                                                                                     \n\n             d__Bacteria| p__Proteobacteria| c__Gammaproteobacteria| o__Enterobacterales| f__Enterobacteriaceae|a0e658b68b3dda271e8617f5403542d3  \\\nFRA022001CA                                           0.000000                                                                                     \nFRA022002BB                                           0.000000                                                                                     \nFRA022003GA                                           0.000000                                                                                     \nFRA022004MC                                           0.000000                                                                                     \nFRA022005KF                                           0.000000                                                                                     \nFRA022006TS                                           0.000000                                                                                     \nFRA022007LP                                           0.000000                                                                                     \nFRA022008DM                                           0.000000                                                                                     \nFRA022010KI                                           0.000000                                                                                     \nFRA022011RB                                           0.000000                                                                                     \nFRA022012GF                                           0.000000                                                                                     \nFRA022013ZV                                           0.000000                                                                                     \nFRA022014RD                                           0.000000                                                                                     \nFRA022015BF                                           0.000000                                                                                     \nFRA022016AS                                           0.000000                                                                                     \nFRA022018LS                                           0.000000                                                                                     \nFRA022019RX                                           0.000000                                                                                     \nFRA022020BF                                           0.012778                                                                                     \nFRA022021MP                                           0.000000                                                                                     \nFRA022022RH                                           0.000000                                                                                     \nFRA022023DC                                           0.000000                                                                                     \nFRA022025BE                                           0.000000                                                                                     \nFRA022026CN                                           0.000000                                                                                     \nFRA022027LP                                           0.000000                                                                                     \nFRA022028BM                                           0.000000                                                                                     \nFRA074002DB                                           0.000000                                                                                     \nFRA084001JL                                           0.000000                                                                                     \nFRA084005RC                                           0.000000                                                                                     \nFRA094001CA                                           0.000000                                                                                     \nFRA094002BD                                           0.000000                                                                                     \nFRA094003DR                                           0.000000                                                                                     \nFRA094004TD                                           0.000000                                                                                     \nFRA106001LH                                           0.002228                                                                                     \nFRA106003ER                                           0.000000                                                                                     \nFRA106004CA                                           0.000000                                                                                     \nFRA123001AI                                           0.000000                                                                                     \nFRA189001NM                                           0.000000                                                                                     \nFRA189002AL                                           0.000000                                                                                     \nFRA189004JL                                           0.000000                                                                                     \nFRA189005JP                                           0.000000                                                                                     \nFRA189010CM                                           0.000000                                                                                     \nFRA256001DJ                                           0.000000                                                                                     \n\n             d__Bacteria| p__Proteobacteria| c__Gammaproteobacteria| o__Enterobacterales| f__Enterobacteriaceae|b54e85eefc32197ad3ce0852b2967396  \\\nFRA022001CA                                           0.000000                                                                                     \nFRA022002BB                                           0.000000                                                                                     \nFRA022003GA                                           0.000000                                                                                     \nFRA022004MC                                           0.000000                                                                                     \nFRA022005KF                                           0.000000                                                                                     \nFRA022006TS                                           0.000000                                                                                     \nFRA022007LP                                           0.000000                                                                                     \nFRA022008DM                                           0.000000                                                                                     \nFRA022010KI                                           0.000000                                                                                     \nFRA022011RB                                           0.000000                                                                                     \nFRA022012GF                                           0.000000                                                                                     \nFRA022013ZV                                           0.000000                                                                                     \nFRA022014RD                                           0.000000                                                                                     \nFRA022015BF                                           0.000000                                                                                     \nFRA022016AS                                           0.000000                                                                                     \nFRA022018LS                                           0.000000                                                                                     \nFRA022019RX                                           0.000000                                                                                     \nFRA022020BF                                           0.005597                                                                                     \nFRA022021MP                                           0.000000                                                                                     \nFRA022022RH                                           0.000000                                                                                     \nFRA022023DC                                           0.000000                                                                                     \nFRA022025BE                                           0.000000                                                                                     \nFRA022026CN                                           0.000000                                                                                     \nFRA022027LP                                           0.000000                                                                                     \nFRA022028BM                                           0.000000                                                                                     \nFRA074002DB                                           0.000000                                                                                     \nFRA084001JL                                           0.000000                                                                                     \nFRA084005RC                                           0.000000                                                                                     \nFRA094001CA                                           0.000000                                                                                     \nFRA094002BD                                           0.000000                                                                                     \nFRA094003DR                                           0.000000                                                                                     \nFRA094004TD                                           0.000000                                                                                     \nFRA106001LH                                           0.008748                                                                                     \nFRA106003ER                                           0.000000                                                                                     \nFRA106004CA                                           0.000000                                                                                     \nFRA123001AI                                           0.000000                                                                                     \nFRA189001NM                                           0.000000                                                                                     \nFRA189002AL                                           0.000000                                                                                     \nFRA189004JL                                           0.000000                                                                                     \nFRA189005JP                                           0.000000                                                                                     \nFRA189010CM                                           0.000000                                                                                     \nFRA256001DJ                                           0.000000                                                                                     \n\n             d__Bacteria| p__Proteobacteria| c__Gammaproteobacteria| o__Enterobacterales| f__Hafniaceae|   \\\nFRA022001CA                                           0.000000                                              \nFRA022002BB                                           0.000000                                              \nFRA022003GA                                           0.000000                                              \nFRA022004MC                                           0.000000                                              \nFRA022005KF                                           0.000000                                              \nFRA022006TS                                           0.000000                                              \nFRA022007LP                                           0.021400                                              \nFRA022008DM                                           0.000000                                              \nFRA022010KI                                           0.000000                                              \nFRA022011RB                                           0.001780                                              \nFRA022012GF                                           0.000000                                              \nFRA022013ZV                                           0.000000                                              \nFRA022014RD                                           0.000000                                              \nFRA022015BF                                           0.000000                                              \nFRA022016AS                                           0.000000                                              \nFRA022018LS                                           0.000000                                              \nFRA022019RX                                           0.000000                                              \nFRA022020BF                                           0.000000                                              \nFRA022021MP                                           0.000000                                              \nFRA022022RH                                           0.000000                                              \nFRA022023DC                                           0.000000                                              \nFRA022025BE                                           0.000000                                              \nFRA022026CN                                           0.000000                                              \nFRA022027LP                                           0.000000                                              \nFRA022028BM                                           0.000000                                              \nFRA074002DB                                           0.000000                                              \nFRA084001JL                                           0.000000                                              \nFRA084005RC                                           0.000000                                              \nFRA094001CA                                           0.000000                                              \nFRA094002BD                                           0.000000                                              \nFRA094003DR                                           0.000000                                              \nFRA094004TD                                           0.000000                                              \nFRA106001LH                                           0.000000                                              \nFRA106003ER                                           0.004198                                              \nFRA106004CA                                           0.000000                                              \nFRA123001AI                                           0.000000                                              \nFRA189001NM                                           0.000000                                              \nFRA189002AL                                           0.000000                                              \nFRA189004JL                                           0.000000                                              \nFRA189005JP                                           0.000000                                              \nFRA189010CM                                           0.011092                                              \nFRA256001DJ                                           0.000000                                              \n\n             d__Bacteria| p__Proteobacteria| c__Gammaproteobacteria| o__Pasteurellales| f__Pasteurellaceae|   \\\nFRA022001CA                                           0.000000                                                 \nFRA022002BB                                           0.000000                                                 \nFRA022003GA                                           0.000000                                                 \nFRA022004MC                                           0.000000                                                 \nFRA022005KF                                           0.000000                                                 \nFRA022006TS                                           0.005265                                                 \nFRA022007LP                                           0.000468                                                 \nFRA022008DM                                           0.000000                                                 \nFRA022010KI                                           0.000000                                                 \nFRA022011RB                                           0.000000                                                 \nFRA022012GF                                           0.000000                                                 \nFRA022013ZV                                           0.000455                                                 \nFRA022014RD                                           0.000000                                                 \nFRA022015BF                                           0.000138                                                 \nFRA022016AS                                           0.000000                                                 \nFRA022018LS                                           0.000000                                                 \nFRA022019RX                                           0.000000                                                 \nFRA022020BF                                           0.000000                                                 \nFRA022021MP                                           0.000000                                                 \nFRA022022RH                                           0.000000                                                 \nFRA022023DC                                           0.000000                                                 \nFRA022025BE                                           0.001049                                                 \nFRA022026CN                                           0.000000                                                 \nFRA022027LP                                           0.000000                                                 \nFRA022028BM                                           0.000477                                                 \nFRA074002DB                                           0.005637                                                 \nFRA084001JL                                           0.000000                                                 \nFRA084005RC                                           0.000140                                                 \nFRA094001CA                                           0.000000                                                 \nFRA094002BD                                           0.000000                                                 \nFRA094003DR                                           0.000000                                                 \nFRA094004TD                                           0.000000                                                 \nFRA106001LH                                           0.027005                                                 \nFRA106003ER                                           0.000000                                                 \nFRA106004CA                                           0.000000                                                 \nFRA123001AI                                           0.000318                                                 \nFRA189001NM                                           0.017627                                                 \nFRA189002AL                                           0.000000                                                 \nFRA189004JL                                           0.000000                                                 \nFRA189005JP                                           0.001481                                                 \nFRA189010CM                                           0.001339                                                 \nFRA256001DJ                                           0.000000                                                 \n\n             d__Bacteria| p__Spirochaetota| c__Spirochaetia| o__Spirochaetales| f__Spirochaetaceae|   \nFRA022001CA                                           0.000000                                        \nFRA022002BB                                           0.000000                                        \nFRA022003GA                                           0.000000                                        \nFRA022004MC                                           0.000000                                        \nFRA022005KF                                           0.000000                                        \nFRA022006TS                                           0.000000                                        \nFRA022007LP                                           0.000000                                        \nFRA022008DM                                           0.000000                                        \nFRA022010KI                                           0.000000                                        \nFRA022011RB                                           0.000000                                        \nFRA022012GF                                           0.000000                                        \nFRA022013ZV                                           0.000000                                        \nFRA022014RD                                           0.000000                                        \nFRA022015BF                                           0.000000                                        \nFRA022016AS                                           0.000000                                        \nFRA022018LS                                           0.000000                                        \nFRA022019RX                                           0.002321                                        \nFRA022020BF                                           0.000000                                        \nFRA022021MP                                           0.000000                                        \nFRA022022RH                                           0.000000                                        \nFRA022023DC                                           0.000000                                        \nFRA022025BE                                           0.000000                                        \nFRA022026CN                                           0.000000                                        \nFRA022027LP                                           0.000000                                        \nFRA022028BM                                           0.000000                                        \nFRA074002DB                                           0.000000                                        \nFRA084001JL                                           0.000000                                        \nFRA084005RC                                           0.000000                                        \nFRA094001CA                                           0.000000                                        \nFRA094002BD                                           0.000000                                        \nFRA094003DR                                           0.000000                                        \nFRA094004TD                                           0.000000                                        \nFRA106001LH                                           0.000000                                        \nFRA106003ER                                           0.000000                                        \nFRA106004CA                                           0.000000                                        \nFRA123001AI                                           0.000000                                        \nFRA189001NM                                           0.000000                                        \nFRA189002AL                                           0.000000                                        \nFRA189004JL                                           0.000000                                        \nFRA189005JP                                           0.000000                                        \nFRA189010CM                                           0.000000                                        \nFRA256001DJ                                           0.000000                                        \n\n[42 rows x 114 columns]",
      "text/html": "<div>\n<style scoped>\n    .dataframe tbody tr th:only-of-type {\n        vertical-align: middle;\n    }\n\n    .dataframe tbody tr th {\n        vertical-align: top;\n    }\n\n    .dataframe thead th {\n        text-align: right;\n    }\n</style>\n<table border=\"1\" class=\"dataframe\">\n  <thead>\n    <tr style=\"text-align: right;\">\n      <th></th>\n      <th>d__Bacteria| p__Actinobacteriota| c__Actinobacteria| o__Actinomycetales| f__Actinomycetaceae|</th>\n      <th>d__Bacteria| p__Actinobacteriota| c__Actinobacteria| o__Bifidobacteriales| f__Bifidobacteriaceae|</th>\n      <th>d__Bacteria| p__Actinobacteriota| c__Actinobacteria| o__Corynebacteriales| f__Corynebacteriaceae|</th>\n      <th>d__Bacteria| p__Actinobacteriota| c__Actinobacteria| o__Corynebacteriales| f__Dietziaceae|</th>\n      <th>d__Bacteria| p__Actinobacteriota| c__Actinobacteria| o__Micrococcales| f__Microbacteriaceae|</th>\n      <th>d__Bacteria| p__Actinobacteriota| c__Actinobacteria| o__Micrococcales| f__Micrococcaceae|</th>\n      <th>d__Bacteria| p__Actinobacteriota| c__Coriobacteriia| o__Coriobacteriales| f__Atopobiaceae|</th>\n      <th>d__Bacteria| p__Actinobacteriota| c__Coriobacteriia| o__Coriobacteriales| f__Coriobacteriaceae|</th>\n      <th>d__Bacteria| p__Actinobacteriota| c__Coriobacteriia| o__Coriobacteriales| f__Coriobacteriales_Incertae_Sedis|</th>\n      <th>d__Bacteria| p__Actinobacteriota| c__Coriobacteriia| o__Coriobacteriales| f__Eggerthellaceae|</th>\n      <th>...</th>\n      <th>d__Bacteria| p__Proteobacteria| c__Gammaproteobacteria| o__Burkholderiales| f__Oxalobacteraceae|</th>\n      <th>d__Bacteria| p__Proteobacteria| c__Gammaproteobacteria| o__Burkholderiales| f__Sutterellaceae|</th>\n      <th>d__Bacteria| p__Proteobacteria| c__Gammaproteobacteria| o__Cardiobacteriales| f__Cardiobacteriaceae|</th>\n      <th>d__Bacteria| p__Proteobacteria| c__Gammaproteobacteria| o__Enterobacterales| f__Enterobacteriaceae|</th>\n      <th>d__Bacteria| p__Proteobacteria| c__Gammaproteobacteria| o__Enterobacterales| f__Enterobacteriaceae|4404333586add1e05fe280c5eaa5bdd2</th>\n      <th>d__Bacteria| p__Proteobacteria| c__Gammaproteobacteria| o__Enterobacterales| f__Enterobacteriaceae|a0e658b68b3dda271e8617f5403542d3</th>\n      <th>d__Bacteria| p__Proteobacteria| c__Gammaproteobacteria| o__Enterobacterales| f__Enterobacteriaceae|b54e85eefc32197ad3ce0852b2967396</th>\n      <th>d__Bacteria| p__Proteobacteria| c__Gammaproteobacteria| o__Enterobacterales| f__Hafniaceae|</th>\n      <th>d__Bacteria| p__Proteobacteria| c__Gammaproteobacteria| o__Pasteurellales| f__Pasteurellaceae|</th>\n      <th>d__Bacteria| p__Spirochaetota| c__Spirochaetia| o__Spirochaetales| f__Spirochaetaceae|</th>\n    </tr>\n  </thead>\n  <tbody>\n    <tr>\n      <th>FRA022001CA</th>\n      <td>0.000000</td>\n      <td>0.029203</td>\n      <td>0.000000</td>\n      <td>0.000402</td>\n      <td>0.000000</td>\n      <td>0.000000</td>\n      <td>0.000000</td>\n      <td>0.001406</td>\n      <td>0.000000</td>\n      <td>0.000373</td>\n      <td>...</td>\n      <td>0.001147</td>\n      <td>0.004504</td>\n      <td>0.0</td>\n      <td>0.000000</td>\n      <td>0.000000</td>\n      <td>0.000000</td>\n      <td>0.000000</td>\n      <td>0.000000</td>\n      <td>0.000000</td>\n      <td>0.000000</td>\n    </tr>\n    <tr>\n      <th>FRA022002BB</th>\n      <td>0.000000</td>\n      <td>0.000150</td>\n      <td>0.000000</td>\n      <td>0.000414</td>\n      <td>0.000000</td>\n      <td>0.000000</td>\n      <td>0.000000</td>\n      <td>0.000000</td>\n      <td>0.000000</td>\n      <td>0.000996</td>\n      <td>...</td>\n      <td>0.002218</td>\n      <td>0.016843</td>\n      <td>0.0</td>\n      <td>0.003929</td>\n      <td>0.000000</td>\n      <td>0.000000</td>\n      <td>0.000000</td>\n      <td>0.000000</td>\n      <td>0.000000</td>\n      <td>0.000000</td>\n    </tr>\n    <tr>\n      <th>FRA022003GA</th>\n      <td>0.000235</td>\n      <td>0.000000</td>\n      <td>0.000000</td>\n      <td>0.000000</td>\n      <td>0.000000</td>\n      <td>0.000000</td>\n      <td>0.000000</td>\n      <td>0.064885</td>\n      <td>0.000000</td>\n      <td>0.000000</td>\n      <td>...</td>\n      <td>0.000910</td>\n      <td>0.004228</td>\n      <td>0.0</td>\n      <td>0.239137</td>\n      <td>0.000000</td>\n      <td>0.000000</td>\n      <td>0.000000</td>\n      <td>0.000000</td>\n      <td>0.000000</td>\n      <td>0.000000</td>\n    </tr>\n    <tr>\n      <th>FRA022004MC</th>\n      <td>0.000000</td>\n      <td>0.000000</td>\n      <td>0.000000</td>\n      <td>0.000000</td>\n      <td>0.000000</td>\n      <td>0.000000</td>\n      <td>0.000000</td>\n      <td>0.000000</td>\n      <td>0.000375</td>\n      <td>0.006144</td>\n      <td>...</td>\n      <td>0.001523</td>\n      <td>0.008941</td>\n      <td>0.0</td>\n      <td>0.009965</td>\n      <td>0.000000</td>\n      <td>0.000000</td>\n      <td>0.000000</td>\n      <td>0.000000</td>\n      <td>0.000000</td>\n      <td>0.000000</td>\n    </tr>\n    <tr>\n      <th>FRA022005KF</th>\n      <td>0.000000</td>\n      <td>0.004413</td>\n      <td>0.000000</td>\n      <td>0.000000</td>\n      <td>0.000000</td>\n      <td>0.000501</td>\n      <td>0.000000</td>\n      <td>0.000407</td>\n      <td>0.000000</td>\n      <td>0.001252</td>\n      <td>...</td>\n      <td>0.000782</td>\n      <td>0.001596</td>\n      <td>0.0</td>\n      <td>0.000000</td>\n      <td>0.000000</td>\n      <td>0.000000</td>\n      <td>0.000000</td>\n      <td>0.000000</td>\n      <td>0.000000</td>\n      <td>0.000000</td>\n    </tr>\n    <tr>\n      <th>FRA022006TS</th>\n      <td>0.000000</td>\n      <td>0.042085</td>\n      <td>0.000000</td>\n      <td>0.000000</td>\n      <td>0.000000</td>\n      <td>0.000000</td>\n      <td>0.000000</td>\n      <td>0.012995</td>\n      <td>0.001046</td>\n      <td>0.000373</td>\n      <td>...</td>\n      <td>0.000747</td>\n      <td>0.003510</td>\n      <td>0.0</td>\n      <td>0.006834</td>\n      <td>0.000000</td>\n      <td>0.000000</td>\n      <td>0.000000</td>\n      <td>0.000000</td>\n      <td>0.005265</td>\n      <td>0.000000</td>\n    </tr>\n    <tr>\n      <th>FRA022007LP</th>\n      <td>0.000000</td>\n      <td>0.001818</td>\n      <td>0.000523</td>\n      <td>0.000303</td>\n      <td>0.000000</td>\n      <td>0.000000</td>\n      <td>0.000000</td>\n      <td>0.010521</td>\n      <td>0.000000</td>\n      <td>0.005426</td>\n      <td>...</td>\n      <td>0.000193</td>\n      <td>0.000000</td>\n      <td>0.0</td>\n      <td>0.000964</td>\n      <td>0.000000</td>\n      <td>0.000000</td>\n      <td>0.000000</td>\n      <td>0.021400</td>\n      <td>0.000468</td>\n      <td>0.000000</td>\n    </tr>\n    <tr>\n      <th>FRA022008DM</th>\n      <td>0.000000</td>\n      <td>0.166539</td>\n      <td>0.000000</td>\n      <td>0.000000</td>\n      <td>0.000000</td>\n      <td>0.000000</td>\n      <td>0.000000</td>\n      <td>0.002789</td>\n      <td>0.000000</td>\n      <td>0.001738</td>\n      <td>...</td>\n      <td>0.000768</td>\n      <td>0.026396</td>\n      <td>0.0</td>\n      <td>0.306075</td>\n      <td>0.000000</td>\n      <td>0.000000</td>\n      <td>0.000000</td>\n      <td>0.000000</td>\n      <td>0.000000</td>\n      <td>0.000000</td>\n    </tr>\n    <tr>\n      <th>FRA022010KI</th>\n      <td>0.000000</td>\n      <td>0.327777</td>\n      <td>0.000000</td>\n      <td>0.000241</td>\n      <td>0.000000</td>\n      <td>0.000000</td>\n      <td>0.000000</td>\n      <td>0.033420</td>\n      <td>0.000000</td>\n      <td>0.000000</td>\n      <td>...</td>\n      <td>0.000723</td>\n      <td>0.005985</td>\n      <td>0.0</td>\n      <td>0.000402</td>\n      <td>0.000000</td>\n      <td>0.000000</td>\n      <td>0.000000</td>\n      <td>0.000000</td>\n      <td>0.000000</td>\n      <td>0.000000</td>\n    </tr>\n    <tr>\n      <th>FRA022011RB</th>\n      <td>0.000000</td>\n      <td>0.011556</td>\n      <td>0.000000</td>\n      <td>0.000000</td>\n      <td>0.000000</td>\n      <td>0.000000</td>\n      <td>0.000116</td>\n      <td>0.012919</td>\n      <td>0.000277</td>\n      <td>0.002357</td>\n      <td>...</td>\n      <td>0.000139</td>\n      <td>0.007927</td>\n      <td>0.0</td>\n      <td>0.000208</td>\n      <td>0.000000</td>\n      <td>0.000000</td>\n      <td>0.000000</td>\n      <td>0.001780</td>\n      <td>0.000000</td>\n      <td>0.000000</td>\n    </tr>\n    <tr>\n      <th>FRA022012GF</th>\n      <td>0.000000</td>\n      <td>0.002313</td>\n      <td>0.000000</td>\n      <td>0.000241</td>\n      <td>0.000000</td>\n      <td>0.000000</td>\n      <td>0.000265</td>\n      <td>0.023084</td>\n      <td>0.000096</td>\n      <td>0.003542</td>\n      <td>...</td>\n      <td>0.001880</td>\n      <td>0.002578</td>\n      <td>0.0</td>\n      <td>0.000530</td>\n      <td>0.035976</td>\n      <td>0.000000</td>\n      <td>0.000000</td>\n      <td>0.000000</td>\n      <td>0.000000</td>\n      <td>0.000000</td>\n    </tr>\n    <tr>\n      <th>FRA022013ZV</th>\n      <td>0.000000</td>\n      <td>0.001390</td>\n      <td>0.000000</td>\n      <td>0.000882</td>\n      <td>0.000000</td>\n      <td>0.000000</td>\n      <td>0.000000</td>\n      <td>0.006712</td>\n      <td>0.000909</td>\n      <td>0.005990</td>\n      <td>...</td>\n      <td>0.002193</td>\n      <td>0.002086</td>\n      <td>0.0</td>\n      <td>0.005241</td>\n      <td>0.000000</td>\n      <td>0.000000</td>\n      <td>0.000000</td>\n      <td>0.000000</td>\n      <td>0.000455</td>\n      <td>0.000000</td>\n    </tr>\n    <tr>\n      <th>FRA022014RD</th>\n      <td>0.000573</td>\n      <td>0.003128</td>\n      <td>0.000000</td>\n      <td>0.001079</td>\n      <td>0.000000</td>\n      <td>0.000000</td>\n      <td>0.000000</td>\n      <td>0.000000</td>\n      <td>0.000352</td>\n      <td>0.000000</td>\n      <td>...</td>\n      <td>0.004648</td>\n      <td>0.048552</td>\n      <td>0.0</td>\n      <td>0.059918</td>\n      <td>0.000000</td>\n      <td>0.000000</td>\n      <td>0.000000</td>\n      <td>0.000000</td>\n      <td>0.000000</td>\n      <td>0.000000</td>\n    </tr>\n    <tr>\n      <th>FRA022015BF</th>\n      <td>0.000000</td>\n      <td>0.000000</td>\n      <td>0.000000</td>\n      <td>0.002953</td>\n      <td>0.000000</td>\n      <td>0.000000</td>\n      <td>0.000000</td>\n      <td>0.009642</td>\n      <td>0.000000</td>\n      <td>0.000000</td>\n      <td>...</td>\n      <td>0.002860</td>\n      <td>0.008074</td>\n      <td>0.0</td>\n      <td>0.011534</td>\n      <td>0.000000</td>\n      <td>0.000000</td>\n      <td>0.000000</td>\n      <td>0.000000</td>\n      <td>0.000138</td>\n      <td>0.000000</td>\n    </tr>\n    <tr>\n      <th>FRA022016AS</th>\n      <td>0.000000</td>\n      <td>0.014917</td>\n      <td>0.000000</td>\n      <td>0.001641</td>\n      <td>0.000000</td>\n      <td>0.000000</td>\n      <td>0.000000</td>\n      <td>0.000000</td>\n      <td>0.000000</td>\n      <td>0.001060</td>\n      <td>...</td>\n      <td>0.001767</td>\n      <td>0.005099</td>\n      <td>0.0</td>\n      <td>0.678361</td>\n      <td>0.000631</td>\n      <td>0.000000</td>\n      <td>0.000000</td>\n      <td>0.000000</td>\n      <td>0.000000</td>\n      <td>0.000000</td>\n    </tr>\n    <tr>\n      <th>FRA022018LS</th>\n      <td>0.000000</td>\n      <td>0.037417</td>\n      <td>0.000000</td>\n      <td>0.001408</td>\n      <td>0.000000</td>\n      <td>0.000000</td>\n      <td>0.000000</td>\n      <td>0.000000</td>\n      <td>0.001006</td>\n      <td>0.000000</td>\n      <td>...</td>\n      <td>0.000402</td>\n      <td>0.036814</td>\n      <td>0.0</td>\n      <td>0.002615</td>\n      <td>0.000000</td>\n      <td>0.000000</td>\n      <td>0.000000</td>\n      <td>0.000000</td>\n      <td>0.000000</td>\n      <td>0.000000</td>\n    </tr>\n    <tr>\n      <th>FRA022019RX</th>\n      <td>0.002231</td>\n      <td>0.036594</td>\n      <td>0.000714</td>\n      <td>0.000000</td>\n      <td>0.000000</td>\n      <td>0.000000</td>\n      <td>0.000000</td>\n      <td>0.000268</td>\n      <td>0.000000</td>\n      <td>0.000000</td>\n      <td>...</td>\n      <td>0.000536</td>\n      <td>0.012674</td>\n      <td>0.0</td>\n      <td>0.043199</td>\n      <td>0.000000</td>\n      <td>0.000000</td>\n      <td>0.000000</td>\n      <td>0.000000</td>\n      <td>0.000000</td>\n      <td>0.002321</td>\n    </tr>\n    <tr>\n      <th>FRA022020BF</th>\n      <td>0.000000</td>\n      <td>0.002930</td>\n      <td>0.000000</td>\n      <td>0.000000</td>\n      <td>0.000000</td>\n      <td>0.000686</td>\n      <td>0.001267</td>\n      <td>0.002350</td>\n      <td>0.000000</td>\n      <td>0.001452</td>\n      <td>...</td>\n      <td>0.001901</td>\n      <td>0.041765</td>\n      <td>0.0</td>\n      <td>0.229890</td>\n      <td>0.000000</td>\n      <td>0.012778</td>\n      <td>0.005597</td>\n      <td>0.000000</td>\n      <td>0.000000</td>\n      <td>0.000000</td>\n    </tr>\n    <tr>\n      <th>FRA022021MP</th>\n      <td>0.000000</td>\n      <td>0.040271</td>\n      <td>0.000000</td>\n      <td>0.003393</td>\n      <td>0.000000</td>\n      <td>0.000000</td>\n      <td>0.000000</td>\n      <td>0.000000</td>\n      <td>0.001345</td>\n      <td>0.002881</td>\n      <td>...</td>\n      <td>0.002881</td>\n      <td>0.000000</td>\n      <td>0.0</td>\n      <td>0.000000</td>\n      <td>0.000000</td>\n      <td>0.000000</td>\n      <td>0.000000</td>\n      <td>0.000000</td>\n      <td>0.000000</td>\n      <td>0.000000</td>\n    </tr>\n    <tr>\n      <th>FRA022022RH</th>\n      <td>0.000000</td>\n      <td>0.136016</td>\n      <td>0.000000</td>\n      <td>0.001230</td>\n      <td>0.000000</td>\n      <td>0.000000</td>\n      <td>0.000000</td>\n      <td>0.001742</td>\n      <td>0.000000</td>\n      <td>0.002220</td>\n      <td>...</td>\n      <td>0.002459</td>\n      <td>0.014893</td>\n      <td>0.0</td>\n      <td>0.006695</td>\n      <td>0.000000</td>\n      <td>0.000000</td>\n      <td>0.000000</td>\n      <td>0.000000</td>\n      <td>0.000000</td>\n      <td>0.000000</td>\n    </tr>\n    <tr>\n      <th>FRA022023DC</th>\n      <td>0.000000</td>\n      <td>0.055378</td>\n      <td>0.000000</td>\n      <td>0.003289</td>\n      <td>0.000290</td>\n      <td>0.000000</td>\n      <td>0.000000</td>\n      <td>0.002612</td>\n      <td>0.001935</td>\n      <td>0.000339</td>\n      <td>...</td>\n      <td>0.000967</td>\n      <td>0.000000</td>\n      <td>0.0</td>\n      <td>0.000000</td>\n      <td>0.000000</td>\n      <td>0.000000</td>\n      <td>0.000000</td>\n      <td>0.000000</td>\n      <td>0.000000</td>\n      <td>0.000000</td>\n    </tr>\n    <tr>\n      <th>FRA022025BE</th>\n      <td>0.000000</td>\n      <td>0.010986</td>\n      <td>0.000000</td>\n      <td>0.000820</td>\n      <td>0.000000</td>\n      <td>0.000000</td>\n      <td>0.000000</td>\n      <td>0.037802</td>\n      <td>0.000725</td>\n      <td>0.000591</td>\n      <td>...</td>\n      <td>0.000610</td>\n      <td>0.009060</td>\n      <td>0.0</td>\n      <td>0.037173</td>\n      <td>0.000820</td>\n      <td>0.000000</td>\n      <td>0.000000</td>\n      <td>0.000000</td>\n      <td>0.001049</td>\n      <td>0.000000</td>\n    </tr>\n    <tr>\n      <th>FRA022026CN</th>\n      <td>0.000000</td>\n      <td>0.088914</td>\n      <td>0.000000</td>\n      <td>0.000288</td>\n      <td>0.000000</td>\n      <td>0.000164</td>\n      <td>0.000000</td>\n      <td>0.000000</td>\n      <td>0.000000</td>\n      <td>0.003494</td>\n      <td>...</td>\n      <td>0.000945</td>\n      <td>0.000000</td>\n      <td>0.0</td>\n      <td>0.032515</td>\n      <td>0.000000</td>\n      <td>0.000000</td>\n      <td>0.000000</td>\n      <td>0.000000</td>\n      <td>0.000000</td>\n      <td>0.000000</td>\n    </tr>\n    <tr>\n      <th>FRA022027LP</th>\n      <td>0.000000</td>\n      <td>0.000892</td>\n      <td>0.000000</td>\n      <td>0.001758</td>\n      <td>0.000000</td>\n      <td>0.000000</td>\n      <td>0.000000</td>\n      <td>0.000000</td>\n      <td>0.000000</td>\n      <td>0.000000</td>\n      <td>...</td>\n      <td>0.003847</td>\n      <td>0.019337</td>\n      <td>0.0</td>\n      <td>0.004815</td>\n      <td>0.000000</td>\n      <td>0.000000</td>\n      <td>0.000000</td>\n      <td>0.000000</td>\n      <td>0.000000</td>\n      <td>0.000000</td>\n    </tr>\n    <tr>\n      <th>FRA022028BM</th>\n      <td>0.000000</td>\n      <td>0.000000</td>\n      <td>0.000000</td>\n      <td>0.000000</td>\n      <td>0.000000</td>\n      <td>0.000000</td>\n      <td>0.000000</td>\n      <td>0.001789</td>\n      <td>0.000298</td>\n      <td>0.001491</td>\n      <td>...</td>\n      <td>0.000417</td>\n      <td>0.011152</td>\n      <td>0.0</td>\n      <td>0.013240</td>\n      <td>0.000000</td>\n      <td>0.000000</td>\n      <td>0.000000</td>\n      <td>0.000000</td>\n      <td>0.000477</td>\n      <td>0.000000</td>\n    </tr>\n    <tr>\n      <th>FRA074002DB</th>\n      <td>0.000000</td>\n      <td>0.010542</td>\n      <td>0.000122</td>\n      <td>0.000000</td>\n      <td>0.000000</td>\n      <td>0.000000</td>\n      <td>0.000000</td>\n      <td>0.003016</td>\n      <td>0.014381</td>\n      <td>0.000609</td>\n      <td>...</td>\n      <td>0.001158</td>\n      <td>0.011517</td>\n      <td>0.0</td>\n      <td>0.000000</td>\n      <td>0.000000</td>\n      <td>0.000000</td>\n      <td>0.000000</td>\n      <td>0.000000</td>\n      <td>0.005637</td>\n      <td>0.000000</td>\n    </tr>\n    <tr>\n      <th>FRA084001JL</th>\n      <td>0.000000</td>\n      <td>0.000000</td>\n      <td>0.000000</td>\n      <td>0.000000</td>\n      <td>0.000000</td>\n      <td>0.000000</td>\n      <td>0.000000</td>\n      <td>0.000000</td>\n      <td>0.000000</td>\n      <td>0.000000</td>\n      <td>...</td>\n      <td>0.000000</td>\n      <td>0.000000</td>\n      <td>0.0</td>\n      <td>0.000000</td>\n      <td>0.000000</td>\n      <td>0.000000</td>\n      <td>0.000000</td>\n      <td>0.000000</td>\n      <td>0.000000</td>\n      <td>0.000000</td>\n    </tr>\n    <tr>\n      <th>FRA084005RC</th>\n      <td>0.000000</td>\n      <td>0.001077</td>\n      <td>0.000000</td>\n      <td>0.002106</td>\n      <td>0.000000</td>\n      <td>0.000000</td>\n      <td>0.000000</td>\n      <td>0.003089</td>\n      <td>0.000000</td>\n      <td>0.004915</td>\n      <td>...</td>\n      <td>0.000000</td>\n      <td>0.016570</td>\n      <td>0.0</td>\n      <td>0.000234</td>\n      <td>0.000000</td>\n      <td>0.000000</td>\n      <td>0.000000</td>\n      <td>0.000000</td>\n      <td>0.000140</td>\n      <td>0.000000</td>\n    </tr>\n    <tr>\n      <th>FRA094001CA</th>\n      <td>0.000000</td>\n      <td>0.422481</td>\n      <td>0.000000</td>\n      <td>0.000322</td>\n      <td>0.000000</td>\n      <td>0.000000</td>\n      <td>0.000000</td>\n      <td>0.005045</td>\n      <td>0.000000</td>\n      <td>0.000569</td>\n      <td>...</td>\n      <td>0.005391</td>\n      <td>0.012143</td>\n      <td>0.0</td>\n      <td>0.001978</td>\n      <td>0.000000</td>\n      <td>0.000000</td>\n      <td>0.000000</td>\n      <td>0.000000</td>\n      <td>0.000000</td>\n      <td>0.000000</td>\n    </tr>\n    <tr>\n      <th>FRA094002BD</th>\n      <td>0.000000</td>\n      <td>0.029001</td>\n      <td>0.000000</td>\n      <td>0.000000</td>\n      <td>0.000000</td>\n      <td>0.000000</td>\n      <td>0.000000</td>\n      <td>0.041922</td>\n      <td>0.000000</td>\n      <td>0.001579</td>\n      <td>...</td>\n      <td>0.000419</td>\n      <td>0.034177</td>\n      <td>0.0</td>\n      <td>0.000114</td>\n      <td>0.000000</td>\n      <td>0.000000</td>\n      <td>0.000000</td>\n      <td>0.000000</td>\n      <td>0.000000</td>\n      <td>0.000000</td>\n    </tr>\n    <tr>\n      <th>FRA094003DR</th>\n      <td>0.000000</td>\n      <td>0.001290</td>\n      <td>0.000000</td>\n      <td>0.000573</td>\n      <td>0.000108</td>\n      <td>0.000000</td>\n      <td>0.000000</td>\n      <td>0.000000</td>\n      <td>0.000000</td>\n      <td>0.002437</td>\n      <td>...</td>\n      <td>0.001004</td>\n      <td>0.000000</td>\n      <td>0.0</td>\n      <td>0.001362</td>\n      <td>0.000000</td>\n      <td>0.000000</td>\n      <td>0.000000</td>\n      <td>0.000000</td>\n      <td>0.000000</td>\n      <td>0.000000</td>\n    </tr>\n    <tr>\n      <th>FRA094004TD</th>\n      <td>0.000090</td>\n      <td>0.522049</td>\n      <td>0.000000</td>\n      <td>0.000988</td>\n      <td>0.000000</td>\n      <td>0.000000</td>\n      <td>0.000000</td>\n      <td>0.076879</td>\n      <td>0.004311</td>\n      <td>0.001377</td>\n      <td>...</td>\n      <td>0.000599</td>\n      <td>0.005987</td>\n      <td>0.0</td>\n      <td>0.000000</td>\n      <td>0.000000</td>\n      <td>0.000000</td>\n      <td>0.000000</td>\n      <td>0.000000</td>\n      <td>0.000000</td>\n      <td>0.000000</td>\n    </tr>\n    <tr>\n      <th>FRA106001LH</th>\n      <td>0.000272</td>\n      <td>0.001141</td>\n      <td>0.000000</td>\n      <td>0.006683</td>\n      <td>0.000000</td>\n      <td>0.000679</td>\n      <td>0.000000</td>\n      <td>0.000000</td>\n      <td>0.000000</td>\n      <td>0.000000</td>\n      <td>...</td>\n      <td>0.000109</td>\n      <td>0.000000</td>\n      <td>0.0</td>\n      <td>0.372745</td>\n      <td>0.000000</td>\n      <td>0.002228</td>\n      <td>0.008748</td>\n      <td>0.000000</td>\n      <td>0.027005</td>\n      <td>0.000000</td>\n    </tr>\n    <tr>\n      <th>FRA106003ER</th>\n      <td>0.000000</td>\n      <td>0.086987</td>\n      <td>0.000000</td>\n      <td>0.000679</td>\n      <td>0.000000</td>\n      <td>0.000000</td>\n      <td>0.000146</td>\n      <td>0.000000</td>\n      <td>0.000000</td>\n      <td>0.000388</td>\n      <td>...</td>\n      <td>0.000704</td>\n      <td>0.014146</td>\n      <td>0.0</td>\n      <td>0.000655</td>\n      <td>0.000000</td>\n      <td>0.000000</td>\n      <td>0.000000</td>\n      <td>0.004198</td>\n      <td>0.000000</td>\n      <td>0.000000</td>\n    </tr>\n    <tr>\n      <th>FRA106004CA</th>\n      <td>0.000000</td>\n      <td>0.011556</td>\n      <td>0.000000</td>\n      <td>0.000000</td>\n      <td>0.000000</td>\n      <td>0.000000</td>\n      <td>0.000000</td>\n      <td>0.000000</td>\n      <td>0.018001</td>\n      <td>0.004593</td>\n      <td>...</td>\n      <td>0.000000</td>\n      <td>0.005186</td>\n      <td>0.0</td>\n      <td>0.015631</td>\n      <td>0.000000</td>\n      <td>0.000000</td>\n      <td>0.000000</td>\n      <td>0.000000</td>\n      <td>0.000000</td>\n      <td>0.000000</td>\n    </tr>\n    <tr>\n      <th>FRA123001AI</th>\n      <td>0.000000</td>\n      <td>0.190892</td>\n      <td>0.000000</td>\n      <td>0.000000</td>\n      <td>0.000000</td>\n      <td>0.000000</td>\n      <td>0.045897</td>\n      <td>0.000000</td>\n      <td>0.000635</td>\n      <td>0.000715</td>\n      <td>...</td>\n      <td>0.000238</td>\n      <td>0.000000</td>\n      <td>0.0</td>\n      <td>0.010760</td>\n      <td>0.000000</td>\n      <td>0.000000</td>\n      <td>0.000000</td>\n      <td>0.000000</td>\n      <td>0.000318</td>\n      <td>0.000000</td>\n    </tr>\n    <tr>\n      <th>FRA189001NM</th>\n      <td>0.000000</td>\n      <td>0.007770</td>\n      <td>0.000000</td>\n      <td>0.000000</td>\n      <td>0.000000</td>\n      <td>0.000000</td>\n      <td>0.000234</td>\n      <td>0.000064</td>\n      <td>0.000000</td>\n      <td>0.002555</td>\n      <td>...</td>\n      <td>0.001001</td>\n      <td>0.000000</td>\n      <td>0.0</td>\n      <td>0.000064</td>\n      <td>0.000000</td>\n      <td>0.000000</td>\n      <td>0.000000</td>\n      <td>0.000000</td>\n      <td>0.017627</td>\n      <td>0.000000</td>\n    </tr>\n    <tr>\n      <th>FRA189002AL</th>\n      <td>0.000000</td>\n      <td>0.000000</td>\n      <td>0.000000</td>\n      <td>0.000000</td>\n      <td>0.000000</td>\n      <td>0.000000</td>\n      <td>0.000000</td>\n      <td>0.020052</td>\n      <td>0.002804</td>\n      <td>0.004033</td>\n      <td>...</td>\n      <td>0.000423</td>\n      <td>0.000000</td>\n      <td>0.0</td>\n      <td>0.000000</td>\n      <td>0.000000</td>\n      <td>0.000000</td>\n      <td>0.000000</td>\n      <td>0.000000</td>\n      <td>0.000000</td>\n      <td>0.000000</td>\n    </tr>\n    <tr>\n      <th>FRA189004JL</th>\n      <td>0.000000</td>\n      <td>0.000000</td>\n      <td>0.000000</td>\n      <td>0.000000</td>\n      <td>0.000000</td>\n      <td>0.000000</td>\n      <td>0.000000</td>\n      <td>0.000000</td>\n      <td>0.000000</td>\n      <td>0.000000</td>\n      <td>...</td>\n      <td>0.000000</td>\n      <td>0.000000</td>\n      <td>0.0</td>\n      <td>0.000000</td>\n      <td>0.000000</td>\n      <td>0.000000</td>\n      <td>0.000000</td>\n      <td>0.000000</td>\n      <td>0.000000</td>\n      <td>0.000000</td>\n    </tr>\n    <tr>\n      <th>FRA189005JP</th>\n      <td>0.000247</td>\n      <td>0.002864</td>\n      <td>0.000000</td>\n      <td>0.001975</td>\n      <td>0.000198</td>\n      <td>0.000420</td>\n      <td>0.000000</td>\n      <td>0.005679</td>\n      <td>0.000000</td>\n      <td>0.001284</td>\n      <td>...</td>\n      <td>0.002642</td>\n      <td>0.020962</td>\n      <td>0.0</td>\n      <td>0.004395</td>\n      <td>0.000000</td>\n      <td>0.000000</td>\n      <td>0.000000</td>\n      <td>0.000000</td>\n      <td>0.001481</td>\n      <td>0.000000</td>\n    </tr>\n    <tr>\n      <th>FRA189010CM</th>\n      <td>0.000275</td>\n      <td>0.000446</td>\n      <td>0.000000</td>\n      <td>0.001957</td>\n      <td>0.000000</td>\n      <td>0.000000</td>\n      <td>0.000000</td>\n      <td>0.037192</td>\n      <td>0.000000</td>\n      <td>0.001751</td>\n      <td>...</td>\n      <td>0.001683</td>\n      <td>0.039459</td>\n      <td>0.0</td>\n      <td>0.192932</td>\n      <td>0.000000</td>\n      <td>0.000000</td>\n      <td>0.000000</td>\n      <td>0.011092</td>\n      <td>0.001339</td>\n      <td>0.000000</td>\n    </tr>\n    <tr>\n      <th>FRA256001DJ</th>\n      <td>0.000000</td>\n      <td>0.043452</td>\n      <td>0.000175</td>\n      <td>0.002480</td>\n      <td>0.000000</td>\n      <td>0.000000</td>\n      <td>0.000000</td>\n      <td>0.018764</td>\n      <td>0.001838</td>\n      <td>0.001109</td>\n      <td>...</td>\n      <td>0.005924</td>\n      <td>0.023666</td>\n      <td>0.0</td>\n      <td>0.001051</td>\n      <td>0.000000</td>\n      <td>0.000000</td>\n      <td>0.000000</td>\n      <td>0.000000</td>\n      <td>0.000000</td>\n      <td>0.000000</td>\n    </tr>\n  </tbody>\n</table>\n<p>42 rows × 114 columns</p>\n</div>"
     },
     "execution_count": 27,
     "metadata": {},
     "output_type": "execute_result"
    }
   ],
   "source": [
    "X = df.transpose()\n",
    "X.columns = df.transpose().columns.tolist()[:]\n",
    "X = X.astype(np.float64)\n",
    "X"
   ]
  },
  {
   "cell_type": "code",
   "execution_count": 28,
   "metadata": {
    "collapsed": false,
    "jupyter": {
     "outputs_hidden": false
    },
    "pycharm": {
     "name": "#%%\n"
    }
   },
   "outputs": [
    {
     "data": {
      "text/plain": "id\nFRA022001CA    0\nFRA022002BB    0\nFRA022003GA    0\nFRA022004MC    0\nFRA022005KF    0\nFRA022006TS    1\nFRA022007LP    0\nFRA022008DM    0\nFRA022010KI    1\nFRA022011RB    0\nFRA022012GF    0\nFRA022013ZV    0\nFRA022014RD    0\nFRA022015BF    0\nFRA022016AS    0\nFRA022018LS    0\nFRA022019RX    0\nFRA022020BF    0\nFRA022021MP    1\nFRA022022RH    1\nFRA022023DC    0\nFRA022025BE    0\nFRA022026CN    0\nFRA022027LP    0\nFRA022028BM    1\nFRA074002DB    0\nFRA084001JL    0\nFRA084005RC    0\nFRA094001CA    0\nFRA094002BD    0\nFRA094003DR    0\nFRA094004TD    1\nFRA106001LH    0\nFRA106003ER    1\nFRA106004CA    0\nFRA123001AI    1\nFRA189001NM    0\nFRA189002AL    0\nFRA189004JL    0\nFRA189005JP    0\nFRA189010CM    0\nFRA256001DJ    1\nName: best_irecist, dtype: int32"
     },
     "execution_count": 28,
     "metadata": {},
     "output_type": "execute_result"
    }
   ],
   "source": [
    "y = mapping['best_irecist'].apply(lambda x : (x == 'CR') * 1).astype(np.int32)\n",
    "y.index = mapping.id\n",
    "y"
   ]
  },
  {
   "cell_type": "code",
   "execution_count": 29,
   "metadata": {
    "collapsed": false,
    "jupyter": {
     "outputs_hidden": false
    },
    "pycharm": {
     "name": "#%%\n"
    }
   },
   "outputs": [
    {
     "data": {
      "text/plain": "             d__Bacteria| p__Actinobacteriota| c__Actinobacteria| o__Actinomycetales| f__Actinomycetaceae|   \\\nFRA022001CA                                           0.000000                                                \nFRA022002BB                                           0.000000                                                \nFRA022003GA                                           0.000235                                                \nFRA022004MC                                           0.000000                                                \nFRA022005KF                                           0.000000                                                \nFRA022006TS                                           0.000000                                                \nFRA022007LP                                           0.000000                                                \nFRA022008DM                                           0.000000                                                \nFRA022010KI                                           0.000000                                                \nFRA022011RB                                           0.000000                                                \nFRA022012GF                                           0.000000                                                \nFRA022013ZV                                           0.000000                                                \nFRA022014RD                                           0.000573                                                \nFRA022015BF                                           0.000000                                                \nFRA022016AS                                           0.000000                                                \nFRA022018LS                                           0.000000                                                \nFRA022019RX                                           0.002231                                                \nFRA022020BF                                           0.000000                                                \nFRA022021MP                                           0.000000                                                \nFRA022022RH                                           0.000000                                                \nFRA022023DC                                           0.000000                                                \nFRA022025BE                                           0.000000                                                \nFRA022026CN                                           0.000000                                                \nFRA022027LP                                           0.000000                                                \nFRA022028BM                                           0.000000                                                \nFRA074002DB                                           0.000000                                                \nFRA084001JL                                           0.000000                                                \nFRA084005RC                                           0.000000                                                \nFRA094001CA                                           0.000000                                                \nFRA094002BD                                           0.000000                                                \nFRA094003DR                                           0.000000                                                \nFRA094004TD                                           0.000090                                                \nFRA106001LH                                           0.000272                                                \nFRA106003ER                                           0.000000                                                \nFRA106004CA                                           0.000000                                                \nFRA123001AI                                           0.000000                                                \nFRA189001NM                                           0.000000                                                \nFRA189002AL                                           0.000000                                                \nFRA189004JL                                           0.000000                                                \nFRA189005JP                                           0.000247                                                \nFRA189010CM                                           0.000275                                                \nFRA256001DJ                                           0.000000                                                \n\n             d__Bacteria| p__Actinobacteriota| c__Actinobacteria| o__Bifidobacteriales| f__Bifidobacteriaceae|   \\\nFRA022001CA                                           0.029203                                                    \nFRA022002BB                                           0.000150                                                    \nFRA022003GA                                           0.000000                                                    \nFRA022004MC                                           0.000000                                                    \nFRA022005KF                                           0.004413                                                    \nFRA022006TS                                           0.042085                                                    \nFRA022007LP                                           0.001818                                                    \nFRA022008DM                                           0.166539                                                    \nFRA022010KI                                           0.327777                                                    \nFRA022011RB                                           0.011556                                                    \nFRA022012GF                                           0.002313                                                    \nFRA022013ZV                                           0.001390                                                    \nFRA022014RD                                           0.003128                                                    \nFRA022015BF                                           0.000000                                                    \nFRA022016AS                                           0.014917                                                    \nFRA022018LS                                           0.037417                                                    \nFRA022019RX                                           0.036594                                                    \nFRA022020BF                                           0.002930                                                    \nFRA022021MP                                           0.040271                                                    \nFRA022022RH                                           0.136016                                                    \nFRA022023DC                                           0.055378                                                    \nFRA022025BE                                           0.010986                                                    \nFRA022026CN                                           0.088914                                                    \nFRA022027LP                                           0.000892                                                    \nFRA022028BM                                           0.000000                                                    \nFRA074002DB                                           0.010542                                                    \nFRA084001JL                                           0.000000                                                    \nFRA084005RC                                           0.001077                                                    \nFRA094001CA                                           0.422481                                                    \nFRA094002BD                                           0.029001                                                    \nFRA094003DR                                           0.001290                                                    \nFRA094004TD                                           0.522049                                                    \nFRA106001LH                                           0.001141                                                    \nFRA106003ER                                           0.086987                                                    \nFRA106004CA                                           0.011556                                                    \nFRA123001AI                                           0.190892                                                    \nFRA189001NM                                           0.007770                                                    \nFRA189002AL                                           0.000000                                                    \nFRA189004JL                                           0.000000                                                    \nFRA189005JP                                           0.002864                                                    \nFRA189010CM                                           0.000446                                                    \nFRA256001DJ                                           0.043452                                                    \n\n             d__Bacteria| p__Actinobacteriota| c__Actinobacteria| o__Corynebacteriales| f__Corynebacteriaceae|   \\\nFRA022001CA                                           0.000000                                                    \nFRA022002BB                                           0.000000                                                    \nFRA022003GA                                           0.000000                                                    \nFRA022004MC                                           0.000000                                                    \nFRA022005KF                                           0.000000                                                    \nFRA022006TS                                           0.000000                                                    \nFRA022007LP                                           0.000523                                                    \nFRA022008DM                                           0.000000                                                    \nFRA022010KI                                           0.000000                                                    \nFRA022011RB                                           0.000000                                                    \nFRA022012GF                                           0.000000                                                    \nFRA022013ZV                                           0.000000                                                    \nFRA022014RD                                           0.000000                                                    \nFRA022015BF                                           0.000000                                                    \nFRA022016AS                                           0.000000                                                    \nFRA022018LS                                           0.000000                                                    \nFRA022019RX                                           0.000714                                                    \nFRA022020BF                                           0.000000                                                    \nFRA022021MP                                           0.000000                                                    \nFRA022022RH                                           0.000000                                                    \nFRA022023DC                                           0.000000                                                    \nFRA022025BE                                           0.000000                                                    \nFRA022026CN                                           0.000000                                                    \nFRA022027LP                                           0.000000                                                    \nFRA022028BM                                           0.000000                                                    \nFRA074002DB                                           0.000122                                                    \nFRA084001JL                                           0.000000                                                    \nFRA084005RC                                           0.000000                                                    \nFRA094001CA                                           0.000000                                                    \nFRA094002BD                                           0.000000                                                    \nFRA094003DR                                           0.000000                                                    \nFRA094004TD                                           0.000000                                                    \nFRA106001LH                                           0.000000                                                    \nFRA106003ER                                           0.000000                                                    \nFRA106004CA                                           0.000000                                                    \nFRA123001AI                                           0.000000                                                    \nFRA189001NM                                           0.000000                                                    \nFRA189002AL                                           0.000000                                                    \nFRA189004JL                                           0.000000                                                    \nFRA189005JP                                           0.000000                                                    \nFRA189010CM                                           0.000000                                                    \nFRA256001DJ                                           0.000175                                                    \n\n             d__Bacteria| p__Actinobacteriota| c__Actinobacteria| o__Corynebacteriales| f__Dietziaceae|   \\\nFRA022001CA                                           0.000402                                             \nFRA022002BB                                           0.000414                                             \nFRA022003GA                                           0.000000                                             \nFRA022004MC                                           0.000000                                             \nFRA022005KF                                           0.000000                                             \nFRA022006TS                                           0.000000                                             \nFRA022007LP                                           0.000303                                             \nFRA022008DM                                           0.000000                                             \nFRA022010KI                                           0.000241                                             \nFRA022011RB                                           0.000000                                             \nFRA022012GF                                           0.000241                                             \nFRA022013ZV                                           0.000882                                             \nFRA022014RD                                           0.001079                                             \nFRA022015BF                                           0.002953                                             \nFRA022016AS                                           0.001641                                             \nFRA022018LS                                           0.001408                                             \nFRA022019RX                                           0.000000                                             \nFRA022020BF                                           0.000000                                             \nFRA022021MP                                           0.003393                                             \nFRA022022RH                                           0.001230                                             \nFRA022023DC                                           0.003289                                             \nFRA022025BE                                           0.000820                                             \nFRA022026CN                                           0.000288                                             \nFRA022027LP                                           0.001758                                             \nFRA022028BM                                           0.000000                                             \nFRA074002DB                                           0.000000                                             \nFRA084001JL                                           0.000000                                             \nFRA084005RC                                           0.002106                                             \nFRA094001CA                                           0.000322                                             \nFRA094002BD                                           0.000000                                             \nFRA094003DR                                           0.000573                                             \nFRA094004TD                                           0.000988                                             \nFRA106001LH                                           0.006683                                             \nFRA106003ER                                           0.000679                                             \nFRA106004CA                                           0.000000                                             \nFRA123001AI                                           0.000000                                             \nFRA189001NM                                           0.000000                                             \nFRA189002AL                                           0.000000                                             \nFRA189004JL                                           0.000000                                             \nFRA189005JP                                           0.001975                                             \nFRA189010CM                                           0.001957                                             \nFRA256001DJ                                           0.002480                                             \n\n             d__Bacteria| p__Actinobacteriota| c__Actinobacteria| o__Micrococcales| f__Microbacteriaceae|   \\\nFRA022001CA                                           0.000000                                               \nFRA022002BB                                           0.000000                                               \nFRA022003GA                                           0.000000                                               \nFRA022004MC                                           0.000000                                               \nFRA022005KF                                           0.000000                                               \nFRA022006TS                                           0.000000                                               \nFRA022007LP                                           0.000000                                               \nFRA022008DM                                           0.000000                                               \nFRA022010KI                                           0.000000                                               \nFRA022011RB                                           0.000000                                               \nFRA022012GF                                           0.000000                                               \nFRA022013ZV                                           0.000000                                               \nFRA022014RD                                           0.000000                                               \nFRA022015BF                                           0.000000                                               \nFRA022016AS                                           0.000000                                               \nFRA022018LS                                           0.000000                                               \nFRA022019RX                                           0.000000                                               \nFRA022020BF                                           0.000000                                               \nFRA022021MP                                           0.000000                                               \nFRA022022RH                                           0.000000                                               \nFRA022023DC                                           0.000290                                               \nFRA022025BE                                           0.000000                                               \nFRA022026CN                                           0.000000                                               \nFRA022027LP                                           0.000000                                               \nFRA022028BM                                           0.000000                                               \nFRA074002DB                                           0.000000                                               \nFRA084001JL                                           0.000000                                               \nFRA084005RC                                           0.000000                                               \nFRA094001CA                                           0.000000                                               \nFRA094002BD                                           0.000000                                               \nFRA094003DR                                           0.000108                                               \nFRA094004TD                                           0.000000                                               \nFRA106001LH                                           0.000000                                               \nFRA106003ER                                           0.000000                                               \nFRA106004CA                                           0.000000                                               \nFRA123001AI                                           0.000000                                               \nFRA189001NM                                           0.000000                                               \nFRA189002AL                                           0.000000                                               \nFRA189004JL                                           0.000000                                               \nFRA189005JP                                           0.000198                                               \nFRA189010CM                                           0.000000                                               \nFRA256001DJ                                           0.000000                                               \n\n             d__Bacteria| p__Actinobacteriota| c__Actinobacteria| o__Micrococcales| f__Micrococcaceae|   \\\nFRA022001CA                                           0.000000                                            \nFRA022002BB                                           0.000000                                            \nFRA022003GA                                           0.000000                                            \nFRA022004MC                                           0.000000                                            \nFRA022005KF                                           0.000501                                            \nFRA022006TS                                           0.000000                                            \nFRA022007LP                                           0.000000                                            \nFRA022008DM                                           0.000000                                            \nFRA022010KI                                           0.000000                                            \nFRA022011RB                                           0.000000                                            \nFRA022012GF                                           0.000000                                            \nFRA022013ZV                                           0.000000                                            \nFRA022014RD                                           0.000000                                            \nFRA022015BF                                           0.000000                                            \nFRA022016AS                                           0.000000                                            \nFRA022018LS                                           0.000000                                            \nFRA022019RX                                           0.000000                                            \nFRA022020BF                                           0.000686                                            \nFRA022021MP                                           0.000000                                            \nFRA022022RH                                           0.000000                                            \nFRA022023DC                                           0.000000                                            \nFRA022025BE                                           0.000000                                            \nFRA022026CN                                           0.000164                                            \nFRA022027LP                                           0.000000                                            \nFRA022028BM                                           0.000000                                            \nFRA074002DB                                           0.000000                                            \nFRA084001JL                                           0.000000                                            \nFRA084005RC                                           0.000000                                            \nFRA094001CA                                           0.000000                                            \nFRA094002BD                                           0.000000                                            \nFRA094003DR                                           0.000000                                            \nFRA094004TD                                           0.000000                                            \nFRA106001LH                                           0.000679                                            \nFRA106003ER                                           0.000000                                            \nFRA106004CA                                           0.000000                                            \nFRA123001AI                                           0.000000                                            \nFRA189001NM                                           0.000000                                            \nFRA189002AL                                           0.000000                                            \nFRA189004JL                                           0.000000                                            \nFRA189005JP                                           0.000420                                            \nFRA189010CM                                           0.000000                                            \nFRA256001DJ                                           0.000000                                            \n\n             d__Bacteria| p__Actinobacteriota| c__Coriobacteriia| o__Coriobacteriales| f__Atopobiaceae|   \\\nFRA022001CA                                           0.000000                                             \nFRA022002BB                                           0.000000                                             \nFRA022003GA                                           0.000000                                             \nFRA022004MC                                           0.000000                                             \nFRA022005KF                                           0.000000                                             \nFRA022006TS                                           0.000000                                             \nFRA022007LP                                           0.000000                                             \nFRA022008DM                                           0.000000                                             \nFRA022010KI                                           0.000000                                             \nFRA022011RB                                           0.000116                                             \nFRA022012GF                                           0.000265                                             \nFRA022013ZV                                           0.000000                                             \nFRA022014RD                                           0.000000                                             \nFRA022015BF                                           0.000000                                             \nFRA022016AS                                           0.000000                                             \nFRA022018LS                                           0.000000                                             \nFRA022019RX                                           0.000000                                             \nFRA022020BF                                           0.001267                                             \nFRA022021MP                                           0.000000                                             \nFRA022022RH                                           0.000000                                             \nFRA022023DC                                           0.000000                                             \nFRA022025BE                                           0.000000                                             \nFRA022026CN                                           0.000000                                             \nFRA022027LP                                           0.000000                                             \nFRA022028BM                                           0.000000                                             \nFRA074002DB                                           0.000000                                             \nFRA084001JL                                           0.000000                                             \nFRA084005RC                                           0.000000                                             \nFRA094001CA                                           0.000000                                             \nFRA094002BD                                           0.000000                                             \nFRA094003DR                                           0.000000                                             \nFRA094004TD                                           0.000000                                             \nFRA106001LH                                           0.000000                                             \nFRA106003ER                                           0.000146                                             \nFRA106004CA                                           0.000000                                             \nFRA123001AI                                           0.045897                                             \nFRA189001NM                                           0.000234                                             \nFRA189002AL                                           0.000000                                             \nFRA189004JL                                           0.000000                                             \nFRA189005JP                                           0.000000                                             \nFRA189010CM                                           0.000000                                             \nFRA256001DJ                                           0.000000                                             \n\n             d__Bacteria| p__Actinobacteriota| c__Coriobacteriia| o__Coriobacteriales| f__Coriobacteriaceae|   \\\nFRA022001CA                                           0.001406                                                  \nFRA022002BB                                           0.000000                                                  \nFRA022003GA                                           0.064885                                                  \nFRA022004MC                                           0.000000                                                  \nFRA022005KF                                           0.000407                                                  \nFRA022006TS                                           0.012995                                                  \nFRA022007LP                                           0.010521                                                  \nFRA022008DM                                           0.002789                                                  \nFRA022010KI                                           0.033420                                                  \nFRA022011RB                                           0.012919                                                  \nFRA022012GF                                           0.023084                                                  \nFRA022013ZV                                           0.006712                                                  \nFRA022014RD                                           0.000000                                                  \nFRA022015BF                                           0.009642                                                  \nFRA022016AS                                           0.000000                                                  \nFRA022018LS                                           0.000000                                                  \nFRA022019RX                                           0.000268                                                  \nFRA022020BF                                           0.002350                                                  \nFRA022021MP                                           0.000000                                                  \nFRA022022RH                                           0.001742                                                  \nFRA022023DC                                           0.002612                                                  \nFRA022025BE                                           0.037802                                                  \nFRA022026CN                                           0.000000                                                  \nFRA022027LP                                           0.000000                                                  \nFRA022028BM                                           0.001789                                                  \nFRA074002DB                                           0.003016                                                  \nFRA084001JL                                           0.000000                                                  \nFRA084005RC                                           0.003089                                                  \nFRA094001CA                                           0.005045                                                  \nFRA094002BD                                           0.041922                                                  \nFRA094003DR                                           0.000000                                                  \nFRA094004TD                                           0.076879                                                  \nFRA106001LH                                           0.000000                                                  \nFRA106003ER                                           0.000000                                                  \nFRA106004CA                                           0.000000                                                  \nFRA123001AI                                           0.000000                                                  \nFRA189001NM                                           0.000064                                                  \nFRA189002AL                                           0.020052                                                  \nFRA189004JL                                           0.000000                                                  \nFRA189005JP                                           0.005679                                                  \nFRA189010CM                                           0.037192                                                  \nFRA256001DJ                                           0.018764                                                  \n\n             d__Bacteria| p__Actinobacteriota| c__Coriobacteriia| o__Coriobacteriales| f__Coriobacteriales_Incertae_Sedis|   \\\nFRA022001CA                                           0.000000                                                                \nFRA022002BB                                           0.000000                                                                \nFRA022003GA                                           0.000000                                                                \nFRA022004MC                                           0.000375                                                                \nFRA022005KF                                           0.000000                                                                \nFRA022006TS                                           0.001046                                                                \nFRA022007LP                                           0.000000                                                                \nFRA022008DM                                           0.000000                                                                \nFRA022010KI                                           0.000000                                                                \nFRA022011RB                                           0.000277                                                                \nFRA022012GF                                           0.000096                                                                \nFRA022013ZV                                           0.000909                                                                \nFRA022014RD                                           0.000352                                                                \nFRA022015BF                                           0.000000                                                                \nFRA022016AS                                           0.000000                                                                \nFRA022018LS                                           0.001006                                                                \nFRA022019RX                                           0.000000                                                                \nFRA022020BF                                           0.000000                                                                \nFRA022021MP                                           0.001345                                                                \nFRA022022RH                                           0.000000                                                                \nFRA022023DC                                           0.001935                                                                \nFRA022025BE                                           0.000725                                                                \nFRA022026CN                                           0.000000                                                                \nFRA022027LP                                           0.000000                                                                \nFRA022028BM                                           0.000298                                                                \nFRA074002DB                                           0.014381                                                                \nFRA084001JL                                           0.000000                                                                \nFRA084005RC                                           0.000000                                                                \nFRA094001CA                                           0.000000                                                                \nFRA094002BD                                           0.000000                                                                \nFRA094003DR                                           0.000000                                                                \nFRA094004TD                                           0.004311                                                                \nFRA106001LH                                           0.000000                                                                \nFRA106003ER                                           0.000000                                                                \nFRA106004CA                                           0.018001                                                                \nFRA123001AI                                           0.000635                                                                \nFRA189001NM                                           0.000000                                                                \nFRA189002AL                                           0.002804                                                                \nFRA189004JL                                           0.000000                                                                \nFRA189005JP                                           0.000000                                                                \nFRA189010CM                                           0.000000                                                                \nFRA256001DJ                                           0.001838                                                                \n\n             d__Bacteria| p__Actinobacteriota| c__Coriobacteriia| o__Coriobacteriales| f__Eggerthellaceae|   \\\nFRA022001CA                                           0.000373                                                \nFRA022002BB                                           0.000996                                                \nFRA022003GA                                           0.000000                                                \nFRA022004MC                                           0.006144                                                \nFRA022005KF                                           0.001252                                                \nFRA022006TS                                           0.000373                                                \nFRA022007LP                                           0.005426                                                \nFRA022008DM                                           0.001738                                                \nFRA022010KI                                           0.000000                                                \nFRA022011RB                                           0.002357                                                \nFRA022012GF                                           0.003542                                                \nFRA022013ZV                                           0.005990                                                \nFRA022014RD                                           0.000000                                                \nFRA022015BF                                           0.000000                                                \nFRA022016AS                                           0.001060                                                \nFRA022018LS                                           0.000000                                                \nFRA022019RX                                           0.000000                                                \nFRA022020BF                                           0.001452                                                \nFRA022021MP                                           0.002881                                                \nFRA022022RH                                           0.002220                                                \nFRA022023DC                                           0.000339                                                \nFRA022025BE                                           0.000591                                                \nFRA022026CN                                           0.003494                                                \nFRA022027LP                                           0.000000                                                \nFRA022028BM                                           0.001491                                                \nFRA074002DB                                           0.000609                                                \nFRA084001JL                                           0.000000                                                \nFRA084005RC                                           0.004915                                                \nFRA094001CA                                           0.000569                                                \nFRA094002BD                                           0.001579                                                \nFRA094003DR                                           0.002437                                                \nFRA094004TD                                           0.001377                                                \nFRA106001LH                                           0.000000                                                \nFRA106003ER                                           0.000388                                                \nFRA106004CA                                           0.004593                                                \nFRA123001AI                                           0.000715                                                \nFRA189001NM                                           0.002555                                                \nFRA189002AL                                           0.004033                                                \nFRA189004JL                                           0.000000                                                \nFRA189005JP                                           0.001284                                                \nFRA189010CM                                           0.001751                                                \nFRA256001DJ                                           0.001109                                                \n\n             ...  \\\nFRA022001CA  ...   \nFRA022002BB  ...   \nFRA022003GA  ...   \nFRA022004MC  ...   \nFRA022005KF  ...   \nFRA022006TS  ...   \nFRA022007LP  ...   \nFRA022008DM  ...   \nFRA022010KI  ...   \nFRA022011RB  ...   \nFRA022012GF  ...   \nFRA022013ZV  ...   \nFRA022014RD  ...   \nFRA022015BF  ...   \nFRA022016AS  ...   \nFRA022018LS  ...   \nFRA022019RX  ...   \nFRA022020BF  ...   \nFRA022021MP  ...   \nFRA022022RH  ...   \nFRA022023DC  ...   \nFRA022025BE  ...   \nFRA022026CN  ...   \nFRA022027LP  ...   \nFRA022028BM  ...   \nFRA074002DB  ...   \nFRA084001JL  ...   \nFRA084005RC  ...   \nFRA094001CA  ...   \nFRA094002BD  ...   \nFRA094003DR  ...   \nFRA094004TD  ...   \nFRA106001LH  ...   \nFRA106003ER  ...   \nFRA106004CA  ...   \nFRA123001AI  ...   \nFRA189001NM  ...   \nFRA189002AL  ...   \nFRA189004JL  ...   \nFRA189005JP  ...   \nFRA189010CM  ...   \nFRA256001DJ  ...   \n\n             d__Bacteria| p__Proteobacteria| c__Gammaproteobacteria| o__Burkholderiales| f__Sutterellaceae|   \\\nFRA022001CA                                           0.004504                                                 \nFRA022002BB                                           0.016843                                                 \nFRA022003GA                                           0.004228                                                 \nFRA022004MC                                           0.008941                                                 \nFRA022005KF                                           0.001596                                                 \nFRA022006TS                                           0.003510                                                 \nFRA022007LP                                           0.000000                                                 \nFRA022008DM                                           0.026396                                                 \nFRA022010KI                                           0.005985                                                 \nFRA022011RB                                           0.007927                                                 \nFRA022012GF                                           0.002578                                                 \nFRA022013ZV                                           0.002086                                                 \nFRA022014RD                                           0.048552                                                 \nFRA022015BF                                           0.008074                                                 \nFRA022016AS                                           0.005099                                                 \nFRA022018LS                                           0.036814                                                 \nFRA022019RX                                           0.012674                                                 \nFRA022020BF                                           0.041765                                                 \nFRA022021MP                                           0.000000                                                 \nFRA022022RH                                           0.014893                                                 \nFRA022023DC                                           0.000000                                                 \nFRA022025BE                                           0.009060                                                 \nFRA022026CN                                           0.000000                                                 \nFRA022027LP                                           0.019337                                                 \nFRA022028BM                                           0.011152                                                 \nFRA074002DB                                           0.011517                                                 \nFRA084001JL                                           0.000000                                                 \nFRA084005RC                                           0.016570                                                 \nFRA094001CA                                           0.012143                                                 \nFRA094002BD                                           0.034177                                                 \nFRA094003DR                                           0.000000                                                 \nFRA094004TD                                           0.005987                                                 \nFRA106001LH                                           0.000000                                                 \nFRA106003ER                                           0.014146                                                 \nFRA106004CA                                           0.005186                                                 \nFRA123001AI                                           0.000000                                                 \nFRA189001NM                                           0.000000                                                 \nFRA189002AL                                           0.000000                                                 \nFRA189004JL                                           0.000000                                                 \nFRA189005JP                                           0.020962                                                 \nFRA189010CM                                           0.039459                                                 \nFRA256001DJ                                           0.023666                                                 \n\n             d__Bacteria| p__Proteobacteria| c__Gammaproteobacteria| o__Cardiobacteriales| f__Cardiobacteriaceae|   \\\nFRA022001CA                                                0.0                                                       \nFRA022002BB                                                0.0                                                       \nFRA022003GA                                                0.0                                                       \nFRA022004MC                                                0.0                                                       \nFRA022005KF                                                0.0                                                       \nFRA022006TS                                                0.0                                                       \nFRA022007LP                                                0.0                                                       \nFRA022008DM                                                0.0                                                       \nFRA022010KI                                                0.0                                                       \nFRA022011RB                                                0.0                                                       \nFRA022012GF                                                0.0                                                       \nFRA022013ZV                                                0.0                                                       \nFRA022014RD                                                0.0                                                       \nFRA022015BF                                                0.0                                                       \nFRA022016AS                                                0.0                                                       \nFRA022018LS                                                0.0                                                       \nFRA022019RX                                                0.0                                                       \nFRA022020BF                                                0.0                                                       \nFRA022021MP                                                0.0                                                       \nFRA022022RH                                                0.0                                                       \nFRA022023DC                                                0.0                                                       \nFRA022025BE                                                0.0                                                       \nFRA022026CN                                                0.0                                                       \nFRA022027LP                                                0.0                                                       \nFRA022028BM                                                0.0                                                       \nFRA074002DB                                                0.0                                                       \nFRA084001JL                                                0.0                                                       \nFRA084005RC                                                0.0                                                       \nFRA094001CA                                                0.0                                                       \nFRA094002BD                                                0.0                                                       \nFRA094003DR                                                0.0                                                       \nFRA094004TD                                                0.0                                                       \nFRA106001LH                                                0.0                                                       \nFRA106003ER                                                0.0                                                       \nFRA106004CA                                                0.0                                                       \nFRA123001AI                                                0.0                                                       \nFRA189001NM                                                0.0                                                       \nFRA189002AL                                                0.0                                                       \nFRA189004JL                                                0.0                                                       \nFRA189005JP                                                0.0                                                       \nFRA189010CM                                                0.0                                                       \nFRA256001DJ                                                0.0                                                       \n\n             d__Bacteria| p__Proteobacteria| c__Gammaproteobacteria| o__Enterobacterales| f__Enterobacteriaceae|   \\\nFRA022001CA                                           0.000000                                                      \nFRA022002BB                                           0.003929                                                      \nFRA022003GA                                           0.239137                                                      \nFRA022004MC                                           0.009965                                                      \nFRA022005KF                                           0.000000                                                      \nFRA022006TS                                           0.006834                                                      \nFRA022007LP                                           0.000964                                                      \nFRA022008DM                                           0.306075                                                      \nFRA022010KI                                           0.000402                                                      \nFRA022011RB                                           0.000208                                                      \nFRA022012GF                                           0.000530                                                      \nFRA022013ZV                                           0.005241                                                      \nFRA022014RD                                           0.059918                                                      \nFRA022015BF                                           0.011534                                                      \nFRA022016AS                                           0.678361                                                      \nFRA022018LS                                           0.002615                                                      \nFRA022019RX                                           0.043199                                                      \nFRA022020BF                                           0.229890                                                      \nFRA022021MP                                           0.000000                                                      \nFRA022022RH                                           0.006695                                                      \nFRA022023DC                                           0.000000                                                      \nFRA022025BE                                           0.037173                                                      \nFRA022026CN                                           0.032515                                                      \nFRA022027LP                                           0.004815                                                      \nFRA022028BM                                           0.013240                                                      \nFRA074002DB                                           0.000000                                                      \nFRA084001JL                                           0.000000                                                      \nFRA084005RC                                           0.000234                                                      \nFRA094001CA                                           0.001978                                                      \nFRA094002BD                                           0.000114                                                      \nFRA094003DR                                           0.001362                                                      \nFRA094004TD                                           0.000000                                                      \nFRA106001LH                                           0.372745                                                      \nFRA106003ER                                           0.000655                                                      \nFRA106004CA                                           0.015631                                                      \nFRA123001AI                                           0.010760                                                      \nFRA189001NM                                           0.000064                                                      \nFRA189002AL                                           0.000000                                                      \nFRA189004JL                                           0.000000                                                      \nFRA189005JP                                           0.004395                                                      \nFRA189010CM                                           0.192932                                                      \nFRA256001DJ                                           0.001051                                                      \n\n             d__Bacteria| p__Proteobacteria| c__Gammaproteobacteria| o__Enterobacterales| f__Enterobacteriaceae|4404333586add1e05fe280c5eaa5bdd2  \\\nFRA022001CA                                           0.000000                                                                                     \nFRA022002BB                                           0.000000                                                                                     \nFRA022003GA                                           0.000000                                                                                     \nFRA022004MC                                           0.000000                                                                                     \nFRA022005KF                                           0.000000                                                                                     \nFRA022006TS                                           0.000000                                                                                     \nFRA022007LP                                           0.000000                                                                                     \nFRA022008DM                                           0.000000                                                                                     \nFRA022010KI                                           0.000000                                                                                     \nFRA022011RB                                           0.000000                                                                                     \nFRA022012GF                                           0.035976                                                                                     \nFRA022013ZV                                           0.000000                                                                                     \nFRA022014RD                                           0.000000                                                                                     \nFRA022015BF                                           0.000000                                                                                     \nFRA022016AS                                           0.000631                                                                                     \nFRA022018LS                                           0.000000                                                                                     \nFRA022019RX                                           0.000000                                                                                     \nFRA022020BF                                           0.000000                                                                                     \nFRA022021MP                                           0.000000                                                                                     \nFRA022022RH                                           0.000000                                                                                     \nFRA022023DC                                           0.000000                                                                                     \nFRA022025BE                                           0.000820                                                                                     \nFRA022026CN                                           0.000000                                                                                     \nFRA022027LP                                           0.000000                                                                                     \nFRA022028BM                                           0.000000                                                                                     \nFRA074002DB                                           0.000000                                                                                     \nFRA084001JL                                           0.000000                                                                                     \nFRA084005RC                                           0.000000                                                                                     \nFRA094001CA                                           0.000000                                                                                     \nFRA094002BD                                           0.000000                                                                                     \nFRA094003DR                                           0.000000                                                                                     \nFRA094004TD                                           0.000000                                                                                     \nFRA106001LH                                           0.000000                                                                                     \nFRA106003ER                                           0.000000                                                                                     \nFRA106004CA                                           0.000000                                                                                     \nFRA123001AI                                           0.000000                                                                                     \nFRA189001NM                                           0.000000                                                                                     \nFRA189002AL                                           0.000000                                                                                     \nFRA189004JL                                           0.000000                                                                                     \nFRA189005JP                                           0.000000                                                                                     \nFRA189010CM                                           0.000000                                                                                     \nFRA256001DJ                                           0.000000                                                                                     \n\n             d__Bacteria| p__Proteobacteria| c__Gammaproteobacteria| o__Enterobacterales| f__Enterobacteriaceae|a0e658b68b3dda271e8617f5403542d3  \\\nFRA022001CA                                           0.000000                                                                                     \nFRA022002BB                                           0.000000                                                                                     \nFRA022003GA                                           0.000000                                                                                     \nFRA022004MC                                           0.000000                                                                                     \nFRA022005KF                                           0.000000                                                                                     \nFRA022006TS                                           0.000000                                                                                     \nFRA022007LP                                           0.000000                                                                                     \nFRA022008DM                                           0.000000                                                                                     \nFRA022010KI                                           0.000000                                                                                     \nFRA022011RB                                           0.000000                                                                                     \nFRA022012GF                                           0.000000                                                                                     \nFRA022013ZV                                           0.000000                                                                                     \nFRA022014RD                                           0.000000                                                                                     \nFRA022015BF                                           0.000000                                                                                     \nFRA022016AS                                           0.000000                                                                                     \nFRA022018LS                                           0.000000                                                                                     \nFRA022019RX                                           0.000000                                                                                     \nFRA022020BF                                           0.012778                                                                                     \nFRA022021MP                                           0.000000                                                                                     \nFRA022022RH                                           0.000000                                                                                     \nFRA022023DC                                           0.000000                                                                                     \nFRA022025BE                                           0.000000                                                                                     \nFRA022026CN                                           0.000000                                                                                     \nFRA022027LP                                           0.000000                                                                                     \nFRA022028BM                                           0.000000                                                                                     \nFRA074002DB                                           0.000000                                                                                     \nFRA084001JL                                           0.000000                                                                                     \nFRA084005RC                                           0.000000                                                                                     \nFRA094001CA                                           0.000000                                                                                     \nFRA094002BD                                           0.000000                                                                                     \nFRA094003DR                                           0.000000                                                                                     \nFRA094004TD                                           0.000000                                                                                     \nFRA106001LH                                           0.002228                                                                                     \nFRA106003ER                                           0.000000                                                                                     \nFRA106004CA                                           0.000000                                                                                     \nFRA123001AI                                           0.000000                                                                                     \nFRA189001NM                                           0.000000                                                                                     \nFRA189002AL                                           0.000000                                                                                     \nFRA189004JL                                           0.000000                                                                                     \nFRA189005JP                                           0.000000                                                                                     \nFRA189010CM                                           0.000000                                                                                     \nFRA256001DJ                                           0.000000                                                                                     \n\n             d__Bacteria| p__Proteobacteria| c__Gammaproteobacteria| o__Enterobacterales| f__Enterobacteriaceae|b54e85eefc32197ad3ce0852b2967396  \\\nFRA022001CA                                           0.000000                                                                                     \nFRA022002BB                                           0.000000                                                                                     \nFRA022003GA                                           0.000000                                                                                     \nFRA022004MC                                           0.000000                                                                                     \nFRA022005KF                                           0.000000                                                                                     \nFRA022006TS                                           0.000000                                                                                     \nFRA022007LP                                           0.000000                                                                                     \nFRA022008DM                                           0.000000                                                                                     \nFRA022010KI                                           0.000000                                                                                     \nFRA022011RB                                           0.000000                                                                                     \nFRA022012GF                                           0.000000                                                                                     \nFRA022013ZV                                           0.000000                                                                                     \nFRA022014RD                                           0.000000                                                                                     \nFRA022015BF                                           0.000000                                                                                     \nFRA022016AS                                           0.000000                                                                                     \nFRA022018LS                                           0.000000                                                                                     \nFRA022019RX                                           0.000000                                                                                     \nFRA022020BF                                           0.005597                                                                                     \nFRA022021MP                                           0.000000                                                                                     \nFRA022022RH                                           0.000000                                                                                     \nFRA022023DC                                           0.000000                                                                                     \nFRA022025BE                                           0.000000                                                                                     \nFRA022026CN                                           0.000000                                                                                     \nFRA022027LP                                           0.000000                                                                                     \nFRA022028BM                                           0.000000                                                                                     \nFRA074002DB                                           0.000000                                                                                     \nFRA084001JL                                           0.000000                                                                                     \nFRA084005RC                                           0.000000                                                                                     \nFRA094001CA                                           0.000000                                                                                     \nFRA094002BD                                           0.000000                                                                                     \nFRA094003DR                                           0.000000                                                                                     \nFRA094004TD                                           0.000000                                                                                     \nFRA106001LH                                           0.008748                                                                                     \nFRA106003ER                                           0.000000                                                                                     \nFRA106004CA                                           0.000000                                                                                     \nFRA123001AI                                           0.000000                                                                                     \nFRA189001NM                                           0.000000                                                                                     \nFRA189002AL                                           0.000000                                                                                     \nFRA189004JL                                           0.000000                                                                                     \nFRA189005JP                                           0.000000                                                                                     \nFRA189010CM                                           0.000000                                                                                     \nFRA256001DJ                                           0.000000                                                                                     \n\n             d__Bacteria| p__Proteobacteria| c__Gammaproteobacteria| o__Enterobacterales| f__Hafniaceae|   \\\nFRA022001CA                                           0.000000                                              \nFRA022002BB                                           0.000000                                              \nFRA022003GA                                           0.000000                                              \nFRA022004MC                                           0.000000                                              \nFRA022005KF                                           0.000000                                              \nFRA022006TS                                           0.000000                                              \nFRA022007LP                                           0.021400                                              \nFRA022008DM                                           0.000000                                              \nFRA022010KI                                           0.000000                                              \nFRA022011RB                                           0.001780                                              \nFRA022012GF                                           0.000000                                              \nFRA022013ZV                                           0.000000                                              \nFRA022014RD                                           0.000000                                              \nFRA022015BF                                           0.000000                                              \nFRA022016AS                                           0.000000                                              \nFRA022018LS                                           0.000000                                              \nFRA022019RX                                           0.000000                                              \nFRA022020BF                                           0.000000                                              \nFRA022021MP                                           0.000000                                              \nFRA022022RH                                           0.000000                                              \nFRA022023DC                                           0.000000                                              \nFRA022025BE                                           0.000000                                              \nFRA022026CN                                           0.000000                                              \nFRA022027LP                                           0.000000                                              \nFRA022028BM                                           0.000000                                              \nFRA074002DB                                           0.000000                                              \nFRA084001JL                                           0.000000                                              \nFRA084005RC                                           0.000000                                              \nFRA094001CA                                           0.000000                                              \nFRA094002BD                                           0.000000                                              \nFRA094003DR                                           0.000000                                              \nFRA094004TD                                           0.000000                                              \nFRA106001LH                                           0.000000                                              \nFRA106003ER                                           0.004198                                              \nFRA106004CA                                           0.000000                                              \nFRA123001AI                                           0.000000                                              \nFRA189001NM                                           0.000000                                              \nFRA189002AL                                           0.000000                                              \nFRA189004JL                                           0.000000                                              \nFRA189005JP                                           0.000000                                              \nFRA189010CM                                           0.011092                                              \nFRA256001DJ                                           0.000000                                              \n\n             d__Bacteria| p__Proteobacteria| c__Gammaproteobacteria| o__Pasteurellales| f__Pasteurellaceae|   \\\nFRA022001CA                                           0.000000                                                 \nFRA022002BB                                           0.000000                                                 \nFRA022003GA                                           0.000000                                                 \nFRA022004MC                                           0.000000                                                 \nFRA022005KF                                           0.000000                                                 \nFRA022006TS                                           0.005265                                                 \nFRA022007LP                                           0.000468                                                 \nFRA022008DM                                           0.000000                                                 \nFRA022010KI                                           0.000000                                                 \nFRA022011RB                                           0.000000                                                 \nFRA022012GF                                           0.000000                                                 \nFRA022013ZV                                           0.000455                                                 \nFRA022014RD                                           0.000000                                                 \nFRA022015BF                                           0.000138                                                 \nFRA022016AS                                           0.000000                                                 \nFRA022018LS                                           0.000000                                                 \nFRA022019RX                                           0.000000                                                 \nFRA022020BF                                           0.000000                                                 \nFRA022021MP                                           0.000000                                                 \nFRA022022RH                                           0.000000                                                 \nFRA022023DC                                           0.000000                                                 \nFRA022025BE                                           0.001049                                                 \nFRA022026CN                                           0.000000                                                 \nFRA022027LP                                           0.000000                                                 \nFRA022028BM                                           0.000477                                                 \nFRA074002DB                                           0.005637                                                 \nFRA084001JL                                           0.000000                                                 \nFRA084005RC                                           0.000140                                                 \nFRA094001CA                                           0.000000                                                 \nFRA094002BD                                           0.000000                                                 \nFRA094003DR                                           0.000000                                                 \nFRA094004TD                                           0.000000                                                 \nFRA106001LH                                           0.027005                                                 \nFRA106003ER                                           0.000000                                                 \nFRA106004CA                                           0.000000                                                 \nFRA123001AI                                           0.000318                                                 \nFRA189001NM                                           0.017627                                                 \nFRA189002AL                                           0.000000                                                 \nFRA189004JL                                           0.000000                                                 \nFRA189005JP                                           0.001481                                                 \nFRA189010CM                                           0.001339                                                 \nFRA256001DJ                                           0.000000                                                 \n\n             d__Bacteria| p__Spirochaetota| c__Spirochaetia| o__Spirochaetales| f__Spirochaetaceae|   \\\nFRA022001CA                                           0.000000                                         \nFRA022002BB                                           0.000000                                         \nFRA022003GA                                           0.000000                                         \nFRA022004MC                                           0.000000                                         \nFRA022005KF                                           0.000000                                         \nFRA022006TS                                           0.000000                                         \nFRA022007LP                                           0.000000                                         \nFRA022008DM                                           0.000000                                         \nFRA022010KI                                           0.000000                                         \nFRA022011RB                                           0.000000                                         \nFRA022012GF                                           0.000000                                         \nFRA022013ZV                                           0.000000                                         \nFRA022014RD                                           0.000000                                         \nFRA022015BF                                           0.000000                                         \nFRA022016AS                                           0.000000                                         \nFRA022018LS                                           0.000000                                         \nFRA022019RX                                           0.002321                                         \nFRA022020BF                                           0.000000                                         \nFRA022021MP                                           0.000000                                         \nFRA022022RH                                           0.000000                                         \nFRA022023DC                                           0.000000                                         \nFRA022025BE                                           0.000000                                         \nFRA022026CN                                           0.000000                                         \nFRA022027LP                                           0.000000                                         \nFRA022028BM                                           0.000000                                         \nFRA074002DB                                           0.000000                                         \nFRA084001JL                                           0.000000                                         \nFRA084005RC                                           0.000000                                         \nFRA094001CA                                           0.000000                                         \nFRA094002BD                                           0.000000                                         \nFRA094003DR                                           0.000000                                         \nFRA094004TD                                           0.000000                                         \nFRA106001LH                                           0.000000                                         \nFRA106003ER                                           0.000000                                         \nFRA106004CA                                           0.000000                                         \nFRA123001AI                                           0.000000                                         \nFRA189001NM                                           0.000000                                         \nFRA189002AL                                           0.000000                                         \nFRA189004JL                                           0.000000                                         \nFRA189005JP                                           0.000000                                         \nFRA189010CM                                           0.000000                                         \nFRA256001DJ                                           0.000000                                         \n\n             label  \nFRA022001CA      0  \nFRA022002BB      0  \nFRA022003GA      0  \nFRA022004MC      0  \nFRA022005KF      0  \nFRA022006TS      1  \nFRA022007LP      0  \nFRA022008DM      0  \nFRA022010KI      1  \nFRA022011RB      0  \nFRA022012GF      0  \nFRA022013ZV      0  \nFRA022014RD      0  \nFRA022015BF      0  \nFRA022016AS      0  \nFRA022018LS      0  \nFRA022019RX      0  \nFRA022020BF      0  \nFRA022021MP      1  \nFRA022022RH      1  \nFRA022023DC      0  \nFRA022025BE      0  \nFRA022026CN      0  \nFRA022027LP      0  \nFRA022028BM      1  \nFRA074002DB      0  \nFRA084001JL      0  \nFRA084005RC      0  \nFRA094001CA      0  \nFRA094002BD      0  \nFRA094003DR      0  \nFRA094004TD      1  \nFRA106001LH      0  \nFRA106003ER      1  \nFRA106004CA      0  \nFRA123001AI      1  \nFRA189001NM      0  \nFRA189002AL      0  \nFRA189004JL      0  \nFRA189005JP      0  \nFRA189010CM      0  \nFRA256001DJ      1  \n\n[42 rows x 115 columns]",
      "text/html": "<div>\n<style scoped>\n    .dataframe tbody tr th:only-of-type {\n        vertical-align: middle;\n    }\n\n    .dataframe tbody tr th {\n        vertical-align: top;\n    }\n\n    .dataframe thead th {\n        text-align: right;\n    }\n</style>\n<table border=\"1\" class=\"dataframe\">\n  <thead>\n    <tr style=\"text-align: right;\">\n      <th></th>\n      <th>d__Bacteria| p__Actinobacteriota| c__Actinobacteria| o__Actinomycetales| f__Actinomycetaceae|</th>\n      <th>d__Bacteria| p__Actinobacteriota| c__Actinobacteria| o__Bifidobacteriales| f__Bifidobacteriaceae|</th>\n      <th>d__Bacteria| p__Actinobacteriota| c__Actinobacteria| o__Corynebacteriales| f__Corynebacteriaceae|</th>\n      <th>d__Bacteria| p__Actinobacteriota| c__Actinobacteria| o__Corynebacteriales| f__Dietziaceae|</th>\n      <th>d__Bacteria| p__Actinobacteriota| c__Actinobacteria| o__Micrococcales| f__Microbacteriaceae|</th>\n      <th>d__Bacteria| p__Actinobacteriota| c__Actinobacteria| o__Micrococcales| f__Micrococcaceae|</th>\n      <th>d__Bacteria| p__Actinobacteriota| c__Coriobacteriia| o__Coriobacteriales| f__Atopobiaceae|</th>\n      <th>d__Bacteria| p__Actinobacteriota| c__Coriobacteriia| o__Coriobacteriales| f__Coriobacteriaceae|</th>\n      <th>d__Bacteria| p__Actinobacteriota| c__Coriobacteriia| o__Coriobacteriales| f__Coriobacteriales_Incertae_Sedis|</th>\n      <th>d__Bacteria| p__Actinobacteriota| c__Coriobacteriia| o__Coriobacteriales| f__Eggerthellaceae|</th>\n      <th>...</th>\n      <th>d__Bacteria| p__Proteobacteria| c__Gammaproteobacteria| o__Burkholderiales| f__Sutterellaceae|</th>\n      <th>d__Bacteria| p__Proteobacteria| c__Gammaproteobacteria| o__Cardiobacteriales| f__Cardiobacteriaceae|</th>\n      <th>d__Bacteria| p__Proteobacteria| c__Gammaproteobacteria| o__Enterobacterales| f__Enterobacteriaceae|</th>\n      <th>d__Bacteria| p__Proteobacteria| c__Gammaproteobacteria| o__Enterobacterales| f__Enterobacteriaceae|4404333586add1e05fe280c5eaa5bdd2</th>\n      <th>d__Bacteria| p__Proteobacteria| c__Gammaproteobacteria| o__Enterobacterales| f__Enterobacteriaceae|a0e658b68b3dda271e8617f5403542d3</th>\n      <th>d__Bacteria| p__Proteobacteria| c__Gammaproteobacteria| o__Enterobacterales| f__Enterobacteriaceae|b54e85eefc32197ad3ce0852b2967396</th>\n      <th>d__Bacteria| p__Proteobacteria| c__Gammaproteobacteria| o__Enterobacterales| f__Hafniaceae|</th>\n      <th>d__Bacteria| p__Proteobacteria| c__Gammaproteobacteria| o__Pasteurellales| f__Pasteurellaceae|</th>\n      <th>d__Bacteria| p__Spirochaetota| c__Spirochaetia| o__Spirochaetales| f__Spirochaetaceae|</th>\n      <th>label</th>\n    </tr>\n  </thead>\n  <tbody>\n    <tr>\n      <th>FRA022001CA</th>\n      <td>0.000000</td>\n      <td>0.029203</td>\n      <td>0.000000</td>\n      <td>0.000402</td>\n      <td>0.000000</td>\n      <td>0.000000</td>\n      <td>0.000000</td>\n      <td>0.001406</td>\n      <td>0.000000</td>\n      <td>0.000373</td>\n      <td>...</td>\n      <td>0.004504</td>\n      <td>0.0</td>\n      <td>0.000000</td>\n      <td>0.000000</td>\n      <td>0.000000</td>\n      <td>0.000000</td>\n      <td>0.000000</td>\n      <td>0.000000</td>\n      <td>0.000000</td>\n      <td>0</td>\n    </tr>\n    <tr>\n      <th>FRA022002BB</th>\n      <td>0.000000</td>\n      <td>0.000150</td>\n      <td>0.000000</td>\n      <td>0.000414</td>\n      <td>0.000000</td>\n      <td>0.000000</td>\n      <td>0.000000</td>\n      <td>0.000000</td>\n      <td>0.000000</td>\n      <td>0.000996</td>\n      <td>...</td>\n      <td>0.016843</td>\n      <td>0.0</td>\n      <td>0.003929</td>\n      <td>0.000000</td>\n      <td>0.000000</td>\n      <td>0.000000</td>\n      <td>0.000000</td>\n      <td>0.000000</td>\n      <td>0.000000</td>\n      <td>0</td>\n    </tr>\n    <tr>\n      <th>FRA022003GA</th>\n      <td>0.000235</td>\n      <td>0.000000</td>\n      <td>0.000000</td>\n      <td>0.000000</td>\n      <td>0.000000</td>\n      <td>0.000000</td>\n      <td>0.000000</td>\n      <td>0.064885</td>\n      <td>0.000000</td>\n      <td>0.000000</td>\n      <td>...</td>\n      <td>0.004228</td>\n      <td>0.0</td>\n      <td>0.239137</td>\n      <td>0.000000</td>\n      <td>0.000000</td>\n      <td>0.000000</td>\n      <td>0.000000</td>\n      <td>0.000000</td>\n      <td>0.000000</td>\n      <td>0</td>\n    </tr>\n    <tr>\n      <th>FRA022004MC</th>\n      <td>0.000000</td>\n      <td>0.000000</td>\n      <td>0.000000</td>\n      <td>0.000000</td>\n      <td>0.000000</td>\n      <td>0.000000</td>\n      <td>0.000000</td>\n      <td>0.000000</td>\n      <td>0.000375</td>\n      <td>0.006144</td>\n      <td>...</td>\n      <td>0.008941</td>\n      <td>0.0</td>\n      <td>0.009965</td>\n      <td>0.000000</td>\n      <td>0.000000</td>\n      <td>0.000000</td>\n      <td>0.000000</td>\n      <td>0.000000</td>\n      <td>0.000000</td>\n      <td>0</td>\n    </tr>\n    <tr>\n      <th>FRA022005KF</th>\n      <td>0.000000</td>\n      <td>0.004413</td>\n      <td>0.000000</td>\n      <td>0.000000</td>\n      <td>0.000000</td>\n      <td>0.000501</td>\n      <td>0.000000</td>\n      <td>0.000407</td>\n      <td>0.000000</td>\n      <td>0.001252</td>\n      <td>...</td>\n      <td>0.001596</td>\n      <td>0.0</td>\n      <td>0.000000</td>\n      <td>0.000000</td>\n      <td>0.000000</td>\n      <td>0.000000</td>\n      <td>0.000000</td>\n      <td>0.000000</td>\n      <td>0.000000</td>\n      <td>0</td>\n    </tr>\n    <tr>\n      <th>FRA022006TS</th>\n      <td>0.000000</td>\n      <td>0.042085</td>\n      <td>0.000000</td>\n      <td>0.000000</td>\n      <td>0.000000</td>\n      <td>0.000000</td>\n      <td>0.000000</td>\n      <td>0.012995</td>\n      <td>0.001046</td>\n      <td>0.000373</td>\n      <td>...</td>\n      <td>0.003510</td>\n      <td>0.0</td>\n      <td>0.006834</td>\n      <td>0.000000</td>\n      <td>0.000000</td>\n      <td>0.000000</td>\n      <td>0.000000</td>\n      <td>0.005265</td>\n      <td>0.000000</td>\n      <td>1</td>\n    </tr>\n    <tr>\n      <th>FRA022007LP</th>\n      <td>0.000000</td>\n      <td>0.001818</td>\n      <td>0.000523</td>\n      <td>0.000303</td>\n      <td>0.000000</td>\n      <td>0.000000</td>\n      <td>0.000000</td>\n      <td>0.010521</td>\n      <td>0.000000</td>\n      <td>0.005426</td>\n      <td>...</td>\n      <td>0.000000</td>\n      <td>0.0</td>\n      <td>0.000964</td>\n      <td>0.000000</td>\n      <td>0.000000</td>\n      <td>0.000000</td>\n      <td>0.021400</td>\n      <td>0.000468</td>\n      <td>0.000000</td>\n      <td>0</td>\n    </tr>\n    <tr>\n      <th>FRA022008DM</th>\n      <td>0.000000</td>\n      <td>0.166539</td>\n      <td>0.000000</td>\n      <td>0.000000</td>\n      <td>0.000000</td>\n      <td>0.000000</td>\n      <td>0.000000</td>\n      <td>0.002789</td>\n      <td>0.000000</td>\n      <td>0.001738</td>\n      <td>...</td>\n      <td>0.026396</td>\n      <td>0.0</td>\n      <td>0.306075</td>\n      <td>0.000000</td>\n      <td>0.000000</td>\n      <td>0.000000</td>\n      <td>0.000000</td>\n      <td>0.000000</td>\n      <td>0.000000</td>\n      <td>0</td>\n    </tr>\n    <tr>\n      <th>FRA022010KI</th>\n      <td>0.000000</td>\n      <td>0.327777</td>\n      <td>0.000000</td>\n      <td>0.000241</td>\n      <td>0.000000</td>\n      <td>0.000000</td>\n      <td>0.000000</td>\n      <td>0.033420</td>\n      <td>0.000000</td>\n      <td>0.000000</td>\n      <td>...</td>\n      <td>0.005985</td>\n      <td>0.0</td>\n      <td>0.000402</td>\n      <td>0.000000</td>\n      <td>0.000000</td>\n      <td>0.000000</td>\n      <td>0.000000</td>\n      <td>0.000000</td>\n      <td>0.000000</td>\n      <td>1</td>\n    </tr>\n    <tr>\n      <th>FRA022011RB</th>\n      <td>0.000000</td>\n      <td>0.011556</td>\n      <td>0.000000</td>\n      <td>0.000000</td>\n      <td>0.000000</td>\n      <td>0.000000</td>\n      <td>0.000116</td>\n      <td>0.012919</td>\n      <td>0.000277</td>\n      <td>0.002357</td>\n      <td>...</td>\n      <td>0.007927</td>\n      <td>0.0</td>\n      <td>0.000208</td>\n      <td>0.000000</td>\n      <td>0.000000</td>\n      <td>0.000000</td>\n      <td>0.001780</td>\n      <td>0.000000</td>\n      <td>0.000000</td>\n      <td>0</td>\n    </tr>\n    <tr>\n      <th>FRA022012GF</th>\n      <td>0.000000</td>\n      <td>0.002313</td>\n      <td>0.000000</td>\n      <td>0.000241</td>\n      <td>0.000000</td>\n      <td>0.000000</td>\n      <td>0.000265</td>\n      <td>0.023084</td>\n      <td>0.000096</td>\n      <td>0.003542</td>\n      <td>...</td>\n      <td>0.002578</td>\n      <td>0.0</td>\n      <td>0.000530</td>\n      <td>0.035976</td>\n      <td>0.000000</td>\n      <td>0.000000</td>\n      <td>0.000000</td>\n      <td>0.000000</td>\n      <td>0.000000</td>\n      <td>0</td>\n    </tr>\n    <tr>\n      <th>FRA022013ZV</th>\n      <td>0.000000</td>\n      <td>0.001390</td>\n      <td>0.000000</td>\n      <td>0.000882</td>\n      <td>0.000000</td>\n      <td>0.000000</td>\n      <td>0.000000</td>\n      <td>0.006712</td>\n      <td>0.000909</td>\n      <td>0.005990</td>\n      <td>...</td>\n      <td>0.002086</td>\n      <td>0.0</td>\n      <td>0.005241</td>\n      <td>0.000000</td>\n      <td>0.000000</td>\n      <td>0.000000</td>\n      <td>0.000000</td>\n      <td>0.000455</td>\n      <td>0.000000</td>\n      <td>0</td>\n    </tr>\n    <tr>\n      <th>FRA022014RD</th>\n      <td>0.000573</td>\n      <td>0.003128</td>\n      <td>0.000000</td>\n      <td>0.001079</td>\n      <td>0.000000</td>\n      <td>0.000000</td>\n      <td>0.000000</td>\n      <td>0.000000</td>\n      <td>0.000352</td>\n      <td>0.000000</td>\n      <td>...</td>\n      <td>0.048552</td>\n      <td>0.0</td>\n      <td>0.059918</td>\n      <td>0.000000</td>\n      <td>0.000000</td>\n      <td>0.000000</td>\n      <td>0.000000</td>\n      <td>0.000000</td>\n      <td>0.000000</td>\n      <td>0</td>\n    </tr>\n    <tr>\n      <th>FRA022015BF</th>\n      <td>0.000000</td>\n      <td>0.000000</td>\n      <td>0.000000</td>\n      <td>0.002953</td>\n      <td>0.000000</td>\n      <td>0.000000</td>\n      <td>0.000000</td>\n      <td>0.009642</td>\n      <td>0.000000</td>\n      <td>0.000000</td>\n      <td>...</td>\n      <td>0.008074</td>\n      <td>0.0</td>\n      <td>0.011534</td>\n      <td>0.000000</td>\n      <td>0.000000</td>\n      <td>0.000000</td>\n      <td>0.000000</td>\n      <td>0.000138</td>\n      <td>0.000000</td>\n      <td>0</td>\n    </tr>\n    <tr>\n      <th>FRA022016AS</th>\n      <td>0.000000</td>\n      <td>0.014917</td>\n      <td>0.000000</td>\n      <td>0.001641</td>\n      <td>0.000000</td>\n      <td>0.000000</td>\n      <td>0.000000</td>\n      <td>0.000000</td>\n      <td>0.000000</td>\n      <td>0.001060</td>\n      <td>...</td>\n      <td>0.005099</td>\n      <td>0.0</td>\n      <td>0.678361</td>\n      <td>0.000631</td>\n      <td>0.000000</td>\n      <td>0.000000</td>\n      <td>0.000000</td>\n      <td>0.000000</td>\n      <td>0.000000</td>\n      <td>0</td>\n    </tr>\n    <tr>\n      <th>FRA022018LS</th>\n      <td>0.000000</td>\n      <td>0.037417</td>\n      <td>0.000000</td>\n      <td>0.001408</td>\n      <td>0.000000</td>\n      <td>0.000000</td>\n      <td>0.000000</td>\n      <td>0.000000</td>\n      <td>0.001006</td>\n      <td>0.000000</td>\n      <td>...</td>\n      <td>0.036814</td>\n      <td>0.0</td>\n      <td>0.002615</td>\n      <td>0.000000</td>\n      <td>0.000000</td>\n      <td>0.000000</td>\n      <td>0.000000</td>\n      <td>0.000000</td>\n      <td>0.000000</td>\n      <td>0</td>\n    </tr>\n    <tr>\n      <th>FRA022019RX</th>\n      <td>0.002231</td>\n      <td>0.036594</td>\n      <td>0.000714</td>\n      <td>0.000000</td>\n      <td>0.000000</td>\n      <td>0.000000</td>\n      <td>0.000000</td>\n      <td>0.000268</td>\n      <td>0.000000</td>\n      <td>0.000000</td>\n      <td>...</td>\n      <td>0.012674</td>\n      <td>0.0</td>\n      <td>0.043199</td>\n      <td>0.000000</td>\n      <td>0.000000</td>\n      <td>0.000000</td>\n      <td>0.000000</td>\n      <td>0.000000</td>\n      <td>0.002321</td>\n      <td>0</td>\n    </tr>\n    <tr>\n      <th>FRA022020BF</th>\n      <td>0.000000</td>\n      <td>0.002930</td>\n      <td>0.000000</td>\n      <td>0.000000</td>\n      <td>0.000000</td>\n      <td>0.000686</td>\n      <td>0.001267</td>\n      <td>0.002350</td>\n      <td>0.000000</td>\n      <td>0.001452</td>\n      <td>...</td>\n      <td>0.041765</td>\n      <td>0.0</td>\n      <td>0.229890</td>\n      <td>0.000000</td>\n      <td>0.012778</td>\n      <td>0.005597</td>\n      <td>0.000000</td>\n      <td>0.000000</td>\n      <td>0.000000</td>\n      <td>0</td>\n    </tr>\n    <tr>\n      <th>FRA022021MP</th>\n      <td>0.000000</td>\n      <td>0.040271</td>\n      <td>0.000000</td>\n      <td>0.003393</td>\n      <td>0.000000</td>\n      <td>0.000000</td>\n      <td>0.000000</td>\n      <td>0.000000</td>\n      <td>0.001345</td>\n      <td>0.002881</td>\n      <td>...</td>\n      <td>0.000000</td>\n      <td>0.0</td>\n      <td>0.000000</td>\n      <td>0.000000</td>\n      <td>0.000000</td>\n      <td>0.000000</td>\n      <td>0.000000</td>\n      <td>0.000000</td>\n      <td>0.000000</td>\n      <td>1</td>\n    </tr>\n    <tr>\n      <th>FRA022022RH</th>\n      <td>0.000000</td>\n      <td>0.136016</td>\n      <td>0.000000</td>\n      <td>0.001230</td>\n      <td>0.000000</td>\n      <td>0.000000</td>\n      <td>0.000000</td>\n      <td>0.001742</td>\n      <td>0.000000</td>\n      <td>0.002220</td>\n      <td>...</td>\n      <td>0.014893</td>\n      <td>0.0</td>\n      <td>0.006695</td>\n      <td>0.000000</td>\n      <td>0.000000</td>\n      <td>0.000000</td>\n      <td>0.000000</td>\n      <td>0.000000</td>\n      <td>0.000000</td>\n      <td>1</td>\n    </tr>\n    <tr>\n      <th>FRA022023DC</th>\n      <td>0.000000</td>\n      <td>0.055378</td>\n      <td>0.000000</td>\n      <td>0.003289</td>\n      <td>0.000290</td>\n      <td>0.000000</td>\n      <td>0.000000</td>\n      <td>0.002612</td>\n      <td>0.001935</td>\n      <td>0.000339</td>\n      <td>...</td>\n      <td>0.000000</td>\n      <td>0.0</td>\n      <td>0.000000</td>\n      <td>0.000000</td>\n      <td>0.000000</td>\n      <td>0.000000</td>\n      <td>0.000000</td>\n      <td>0.000000</td>\n      <td>0.000000</td>\n      <td>0</td>\n    </tr>\n    <tr>\n      <th>FRA022025BE</th>\n      <td>0.000000</td>\n      <td>0.010986</td>\n      <td>0.000000</td>\n      <td>0.000820</td>\n      <td>0.000000</td>\n      <td>0.000000</td>\n      <td>0.000000</td>\n      <td>0.037802</td>\n      <td>0.000725</td>\n      <td>0.000591</td>\n      <td>...</td>\n      <td>0.009060</td>\n      <td>0.0</td>\n      <td>0.037173</td>\n      <td>0.000820</td>\n      <td>0.000000</td>\n      <td>0.000000</td>\n      <td>0.000000</td>\n      <td>0.001049</td>\n      <td>0.000000</td>\n      <td>0</td>\n    </tr>\n    <tr>\n      <th>FRA022026CN</th>\n      <td>0.000000</td>\n      <td>0.088914</td>\n      <td>0.000000</td>\n      <td>0.000288</td>\n      <td>0.000000</td>\n      <td>0.000164</td>\n      <td>0.000000</td>\n      <td>0.000000</td>\n      <td>0.000000</td>\n      <td>0.003494</td>\n      <td>...</td>\n      <td>0.000000</td>\n      <td>0.0</td>\n      <td>0.032515</td>\n      <td>0.000000</td>\n      <td>0.000000</td>\n      <td>0.000000</td>\n      <td>0.000000</td>\n      <td>0.000000</td>\n      <td>0.000000</td>\n      <td>0</td>\n    </tr>\n    <tr>\n      <th>FRA022027LP</th>\n      <td>0.000000</td>\n      <td>0.000892</td>\n      <td>0.000000</td>\n      <td>0.001758</td>\n      <td>0.000000</td>\n      <td>0.000000</td>\n      <td>0.000000</td>\n      <td>0.000000</td>\n      <td>0.000000</td>\n      <td>0.000000</td>\n      <td>...</td>\n      <td>0.019337</td>\n      <td>0.0</td>\n      <td>0.004815</td>\n      <td>0.000000</td>\n      <td>0.000000</td>\n      <td>0.000000</td>\n      <td>0.000000</td>\n      <td>0.000000</td>\n      <td>0.000000</td>\n      <td>0</td>\n    </tr>\n    <tr>\n      <th>FRA022028BM</th>\n      <td>0.000000</td>\n      <td>0.000000</td>\n      <td>0.000000</td>\n      <td>0.000000</td>\n      <td>0.000000</td>\n      <td>0.000000</td>\n      <td>0.000000</td>\n      <td>0.001789</td>\n      <td>0.000298</td>\n      <td>0.001491</td>\n      <td>...</td>\n      <td>0.011152</td>\n      <td>0.0</td>\n      <td>0.013240</td>\n      <td>0.000000</td>\n      <td>0.000000</td>\n      <td>0.000000</td>\n      <td>0.000000</td>\n      <td>0.000477</td>\n      <td>0.000000</td>\n      <td>1</td>\n    </tr>\n    <tr>\n      <th>FRA074002DB</th>\n      <td>0.000000</td>\n      <td>0.010542</td>\n      <td>0.000122</td>\n      <td>0.000000</td>\n      <td>0.000000</td>\n      <td>0.000000</td>\n      <td>0.000000</td>\n      <td>0.003016</td>\n      <td>0.014381</td>\n      <td>0.000609</td>\n      <td>...</td>\n      <td>0.011517</td>\n      <td>0.0</td>\n      <td>0.000000</td>\n      <td>0.000000</td>\n      <td>0.000000</td>\n      <td>0.000000</td>\n      <td>0.000000</td>\n      <td>0.005637</td>\n      <td>0.000000</td>\n      <td>0</td>\n    </tr>\n    <tr>\n      <th>FRA084001JL</th>\n      <td>0.000000</td>\n      <td>0.000000</td>\n      <td>0.000000</td>\n      <td>0.000000</td>\n      <td>0.000000</td>\n      <td>0.000000</td>\n      <td>0.000000</td>\n      <td>0.000000</td>\n      <td>0.000000</td>\n      <td>0.000000</td>\n      <td>...</td>\n      <td>0.000000</td>\n      <td>0.0</td>\n      <td>0.000000</td>\n      <td>0.000000</td>\n      <td>0.000000</td>\n      <td>0.000000</td>\n      <td>0.000000</td>\n      <td>0.000000</td>\n      <td>0.000000</td>\n      <td>0</td>\n    </tr>\n    <tr>\n      <th>FRA084005RC</th>\n      <td>0.000000</td>\n      <td>0.001077</td>\n      <td>0.000000</td>\n      <td>0.002106</td>\n      <td>0.000000</td>\n      <td>0.000000</td>\n      <td>0.000000</td>\n      <td>0.003089</td>\n      <td>0.000000</td>\n      <td>0.004915</td>\n      <td>...</td>\n      <td>0.016570</td>\n      <td>0.0</td>\n      <td>0.000234</td>\n      <td>0.000000</td>\n      <td>0.000000</td>\n      <td>0.000000</td>\n      <td>0.000000</td>\n      <td>0.000140</td>\n      <td>0.000000</td>\n      <td>0</td>\n    </tr>\n    <tr>\n      <th>FRA094001CA</th>\n      <td>0.000000</td>\n      <td>0.422481</td>\n      <td>0.000000</td>\n      <td>0.000322</td>\n      <td>0.000000</td>\n      <td>0.000000</td>\n      <td>0.000000</td>\n      <td>0.005045</td>\n      <td>0.000000</td>\n      <td>0.000569</td>\n      <td>...</td>\n      <td>0.012143</td>\n      <td>0.0</td>\n      <td>0.001978</td>\n      <td>0.000000</td>\n      <td>0.000000</td>\n      <td>0.000000</td>\n      <td>0.000000</td>\n      <td>0.000000</td>\n      <td>0.000000</td>\n      <td>0</td>\n    </tr>\n    <tr>\n      <th>FRA094002BD</th>\n      <td>0.000000</td>\n      <td>0.029001</td>\n      <td>0.000000</td>\n      <td>0.000000</td>\n      <td>0.000000</td>\n      <td>0.000000</td>\n      <td>0.000000</td>\n      <td>0.041922</td>\n      <td>0.000000</td>\n      <td>0.001579</td>\n      <td>...</td>\n      <td>0.034177</td>\n      <td>0.0</td>\n      <td>0.000114</td>\n      <td>0.000000</td>\n      <td>0.000000</td>\n      <td>0.000000</td>\n      <td>0.000000</td>\n      <td>0.000000</td>\n      <td>0.000000</td>\n      <td>0</td>\n    </tr>\n    <tr>\n      <th>FRA094003DR</th>\n      <td>0.000000</td>\n      <td>0.001290</td>\n      <td>0.000000</td>\n      <td>0.000573</td>\n      <td>0.000108</td>\n      <td>0.000000</td>\n      <td>0.000000</td>\n      <td>0.000000</td>\n      <td>0.000000</td>\n      <td>0.002437</td>\n      <td>...</td>\n      <td>0.000000</td>\n      <td>0.0</td>\n      <td>0.001362</td>\n      <td>0.000000</td>\n      <td>0.000000</td>\n      <td>0.000000</td>\n      <td>0.000000</td>\n      <td>0.000000</td>\n      <td>0.000000</td>\n      <td>0</td>\n    </tr>\n    <tr>\n      <th>FRA094004TD</th>\n      <td>0.000090</td>\n      <td>0.522049</td>\n      <td>0.000000</td>\n      <td>0.000988</td>\n      <td>0.000000</td>\n      <td>0.000000</td>\n      <td>0.000000</td>\n      <td>0.076879</td>\n      <td>0.004311</td>\n      <td>0.001377</td>\n      <td>...</td>\n      <td>0.005987</td>\n      <td>0.0</td>\n      <td>0.000000</td>\n      <td>0.000000</td>\n      <td>0.000000</td>\n      <td>0.000000</td>\n      <td>0.000000</td>\n      <td>0.000000</td>\n      <td>0.000000</td>\n      <td>1</td>\n    </tr>\n    <tr>\n      <th>FRA106001LH</th>\n      <td>0.000272</td>\n      <td>0.001141</td>\n      <td>0.000000</td>\n      <td>0.006683</td>\n      <td>0.000000</td>\n      <td>0.000679</td>\n      <td>0.000000</td>\n      <td>0.000000</td>\n      <td>0.000000</td>\n      <td>0.000000</td>\n      <td>...</td>\n      <td>0.000000</td>\n      <td>0.0</td>\n      <td>0.372745</td>\n      <td>0.000000</td>\n      <td>0.002228</td>\n      <td>0.008748</td>\n      <td>0.000000</td>\n      <td>0.027005</td>\n      <td>0.000000</td>\n      <td>0</td>\n    </tr>\n    <tr>\n      <th>FRA106003ER</th>\n      <td>0.000000</td>\n      <td>0.086987</td>\n      <td>0.000000</td>\n      <td>0.000679</td>\n      <td>0.000000</td>\n      <td>0.000000</td>\n      <td>0.000146</td>\n      <td>0.000000</td>\n      <td>0.000000</td>\n      <td>0.000388</td>\n      <td>...</td>\n      <td>0.014146</td>\n      <td>0.0</td>\n      <td>0.000655</td>\n      <td>0.000000</td>\n      <td>0.000000</td>\n      <td>0.000000</td>\n      <td>0.004198</td>\n      <td>0.000000</td>\n      <td>0.000000</td>\n      <td>1</td>\n    </tr>\n    <tr>\n      <th>FRA106004CA</th>\n      <td>0.000000</td>\n      <td>0.011556</td>\n      <td>0.000000</td>\n      <td>0.000000</td>\n      <td>0.000000</td>\n      <td>0.000000</td>\n      <td>0.000000</td>\n      <td>0.000000</td>\n      <td>0.018001</td>\n      <td>0.004593</td>\n      <td>...</td>\n      <td>0.005186</td>\n      <td>0.0</td>\n      <td>0.015631</td>\n      <td>0.000000</td>\n      <td>0.000000</td>\n      <td>0.000000</td>\n      <td>0.000000</td>\n      <td>0.000000</td>\n      <td>0.000000</td>\n      <td>0</td>\n    </tr>\n    <tr>\n      <th>FRA123001AI</th>\n      <td>0.000000</td>\n      <td>0.190892</td>\n      <td>0.000000</td>\n      <td>0.000000</td>\n      <td>0.000000</td>\n      <td>0.000000</td>\n      <td>0.045897</td>\n      <td>0.000000</td>\n      <td>0.000635</td>\n      <td>0.000715</td>\n      <td>...</td>\n      <td>0.000000</td>\n      <td>0.0</td>\n      <td>0.010760</td>\n      <td>0.000000</td>\n      <td>0.000000</td>\n      <td>0.000000</td>\n      <td>0.000000</td>\n      <td>0.000318</td>\n      <td>0.000000</td>\n      <td>1</td>\n    </tr>\n    <tr>\n      <th>FRA189001NM</th>\n      <td>0.000000</td>\n      <td>0.007770</td>\n      <td>0.000000</td>\n      <td>0.000000</td>\n      <td>0.000000</td>\n      <td>0.000000</td>\n      <td>0.000234</td>\n      <td>0.000064</td>\n      <td>0.000000</td>\n      <td>0.002555</td>\n      <td>...</td>\n      <td>0.000000</td>\n      <td>0.0</td>\n      <td>0.000064</td>\n      <td>0.000000</td>\n      <td>0.000000</td>\n      <td>0.000000</td>\n      <td>0.000000</td>\n      <td>0.017627</td>\n      <td>0.000000</td>\n      <td>0</td>\n    </tr>\n    <tr>\n      <th>FRA189002AL</th>\n      <td>0.000000</td>\n      <td>0.000000</td>\n      <td>0.000000</td>\n      <td>0.000000</td>\n      <td>0.000000</td>\n      <td>0.000000</td>\n      <td>0.000000</td>\n      <td>0.020052</td>\n      <td>0.002804</td>\n      <td>0.004033</td>\n      <td>...</td>\n      <td>0.000000</td>\n      <td>0.0</td>\n      <td>0.000000</td>\n      <td>0.000000</td>\n      <td>0.000000</td>\n      <td>0.000000</td>\n      <td>0.000000</td>\n      <td>0.000000</td>\n      <td>0.000000</td>\n      <td>0</td>\n    </tr>\n    <tr>\n      <th>FRA189004JL</th>\n      <td>0.000000</td>\n      <td>0.000000</td>\n      <td>0.000000</td>\n      <td>0.000000</td>\n      <td>0.000000</td>\n      <td>0.000000</td>\n      <td>0.000000</td>\n      <td>0.000000</td>\n      <td>0.000000</td>\n      <td>0.000000</td>\n      <td>...</td>\n      <td>0.000000</td>\n      <td>0.0</td>\n      <td>0.000000</td>\n      <td>0.000000</td>\n      <td>0.000000</td>\n      <td>0.000000</td>\n      <td>0.000000</td>\n      <td>0.000000</td>\n      <td>0.000000</td>\n      <td>0</td>\n    </tr>\n    <tr>\n      <th>FRA189005JP</th>\n      <td>0.000247</td>\n      <td>0.002864</td>\n      <td>0.000000</td>\n      <td>0.001975</td>\n      <td>0.000198</td>\n      <td>0.000420</td>\n      <td>0.000000</td>\n      <td>0.005679</td>\n      <td>0.000000</td>\n      <td>0.001284</td>\n      <td>...</td>\n      <td>0.020962</td>\n      <td>0.0</td>\n      <td>0.004395</td>\n      <td>0.000000</td>\n      <td>0.000000</td>\n      <td>0.000000</td>\n      <td>0.000000</td>\n      <td>0.001481</td>\n      <td>0.000000</td>\n      <td>0</td>\n    </tr>\n    <tr>\n      <th>FRA189010CM</th>\n      <td>0.000275</td>\n      <td>0.000446</td>\n      <td>0.000000</td>\n      <td>0.001957</td>\n      <td>0.000000</td>\n      <td>0.000000</td>\n      <td>0.000000</td>\n      <td>0.037192</td>\n      <td>0.000000</td>\n      <td>0.001751</td>\n      <td>...</td>\n      <td>0.039459</td>\n      <td>0.0</td>\n      <td>0.192932</td>\n      <td>0.000000</td>\n      <td>0.000000</td>\n      <td>0.000000</td>\n      <td>0.011092</td>\n      <td>0.001339</td>\n      <td>0.000000</td>\n      <td>0</td>\n    </tr>\n    <tr>\n      <th>FRA256001DJ</th>\n      <td>0.000000</td>\n      <td>0.043452</td>\n      <td>0.000175</td>\n      <td>0.002480</td>\n      <td>0.000000</td>\n      <td>0.000000</td>\n      <td>0.000000</td>\n      <td>0.018764</td>\n      <td>0.001838</td>\n      <td>0.001109</td>\n      <td>...</td>\n      <td>0.023666</td>\n      <td>0.0</td>\n      <td>0.001051</td>\n      <td>0.000000</td>\n      <td>0.000000</td>\n      <td>0.000000</td>\n      <td>0.000000</td>\n      <td>0.000000</td>\n      <td>0.000000</td>\n      <td>1</td>\n    </tr>\n  </tbody>\n</table>\n<p>42 rows × 115 columns</p>\n</div>"
     },
     "execution_count": 29,
     "metadata": {},
     "output_type": "execute_result"
    }
   ],
   "source": [
    "dataset = X.copy()\n",
    "dataset['label'] = y\n",
    "dataset"
   ]
  },
  {
   "cell_type": "markdown",
   "metadata": {
    "pycharm": {
     "name": "#%% md\n"
    }
   },
   "source": [
    "## Statistical analysis"
   ]
  },
  {
   "cell_type": "markdown",
   "metadata": {
    "pycharm": {
     "name": "#%% md\n"
    }
   },
   "source": [
    "In this section, we highlight some simple statistics on the NIPICOL dataset to get a better hang of the dynamic of our problem."
   ]
  },
  {
   "cell_type": "code",
   "execution_count": 30,
   "metadata": {
    "collapsed": false,
    "jupyter": {
     "outputs_hidden": false
    },
    "pycharm": {
     "name": "#%%\n"
    }
   },
   "outputs": [
    {
     "name": "stdout",
     "output_type": "stream",
     "text": [
      "Proportion of label 1 individuals: 0.21428571428571427\n"
     ]
    }
   ],
   "source": [
    "proportion_label_1 = y.sum() / len(y)\n",
    "print(f\"Proportion of label 1 individuals: {proportion_label_1}\")"
   ]
  },
  {
   "cell_type": "markdown",
   "metadata": {
    "pycharm": {
     "name": "#%% md\n"
    }
   },
   "source": [
    "Hence we will be working on an imbalanced dataset.\n",
    "\n",
    "Now we conduct an analysis on the bacteria and their possible link with the labels."
   ]
  },
  {
   "cell_type": "code",
   "execution_count": 31,
   "metadata": {
    "collapsed": false,
    "jupyter": {
     "outputs_hidden": false
    },
    "pycharm": {
     "name": "#%%\n"
    }
   },
   "outputs": [
    {
     "data": {
      "text/plain": "<AxesSubplot: >"
     },
     "execution_count": 31,
     "metadata": {},
     "output_type": "execute_result"
    }
   ],
   "source": [
    "dataset.groupby('label').mean().transpose().boxplot()"
   ]
  },
  {
   "cell_type": "markdown",
   "metadata": {
    "pycharm": {
     "name": "#%% md\n"
    }
   },
   "source": [
    "As it seems, the distribution of the bacteria whether someone has label 1 or 0 isn't the same on an average basis. Now let's highlight the bacteria for which the distinction is significant between the 2 classes."
   ]
  },
  {
   "cell_type": "code",
   "execution_count": 32,
   "metadata": {
    "collapsed": false,
    "jupyter": {
     "outputs_hidden": false
    },
    "pycharm": {
     "name": "#%%\n"
    }
   },
   "outputs": [
    {
     "data": {
      "text/plain": "<Figure size 1500x500 with 3 Axes>",
      "image/png": "[encoded data removed]"
     },
     "metadata": {},
     "output_type": "display_data"
    }
   ],
   "source": [
    "mean_values = dataset.groupby('label').mean()\n",
    "diff_mean_proportion = (mean_values.iloc[0] - mean_values.iloc[1]).abs()\n",
    "diff_mean_proportion = diff_mean_proportion.sort_values(ascending=False)\n",
    "\n",
    "diff_mean_proportion.plot(rot=90, marker='.', linestyle='')\n",
    "plt.show()"
   ]
  },
  {
   "cell_type": "code",
   "execution_count": 33,
   "metadata": {
    "collapsed": false,
    "jupyter": {
     "outputs_hidden": false
    },
    "pycharm": {
     "name": "#%%\n"
    }
   },
   "outputs": [
    {
     "data": {
      "text/plain": "d__Bacteria| p__Bacteroidota| c__Bacteroidia| o__Bacteroidales| f__Prevotellaceae|                      0.138938\nd__Bacteria| p__Actinobacteriota| c__Actinobacteria| o__Bifidobacteriales| f__Bifidobacteriaceae|       0.125401\nd__Bacteria| p__Bacteroidota| c__Bacteroidia| o__Bacteroidales| f__Bacteroidaceae|                      0.116197\nd__Bacteria| p__Proteobacteria| c__Gammaproteobacteria| o__Enterobacterales| f__Enterobacteriaceae|     0.063945\nd__Bacteria| p__Firmicutes| c__Clostridia| o__Oscillospirales| f__Ruminococcaceae|                      0.045886\ndtype: float64"
     },
     "execution_count": 33,
     "metadata": {},
     "output_type": "execute_result"
    }
   ],
   "source": [
    "# Print de n most varying on average between label 1 and 0 individuals\n",
    "diff_mean_proportion.head(5)"
   ]
  },
  {
   "cell_type": "code",
   "execution_count": 34,
   "metadata": {
    "collapsed": false,
    "jupyter": {
     "outputs_hidden": false
    },
    "pycharm": {
     "name": "#%%\n"
    }
   },
   "outputs": [
    {
     "data": {
      "text/plain": "0.6842105263157895"
     },
     "execution_count": 34,
     "metadata": {},
     "output_type": "execute_result"
    }
   ],
   "source": [
    "# What proportion of bacteria are not changing much on average at threshold 0.001% ?\n",
    "diff_mean_proportion[diff_mean_proportion < 0.001].count() / diff_mean_proportion.count()"
   ]
  },
  {
   "cell_type": "markdown",
   "metadata": {
    "pycharm": {
     "name": "#%% md\n"
    }
   },
   "source": [
    "As we look into the variation in composition of the microbiota of label 1 and 0 individuals, it seems that some bacteria can vary by a significant amount. Note though that most of the composition is left almost unchanged.\n",
    "\n",
    "Now, we look into a possible correlation between the microbiota composition and the associated label of the individual."
   ]
  },
  {
   "cell_type": "code",
   "execution_count": 35,
   "metadata": {
    "collapsed": false,
    "jupyter": {
     "outputs_hidden": false
    },
    "pycharm": {
     "name": "#%%\n"
    }
   },
   "outputs": [
    {
     "data": {
      "text/plain": "<Figure size 640x480 with 1 Axes>",
      "image/png": "[encoded data removed]"
     },
     "metadata": {},
     "output_type": "display_data"
    }
   ],
   "source": [
    "correlation_with_label = dataset.corr()['label'].abs().sort_values(ascending=False)\n",
    "correlation_with_label = correlation_with_label.drop(correlation_with_label.index[0])\n",
    "correlation_with_label.plot(rot=90, marker='.', linestyle='')\n",
    "plt.show()"
   ]
  },
  {
   "cell_type": "markdown",
   "metadata": {
    "pycharm": {
     "name": "#%% md\n"
    }
   },
   "source": [
    "As it seems, there exists a direct absolute correlation between some bacteria and the associated label. Some seem to be way less impacting than others in the result, but most of them seems to play an informative role.\n",
    "\n",
    "Looking at the correlation between the different features, we can obtain the following correlation matrix."
   ]
  },
  {
   "cell_type": "code",
   "execution_count": 36,
   "metadata": {
    "collapsed": false,
    "jupyter": {
     "outputs_hidden": false
    },
    "pycharm": {
     "name": "#%%\n"
    }
   },
   "outputs": [
    {
     "data": {
      "text/plain": "                                                    d__Bacteria| p__Actinobacteriota| c__Actinobacteria| o__Actinomycetales| f__Actinomycetaceae|   \\\nd__Bacteria| p__Actinobacteriota| c__Actinobact...                                           1.000000                                                \nd__Bacteria| p__Actinobacteriota| c__Actinobact...                                          -0.052262                                                \nd__Bacteria| p__Actinobacteriota| c__Actinobact...                                           0.722172                                                \nd__Bacteria| p__Actinobacteriota| c__Actinobact...                                          -0.000525                                                \nd__Bacteria| p__Actinobacteriota| c__Actinobact...                                          -0.008397                                                \n...                                                                                               ...                                                \nd__Bacteria| p__Proteobacteria| c__Gammaproteob...                                          -0.027315                                                \nd__Bacteria| p__Proteobacteria| c__Gammaproteob...                                           0.044762                                                \nd__Bacteria| p__Proteobacteria| c__Gammaproteob...                                          -0.010026                                                \nd__Bacteria| p__Proteobacteria| c__Gammaproteob...                                           0.032110                                                \nd__Bacteria| p__Spirochaetota| c__Spirochaetia|...                                           0.947633                                                \n\n                                                    d__Bacteria| p__Actinobacteriota| c__Actinobacteria| o__Bifidobacteriales| f__Bifidobacteriaceae|   \\\nd__Bacteria| p__Actinobacteriota| c__Actinobact...                                          -0.052262                                                    \nd__Bacteria| p__Actinobacteriota| c__Actinobact...                                           1.000000                                                    \nd__Bacteria| p__Actinobacteriota| c__Actinobact...                                          -0.077034                                                    \nd__Bacteria| p__Actinobacteriota| c__Actinobact...                                          -0.094645                                                    \nd__Bacteria| p__Actinobacteriota| c__Actinobact...                                          -0.063129                                                    \n...                                                                                               ...                                                    \nd__Bacteria| p__Proteobacteria| c__Gammaproteob...                                          -0.085185                                                    \nd__Bacteria| p__Proteobacteria| c__Gammaproteob...                                          -0.104015                                                    \nd__Bacteria| p__Proteobacteria| c__Gammaproteob...                                          -0.098381                                                    \nd__Bacteria| p__Proteobacteria| c__Gammaproteob...                                          -0.124039                                                    \nd__Bacteria| p__Spirochaetota| c__Spirochaetia|...                                          -0.026560                                                    \n\n                                                    d__Bacteria| p__Actinobacteriota| c__Actinobacteria| o__Corynebacteriales| f__Corynebacteriaceae|   \\\nd__Bacteria| p__Actinobacteriota| c__Actinobact...                                           0.722172                                                    \nd__Bacteria| p__Actinobacteriota| c__Actinobact...                                          -0.077034                                                    \nd__Bacteria| p__Actinobacteriota| c__Actinobact...                                           1.000000                                                    \nd__Bacteria| p__Actinobacteriota| c__Actinobact...                                          -0.105767                                                    \nd__Bacteria| p__Actinobacteriota| c__Actinobact...                                          -0.069572                                                    \n...                                                                                               ...                                                    \nd__Bacteria| p__Proteobacteria| c__Gammaproteob...                                          -0.048849                                                    \nd__Bacteria| p__Proteobacteria| c__Gammaproteob...                                          -0.058736                                                    \nd__Bacteria| p__Proteobacteria| c__Gammaproteob...                                           0.467915                                                    \nd__Bacteria| p__Proteobacteria| c__Gammaproteob...                                          -0.046785                                                    \nd__Bacteria| p__Spirochaetota| c__Spirochaetia|...                                           0.779858                                                    \n\n                                                    d__Bacteria| p__Actinobacteriota| c__Actinobacteria| o__Corynebacteriales| f__Dietziaceae|   \\\nd__Bacteria| p__Actinobacteriota| c__Actinobact...                                          -0.000525                                             \nd__Bacteria| p__Actinobacteriota| c__Actinobact...                                          -0.094645                                             \nd__Bacteria| p__Actinobacteriota| c__Actinobact...                                          -0.105767                                             \nd__Bacteria| p__Actinobacteriota| c__Actinobact...                                           1.000000                                             \nd__Bacteria| p__Actinobacteriota| c__Actinobact...                                           0.283547                                             \n...                                                                                               ...                                             \nd__Bacteria| p__Proteobacteria| c__Gammaproteob...                                           0.011624                                             \nd__Bacteria| p__Proteobacteria| c__Gammaproteob...                                           0.521251                                             \nd__Bacteria| p__Proteobacteria| c__Gammaproteob...                                          -0.018844                                             \nd__Bacteria| p__Proteobacteria| c__Gammaproteob...                                           0.483556                                             \nd__Bacteria| p__Spirochaetota| c__Spirochaetia|...                                          -0.106856                                             \n\n                                                    d__Bacteria| p__Actinobacteriota| c__Actinobacteria| o__Micrococcales| f__Microbacteriaceae|   \\\nd__Bacteria| p__Actinobacteriota| c__Actinobact...                                          -0.008397                                               \nd__Bacteria| p__Actinobacteriota| c__Actinobact...                                          -0.063129                                               \nd__Bacteria| p__Actinobacteriota| c__Actinobact...                                          -0.069572                                               \nd__Bacteria| p__Actinobacteriota| c__Actinobact...                                           0.283547                                               \nd__Bacteria| p__Actinobacteriota| c__Actinobact...                                           1.000000                                               \n...                                                                                               ...                                               \nd__Bacteria| p__Proteobacteria| c__Gammaproteob...                                          -0.046879                                               \nd__Bacteria| p__Proteobacteria| c__Gammaproteob...                                          -0.056367                                               \nd__Bacteria| p__Proteobacteria| c__Gammaproteob...                                          -0.064439                                               \nd__Bacteria| p__Proteobacteria| c__Gammaproteob...                                          -0.050986                                               \nd__Bacteria| p__Spirochaetota| c__Spirochaetia|...                                          -0.040354                                               \n\n                                                    d__Bacteria| p__Actinobacteriota| c__Actinobacteria| o__Micrococcales| f__Micrococcaceae|   \\\nd__Bacteria| p__Actinobacteriota| c__Actinobact...                                           0.023300                                            \nd__Bacteria| p__Actinobacteriota| c__Actinobact...                                          -0.141762                                            \nd__Bacteria| p__Actinobacteriota| c__Actinobact...                                          -0.091301                                            \nd__Bacteria| p__Actinobacteriota| c__Actinobact...                                           0.333144                                            \nd__Bacteria| p__Actinobacteriota| c__Actinobact...                                           0.121554                                            \n...                                                                                               ...                                            \nd__Bacteria| p__Proteobacteria| c__Gammaproteob...                                           0.661112                                            \nd__Bacteria| p__Proteobacteria| c__Gammaproteob...                                           0.790709                                            \nd__Bacteria| p__Proteobacteria| c__Gammaproteob...                                          -0.084566                                            \nd__Bacteria| p__Proteobacteria| c__Gammaproteob...                                           0.432833                                            \nd__Bacteria| p__Spirochaetota| c__Spirochaetia|...                                          -0.052957                                            \n\n                                                    d__Bacteria| p__Actinobacteriota| c__Coriobacteriia| o__Coriobacteriales| f__Atopobiaceae|   \\\nd__Bacteria| p__Actinobacteriota| c__Actinobact...                                          -0.043249                                             \nd__Bacteria| p__Actinobacteriota| c__Actinobact...                                           0.183449                                             \nd__Bacteria| p__Actinobacteriota| c__Actinobact...                                          -0.043937                                             \nd__Bacteria| p__Actinobacteriota| c__Actinobact...                                          -0.111233                                             \nd__Bacteria| p__Actinobacteriota| c__Actinobact...                                          -0.042165                                             \n...                                                                                               ...                                             \nd__Bacteria| p__Proteobacteria| c__Gammaproteob...                                          -0.001609                                             \nd__Bacteria| p__Proteobacteria| c__Gammaproteob...                                          -0.020174                                             \nd__Bacteria| p__Proteobacteria| c__Gammaproteob...                                          -0.039939                                             \nd__Bacteria| p__Proteobacteria| c__Gammaproteob...                                          -0.035560                                             \nd__Bacteria| p__Spirochaetota| c__Spirochaetia|...                                          -0.025485                                             \n\n                                                    d__Bacteria| p__Actinobacteriota| c__Coriobacteriia| o__Coriobacteriales| f__Coriobacteriaceae|   \\\nd__Bacteria| p__Actinobacteriota| c__Actinobact...                                          -0.024554                                                  \nd__Bacteria| p__Actinobacteriota| c__Actinobact...                                           0.390694                                                  \nd__Bacteria| p__Actinobacteriota| c__Actinobact...                                          -0.065402                                                  \nd__Bacteria| p__Actinobacteriota| c__Actinobact...                                          -0.089399                                                  \nd__Bacteria| p__Actinobacteriota| c__Actinobact...                                          -0.105500                                                  \n...                                                                                               ...                                                  \nd__Bacteria| p__Proteobacteria| c__Gammaproteob...                                          -0.085901                                                  \nd__Bacteria| p__Proteobacteria| c__Gammaproteob...                                          -0.116608                                                  \nd__Bacteria| p__Proteobacteria| c__Gammaproteob...                                           0.095085                                                  \nd__Bacteria| p__Proteobacteria| c__Gammaproteob...                                          -0.121071                                                  \nd__Bacteria| p__Spirochaetota| c__Spirochaetia|...                                          -0.089190                                                  \n\n                                                    d__Bacteria| p__Actinobacteriota| c__Coriobacteriia| o__Coriobacteriales| f__Coriobacteriales_Incertae_Sedis|   \\\nd__Bacteria| p__Actinobacteriota| c__Actinobact...                                          -0.079711                                                                \nd__Bacteria| p__Actinobacteriota| c__Actinobact...                                           0.015444                                                                \nd__Bacteria| p__Actinobacteriota| c__Actinobact...                                           0.011877                                                                \nd__Bacteria| p__Actinobacteriota| c__Actinobact...                                          -0.116980                                                                \nd__Bacteria| p__Actinobacteriota| c__Actinobact...                                          -0.018927                                                                \n...                                                                                               ...                                                                \nd__Bacteria| p__Proteobacteria| c__Gammaproteob...                                          -0.062383                                                                \nd__Bacteria| p__Proteobacteria| c__Gammaproteob...                                          -0.075009                                                                \nd__Bacteria| p__Proteobacteria| c__Gammaproteob...                                          -0.084833                                                                \nd__Bacteria| p__Proteobacteria| c__Gammaproteob...                                           0.020147                                                                \nd__Bacteria| p__Spirochaetota| c__Spirochaetia|...                                          -0.053700                                                                \n\n                                                    d__Bacteria| p__Actinobacteriota| c__Coriobacteriia| o__Coriobacteriales| f__Eggerthellaceae|   \\\nd__Bacteria| p__Actinobacteriota| c__Actinobact...                                          -0.215513                                                \nd__Bacteria| p__Actinobacteriota| c__Actinobact...                                          -0.171119                                                \nd__Bacteria| p__Actinobacteriota| c__Actinobact...                                           0.056542                                                \nd__Bacteria| p__Actinobacteriota| c__Actinobact...                                          -0.161221                                                \nd__Bacteria| p__Actinobacteriota| c__Actinobact...                                          -0.092522                                                \n...                                                                                               ...                                                \nd__Bacteria| p__Proteobacteria| c__Gammaproteob...                                          -0.043705                                                \nd__Bacteria| p__Proteobacteria| c__Gammaproteob...                                          -0.136066                                                \nd__Bacteria| p__Proteobacteria| c__Gammaproteob...                                           0.287405                                                \nd__Bacteria| p__Proteobacteria| c__Gammaproteob...                                          -0.109592                                                \nd__Bacteria| p__Spirochaetota| c__Spirochaetia|...                                          -0.147970                                                \n\n                                                    ...  \\\nd__Bacteria| p__Actinobacteriota| c__Actinobact...  ...   \nd__Bacteria| p__Actinobacteriota| c__Actinobact...  ...   \nd__Bacteria| p__Actinobacteriota| c__Actinobact...  ...   \nd__Bacteria| p__Actinobacteriota| c__Actinobact...  ...   \nd__Bacteria| p__Actinobacteriota| c__Actinobact...  ...   \n...                                                 ...   \nd__Bacteria| p__Proteobacteria| c__Gammaproteob...  ...   \nd__Bacteria| p__Proteobacteria| c__Gammaproteob...  ...   \nd__Bacteria| p__Proteobacteria| c__Gammaproteob...  ...   \nd__Bacteria| p__Proteobacteria| c__Gammaproteob...  ...   \nd__Bacteria| p__Spirochaetota| c__Spirochaetia|...  ...   \n\n                                                    d__Bacteria| p__Proteobacteria| c__Gammaproteobacteria| o__Burkholderiales| f__Oxalobacteraceae|   \\\nd__Bacteria| p__Actinobacteriota| c__Actinobact...                                          -0.010366                                                   \nd__Bacteria| p__Actinobacteriota| c__Actinobact...                                           0.123569                                                   \nd__Bacteria| p__Actinobacteriota| c__Actinobact...                                          -0.059826                                                   \nd__Bacteria| p__Actinobacteriota| c__Actinobact...                                           0.232866                                                   \nd__Bacteria| p__Actinobacteriota| c__Actinobact...                                           0.023722                                                   \n...                                                                                               ...                                                   \nd__Bacteria| p__Proteobacteria| c__Gammaproteob...                                           0.030071                                                   \nd__Bacteria| p__Proteobacteria| c__Gammaproteob...                                          -0.090667                                                   \nd__Bacteria| p__Proteobacteria| c__Gammaproteob...                                          -0.126837                                                   \nd__Bacteria| p__Proteobacteria| c__Gammaproteob...                                          -0.157632                                                   \nd__Bacteria| p__Spirochaetota| c__Spirochaetia|...                                          -0.094816                                                   \n\n                                                    d__Bacteria| p__Proteobacteria| c__Gammaproteobacteria| o__Burkholderiales| f__Sutterellaceae|   \\\nd__Bacteria| p__Actinobacteriota| c__Actinobact...                                           0.154117                                                 \nd__Bacteria| p__Actinobacteriota| c__Actinobact...                                          -0.061009                                                 \nd__Bacteria| p__Actinobacteriota| c__Actinobact...                                          -0.038172                                                 \nd__Bacteria| p__Actinobacteriota| c__Actinobact...                                           0.012390                                                 \nd__Bacteria| p__Actinobacteriota| c__Actinobact...                                          -0.088251                                                 \n...                                                                                               ...                                                 \nd__Bacteria| p__Proteobacteria| c__Gammaproteob...                                           0.343407                                                 \nd__Bacteria| p__Proteobacteria| c__Gammaproteob...                                           0.084604                                                 \nd__Bacteria| p__Proteobacteria| c__Gammaproteob...                                           0.038154                                                 \nd__Bacteria| p__Proteobacteria| c__Gammaproteob...                                          -0.192520                                                 \nd__Bacteria| p__Spirochaetota| c__Spirochaetia|...                                           0.016404                                                 \n\n                                                    d__Bacteria| p__Proteobacteria| c__Gammaproteobacteria| o__Cardiobacteriales| f__Cardiobacteriaceae|   \\\nd__Bacteria| p__Actinobacteriota| c__Actinobact...                                                NaN                                                       \nd__Bacteria| p__Actinobacteriota| c__Actinobact...                                                NaN                                                       \nd__Bacteria| p__Actinobacteriota| c__Actinobact...                                                NaN                                                       \nd__Bacteria| p__Actinobacteriota| c__Actinobact...                                                NaN                                                       \nd__Bacteria| p__Actinobacteriota| c__Actinobact...                                                NaN                                                       \n...                                                                                               ...                                                       \nd__Bacteria| p__Proteobacteria| c__Gammaproteob...                                                NaN                                                       \nd__Bacteria| p__Proteobacteria| c__Gammaproteob...                                                NaN                                                       \nd__Bacteria| p__Proteobacteria| c__Gammaproteob...                                                NaN                                                       \nd__Bacteria| p__Proteobacteria| c__Gammaproteob...                                                NaN                                                       \nd__Bacteria| p__Spirochaetota| c__Spirochaetia|...                                                NaN                                                       \n\n                                                    d__Bacteria| p__Proteobacteria| c__Gammaproteobacteria| o__Enterobacterales| f__Enterobacteriaceae|   \\\nd__Bacteria| p__Actinobacteriota| c__Actinobact...                                           0.065854                                                      \nd__Bacteria| p__Actinobacteriota| c__Actinobact...                                          -0.090034                                                      \nd__Bacteria| p__Actinobacteriota| c__Actinobact...                                          -0.069943                                                      \nd__Bacteria| p__Actinobacteriota| c__Actinobact...                                           0.284387                                                      \nd__Bacteria| p__Actinobacteriota| c__Actinobact...                                          -0.104229                                                      \n...                                                                                               ...                                                      \nd__Bacteria| p__Proteobacteria| c__Gammaproteob...                                           0.271563                                                      \nd__Bacteria| p__Proteobacteria| c__Gammaproteob...                                           0.436076                                                      \nd__Bacteria| p__Proteobacteria| c__Gammaproteob...                                           0.003043                                                      \nd__Bacteria| p__Proteobacteria| c__Gammaproteob...                                           0.260668                                                      \nd__Bacteria| p__Spirochaetota| c__Spirochaetia|...                                          -0.013622                                                      \n\n                                                    d__Bacteria| p__Proteobacteria| c__Gammaproteobacteria| o__Enterobacterales| f__Enterobacteriaceae|4404333586add1e05fe280c5eaa5bdd2  \\\nd__Bacteria| p__Actinobacteriota| c__Actinobact...                                          -0.043086                                                                                     \nd__Bacteria| p__Actinobacteriota| c__Actinobact...                                          -0.076256                                                                                     \nd__Bacteria| p__Actinobacteriota| c__Actinobact...                                          -0.043771                                                                                     \nd__Bacteria| p__Actinobacteriota| c__Actinobact...                                          -0.077240                                                                                     \nd__Bacteria| p__Actinobacteriota| c__Actinobact...                                          -0.042006                                                                                     \n...                                                                                               ...                                                                                     \nd__Bacteria| p__Proteobacteria| c__Gammaproteob...                                          -0.029494                                                                                     \nd__Bacteria| p__Proteobacteria| c__Gammaproteob...                                          -0.035464                                                                                     \nd__Bacteria| p__Proteobacteria| c__Gammaproteob...                                          -0.040542                                                                                     \nd__Bacteria| p__Proteobacteria| c__Gammaproteob...                                          -0.047570                                                                                     \nd__Bacteria| p__Spirochaetota| c__Spirochaetia|...                                          -0.025389                                                                                     \n\n                                                    d__Bacteria| p__Proteobacteria| c__Gammaproteobacteria| o__Enterobacterales| f__Enterobacteriaceae|a0e658b68b3dda271e8617f5403542d3  \\\nd__Bacteria| p__Actinobacteriota| c__Actinobact...                                          -0.027315                                                                                     \nd__Bacteria| p__Actinobacteriota| c__Actinobact...                                          -0.085185                                                                                     \nd__Bacteria| p__Actinobacteriota| c__Actinobact...                                          -0.048849                                                                                     \nd__Bacteria| p__Actinobacteriota| c__Actinobact...                                           0.011624                                                                                     \nd__Bacteria| p__Actinobacteriota| c__Actinobact...                                          -0.046879                                                                                     \n...                                                                                               ...                                                                                     \nd__Bacteria| p__Proteobacteria| c__Gammaproteob...                                           1.000000                                                                                     \nd__Bacteria| p__Proteobacteria| c__Gammaproteob...                                           0.663189                                                                                     \nd__Bacteria| p__Proteobacteria| c__Gammaproteob...                                          -0.045246                                                                                     \nd__Bacteria| p__Proteobacteria| c__Gammaproteob...                                           0.093986                                                                                     \nd__Bacteria| p__Spirochaetota| c__Spirochaetia|...                                          -0.028334                                                                                     \n\n                                                    d__Bacteria| p__Proteobacteria| c__Gammaproteobacteria| o__Enterobacterales| f__Enterobacteriaceae|b54e85eefc32197ad3ce0852b2967396  \\\nd__Bacteria| p__Actinobacteriota| c__Actinobact...                                           0.044762                                                                                     \nd__Bacteria| p__Actinobacteriota| c__Actinobact...                                          -0.104015                                                                                     \nd__Bacteria| p__Actinobacteriota| c__Actinobact...                                          -0.058736                                                                                     \nd__Bacteria| p__Actinobacteriota| c__Actinobact...                                           0.521251                                                                                     \nd__Bacteria| p__Actinobacteriota| c__Actinobact...                                          -0.056367                                                                                     \n...                                                                                               ...                                                                                     \nd__Bacteria| p__Proteobacteria| c__Gammaproteob...                                           0.663189                                                                                     \nd__Bacteria| p__Proteobacteria| c__Gammaproteob...                                           1.000000                                                                                     \nd__Bacteria| p__Proteobacteria| c__Gammaproteob...                                          -0.054403                                                                                     \nd__Bacteria| p__Proteobacteria| c__Gammaproteob...                                           0.665738                                                                                     \nd__Bacteria| p__Spirochaetota| c__Spirochaetia|...                                          -0.034069                                                                                     \n\n                                                    d__Bacteria| p__Proteobacteria| c__Gammaproteobacteria| o__Enterobacterales| f__Hafniaceae|   \\\nd__Bacteria| p__Actinobacteriota| c__Actinobact...                                          -0.010026                                              \nd__Bacteria| p__Actinobacteriota| c__Actinobact...                                          -0.098381                                              \nd__Bacteria| p__Actinobacteriota| c__Actinobact...                                           0.467915                                              \nd__Bacteria| p__Actinobacteriota| c__Actinobact...                                          -0.018844                                              \nd__Bacteria| p__Actinobacteriota| c__Actinobact...                                          -0.064439                                              \n...                                                                                               ...                                              \nd__Bacteria| p__Proteobacteria| c__Gammaproteob...                                          -0.045246                                              \nd__Bacteria| p__Proteobacteria| c__Gammaproteob...                                          -0.054403                                              \nd__Bacteria| p__Proteobacteria| c__Gammaproteob...                                           1.000000                                              \nd__Bacteria| p__Proteobacteria| c__Gammaproteob...                                          -0.041347                                              \nd__Bacteria| p__Spirochaetota| c__Spirochaetia|...                                          -0.038948                                              \n\n                                                    d__Bacteria| p__Proteobacteria| c__Gammaproteobacteria| o__Pasteurellales| f__Pasteurellaceae|   \\\nd__Bacteria| p__Actinobacteriota| c__Actinobact...                                           0.032110                                                 \nd__Bacteria| p__Actinobacteriota| c__Actinobact...                                          -0.124039                                                 \nd__Bacteria| p__Actinobacteriota| c__Actinobact...                                          -0.046785                                                 \nd__Bacteria| p__Actinobacteriota| c__Actinobact...                                           0.483556                                                 \nd__Bacteria| p__Actinobacteriota| c__Actinobact...                                          -0.050986                                                 \n...                                                                                               ...                                                 \nd__Bacteria| p__Proteobacteria| c__Gammaproteob...                                           0.093986                                                 \nd__Bacteria| p__Proteobacteria| c__Gammaproteob...                                           0.665738                                                 \nd__Bacteria| p__Proteobacteria| c__Gammaproteob...                                          -0.041347                                                 \nd__Bacteria| p__Proteobacteria| c__Gammaproteob...                                           1.000000                                                 \nd__Bacteria| p__Spirochaetota| c__Spirochaetia|...                                          -0.046429                                                 \n\n                                                    d__Bacteria| p__Spirochaetota| c__Spirochaetia| o__Spirochaetales| f__Spirochaetaceae|   \nd__Bacteria| p__Actinobacteriota| c__Actinobact...                                           0.947633                                        \nd__Bacteria| p__Actinobacteriota| c__Actinobact...                                          -0.026560                                        \nd__Bacteria| p__Actinobacteriota| c__Actinobact...                                           0.779858                                        \nd__Bacteria| p__Actinobacteriota| c__Actinobact...                                          -0.106856                                        \nd__Bacteria| p__Actinobacteriota| c__Actinobact...                                          -0.040354                                        \n...                                                                                               ...                                        \nd__Bacteria| p__Proteobacteria| c__Gammaproteob...                                          -0.028334                                        \nd__Bacteria| p__Proteobacteria| c__Gammaproteob...                                          -0.034069                                        \nd__Bacteria| p__Proteobacteria| c__Gammaproteob...                                          -0.038948                                        \nd__Bacteria| p__Proteobacteria| c__Gammaproteob...                                          -0.046429                                        \nd__Bacteria| p__Spirochaetota| c__Spirochaetia|...                                           1.000000                                        \n\n[114 rows x 114 columns]",
      "text/html": "<div>\n<style scoped>\n    .dataframe tbody tr th:only-of-type {\n        vertical-align: middle;\n    }\n\n    .dataframe tbody tr th {\n        vertical-align: top;\n    }\n\n    .dataframe thead th {\n        text-align: right;\n    }\n</style>\n<table border=\"1\" class=\"dataframe\">\n  <thead>\n    <tr style=\"text-align: right;\">\n      <th></th>\n      <th>d__Bacteria| p__Actinobacteriota| c__Actinobacteria| o__Actinomycetales| f__Actinomycetaceae|</th>\n      <th>d__Bacteria| p__Actinobacteriota| c__Actinobacteria| o__Bifidobacteriales| f__Bifidobacteriaceae|</th>\n      <th>d__Bacteria| p__Actinobacteriota| c__Actinobacteria| o__Corynebacteriales| f__Corynebacteriaceae|</th>\n      <th>d__Bacteria| p__Actinobacteriota| c__Actinobacteria| o__Corynebacteriales| f__Dietziaceae|</th>\n      <th>d__Bacteria| p__Actinobacteriota| c__Actinobacteria| o__Micrococcales| f__Microbacteriaceae|</th>\n      <th>d__Bacteria| p__Actinobacteriota| c__Actinobacteria| o__Micrococcales| f__Micrococcaceae|</th>\n      <th>d__Bacteria| p__Actinobacteriota| c__Coriobacteriia| o__Coriobacteriales| f__Atopobiaceae|</th>\n      <th>d__Bacteria| p__Actinobacteriota| c__Coriobacteriia| o__Coriobacteriales| f__Coriobacteriaceae|</th>\n      <th>d__Bacteria| p__Actinobacteriota| c__Coriobacteriia| o__Coriobacteriales| f__Coriobacteriales_Incertae_Sedis|</th>\n      <th>d__Bacteria| p__Actinobacteriota| c__Coriobacteriia| o__Coriobacteriales| f__Eggerthellaceae|</th>\n      <th>...</th>\n      <th>d__Bacteria| p__Proteobacteria| c__Gammaproteobacteria| o__Burkholderiales| f__Oxalobacteraceae|</th>\n      <th>d__Bacteria| p__Proteobacteria| c__Gammaproteobacteria| o__Burkholderiales| f__Sutterellaceae|</th>\n      <th>d__Bacteria| p__Proteobacteria| c__Gammaproteobacteria| o__Cardiobacteriales| f__Cardiobacteriaceae|</th>\n      <th>d__Bacteria| p__Proteobacteria| c__Gammaproteobacteria| o__Enterobacterales| f__Enterobacteriaceae|</th>\n      <th>d__Bacteria| p__Proteobacteria| c__Gammaproteobacteria| o__Enterobacterales| f__Enterobacteriaceae|4404333586add1e05fe280c5eaa5bdd2</th>\n      <th>d__Bacteria| p__Proteobacteria| c__Gammaproteobacteria| o__Enterobacterales| f__Enterobacteriaceae|a0e658b68b3dda271e8617f5403542d3</th>\n      <th>d__Bacteria| p__Proteobacteria| c__Gammaproteobacteria| o__Enterobacterales| f__Enterobacteriaceae|b54e85eefc32197ad3ce0852b2967396</th>\n      <th>d__Bacteria| p__Proteobacteria| c__Gammaproteobacteria| o__Enterobacterales| f__Hafniaceae|</th>\n      <th>d__Bacteria| p__Proteobacteria| c__Gammaproteobacteria| o__Pasteurellales| f__Pasteurellaceae|</th>\n      <th>d__Bacteria| p__Spirochaetota| c__Spirochaetia| o__Spirochaetales| f__Spirochaetaceae|</th>\n    </tr>\n  </thead>\n  <tbody>\n    <tr>\n      <th>d__Bacteria| p__Actinobacteriota| c__Actinobacteria| o__Actinomycetales| f__Actinomycetaceae|</th>\n      <td>1.000000</td>\n      <td>-0.052262</td>\n      <td>0.722172</td>\n      <td>-0.000525</td>\n      <td>-0.008397</td>\n      <td>0.023300</td>\n      <td>-0.043249</td>\n      <td>-0.024554</td>\n      <td>-0.079711</td>\n      <td>-0.215513</td>\n      <td>...</td>\n      <td>-0.010366</td>\n      <td>0.154117</td>\n      <td>NaN</td>\n      <td>0.065854</td>\n      <td>-0.043086</td>\n      <td>-0.027315</td>\n      <td>0.044762</td>\n      <td>-0.010026</td>\n      <td>0.032110</td>\n      <td>0.947633</td>\n    </tr>\n    <tr>\n      <th>d__Bacteria| p__Actinobacteriota| c__Actinobacteria| o__Bifidobacteriales| f__Bifidobacteriaceae|</th>\n      <td>-0.052262</td>\n      <td>1.000000</td>\n      <td>-0.077034</td>\n      <td>-0.094645</td>\n      <td>-0.063129</td>\n      <td>-0.141762</td>\n      <td>0.183449</td>\n      <td>0.390694</td>\n      <td>0.015444</td>\n      <td>-0.171119</td>\n      <td>...</td>\n      <td>0.123569</td>\n      <td>-0.061009</td>\n      <td>NaN</td>\n      <td>-0.090034</td>\n      <td>-0.076256</td>\n      <td>-0.085185</td>\n      <td>-0.104015</td>\n      <td>-0.098381</td>\n      <td>-0.124039</td>\n      <td>-0.026560</td>\n    </tr>\n    <tr>\n      <th>d__Bacteria| p__Actinobacteriota| c__Actinobacteria| o__Corynebacteriales| f__Corynebacteriaceae|</th>\n      <td>0.722172</td>\n      <td>-0.077034</td>\n      <td>1.000000</td>\n      <td>-0.105767</td>\n      <td>-0.069572</td>\n      <td>-0.091301</td>\n      <td>-0.043937</td>\n      <td>-0.065402</td>\n      <td>0.011877</td>\n      <td>0.056542</td>\n      <td>...</td>\n      <td>-0.059826</td>\n      <td>-0.038172</td>\n      <td>NaN</td>\n      <td>-0.069943</td>\n      <td>-0.043771</td>\n      <td>-0.048849</td>\n      <td>-0.058736</td>\n      <td>0.467915</td>\n      <td>-0.046785</td>\n      <td>0.779858</td>\n    </tr>\n    <tr>\n      <th>d__Bacteria| p__Actinobacteriota| c__Actinobacteria| o__Corynebacteriales| f__Dietziaceae|</th>\n      <td>-0.000525</td>\n      <td>-0.094645</td>\n      <td>-0.105767</td>\n      <td>1.000000</td>\n      <td>0.283547</td>\n      <td>0.333144</td>\n      <td>-0.111233</td>\n      <td>-0.089399</td>\n      <td>-0.116980</td>\n      <td>-0.161221</td>\n      <td>...</td>\n      <td>0.232866</td>\n      <td>0.012390</td>\n      <td>NaN</td>\n      <td>0.284387</td>\n      <td>-0.077240</td>\n      <td>0.011624</td>\n      <td>0.521251</td>\n      <td>-0.018844</td>\n      <td>0.483556</td>\n      <td>-0.106856</td>\n    </tr>\n    <tr>\n      <th>d__Bacteria| p__Actinobacteriota| c__Actinobacteria| o__Micrococcales| f__Microbacteriaceae|</th>\n      <td>-0.008397</td>\n      <td>-0.063129</td>\n      <td>-0.069572</td>\n      <td>0.283547</td>\n      <td>1.000000</td>\n      <td>0.121554</td>\n      <td>-0.042165</td>\n      <td>-0.105500</td>\n      <td>-0.018927</td>\n      <td>-0.092522</td>\n      <td>...</td>\n      <td>0.023722</td>\n      <td>-0.088251</td>\n      <td>NaN</td>\n      <td>-0.104229</td>\n      <td>-0.042006</td>\n      <td>-0.046879</td>\n      <td>-0.056367</td>\n      <td>-0.064439</td>\n      <td>-0.050986</td>\n      <td>-0.040354</td>\n    </tr>\n    <tr>\n      <th>...</th>\n      <td>...</td>\n      <td>...</td>\n      <td>...</td>\n      <td>...</td>\n      <td>...</td>\n      <td>...</td>\n      <td>...</td>\n      <td>...</td>\n      <td>...</td>\n      <td>...</td>\n      <td>...</td>\n      <td>...</td>\n      <td>...</td>\n      <td>...</td>\n      <td>...</td>\n      <td>...</td>\n      <td>...</td>\n      <td>...</td>\n      <td>...</td>\n      <td>...</td>\n      <td>...</td>\n    </tr>\n    <tr>\n      <th>d__Bacteria| p__Proteobacteria| c__Gammaproteobacteria| o__Enterobacterales| f__Enterobacteriaceae|a0e658b68b3dda271e8617f5403542d3</th>\n      <td>-0.027315</td>\n      <td>-0.085185</td>\n      <td>-0.048849</td>\n      <td>0.011624</td>\n      <td>-0.046879</td>\n      <td>0.661112</td>\n      <td>-0.001609</td>\n      <td>-0.085901</td>\n      <td>-0.062383</td>\n      <td>-0.043705</td>\n      <td>...</td>\n      <td>0.030071</td>\n      <td>0.343407</td>\n      <td>NaN</td>\n      <td>0.271563</td>\n      <td>-0.029494</td>\n      <td>1.000000</td>\n      <td>0.663189</td>\n      <td>-0.045246</td>\n      <td>0.093986</td>\n      <td>-0.028334</td>\n    </tr>\n    <tr>\n      <th>d__Bacteria| p__Proteobacteria| c__Gammaproteobacteria| o__Enterobacterales| f__Enterobacteriaceae|b54e85eefc32197ad3ce0852b2967396</th>\n      <td>0.044762</td>\n      <td>-0.104015</td>\n      <td>-0.058736</td>\n      <td>0.521251</td>\n      <td>-0.056367</td>\n      <td>0.790709</td>\n      <td>-0.020174</td>\n      <td>-0.116608</td>\n      <td>-0.075009</td>\n      <td>-0.136066</td>\n      <td>...</td>\n      <td>-0.090667</td>\n      <td>0.084604</td>\n      <td>NaN</td>\n      <td>0.436076</td>\n      <td>-0.035464</td>\n      <td>0.663189</td>\n      <td>1.000000</td>\n      <td>-0.054403</td>\n      <td>0.665738</td>\n      <td>-0.034069</td>\n    </tr>\n    <tr>\n      <th>d__Bacteria| p__Proteobacteria| c__Gammaproteobacteria| o__Enterobacterales| f__Hafniaceae|</th>\n      <td>-0.010026</td>\n      <td>-0.098381</td>\n      <td>0.467915</td>\n      <td>-0.018844</td>\n      <td>-0.064439</td>\n      <td>-0.084566</td>\n      <td>-0.039939</td>\n      <td>0.095085</td>\n      <td>-0.084833</td>\n      <td>0.287405</td>\n      <td>...</td>\n      <td>-0.126837</td>\n      <td>0.038154</td>\n      <td>NaN</td>\n      <td>0.003043</td>\n      <td>-0.040542</td>\n      <td>-0.045246</td>\n      <td>-0.054403</td>\n      <td>1.000000</td>\n      <td>-0.041347</td>\n      <td>-0.038948</td>\n    </tr>\n    <tr>\n      <th>d__Bacteria| p__Proteobacteria| c__Gammaproteobacteria| o__Pasteurellales| f__Pasteurellaceae|</th>\n      <td>0.032110</td>\n      <td>-0.124039</td>\n      <td>-0.046785</td>\n      <td>0.483556</td>\n      <td>-0.050986</td>\n      <td>0.432833</td>\n      <td>-0.035560</td>\n      <td>-0.121071</td>\n      <td>0.020147</td>\n      <td>-0.109592</td>\n      <td>...</td>\n      <td>-0.157632</td>\n      <td>-0.192520</td>\n      <td>NaN</td>\n      <td>0.260668</td>\n      <td>-0.047570</td>\n      <td>0.093986</td>\n      <td>0.665738</td>\n      <td>-0.041347</td>\n      <td>1.000000</td>\n      <td>-0.046429</td>\n    </tr>\n    <tr>\n      <th>d__Bacteria| p__Spirochaetota| c__Spirochaetia| o__Spirochaetales| f__Spirochaetaceae|</th>\n      <td>0.947633</td>\n      <td>-0.026560</td>\n      <td>0.779858</td>\n      <td>-0.106856</td>\n      <td>-0.040354</td>\n      <td>-0.052957</td>\n      <td>-0.025485</td>\n      <td>-0.089190</td>\n      <td>-0.053700</td>\n      <td>-0.147970</td>\n      <td>...</td>\n      <td>-0.094816</td>\n      <td>0.016404</td>\n      <td>NaN</td>\n      <td>-0.013622</td>\n      <td>-0.025389</td>\n      <td>-0.028334</td>\n      <td>-0.034069</td>\n      <td>-0.038948</td>\n      <td>-0.046429</td>\n      <td>1.000000</td>\n    </tr>\n  </tbody>\n</table>\n<p>114 rows × 114 columns</p>\n</div>"
     },
     "execution_count": 36,
     "metadata": {},
     "output_type": "execute_result"
    }
   ],
   "source": [
    "X.corr()"
   ]
  },
  {
   "cell_type": "markdown",
   "metadata": {
    "pycharm": {
     "name": "#%% md\n"
    }
   },
   "source": [
    "## Predictive models"
   ]
  },
  {
   "cell_type": "markdown",
   "source": [
    "### Logistic regression"
   ],
   "metadata": {
    "collapsed": false,
    "pycharm": {
     "name": "#%% md\n"
    }
   }
  },
  {
   "cell_type": "markdown",
   "metadata": {
    "pycharm": {
     "name": "#%% md\n"
    }
   },
   "source": [
    "Recall that our goal is to predict the label of each individual given their microbiota structure. We perform some rudimentary preprocessing:\n",
    "- rescaling in $[0,1]$\n",
    "- standardization\n",
    "- adding column of 1 for bias\n",
    "\n",
    "First, we try the simplest model possible: the logistic regression."
   ]
  },
  {
   "cell_type": "code",
   "execution_count": 37,
   "metadata": {
    "collapsed": false,
    "jupyter": {
     "outputs_hidden": false
    },
    "pycharm": {
     "name": "#%%\n"
    }
   },
   "outputs": [
    {
     "name": "stdout",
     "output_type": "stream",
     "text": [
      "False\n"
     ]
    }
   ],
   "source": [
    "# Standardization\n",
    "# X = (X - X.mean())/X.std()\n",
    "# Min/Max scaling\n",
    "# X = (X - X.min())/(X.max() - X.min())\n",
    "# Adding a constant column for bias\n",
    "X['constant'] = 1\n",
    "\n",
    "print(np.isnan(X.values).any())"
   ]
  },
  {
   "cell_type": "code",
   "execution_count": 38,
   "metadata": {
    "collapsed": false,
    "jupyter": {
     "outputs_hidden": false
    },
    "pycharm": {
     "name": "#%%\n"
    }
   },
   "outputs": [],
   "source": [
    "from sklearn.model_selection import StratifiedShuffleSplit\n",
    "# Building training and test sets in a stratified fashion so we keep a similar distribution of labels\n",
    "\n",
    "n_folds = 5\n",
    "stratifier = StratifiedShuffleSplit(n_splits=n_folds, test_size=0.30)\n",
    "for i, (train_index, test_index) in enumerate(stratifier.split(X, y)):\n",
    "    continue\n",
    "\n",
    "X_train, y_train = X.values[train_index], y.values[train_index]\n",
    "X_test, y_test = X.values[test_index], y.values[test_index]"
   ]
  },
  {
   "cell_type": "code",
   "execution_count": 39,
   "metadata": {
    "collapsed": false,
    "jupyter": {
     "outputs_hidden": false
    },
    "pycharm": {
     "name": "#%%\n"
    }
   },
   "outputs": [
    {
     "name": "stdout",
     "output_type": "stream",
     "text": [
      "Logistic regression metrics:\n",
      "Accuracy: 0.7692307692307693\n",
      "Balanced Accuracy: 0.5\n",
      "Confusion matrix:\n",
      " [[10  0]\n",
      " [ 3  0]]\n"
     ]
    }
   ],
   "source": [
    "from sklearn.linear_model import LogisticRegression\n",
    "from sklearn.metrics import balanced_accuracy_score, confusion_matrix, f1_score\n",
    "from src.utils.functions import accuracy\n",
    "\n",
    "logistic_reg = LogisticRegression(\n",
    "    penalty='l2',\n",
    ")\n",
    "logistic_reg.fit(X_train, y_train)\n",
    "y_pred = logistic_reg.predict(X_test)\n",
    "print(\"Logistic regression metrics:\")\n",
    "print(\"Accuracy:\", logistic_reg.score(X_test, y_test))\n",
    "print(\"Balanced Accuracy:\", balanced_accuracy_score(y_test, y_pred))\n",
    "print(\"Confusion matrix:\\n\", confusion_matrix(y_test, y_pred))"
   ]
  },
  {
   "cell_type": "code",
   "execution_count": 40,
   "outputs": [
    {
     "name": "stdout",
     "output_type": "stream",
     "text": [
      "* Fold 0\n",
      "     Accuracy: 0.7692307692307693\n",
      "     Balanced Accuracy: 0.5\n",
      "     F1 score: 0.0\n",
      "     Confusion matrix:\n",
      " [[10  0]\n",
      " [ 3  0]]\n",
      "* Fold 1\n",
      "     Accuracy: 0.7692307692307693\n",
      "     Balanced Accuracy: 0.5\n",
      "     F1 score: 0.0\n",
      "     Confusion matrix:\n",
      " [[10  0]\n",
      " [ 3  0]]\n",
      "* Fold 2\n",
      "     Accuracy: 0.7692307692307693\n",
      "     Balanced Accuracy: 0.5\n",
      "     F1 score: 0.0\n",
      "     Confusion matrix:\n",
      " [[10  0]\n",
      " [ 3  0]]\n",
      "* Fold 3\n",
      "     Accuracy: 0.7692307692307693\n",
      "     Balanced Accuracy: 0.5\n",
      "     F1 score: 0.0\n",
      "     Confusion matrix:\n",
      " [[10  0]\n",
      " [ 3  0]]\n",
      "* Fold 4\n",
      "     Accuracy: 0.7692307692307693\n",
      "     Balanced Accuracy: 0.5\n",
      "     F1 score: 0.0\n",
      "     Confusion matrix:\n",
      " [[10  0]\n",
      " [ 3  0]]\n",
      "[Summary]\n",
      "     Accuracy: 0.7692307692307693 ± 0.0\n",
      "     Balanced Accuracy: 0.5 ± 0.0\n",
      "     F1 score: 0.0 ± 0.0\n",
      "     (sum) Confusion matrix:\n",
      " [[50  0]\n",
      " [15  0]]\n"
     ]
    }
   ],
   "source": [
    "def evaluate(model, predict_fun, training_steps=0):\n",
    "    size = n_folds\n",
    "    mean_accuracy = np.zeros(size)\n",
    "    mean_balanced_accuracy = np.zeros(size)\n",
    "    mean_f1 = np.zeros(size)\n",
    "    mean_cm = 0\n",
    "    for i, (train_index, test_index) in enumerate(stratifier.split(X, y)):\n",
    "        print(\"* Fold\", i)\n",
    "        X_train_fold, y_train_fold = X.values[train_index], y.values[train_index]\n",
    "        X_test_fold, y_test_fold = X.values[test_index], y.values[test_index]\n",
    "        model.fit(X_train_fold, y_train_fold)\n",
    "        if training_steps > 0:\n",
    "            model.train(training_steps, 1)\n",
    "        y_pred = predict_fun(X_test_fold)\n",
    "        print(\"     Accuracy:\", accuracy(y_test_fold, y_pred))\n",
    "        print(\"     Balanced Accuracy:\", balanced_accuracy_score(y_test_fold, y_pred))\n",
    "        print(\"     F1 score:\", f1_score(y_test_fold, y_pred))\n",
    "        print(\"     Confusion matrix:\\n\", confusion_matrix(y_test_fold, y_pred))\n",
    "\n",
    "        mean_accuracy[i] = accuracy(y_test_fold, y_pred)\n",
    "        mean_balanced_accuracy[i] = balanced_accuracy_score(y_test_fold, y_pred)\n",
    "        mean_f1[i] = f1_score(y_test_fold, y_pred)\n",
    "        mean_cm += confusion_matrix(y_test_fold, y_pred)\n",
    "\n",
    "    print(\"[Summary]\")\n",
    "    print(\"     Accuracy:\", mean_accuracy.mean(), \"±\", mean_accuracy.std())\n",
    "    print(\"     Balanced Accuracy:\", mean_balanced_accuracy.mean(), \"±\", mean_balanced_accuracy.std())\n",
    "    print(\"     F1 score:\", mean_f1.mean(), \"±\", mean_f1.std())\n",
    "    print(\"     (sum) Confusion matrix:\\n\", mean_cm)\n",
    "    return mean_accuracy, mean_balanced_accuracy, mean_f1, mean_cm\n",
    "\n",
    "_ = evaluate(logistic_reg, logistic_reg.predict)"
   ],
   "metadata": {
    "collapsed": false,
    "pycharm": {
     "name": "#%%\n"
    }
   }
  },
  {
   "cell_type": "markdown",
   "source": [
    "### Latent model with logistic regression\n",
    "\n",
    "In this section, we aim at potentially improving the previous results by introducing a latent variable model in our logistic regression.\n",
    "\n",
    "The model is the following:\n",
    "- $Z_i \\sim \\mathcal{B}(\\pi)$\n",
    "- $p_{\\theta}(X_i | Z_i) \\sim \\mathcal{N}(\\mu, \\Sigma)$\n",
    "- $\\mathbb{P}(Y_i = 1 | X_i, Z_i = k) = \\sigma(W_{e,k} e_k + W_{x,k} X_i)$\n",
    "\n",
    "First, we try to determine a relevant space for $Z$."
   ],
   "metadata": {
    "collapsed": false,
    "pycharm": {
     "name": "#%% md\n"
    }
   }
  },
  {
   "cell_type": "code",
   "execution_count": 41,
   "outputs": [
    {
     "name": "stderr",
     "output_type": "stream",
     "text": [
      "C:\\Users\\frigi\\AppData\\Roaming\\Python\\Python39\\site-packages\\sklearn\\cluster\\_kmeans.py:1382: UserWarning: KMeans is known to have a memory leak on Windows with MKL, when there are less chunks than available threads. You can avoid it by setting the environment variable OMP_NUM_THREADS=1.\n",
      "  warnings.warn(\n",
      "C:\\Users\\frigi\\AppData\\Roaming\\Python\\Python39\\site-packages\\sklearn\\cluster\\_kmeans.py:1382: UserWarning: KMeans is known to have a memory leak on Windows with MKL, when there are less chunks than available threads. You can avoid it by setting the environment variable OMP_NUM_THREADS=1.\n",
      "  warnings.warn(\n",
      "C:\\Users\\frigi\\AppData\\Roaming\\Python\\Python39\\site-packages\\sklearn\\cluster\\_kmeans.py:1382: UserWarning: KMeans is known to have a memory leak on Windows with MKL, when there are less chunks than available threads. You can avoid it by setting the environment variable OMP_NUM_THREADS=1.\n",
      "  warnings.warn(\n",
      "C:\\Users\\frigi\\AppData\\Roaming\\Python\\Python39\\site-packages\\sklearn\\cluster\\_kmeans.py:1382: UserWarning: KMeans is known to have a memory leak on Windows with MKL, when there are less chunks than available threads. You can avoid it by setting the environment variable OMP_NUM_THREADS=1.\n",
      "  warnings.warn(\n",
      "C:\\Users\\frigi\\AppData\\Roaming\\Python\\Python39\\site-packages\\sklearn\\cluster\\_kmeans.py:1382: UserWarning: KMeans is known to have a memory leak on Windows with MKL, when there are less chunks than available threads. You can avoid it by setting the environment variable OMP_NUM_THREADS=1.\n",
      "  warnings.warn(\n",
      "C:\\Users\\frigi\\AppData\\Roaming\\Python\\Python39\\site-packages\\sklearn\\cluster\\_kmeans.py:1382: UserWarning: KMeans is known to have a memory leak on Windows with MKL, when there are less chunks than available threads. You can avoid it by setting the environment variable OMP_NUM_THREADS=1.\n",
      "  warnings.warn(\n",
      "C:\\Users\\frigi\\AppData\\Roaming\\Python\\Python39\\site-packages\\sklearn\\cluster\\_kmeans.py:1382: UserWarning: KMeans is known to have a memory leak on Windows with MKL, when there are less chunks than available threads. You can avoid it by setting the environment variable OMP_NUM_THREADS=1.\n",
      "  warnings.warn(\n",
      "C:\\Users\\frigi\\AppData\\Roaming\\Python\\Python39\\site-packages\\sklearn\\cluster\\_kmeans.py:1382: UserWarning: KMeans is known to have a memory leak on Windows with MKL, when there are less chunks than available threads. You can avoid it by setting the environment variable OMP_NUM_THREADS=1.\n",
      "  warnings.warn(\n"
     ]
    }
   ],
   "source": [
    "from sklearn.mixture import GaussianMixture\n",
    "\n",
    "n_component_list = [1, 2, 3, 5, 8, 10, 15, 20]\n",
    "bic = np.zeros(len(n_component_list))\n",
    "aic = np.zeros(len(n_component_list))\n",
    "\n",
    "X_tild_train = np.concatenate((X_train, y_train.reshape(-1, 1)), axis=1)\n",
    "X_tild_test = np.concatenate((X_test, y_test.reshape(-1, 1)), axis=1)\n",
    "for i, n_component in enumerate(n_component_list):\n",
    "    gmm = GaussianMixture(n_components=n_component, random_state=0)\n",
    "    gmm.fit(X_tild_train)\n",
    "    bic[i] = gmm.bic(X_tild_test)\n",
    "    aic[i] = gmm.aic(X_tild_test)"
   ],
   "metadata": {
    "collapsed": false,
    "pycharm": {
     "name": "#%%\n"
    }
   }
  },
  {
   "cell_type": "code",
   "execution_count": 42,
   "outputs": [
    {
     "data": {
      "text/plain": "<Figure size 640x480 with 2 Axes>",
      "image/png": "[encoded data removed]"
     },
     "metadata": {},
     "output_type": "display_data"
    }
   ],
   "source": [
    "fig, axs = plt.subplots(1, 2)\n",
    "axs[0].set_title(\"BIC / n_components\")\n",
    "axs[0].plot(n_component_list, bic, marker='.', color='C0')\n",
    "axs[1].set_title(\"AIC / n_components\")\n",
    "axs[1].plot(n_component_list, aic, marker='.', color='C1')\n",
    "for ax in axs:\n",
    "    ax.set_xticks(n_component_list)\n",
    "plt.show()"
   ],
   "metadata": {
    "collapsed": false,
    "pycharm": {
     "name": "#%%\n"
    }
   }
  },
  {
   "cell_type": "code",
   "execution_count": 43,
   "outputs": [
    {
     "name": "stdout",
     "output_type": "stream",
     "text": [
      "[!] One gaussian has been set to 0.\n",
      "Latent Gaussian Mixture Logistic regression metrics:\n",
      "Accuracy: 0.7692307692307693\n",
      "Balanced Accuracy: 0.5\n",
      "Confusion matrix:\n",
      " [[10  0]\n",
      " [ 3  0]]\n"
     ]
    },
    {
     "name": "stderr",
     "output_type": "stream",
     "text": [
      "C:\\Users\\frigi\\Desktop\\Code\\Stage-Microbiote\\Expectation-Maximization\\src\\model\\EM\\gaussian_mixture_classifier.py:133: RuntimeWarning: divide by zero encountered in log\n",
      "  log_t_i[l] = np.log(self.pi[l]) + np.log(self.p_cond(x_i, self.mu[l], self.sigma[l]))\n",
      "C:\\Users\\frigi\\Desktop\\Code\\Stage-Microbiote\\Expectation-Maximization\\src\\model\\EM\\gaussian_mixture_classifier.py:135: RuntimeWarning: invalid value encountered in subtract\n",
      "  log_t_i -= logsumexp(log_t_i)\n"
     ]
    }
   ],
   "source": [
    "from src.model import GaussianMixtureClassifier\n",
    "from src.utils.optimizers import GradientDescent\n",
    "\n",
    "gmm_classif = GaussianMixtureClassifier(\n",
    "    z_dim=1,\n",
    "    optimizer=GradientDescent(learning_rate=0.01, n_iter=100),\n",
    "    seed=1\n",
    ")\n",
    "gmm_classif.fit(X_train, y_train)\n",
    "gmm_classif.train(20)\n",
    "y_pred = gmm_classif.classify(X_test)\n",
    "print(\"Latent Gaussian Mixture Logistic regression metrics:\")\n",
    "print(\"Accuracy:\", accuracy(y_test, y_pred))\n",
    "print(\"Balanced Accuracy:\", balanced_accuracy_score(y_test, y_pred))\n",
    "print(\"Confusion matrix:\\n\", confusion_matrix(y_test, y_pred))"
   ],
   "metadata": {
    "collapsed": false,
    "pycharm": {
     "name": "#%%\n"
    }
   }
  },
  {
   "cell_type": "code",
   "execution_count": 44,
   "outputs": [
    {
     "name": "stdout",
     "output_type": "stream",
     "text": [
      "* Fold 0\n",
      "     Accuracy: 0.7692307692307693\n",
      "     Balanced Accuracy: 0.5\n",
      "     F1 score: 0.0\n",
      "     Confusion matrix:\n",
      " [[10  0]\n",
      " [ 3  0]]\n",
      "* Fold 1\n",
      "     Accuracy: 0.7692307692307693\n",
      "     Balanced Accuracy: 0.5\n",
      "     F1 score: 0.0\n",
      "     Confusion matrix:\n",
      " [[10  0]\n",
      " [ 3  0]]\n",
      "* Fold 2\n",
      "     Accuracy: 0.7692307692307693\n",
      "     Balanced Accuracy: 0.5\n",
      "     F1 score: 0.0\n",
      "     Confusion matrix:\n",
      " [[10  0]\n",
      " [ 3  0]]\n",
      "* Fold 3\n",
      "     Accuracy: 0.7692307692307693\n",
      "     Balanced Accuracy: 0.5\n",
      "     F1 score: 0.0\n",
      "     Confusion matrix:\n",
      " [[10  0]\n",
      " [ 3  0]]\n",
      "* Fold 4\n",
      "     Accuracy: 0.7692307692307693\n",
      "     Balanced Accuracy: 0.5\n",
      "     F1 score: 0.0\n",
      "     Confusion matrix:\n",
      " [[10  0]\n",
      " [ 3  0]]\n",
      "[Summary]\n",
      "     Accuracy: 0.7692307692307693 ± 0.0\n",
      "     Balanced Accuracy: 0.5 ± 0.0\n",
      "     F1 score: 0.0 ± 0.0\n",
      "     (sum) Confusion matrix:\n",
      " [[50  0]\n",
      " [15  0]]\n"
     ]
    }
   ],
   "source": [
    "_ = evaluate(gmm_classif, gmm_classif.classify)"
   ],
   "metadata": {
    "collapsed": false,
    "pycharm": {
     "name": "#%%\n"
    }
   }
  },
  {
   "cell_type": "code",
   "execution_count": 45,
   "outputs": [
    {
     "name": "stdout",
     "output_type": "stream",
     "text": [
      "[*] Z dim: 1\n",
      "* Fold 0\n",
      "[!] One gaussian has been set to 0.\n",
      "[*] EM (0/20): \n",
      "     Accuracy: 0.7692307692307693\n",
      "     Balanced Accuracy: 0.5\n",
      "     F1 score: 0.0\n",
      "     Confusion matrix:\n",
      " [[10  0]\n",
      " [ 3  0]]\n",
      "* Fold 1\n",
      "[!] One gaussian has been set to 0.\n",
      "[*] EM (0/20): \n",
      "     Accuracy: 0.7692307692307693\n",
      "     Balanced Accuracy: 0.5\n",
      "     F1 score: 0.0\n",
      "     Confusion matrix:\n",
      " [[10  0]\n",
      " [ 3  0]]\n",
      "* Fold 2\n",
      "[!] One gaussian has been set to 0.\n",
      "[*] EM (0/20): \n",
      "     Accuracy: 0.7692307692307693\n",
      "     Balanced Accuracy: 0.5\n",
      "     F1 score: 0.0\n",
      "     Confusion matrix:\n",
      " [[10  0]\n",
      " [ 3  0]]\n",
      "* Fold 3\n",
      "[!] One gaussian has been set to 0.\n",
      "[*] EM (0/20): \n",
      "     Accuracy: 0.7692307692307693\n",
      "     Balanced Accuracy: 0.5\n",
      "     F1 score: 0.0\n",
      "     Confusion matrix:\n",
      " [[10  0]\n",
      " [ 3  0]]\n",
      "* Fold 4\n"
     ]
    },
    {
     "name": "stderr",
     "output_type": "stream",
     "text": [
      "C:\\Users\\frigi\\Desktop\\Code\\Stage-Microbiote\\Expectation-Maximization\\src\\model\\EM\\gaussian_mixture_classifier.py:133: RuntimeWarning: divide by zero encountered in log\n",
      "  log_t_i[l] = np.log(self.pi[l]) + np.log(self.p_cond(x_i, self.mu[l], self.sigma[l]))\n",
      "C:\\Users\\frigi\\Desktop\\Code\\Stage-Microbiote\\Expectation-Maximization\\src\\model\\EM\\gaussian_mixture_classifier.py:135: RuntimeWarning: invalid value encountered in subtract\n",
      "  log_t_i -= logsumexp(log_t_i)\n",
      "C:\\Users\\frigi\\Desktop\\Code\\Stage-Microbiote\\Expectation-Maximization\\src\\model\\EM\\gaussian_mixture_classifier.py:133: RuntimeWarning: divide by zero encountered in log\n",
      "  log_t_i[l] = np.log(self.pi[l]) + np.log(self.p_cond(x_i, self.mu[l], self.sigma[l]))\n",
      "C:\\Users\\frigi\\Desktop\\Code\\Stage-Microbiote\\Expectation-Maximization\\src\\model\\EM\\gaussian_mixture_classifier.py:135: RuntimeWarning: invalid value encountered in subtract\n",
      "  log_t_i -= logsumexp(log_t_i)\n",
      "C:\\Users\\frigi\\Desktop\\Code\\Stage-Microbiote\\Expectation-Maximization\\src\\model\\EM\\gaussian_mixture_classifier.py:133: RuntimeWarning: divide by zero encountered in log\n",
      "  log_t_i[l] = np.log(self.pi[l]) + np.log(self.p_cond(x_i, self.mu[l], self.sigma[l]))\n",
      "C:\\Users\\frigi\\Desktop\\Code\\Stage-Microbiote\\Expectation-Maximization\\src\\model\\EM\\gaussian_mixture_classifier.py:135: RuntimeWarning: invalid value encountered in subtract\n",
      "  log_t_i -= logsumexp(log_t_i)\n",
      "C:\\Users\\frigi\\Desktop\\Code\\Stage-Microbiote\\Expectation-Maximization\\src\\model\\EM\\gaussian_mixture_classifier.py:133: RuntimeWarning: divide by zero encountered in log\n",
      "  log_t_i[l] = np.log(self.pi[l]) + np.log(self.p_cond(x_i, self.mu[l], self.sigma[l]))\n",
      "C:\\Users\\frigi\\Desktop\\Code\\Stage-Microbiote\\Expectation-Maximization\\src\\model\\EM\\gaussian_mixture_classifier.py:135: RuntimeWarning: invalid value encountered in subtract\n",
      "  log_t_i -= logsumexp(log_t_i)\n"
     ]
    },
    {
     "name": "stdout",
     "output_type": "stream",
     "text": [
      "[!] One gaussian has been set to 0.\n",
      "[*] EM (0/20): \n",
      "     Accuracy: 0.7692307692307693\n",
      "     Balanced Accuracy: 0.5\n",
      "     F1 score: 0.0\n",
      "     Confusion matrix:\n",
      " [[10  0]\n",
      " [ 3  0]]\n",
      "[Summary]\n",
      "     Accuracy: 0.7692307692307693 ± 0.0\n",
      "     Balanced Accuracy: 0.5 ± 0.0\n",
      "     F1 score: 0.0 ± 0.0\n",
      "     (sum) Confusion matrix:\n",
      " [[50  0]\n",
      " [15  0]]\n",
      "[*] Z dim: 2\n",
      "* Fold 0\n",
      "[!] One gaussian has been set to 0.\n",
      "[*] EM (0/20): \n",
      "     Accuracy: 0.7692307692307693\n",
      "     Balanced Accuracy: 0.5\n",
      "     F1 score: 0.0\n",
      "     Confusion matrix:\n",
      " [[10  0]\n",
      " [ 3  0]]\n",
      "* Fold 1\n"
     ]
    },
    {
     "name": "stderr",
     "output_type": "stream",
     "text": [
      "C:\\Users\\frigi\\Desktop\\Code\\Stage-Microbiote\\Expectation-Maximization\\src\\model\\EM\\gaussian_mixture_classifier.py:133: RuntimeWarning: divide by zero encountered in log\n",
      "  log_t_i[l] = np.log(self.pi[l]) + np.log(self.p_cond(x_i, self.mu[l], self.sigma[l]))\n",
      "C:\\Users\\frigi\\Desktop\\Code\\Stage-Microbiote\\Expectation-Maximization\\src\\model\\EM\\gaussian_mixture_classifier.py:135: RuntimeWarning: invalid value encountered in subtract\n",
      "  log_t_i -= logsumexp(log_t_i)\n",
      "C:\\Users\\frigi\\Desktop\\Code\\Stage-Microbiote\\Expectation-Maximization\\src\\model\\EM\\gaussian_mixture_classifier.py:133: RuntimeWarning: divide by zero encountered in log\n",
      "  log_t_i[l] = np.log(self.pi[l]) + np.log(self.p_cond(x_i, self.mu[l], self.sigma[l]))\n"
     ]
    },
    {
     "name": "stdout",
     "output_type": "stream",
     "text": [
      "[!] One gaussian has been set to 0.\n",
      "[*] EM (0/20): \n",
      "     Accuracy: 0.7692307692307693\n",
      "     Balanced Accuracy: 0.5\n",
      "     F1 score: 0.0\n",
      "     Confusion matrix:\n",
      " [[10  0]\n",
      " [ 3  0]]\n",
      "* Fold 2\n",
      "[!] One gaussian has been set to 0.\n",
      "[*] EM (0/20): \n",
      "     Accuracy: 0.7692307692307693\n",
      "     Balanced Accuracy: 0.5\n",
      "     F1 score: 0.0\n",
      "     Confusion matrix:\n",
      " [[10  0]\n",
      " [ 3  0]]\n",
      "* Fold 3\n"
     ]
    },
    {
     "name": "stderr",
     "output_type": "stream",
     "text": [
      "C:\\Users\\frigi\\Desktop\\Code\\Stage-Microbiote\\Expectation-Maximization\\src\\model\\EM\\gaussian_mixture_classifier.py:133: RuntimeWarning: divide by zero encountered in log\n",
      "  log_t_i[l] = np.log(self.pi[l]) + np.log(self.p_cond(x_i, self.mu[l], self.sigma[l]))\n",
      "C:\\Users\\frigi\\Desktop\\Code\\Stage-Microbiote\\Expectation-Maximization\\src\\model\\EM\\gaussian_mixture_classifier.py:133: RuntimeWarning: divide by zero encountered in log\n",
      "  log_t_i[l] = np.log(self.pi[l]) + np.log(self.p_cond(x_i, self.mu[l], self.sigma[l]))\n"
     ]
    },
    {
     "name": "stdout",
     "output_type": "stream",
     "text": [
      "[!] One gaussian has been set to 0.\n",
      "[*] EM (0/20): \n",
      "     Accuracy: 0.7692307692307693\n",
      "     Balanced Accuracy: 0.5\n",
      "     F1 score: 0.0\n",
      "     Confusion matrix:\n",
      " [[10  0]\n",
      " [ 3  0]]\n",
      "* Fold 4\n",
      "[!] One gaussian has been set to 0.\n",
      "[*] EM (0/20): \n",
      "     Accuracy: 0.7692307692307693\n",
      "     Balanced Accuracy: 0.5\n",
      "     F1 score: 0.0\n",
      "     Confusion matrix:\n",
      " [[10  0]\n",
      " [ 3  0]]\n",
      "[Summary]\n",
      "     Accuracy: 0.7692307692307693 ± 0.0\n",
      "     Balanced Accuracy: 0.5 ± 0.0\n",
      "     F1 score: 0.0 ± 0.0\n",
      "     (sum) Confusion matrix:\n",
      " [[50  0]\n",
      " [15  0]]\n",
      "[*] Z dim: 3\n",
      "* Fold 0\n"
     ]
    },
    {
     "name": "stderr",
     "output_type": "stream",
     "text": [
      "C:\\Users\\frigi\\Desktop\\Code\\Stage-Microbiote\\Expectation-Maximization\\src\\model\\EM\\gaussian_mixture_classifier.py:133: RuntimeWarning: divide by zero encountered in log\n",
      "  log_t_i[l] = np.log(self.pi[l]) + np.log(self.p_cond(x_i, self.mu[l], self.sigma[l]))\n",
      "C:\\Users\\frigi\\Desktop\\Code\\Stage-Microbiote\\Expectation-Maximization\\src\\model\\EM\\gaussian_mixture_classifier.py:133: RuntimeWarning: divide by zero encountered in log\n",
      "  log_t_i[l] = np.log(self.pi[l]) + np.log(self.p_cond(x_i, self.mu[l], self.sigma[l]))\n"
     ]
    },
    {
     "name": "stdout",
     "output_type": "stream",
     "text": [
      "[!] One gaussian has been set to 0.\n",
      "[*] EM (0/20): \n",
      "     Accuracy: 0.23076923076923078\n",
      "     Balanced Accuracy: 0.26666666666666666\n",
      "     F1 score: 0.16666666666666666\n",
      "     Confusion matrix:\n",
      " [[2 8]\n",
      " [2 1]]\n",
      "* Fold 1\n",
      "[!] One gaussian has been set to 0.\n",
      "[*] EM (0/20): \n"
     ]
    },
    {
     "name": "stderr",
     "output_type": "stream",
     "text": [
      "C:\\Users\\frigi\\Desktop\\Code\\Stage-Microbiote\\Expectation-Maximization\\src\\model\\EM\\gaussian_mixture_classifier.py:133: RuntimeWarning: divide by zero encountered in log\n",
      "  log_t_i[l] = np.log(self.pi[l]) + np.log(self.p_cond(x_i, self.mu[l], self.sigma[l]))\n",
      "C:\\Users\\frigi\\Desktop\\Code\\Stage-Microbiote\\Expectation-Maximization\\src\\model\\EM\\gaussian_mixture_classifier.py:133: RuntimeWarning: divide by zero encountered in log\n",
      "  log_t_i[l] = np.log(self.pi[l]) + np.log(self.p_cond(x_i, self.mu[l], self.sigma[l]))\n"
     ]
    },
    {
     "name": "stdout",
     "output_type": "stream",
     "text": [
      "     Accuracy: 0.46153846153846156\n",
      "     Balanced Accuracy: 0.41666666666666663\n",
      "     F1 score: 0.2222222222222222\n",
      "     Confusion matrix:\n",
      " [[5 5]\n",
      " [2 1]]\n",
      "* Fold 2\n",
      "[!] One gaussian has been set to 0.\n",
      "[*] EM (0/20): \n",
      "     Accuracy: 0.46153846153846156\n",
      "     Balanced Accuracy: 0.41666666666666663\n",
      "     F1 score: 0.2222222222222222\n",
      "     Confusion matrix:\n",
      " [[5 5]\n",
      " [2 1]]\n",
      "* Fold 3\n"
     ]
    },
    {
     "name": "stderr",
     "output_type": "stream",
     "text": [
      "C:\\Users\\frigi\\Desktop\\Code\\Stage-Microbiote\\Expectation-Maximization\\src\\model\\EM\\gaussian_mixture_classifier.py:133: RuntimeWarning: divide by zero encountered in log\n",
      "  log_t_i[l] = np.log(self.pi[l]) + np.log(self.p_cond(x_i, self.mu[l], self.sigma[l]))\n"
     ]
    },
    {
     "name": "stdout",
     "output_type": "stream",
     "text": [
      "[!] One gaussian has been set to 0.\n",
      "[*] EM (0/20): \n",
      "     Accuracy: 0.46153846153846156\n",
      "     Balanced Accuracy: 0.5333333333333333\n",
      "     F1 score: 0.36363636363636365\n",
      "     Confusion matrix:\n",
      " [[4 6]\n",
      " [1 2]]\n",
      "* Fold 4\n",
      "[!] One gaussian has been set to 0.\n",
      "[*] EM (0/20): \n",
      "     Accuracy: 0.46153846153846156\n",
      "     Balanced Accuracy: 0.5333333333333333\n",
      "     F1 score: 0.36363636363636365\n",
      "     Confusion matrix:\n",
      " [[4 6]\n",
      " [1 2]]\n",
      "[Summary]\n",
      "     Accuracy: 0.4153846153846154 ± 0.09230769230769231\n",
      "     Balanced Accuracy: 0.4333333333333333 ± 0.09831920802501751\n",
      "     F1 score: 0.2676767676767676 ± 0.08093424494549549\n",
      "     (sum) Confusion matrix:\n",
      " [[20 30]\n",
      " [ 8  7]]\n",
      "[*] Z dim: 4\n",
      "* Fold 0\n"
     ]
    },
    {
     "name": "stderr",
     "output_type": "stream",
     "text": [
      "C:\\Users\\frigi\\Desktop\\Code\\Stage-Microbiote\\Expectation-Maximization\\src\\model\\EM\\gaussian_mixture_classifier.py:133: RuntimeWarning: divide by zero encountered in log\n",
      "  log_t_i[l] = np.log(self.pi[l]) + np.log(self.p_cond(x_i, self.mu[l], self.sigma[l]))\n",
      "C:\\Users\\frigi\\Desktop\\Code\\Stage-Microbiote\\Expectation-Maximization\\src\\model\\EM\\gaussian_mixture_classifier.py:133: RuntimeWarning: divide by zero encountered in log\n",
      "  log_t_i[l] = np.log(self.pi[l]) + np.log(self.p_cond(x_i, self.mu[l], self.sigma[l]))\n"
     ]
    },
    {
     "name": "stdout",
     "output_type": "stream",
     "text": [
      "[!] One gaussian has been set to 0.\n",
      "[*] EM (0/20): \n",
      "     Accuracy: 0.46153846153846156\n",
      "     Balanced Accuracy: 0.5333333333333333\n",
      "     F1 score: 0.36363636363636365\n",
      "     Confusion matrix:\n",
      " [[4 6]\n",
      " [1 2]]\n",
      "* Fold 1\n"
     ]
    },
    {
     "name": "stderr",
     "output_type": "stream",
     "text": [
      "C:\\Users\\frigi\\Desktop\\Code\\Stage-Microbiote\\Expectation-Maximization\\src\\model\\EM\\gaussian_mixture_classifier.py:133: RuntimeWarning: divide by zero encountered in log\n",
      "  log_t_i[l] = np.log(self.pi[l]) + np.log(self.p_cond(x_i, self.mu[l], self.sigma[l]))\n"
     ]
    },
    {
     "name": "stdout",
     "output_type": "stream",
     "text": [
      "[!] One gaussian has been set to 0.\n",
      "[*] EM (0/20): \n",
      "     Accuracy: 0.38461538461538464\n",
      "     Balanced Accuracy: 0.25\n",
      "     F1 score: 0.0\n",
      "     Confusion matrix:\n",
      " [[5 5]\n",
      " [3 0]]\n",
      "* Fold 2\n"
     ]
    },
    {
     "name": "stderr",
     "output_type": "stream",
     "text": [
      "C:\\Users\\frigi\\Desktop\\Code\\Stage-Microbiote\\Expectation-Maximization\\src\\model\\EM\\gaussian_mixture_classifier.py:133: RuntimeWarning: divide by zero encountered in log\n",
      "  log_t_i[l] = np.log(self.pi[l]) + np.log(self.p_cond(x_i, self.mu[l], self.sigma[l]))\n"
     ]
    },
    {
     "name": "stdout",
     "output_type": "stream",
     "text": [
      "[!] One gaussian has been set to 0.\n",
      "[*] EM (0/20): \n",
      "     Accuracy: 0.23076923076923078\n",
      "     Balanced Accuracy: 0.15\n",
      "     F1 score: 0.0\n",
      "     Confusion matrix:\n",
      " [[3 7]\n",
      " [3 0]]\n",
      "* Fold 3\n"
     ]
    },
    {
     "name": "stderr",
     "output_type": "stream",
     "text": [
      "C:\\Users\\frigi\\Desktop\\Code\\Stage-Microbiote\\Expectation-Maximization\\src\\model\\EM\\gaussian_mixture_classifier.py:133: RuntimeWarning: divide by zero encountered in log\n",
      "  log_t_i[l] = np.log(self.pi[l]) + np.log(self.p_cond(x_i, self.mu[l], self.sigma[l]))\n"
     ]
    },
    {
     "name": "stdout",
     "output_type": "stream",
     "text": [
      "[!] One gaussian has been set to 0.\n",
      "[*] EM (0/20): \n",
      "     Accuracy: 0.7692307692307693\n",
      "     Balanced Accuracy: 0.85\n",
      "     F1 score: 0.6666666666666666\n",
      "     Confusion matrix:\n",
      " [[7 3]\n",
      " [0 3]]\n",
      "* Fold 4\n"
     ]
    },
    {
     "name": "stderr",
     "output_type": "stream",
     "text": [
      "C:\\Users\\frigi\\Desktop\\Code\\Stage-Microbiote\\Expectation-Maximization\\src\\model\\EM\\gaussian_mixture_classifier.py:133: RuntimeWarning: divide by zero encountered in log\n",
      "  log_t_i[l] = np.log(self.pi[l]) + np.log(self.p_cond(x_i, self.mu[l], self.sigma[l]))\n"
     ]
    },
    {
     "name": "stdout",
     "output_type": "stream",
     "text": [
      "[!] One gaussian has been set to 0.\n",
      "[*] EM (0/20): \n",
      "     Accuracy: 0.46153846153846156\n",
      "     Balanced Accuracy: 0.5333333333333333\n",
      "     F1 score: 0.36363636363636365\n",
      "     Confusion matrix:\n",
      " [[4 6]\n",
      " [1 2]]\n",
      "[Summary]\n",
      "     Accuracy: 0.46153846153846156 ± 0.17541160386140583\n",
      "     Balanced Accuracy: 0.46333333333333326 ± 0.24617067250182342\n",
      "     F1 score: 0.2787878787878788 ± 0.2530983396099527\n",
      "     (sum) Confusion matrix:\n",
      " [[23 27]\n",
      " [ 8  7]]\n",
      "[*] Z dim: 5\n",
      "* Fold 0\n"
     ]
    },
    {
     "name": "stderr",
     "output_type": "stream",
     "text": [
      "C:\\Users\\frigi\\Desktop\\Code\\Stage-Microbiote\\Expectation-Maximization\\src\\model\\EM\\gaussian_mixture_classifier.py:133: RuntimeWarning: divide by zero encountered in log\n",
      "  log_t_i[l] = np.log(self.pi[l]) + np.log(self.p_cond(x_i, self.mu[l], self.sigma[l]))\n"
     ]
    },
    {
     "name": "stdout",
     "output_type": "stream",
     "text": [
      "[!] One gaussian has been set to 0.\n",
      "[*] EM (0/20): \n",
      "     Accuracy: 0.6153846153846154\n",
      "     Balanced Accuracy: 0.5166666666666666\n",
      "     F1 score: 0.28571428571428575\n",
      "     Confusion matrix:\n",
      " [[7 3]\n",
      " [2 1]]\n",
      "* Fold 1\n"
     ]
    },
    {
     "name": "stderr",
     "output_type": "stream",
     "text": [
      "C:\\Users\\frigi\\Desktop\\Code\\Stage-Microbiote\\Expectation-Maximization\\src\\model\\EM\\gaussian_mixture_classifier.py:133: RuntimeWarning: divide by zero encountered in log\n",
      "  log_t_i[l] = np.log(self.pi[l]) + np.log(self.p_cond(x_i, self.mu[l], self.sigma[l]))\n"
     ]
    },
    {
     "name": "stdout",
     "output_type": "stream",
     "text": [
      "[!] One gaussian has been set to 0.\n",
      "[*] EM (0/20): \n",
      "     Accuracy: 0.6153846153846154\n",
      "     Balanced Accuracy: 0.6333333333333333\n",
      "     F1 score: 0.4444444444444444\n",
      "     Confusion matrix:\n",
      " [[6 4]\n",
      " [1 2]]\n",
      "* Fold 2\n"
     ]
    },
    {
     "name": "stderr",
     "output_type": "stream",
     "text": [
      "C:\\Users\\frigi\\Desktop\\Code\\Stage-Microbiote\\Expectation-Maximization\\src\\model\\EM\\gaussian_mixture_classifier.py:133: RuntimeWarning: divide by zero encountered in log\n",
      "  log_t_i[l] = np.log(self.pi[l]) + np.log(self.p_cond(x_i, self.mu[l], self.sigma[l]))\n"
     ]
    },
    {
     "name": "stdout",
     "output_type": "stream",
     "text": [
      "[!] One gaussian has been set to 0.\n",
      "[*] EM (0/20): \n",
      "     Accuracy: 0.46153846153846156\n",
      "     Balanced Accuracy: 0.41666666666666663\n",
      "     F1 score: 0.2222222222222222\n",
      "     Confusion matrix:\n",
      " [[5 5]\n",
      " [2 1]]\n",
      "* Fold 3\n"
     ]
    },
    {
     "name": "stderr",
     "output_type": "stream",
     "text": [
      "C:\\Users\\frigi\\Desktop\\Code\\Stage-Microbiote\\Expectation-Maximization\\src\\model\\EM\\gaussian_mixture_classifier.py:133: RuntimeWarning: divide by zero encountered in log\n",
      "  log_t_i[l] = np.log(self.pi[l]) + np.log(self.p_cond(x_i, self.mu[l], self.sigma[l]))\n"
     ]
    },
    {
     "name": "stdout",
     "output_type": "stream",
     "text": [
      "[!] One gaussian has been set to 0.\n",
      "[*] EM (0/20): \n",
      "     Accuracy: 0.7692307692307693\n",
      "     Balanced Accuracy: 0.7333333333333334\n",
      "     F1 score: 0.5714285714285715\n",
      "     Confusion matrix:\n",
      " [[8 2]\n",
      " [1 2]]\n",
      "* Fold 4\n"
     ]
    },
    {
     "name": "stderr",
     "output_type": "stream",
     "text": [
      "C:\\Users\\frigi\\Desktop\\Code\\Stage-Microbiote\\Expectation-Maximization\\src\\model\\EM\\gaussian_mixture_classifier.py:133: RuntimeWarning: divide by zero encountered in log\n",
      "  log_t_i[l] = np.log(self.pi[l]) + np.log(self.p_cond(x_i, self.mu[l], self.sigma[l]))\n"
     ]
    },
    {
     "name": "stdout",
     "output_type": "stream",
     "text": [
      "[!] One gaussian has been set to 0.\n",
      "[*] EM (0/20): \n",
      "     Accuracy: 0.46153846153846156\n",
      "     Balanced Accuracy: 0.5333333333333333\n",
      "     F1 score: 0.36363636363636365\n",
      "     Confusion matrix:\n",
      " [[4 6]\n",
      " [1 2]]\n",
      "[Summary]\n",
      "     Accuracy: 0.5846153846153846 ± 0.11512791959304437\n",
      "     Balanced Accuracy: 0.5666666666666667 ± 0.10801234497346437\n",
      "     F1 score: 0.3774891774891775 ± 0.12232567588567414\n",
      "     (sum) Confusion matrix:\n",
      " [[30 20]\n",
      " [ 7  8]]\n",
      "[*] Z dim: 6\n",
      "* Fold 0\n"
     ]
    },
    {
     "name": "stderr",
     "output_type": "stream",
     "text": [
      "C:\\Users\\frigi\\Desktop\\Code\\Stage-Microbiote\\Expectation-Maximization\\src\\model\\EM\\gaussian_mixture_classifier.py:133: RuntimeWarning: divide by zero encountered in log\n",
      "  log_t_i[l] = np.log(self.pi[l]) + np.log(self.p_cond(x_i, self.mu[l], self.sigma[l]))\n"
     ]
    },
    {
     "name": "stdout",
     "output_type": "stream",
     "text": [
      "[!] One gaussian has been set to 0.\n",
      "[*] EM (0/20): \n",
      "     Accuracy: 0.5384615384615384\n",
      "     Balanced Accuracy: 0.5833333333333333\n",
      "     F1 score: 0.4\n",
      "     Confusion matrix:\n",
      " [[5 5]\n",
      " [1 2]]\n",
      "* Fold 1\n"
     ]
    },
    {
     "name": "stderr",
     "output_type": "stream",
     "text": [
      "C:\\Users\\frigi\\Desktop\\Code\\Stage-Microbiote\\Expectation-Maximization\\src\\model\\EM\\gaussian_mixture_classifier.py:133: RuntimeWarning: divide by zero encountered in log\n",
      "  log_t_i[l] = np.log(self.pi[l]) + np.log(self.p_cond(x_i, self.mu[l], self.sigma[l]))\n"
     ]
    },
    {
     "name": "stdout",
     "output_type": "stream",
     "text": [
      "[!] One gaussian has been set to 0.\n",
      "[*] EM (0/20): \n",
      "     Accuracy: 0.46153846153846156\n",
      "     Balanced Accuracy: 0.5333333333333333\n",
      "     F1 score: 0.36363636363636365\n",
      "     Confusion matrix:\n",
      " [[4 6]\n",
      " [1 2]]\n",
      "* Fold 2\n"
     ]
    },
    {
     "name": "stderr",
     "output_type": "stream",
     "text": [
      "C:\\Users\\frigi\\Desktop\\Code\\Stage-Microbiote\\Expectation-Maximization\\src\\model\\EM\\gaussian_mixture_classifier.py:133: RuntimeWarning: divide by zero encountered in log\n",
      "  log_t_i[l] = np.log(self.pi[l]) + np.log(self.p_cond(x_i, self.mu[l], self.sigma[l]))\n"
     ]
    },
    {
     "name": "stdout",
     "output_type": "stream",
     "text": [
      "[!] One gaussian has been set to 0.\n",
      "[*] EM (0/20): \n",
      "     Accuracy: 0.6153846153846154\n",
      "     Balanced Accuracy: 0.75\n",
      "     F1 score: 0.5454545454545454\n",
      "     Confusion matrix:\n",
      " [[5 5]\n",
      " [0 3]]\n",
      "* Fold 3\n"
     ]
    },
    {
     "name": "stderr",
     "output_type": "stream",
     "text": [
      "C:\\Users\\frigi\\Desktop\\Code\\Stage-Microbiote\\Expectation-Maximization\\src\\model\\EM\\gaussian_mixture_classifier.py:133: RuntimeWarning: divide by zero encountered in log\n",
      "  log_t_i[l] = np.log(self.pi[l]) + np.log(self.p_cond(x_i, self.mu[l], self.sigma[l]))\n"
     ]
    },
    {
     "name": "stdout",
     "output_type": "stream",
     "text": [
      "[!] One gaussian has been set to 0.\n",
      "[*] EM (0/20): \n",
      "     Accuracy: 0.5384615384615384\n",
      "     Balanced Accuracy: 0.5833333333333333\n",
      "     F1 score: 0.4\n",
      "     Confusion matrix:\n",
      " [[5 5]\n",
      " [1 2]]\n",
      "* Fold 4\n"
     ]
    },
    {
     "name": "stderr",
     "output_type": "stream",
     "text": [
      "C:\\Users\\frigi\\Desktop\\Code\\Stage-Microbiote\\Expectation-Maximization\\src\\model\\EM\\gaussian_mixture_classifier.py:133: RuntimeWarning: divide by zero encountered in log\n",
      "  log_t_i[l] = np.log(self.pi[l]) + np.log(self.p_cond(x_i, self.mu[l], self.sigma[l]))\n"
     ]
    },
    {
     "name": "stdout",
     "output_type": "stream",
     "text": [
      "[!] One gaussian has been set to 0.\n",
      "[*] EM (0/20): \n",
      "     Accuracy: 0.38461538461538464\n",
      "     Balanced Accuracy: 0.3666666666666667\n",
      "     F1 score: 0.2\n",
      "     Confusion matrix:\n",
      " [[4 6]\n",
      " [2 1]]\n",
      "[Summary]\n",
      "     Accuracy: 0.5076923076923077 ± 0.0784464540552736\n",
      "     Balanced Accuracy: 0.5633333333333334 ± 0.12265579661982731\n",
      "     F1 score: 0.3818181818181818 ± 0.11029637009529528\n",
      "     (sum) Confusion matrix:\n",
      " [[23 27]\n",
      " [ 5 10]]\n",
      "[*] Z dim: 7\n",
      "* Fold 0\n"
     ]
    },
    {
     "name": "stderr",
     "output_type": "stream",
     "text": [
      "C:\\Users\\frigi\\Desktop\\Code\\Stage-Microbiote\\Expectation-Maximization\\src\\model\\EM\\gaussian_mixture_classifier.py:133: RuntimeWarning: divide by zero encountered in log\n",
      "  log_t_i[l] = np.log(self.pi[l]) + np.log(self.p_cond(x_i, self.mu[l], self.sigma[l]))\n"
     ]
    },
    {
     "name": "stdout",
     "output_type": "stream",
     "text": [
      "[!] One gaussian has been set to 0.\n",
      "[*] EM (0/20): \n",
      "     Accuracy: 0.6923076923076923\n",
      "     Balanced Accuracy: 0.5666666666666667\n",
      "     F1 score: 0.3333333333333333\n",
      "     Confusion matrix:\n",
      " [[8 2]\n",
      " [2 1]]\n",
      "* Fold 1\n"
     ]
    },
    {
     "name": "stderr",
     "output_type": "stream",
     "text": [
      "C:\\Users\\frigi\\Desktop\\Code\\Stage-Microbiote\\Expectation-Maximization\\src\\model\\EM\\gaussian_mixture_classifier.py:133: RuntimeWarning: divide by zero encountered in log\n",
      "  log_t_i[l] = np.log(self.pi[l]) + np.log(self.p_cond(x_i, self.mu[l], self.sigma[l]))\n"
     ]
    },
    {
     "name": "stdout",
     "output_type": "stream",
     "text": [
      "[!] One gaussian has been set to 0.\n",
      "[*] EM (0/20): \n",
      "     Accuracy: 0.6153846153846154\n",
      "     Balanced Accuracy: 0.5166666666666666\n",
      "     F1 score: 0.28571428571428575\n",
      "     Confusion matrix:\n",
      " [[7 3]\n",
      " [2 1]]\n",
      "* Fold 2\n"
     ]
    },
    {
     "name": "stderr",
     "output_type": "stream",
     "text": [
      "C:\\Users\\frigi\\Desktop\\Code\\Stage-Microbiote\\Expectation-Maximization\\src\\model\\EM\\gaussian_mixture_classifier.py:133: RuntimeWarning: divide by zero encountered in log\n",
      "  log_t_i[l] = np.log(self.pi[l]) + np.log(self.p_cond(x_i, self.mu[l], self.sigma[l]))\n"
     ]
    },
    {
     "name": "stdout",
     "output_type": "stream",
     "text": [
      "[!] One gaussian has been set to 0.\n",
      "[*] EM (0/20): \n",
      "     Accuracy: 0.38461538461538464\n",
      "     Balanced Accuracy: 0.3666666666666667\n",
      "     F1 score: 0.2\n",
      "     Confusion matrix:\n",
      " [[4 6]\n",
      " [2 1]]\n",
      "* Fold 3\n"
     ]
    },
    {
     "name": "stderr",
     "output_type": "stream",
     "text": [
      "C:\\Users\\frigi\\Desktop\\Code\\Stage-Microbiote\\Expectation-Maximization\\src\\model\\EM\\gaussian_mixture_classifier.py:133: RuntimeWarning: divide by zero encountered in log\n",
      "  log_t_i[l] = np.log(self.pi[l]) + np.log(self.p_cond(x_i, self.mu[l], self.sigma[l]))\n"
     ]
    },
    {
     "name": "stdout",
     "output_type": "stream",
     "text": [
      "[!] One gaussian has been set to 0.\n",
      "[*] EM (0/20): \n",
      "     Accuracy: 0.6923076923076923\n",
      "     Balanced Accuracy: 0.6833333333333333\n",
      "     F1 score: 0.5\n",
      "     Confusion matrix:\n",
      " [[7 3]\n",
      " [1 2]]\n",
      "* Fold 4\n"
     ]
    },
    {
     "name": "stderr",
     "output_type": "stream",
     "text": [
      "C:\\Users\\frigi\\Desktop\\Code\\Stage-Microbiote\\Expectation-Maximization\\src\\model\\EM\\gaussian_mixture_classifier.py:133: RuntimeWarning: divide by zero encountered in log\n",
      "  log_t_i[l] = np.log(self.pi[l]) + np.log(self.p_cond(x_i, self.mu[l], self.sigma[l]))\n"
     ]
    },
    {
     "name": "stdout",
     "output_type": "stream",
     "text": [
      "[!] One gaussian has been set to 0.\n",
      "[*] EM (0/20): \n",
      "     Accuracy: 0.3076923076923077\n",
      "     Balanced Accuracy: 0.43333333333333335\n",
      "     F1 score: 0.30769230769230765\n",
      "     Confusion matrix:\n",
      " [[2 8]\n",
      " [1 2]]\n",
      "[Summary]\n",
      "     Accuracy: 0.5384615384615385 ± 0.16135520741079254\n",
      "     Balanced Accuracy: 0.5133333333333333 ± 0.10923979738782626\n",
      "     F1 score: 0.32534798534798537 ± 0.09814454904414091\n",
      "     (sum) Confusion matrix:\n",
      " [[28 22]\n",
      " [ 8  7]]\n",
      "[*] Z dim: 8\n",
      "* Fold 0\n"
     ]
    },
    {
     "name": "stderr",
     "output_type": "stream",
     "text": [
      "C:\\Users\\frigi\\Desktop\\Code\\Stage-Microbiote\\Expectation-Maximization\\src\\model\\EM\\gaussian_mixture_classifier.py:133: RuntimeWarning: divide by zero encountered in log\n",
      "  log_t_i[l] = np.log(self.pi[l]) + np.log(self.p_cond(x_i, self.mu[l], self.sigma[l]))\n"
     ]
    },
    {
     "name": "stdout",
     "output_type": "stream",
     "text": [
      "[!] One gaussian has been set to 0.\n",
      "[*] EM (0/20): \n",
      "     Accuracy: 0.46153846153846156\n",
      "     Balanced Accuracy: 0.3\n",
      "     F1 score: 0.0\n",
      "     Confusion matrix:\n",
      " [[6 4]\n",
      " [3 0]]\n",
      "* Fold 1\n"
     ]
    },
    {
     "name": "stderr",
     "output_type": "stream",
     "text": [
      "C:\\Users\\frigi\\Desktop\\Code\\Stage-Microbiote\\Expectation-Maximization\\src\\model\\EM\\gaussian_mixture_classifier.py:133: RuntimeWarning: divide by zero encountered in log\n",
      "  log_t_i[l] = np.log(self.pi[l]) + np.log(self.p_cond(x_i, self.mu[l], self.sigma[l]))\n"
     ]
    },
    {
     "name": "stdout",
     "output_type": "stream",
     "text": [
      "[!] One gaussian has been set to 0.\n",
      "[*] EM (0/20): \n",
      "     Accuracy: 0.23076923076923078\n",
      "     Balanced Accuracy: 0.15\n",
      "     F1 score: 0.0\n",
      "     Confusion matrix:\n",
      " [[3 7]\n",
      " [3 0]]\n",
      "* Fold 2\n"
     ]
    },
    {
     "name": "stderr",
     "output_type": "stream",
     "text": [
      "C:\\Users\\frigi\\Desktop\\Code\\Stage-Microbiote\\Expectation-Maximization\\src\\model\\EM\\gaussian_mixture_classifier.py:133: RuntimeWarning: divide by zero encountered in log\n",
      "  log_t_i[l] = np.log(self.pi[l]) + np.log(self.p_cond(x_i, self.mu[l], self.sigma[l]))\n"
     ]
    },
    {
     "name": "stdout",
     "output_type": "stream",
     "text": [
      "[!] One gaussian has been set to 0.\n",
      "[*] EM (0/20): \n",
      "     Accuracy: 0.5384615384615384\n",
      "     Balanced Accuracy: 0.5833333333333333\n",
      "     F1 score: 0.4\n",
      "     Confusion matrix:\n",
      " [[5 5]\n",
      " [1 2]]\n",
      "* Fold 3\n"
     ]
    },
    {
     "name": "stderr",
     "output_type": "stream",
     "text": [
      "C:\\Users\\frigi\\Desktop\\Code\\Stage-Microbiote\\Expectation-Maximization\\src\\model\\EM\\gaussian_mixture_classifier.py:133: RuntimeWarning: divide by zero encountered in log\n",
      "  log_t_i[l] = np.log(self.pi[l]) + np.log(self.p_cond(x_i, self.mu[l], self.sigma[l]))\n"
     ]
    },
    {
     "name": "stdout",
     "output_type": "stream",
     "text": [
      "[!] One gaussian has been set to 0.\n",
      "[*] EM (0/20): \n",
      "     Accuracy: 0.38461538461538464\n",
      "     Balanced Accuracy: 0.3666666666666667\n",
      "     F1 score: 0.2\n",
      "     Confusion matrix:\n",
      " [[4 6]\n",
      " [2 1]]\n",
      "* Fold 4\n"
     ]
    },
    {
     "name": "stderr",
     "output_type": "stream",
     "text": [
      "C:\\Users\\frigi\\Desktop\\Code\\Stage-Microbiote\\Expectation-Maximization\\src\\model\\EM\\gaussian_mixture_classifier.py:133: RuntimeWarning: divide by zero encountered in log\n",
      "  log_t_i[l] = np.log(self.pi[l]) + np.log(self.p_cond(x_i, self.mu[l], self.sigma[l]))\n"
     ]
    },
    {
     "name": "stdout",
     "output_type": "stream",
     "text": [
      "[!] One gaussian has been set to 0.\n",
      "[*] EM (0/20): \n",
      "     Accuracy: 0.38461538461538464\n",
      "     Balanced Accuracy: 0.3666666666666667\n",
      "     F1 score: 0.2\n",
      "     Confusion matrix:\n",
      " [[4 6]\n",
      " [2 1]]\n",
      "[Summary]\n",
      "     Accuracy: 0.4 ± 0.10204999354939691\n",
      "     Balanced Accuracy: 0.35333333333333333 ± 0.13960261060914614\n",
      "     F1 score: 0.16 ± 0.14966629547095767\n",
      "     (sum) Confusion matrix:\n",
      " [[22 28]\n",
      " [11  4]]\n",
      "[*] Z dim: 9\n",
      "* Fold 0\n"
     ]
    },
    {
     "name": "stderr",
     "output_type": "stream",
     "text": [
      "C:\\Users\\frigi\\Desktop\\Code\\Stage-Microbiote\\Expectation-Maximization\\src\\model\\EM\\gaussian_mixture_classifier.py:133: RuntimeWarning: divide by zero encountered in log\n",
      "  log_t_i[l] = np.log(self.pi[l]) + np.log(self.p_cond(x_i, self.mu[l], self.sigma[l]))\n"
     ]
    },
    {
     "name": "stdout",
     "output_type": "stream",
     "text": [
      "[!] One gaussian has been set to 0.\n",
      "[*] EM (0/20): \n",
      "     Accuracy: 0.5384615384615384\n",
      "     Balanced Accuracy: 0.5833333333333333\n",
      "     F1 score: 0.4\n",
      "     Confusion matrix:\n",
      " [[5 5]\n",
      " [1 2]]\n",
      "* Fold 1\n"
     ]
    },
    {
     "name": "stderr",
     "output_type": "stream",
     "text": [
      "C:\\Users\\frigi\\Desktop\\Code\\Stage-Microbiote\\Expectation-Maximization\\src\\model\\EM\\gaussian_mixture_classifier.py:133: RuntimeWarning: divide by zero encountered in log\n",
      "  log_t_i[l] = np.log(self.pi[l]) + np.log(self.p_cond(x_i, self.mu[l], self.sigma[l]))\n"
     ]
    },
    {
     "name": "stdout",
     "output_type": "stream",
     "text": [
      "[!] One gaussian has been set to 0.\n",
      "[*] EM (0/20): \n",
      "     Accuracy: 0.6923076923076923\n",
      "     Balanced Accuracy: 0.45\n",
      "     F1 score: 0.0\n",
      "     Confusion matrix:\n",
      " [[9 1]\n",
      " [3 0]]\n",
      "* Fold 2\n"
     ]
    },
    {
     "name": "stderr",
     "output_type": "stream",
     "text": [
      "C:\\Users\\frigi\\Desktop\\Code\\Stage-Microbiote\\Expectation-Maximization\\src\\model\\EM\\gaussian_mixture_classifier.py:133: RuntimeWarning: divide by zero encountered in log\n",
      "  log_t_i[l] = np.log(self.pi[l]) + np.log(self.p_cond(x_i, self.mu[l], self.sigma[l]))\n"
     ]
    },
    {
     "name": "stdout",
     "output_type": "stream",
     "text": [
      "[!] One gaussian has been set to 0.\n",
      "[*] EM (0/20): \n",
      "     Accuracy: 0.6923076923076923\n",
      "     Balanced Accuracy: 0.5666666666666667\n",
      "     F1 score: 0.3333333333333333\n",
      "     Confusion matrix:\n",
      " [[8 2]\n",
      " [2 1]]\n",
      "* Fold 3\n"
     ]
    },
    {
     "name": "stderr",
     "output_type": "stream",
     "text": [
      "C:\\Users\\frigi\\Desktop\\Code\\Stage-Microbiote\\Expectation-Maximization\\src\\model\\EM\\gaussian_mixture_classifier.py:133: RuntimeWarning: divide by zero encountered in log\n",
      "  log_t_i[l] = np.log(self.pi[l]) + np.log(self.p_cond(x_i, self.mu[l], self.sigma[l]))\n"
     ]
    },
    {
     "name": "stdout",
     "output_type": "stream",
     "text": [
      "[!] One gaussian has been set to 0.\n",
      "[*] EM (0/20): \n",
      "     Accuracy: 0.6153846153846154\n",
      "     Balanced Accuracy: 0.6333333333333333\n",
      "     F1 score: 0.4444444444444444\n",
      "     Confusion matrix:\n",
      " [[6 4]\n",
      " [1 2]]\n",
      "* Fold 4\n"
     ]
    },
    {
     "name": "stderr",
     "output_type": "stream",
     "text": [
      "C:\\Users\\frigi\\Desktop\\Code\\Stage-Microbiote\\Expectation-Maximization\\src\\model\\EM\\gaussian_mixture_classifier.py:133: RuntimeWarning: divide by zero encountered in log\n",
      "  log_t_i[l] = np.log(self.pi[l]) + np.log(self.p_cond(x_i, self.mu[l], self.sigma[l]))\n"
     ]
    },
    {
     "name": "stdout",
     "output_type": "stream",
     "text": [
      "[!] One gaussian has been set to 0.\n",
      "[*] EM (0/20): \n"
     ]
    },
    {
     "name": "stderr",
     "output_type": "stream",
     "text": [
      "C:\\Users\\frigi\\Desktop\\Code\\Stage-Microbiote\\Expectation-Maximization\\src\\model\\EM\\gaussian_mixture_classifier.py:133: RuntimeWarning: divide by zero encountered in log\n",
      "  log_t_i[l] = np.log(self.pi[l]) + np.log(self.p_cond(x_i, self.mu[l], self.sigma[l]))\n"
     ]
    },
    {
     "name": "stdout",
     "output_type": "stream",
     "text": [
      "     Accuracy: 0.46153846153846156\n",
      "     Balanced Accuracy: 0.5333333333333333\n",
      "     F1 score: 0.36363636363636365\n",
      "     Confusion matrix:\n",
      " [[4 6]\n",
      " [1 2]]\n",
      "[Summary]\n",
      "     Accuracy: 0.6 ± 0.08970695222838923\n",
      "     Balanced Accuracy: 0.5533333333333333 ± 0.06091888960832353\n",
      "     F1 score: 0.30828282828282827 ± 0.15854454843798363\n",
      "     (sum) Confusion matrix:\n",
      " [[32 18]\n",
      " [ 8  7]]\n",
      "[*] Z dim: 10\n",
      "* Fold 0\n",
      "[!] One gaussian has been set to 0.\n",
      "[*] EM (0/20): \n",
      "     Accuracy: 0.5384615384615384\n",
      "     Balanced Accuracy: 0.5833333333333333\n",
      "     F1 score: 0.4\n",
      "     Confusion matrix:\n",
      " [[5 5]\n",
      " [1 2]]\n",
      "* Fold 1\n"
     ]
    },
    {
     "name": "stderr",
     "output_type": "stream",
     "text": [
      "C:\\Users\\frigi\\Desktop\\Code\\Stage-Microbiote\\Expectation-Maximization\\src\\model\\EM\\gaussian_mixture_classifier.py:133: RuntimeWarning: divide by zero encountered in log\n",
      "  log_t_i[l] = np.log(self.pi[l]) + np.log(self.p_cond(x_i, self.mu[l], self.sigma[l]))\n"
     ]
    },
    {
     "name": "stdout",
     "output_type": "stream",
     "text": [
      "[!] One gaussian has been set to 0.\n",
      "[*] EM (0/20): \n",
      "     Accuracy: 0.46153846153846156\n",
      "     Balanced Accuracy: 0.3\n",
      "     F1 score: 0.0\n",
      "     Confusion matrix:\n",
      " [[6 4]\n",
      " [3 0]]\n",
      "* Fold 2\n"
     ]
    },
    {
     "name": "stderr",
     "output_type": "stream",
     "text": [
      "C:\\Users\\frigi\\Desktop\\Code\\Stage-Microbiote\\Expectation-Maximization\\src\\model\\EM\\gaussian_mixture_classifier.py:133: RuntimeWarning: divide by zero encountered in log\n",
      "  log_t_i[l] = np.log(self.pi[l]) + np.log(self.p_cond(x_i, self.mu[l], self.sigma[l]))\n"
     ]
    },
    {
     "name": "stdout",
     "output_type": "stream",
     "text": [
      "[!] One gaussian has been set to 0.\n",
      "[*] EM (0/20): \n",
      "     Accuracy: 0.38461538461538464\n",
      "     Balanced Accuracy: 0.3666666666666667\n",
      "     F1 score: 0.2\n",
      "     Confusion matrix:\n",
      " [[4 6]\n",
      " [2 1]]\n",
      "* Fold 3\n"
     ]
    },
    {
     "name": "stderr",
     "output_type": "stream",
     "text": [
      "C:\\Users\\frigi\\Desktop\\Code\\Stage-Microbiote\\Expectation-Maximization\\src\\model\\EM\\gaussian_mixture_classifier.py:133: RuntimeWarning: divide by zero encountered in log\n",
      "  log_t_i[l] = np.log(self.pi[l]) + np.log(self.p_cond(x_i, self.mu[l], self.sigma[l]))\n"
     ]
    },
    {
     "name": "stdout",
     "output_type": "stream",
     "text": [
      "[!] One gaussian has been set to 0.\n",
      "[*] EM (0/20): \n",
      "     Accuracy: 0.3076923076923077\n",
      "     Balanced Accuracy: 0.43333333333333335\n",
      "     F1 score: 0.30769230769230765\n",
      "     Confusion matrix:\n",
      " [[2 8]\n",
      " [1 2]]\n",
      "* Fold 4\n"
     ]
    },
    {
     "name": "stderr",
     "output_type": "stream",
     "text": [
      "C:\\Users\\frigi\\Desktop\\Code\\Stage-Microbiote\\Expectation-Maximization\\src\\model\\EM\\gaussian_mixture_classifier.py:133: RuntimeWarning: divide by zero encountered in log\n",
      "  log_t_i[l] = np.log(self.pi[l]) + np.log(self.p_cond(x_i, self.mu[l], self.sigma[l]))\n"
     ]
    },
    {
     "name": "stdout",
     "output_type": "stream",
     "text": [
      "[!] One gaussian has been set to 0.\n",
      "[*] EM (0/20): \n",
      "     Accuracy: 0.6153846153846154\n",
      "     Balanced Accuracy: 0.6333333333333333\n",
      "     F1 score: 0.4444444444444444\n",
      "     Confusion matrix:\n",
      " [[6 4]\n",
      " [1 2]]\n",
      "[Summary]\n",
      "     Accuracy: 0.4615384615384615 ± 0.10878565864408424\n",
      "     Balanced Accuracy: 0.46333333333333326 ± 0.12666666666666665\n",
      "     F1 score: 0.27042735042735044 ± 0.15909158438758705\n",
      "     (sum) Confusion matrix:\n",
      " [[23 27]\n",
      " [ 8  7]]\n",
      "[*] Z dim: 11\n",
      "* Fold 0\n"
     ]
    },
    {
     "name": "stderr",
     "output_type": "stream",
     "text": [
      "C:\\Users\\frigi\\Desktop\\Code\\Stage-Microbiote\\Expectation-Maximization\\src\\model\\EM\\gaussian_mixture_classifier.py:133: RuntimeWarning: divide by zero encountered in log\n",
      "  log_t_i[l] = np.log(self.pi[l]) + np.log(self.p_cond(x_i, self.mu[l], self.sigma[l]))\n"
     ]
    },
    {
     "name": "stdout",
     "output_type": "stream",
     "text": [
      "[!] One gaussian has been set to 0.\n",
      "[*] EM (0/20): \n"
     ]
    },
    {
     "name": "stderr",
     "output_type": "stream",
     "text": [
      "C:\\Users\\frigi\\Desktop\\Code\\Stage-Microbiote\\Expectation-Maximization\\src\\model\\EM\\gaussian_mixture_classifier.py:133: RuntimeWarning: divide by zero encountered in log\n",
      "  log_t_i[l] = np.log(self.pi[l]) + np.log(self.p_cond(x_i, self.mu[l], self.sigma[l]))\n"
     ]
    },
    {
     "name": "stdout",
     "output_type": "stream",
     "text": [
      "     Accuracy: 0.46153846153846156\n",
      "     Balanced Accuracy: 0.5333333333333333\n",
      "     F1 score: 0.36363636363636365\n",
      "     Confusion matrix:\n",
      " [[4 6]\n",
      " [1 2]]\n",
      "* Fold 1\n",
      "[!] One gaussian has been set to 0.\n",
      "[*] EM (0/20): \n",
      "     Accuracy: 0.6153846153846154\n",
      "     Balanced Accuracy: 0.6333333333333333\n",
      "     F1 score: 0.4444444444444444\n",
      "     Confusion matrix:\n",
      " [[6 4]\n",
      " [1 2]]\n",
      "* Fold 2\n"
     ]
    },
    {
     "name": "stderr",
     "output_type": "stream",
     "text": [
      "C:\\Users\\frigi\\Desktop\\Code\\Stage-Microbiote\\Expectation-Maximization\\src\\model\\EM\\gaussian_mixture_classifier.py:133: RuntimeWarning: divide by zero encountered in log\n",
      "  log_t_i[l] = np.log(self.pi[l]) + np.log(self.p_cond(x_i, self.mu[l], self.sigma[l]))\n"
     ]
    },
    {
     "name": "stdout",
     "output_type": "stream",
     "text": [
      "[!] One gaussian has been set to 0.\n",
      "[*] EM (0/20): \n",
      "     Accuracy: 0.6153846153846154\n",
      "     Balanced Accuracy: 0.75\n",
      "     F1 score: 0.5454545454545454\n",
      "     Confusion matrix:\n",
      " [[5 5]\n",
      " [0 3]]\n",
      "* Fold 3\n"
     ]
    },
    {
     "name": "stderr",
     "output_type": "stream",
     "text": [
      "C:\\Users\\frigi\\Desktop\\Code\\Stage-Microbiote\\Expectation-Maximization\\src\\model\\EM\\gaussian_mixture_classifier.py:133: RuntimeWarning: divide by zero encountered in log\n",
      "  log_t_i[l] = np.log(self.pi[l]) + np.log(self.p_cond(x_i, self.mu[l], self.sigma[l]))\n"
     ]
    },
    {
     "name": "stdout",
     "output_type": "stream",
     "text": [
      "[!] One gaussian has been set to 0.\n",
      "[*] EM (0/20): \n",
      "     Accuracy: 0.5384615384615384\n",
      "     Balanced Accuracy: 0.4666666666666667\n",
      "     F1 score: 0.25\n",
      "     Confusion matrix:\n",
      " [[6 4]\n",
      " [2 1]]\n",
      "* Fold 4\n"
     ]
    },
    {
     "name": "stderr",
     "output_type": "stream",
     "text": [
      "C:\\Users\\frigi\\Desktop\\Code\\Stage-Microbiote\\Expectation-Maximization\\src\\model\\EM\\gaussian_mixture_classifier.py:133: RuntimeWarning: divide by zero encountered in log\n",
      "  log_t_i[l] = np.log(self.pi[l]) + np.log(self.p_cond(x_i, self.mu[l], self.sigma[l]))\n"
     ]
    },
    {
     "name": "stdout",
     "output_type": "stream",
     "text": [
      "[!] One gaussian has been set to 0.\n",
      "[*] EM (0/20): \n",
      "     Accuracy: 0.6923076923076923\n",
      "     Balanced Accuracy: 0.8\n",
      "     F1 score: 0.6\n",
      "     Confusion matrix:\n",
      " [[6 4]\n",
      " [0 3]]\n",
      "[Summary]\n",
      "     Accuracy: 0.5846153846153846 ± 0.07844645405527362\n",
      "     Balanced Accuracy: 0.6366666666666667 ± 0.12578641509408806\n",
      "     F1 score: 0.4407070707070707 ± 0.12543469971040566\n",
      "     (sum) Confusion matrix:\n",
      " [[27 23]\n",
      " [ 4 11]]\n",
      "[*] Z dim: 12\n",
      "* Fold 0\n"
     ]
    },
    {
     "name": "stderr",
     "output_type": "stream",
     "text": [
      "C:\\Users\\frigi\\Desktop\\Code\\Stage-Microbiote\\Expectation-Maximization\\src\\model\\EM\\gaussian_mixture_classifier.py:133: RuntimeWarning: divide by zero encountered in log\n",
      "  log_t_i[l] = np.log(self.pi[l]) + np.log(self.p_cond(x_i, self.mu[l], self.sigma[l]))\n"
     ]
    },
    {
     "name": "stdout",
     "output_type": "stream",
     "text": [
      "[!] One gaussian has been set to 0.\n",
      "[*] EM (0/20): \n",
      "     Accuracy: 0.6153846153846154\n",
      "     Balanced Accuracy: 0.75\n",
      "     F1 score: 0.5454545454545454\n",
      "     Confusion matrix:\n",
      " [[5 5]\n",
      " [0 3]]\n",
      "* Fold 1\n"
     ]
    },
    {
     "name": "stderr",
     "output_type": "stream",
     "text": [
      "C:\\Users\\frigi\\Desktop\\Code\\Stage-Microbiote\\Expectation-Maximization\\src\\model\\EM\\gaussian_mixture_classifier.py:133: RuntimeWarning: divide by zero encountered in log\n",
      "  log_t_i[l] = np.log(self.pi[l]) + np.log(self.p_cond(x_i, self.mu[l], self.sigma[l]))\n"
     ]
    },
    {
     "name": "stdout",
     "output_type": "stream",
     "text": [
      "[!] One gaussian has been set to 0.\n",
      "[*] EM (0/20): \n",
      "     Accuracy: 0.46153846153846156\n",
      "     Balanced Accuracy: 0.5333333333333333\n",
      "     F1 score: 0.36363636363636365\n",
      "     Confusion matrix:\n",
      " [[4 6]\n",
      " [1 2]]\n",
      "* Fold 2\n"
     ]
    },
    {
     "name": "stderr",
     "output_type": "stream",
     "text": [
      "C:\\Users\\frigi\\Desktop\\Code\\Stage-Microbiote\\Expectation-Maximization\\src\\model\\EM\\gaussian_mixture_classifier.py:133: RuntimeWarning: divide by zero encountered in log\n",
      "  log_t_i[l] = np.log(self.pi[l]) + np.log(self.p_cond(x_i, self.mu[l], self.sigma[l]))\n"
     ]
    },
    {
     "name": "stdout",
     "output_type": "stream",
     "text": [
      "[!] One gaussian has been set to 0.\n",
      "[*] EM (0/20): \n",
      "     Accuracy: 0.38461538461538464\n",
      "     Balanced Accuracy: 0.25\n",
      "     F1 score: 0.0\n",
      "     Confusion matrix:\n",
      " [[5 5]\n",
      " [3 0]]\n",
      "* Fold 3\n"
     ]
    },
    {
     "name": "stderr",
     "output_type": "stream",
     "text": [
      "C:\\Users\\frigi\\Desktop\\Code\\Stage-Microbiote\\Expectation-Maximization\\src\\model\\EM\\gaussian_mixture_classifier.py:133: RuntimeWarning: divide by zero encountered in log\n",
      "  log_t_i[l] = np.log(self.pi[l]) + np.log(self.p_cond(x_i, self.mu[l], self.sigma[l]))\n"
     ]
    },
    {
     "name": "stdout",
     "output_type": "stream",
     "text": [
      "[!] One gaussian has been set to 0.\n",
      "[*] EM (0/20): \n",
      "     Accuracy: 0.5384615384615384\n",
      "     Balanced Accuracy: 0.4666666666666667\n",
      "     F1 score: 0.25\n",
      "     Confusion matrix:\n",
      " [[6 4]\n",
      " [2 1]]\n",
      "* Fold 4\n"
     ]
    },
    {
     "name": "stderr",
     "output_type": "stream",
     "text": [
      "C:\\Users\\frigi\\Desktop\\Code\\Stage-Microbiote\\Expectation-Maximization\\src\\model\\EM\\gaussian_mixture_classifier.py:133: RuntimeWarning: divide by zero encountered in log\n",
      "  log_t_i[l] = np.log(self.pi[l]) + np.log(self.p_cond(x_i, self.mu[l], self.sigma[l]))\n"
     ]
    },
    {
     "name": "stdout",
     "output_type": "stream",
     "text": [
      "[!] One gaussian has been set to 0.\n",
      "[*] EM (0/20): \n",
      "     Accuracy: 0.5384615384615384\n",
      "     Balanced Accuracy: 0.5833333333333333\n",
      "     F1 score: 0.4\n",
      "     Confusion matrix:\n",
      " [[5 5]\n",
      " [1 2]]\n",
      "[Summary]\n",
      "     Accuracy: 0.5076923076923077 ± 0.0784464540552736\n",
      "     Balanced Accuracy: 0.5166666666666666 ± 0.16295875415440422\n",
      "     F1 score: 0.3118181818181818 ± 0.1822630920146583\n",
      "     (sum) Confusion matrix:\n",
      " [[25 25]\n",
      " [ 7  8]]\n",
      "[*] Z dim: 13\n",
      "* Fold 0\n"
     ]
    },
    {
     "name": "stderr",
     "output_type": "stream",
     "text": [
      "C:\\Users\\frigi\\Desktop\\Code\\Stage-Microbiote\\Expectation-Maximization\\src\\model\\EM\\gaussian_mixture_classifier.py:133: RuntimeWarning: divide by zero encountered in log\n",
      "  log_t_i[l] = np.log(self.pi[l]) + np.log(self.p_cond(x_i, self.mu[l], self.sigma[l]))\n"
     ]
    },
    {
     "name": "stdout",
     "output_type": "stream",
     "text": [
      "[!] One gaussian has been set to 0.\n",
      "[*] EM (0/20): \n",
      "     Accuracy: 0.3076923076923077\n",
      "     Balanced Accuracy: 0.31666666666666665\n",
      "     F1 score: 0.18181818181818182\n",
      "     Confusion matrix:\n",
      " [[3 7]\n",
      " [2 1]]\n",
      "* Fold 1\n"
     ]
    },
    {
     "name": "stderr",
     "output_type": "stream",
     "text": [
      "C:\\Users\\frigi\\Desktop\\Code\\Stage-Microbiote\\Expectation-Maximization\\src\\model\\EM\\gaussian_mixture_classifier.py:133: RuntimeWarning: divide by zero encountered in log\n",
      "  log_t_i[l] = np.log(self.pi[l]) + np.log(self.p_cond(x_i, self.mu[l], self.sigma[l]))\n"
     ]
    },
    {
     "name": "stdout",
     "output_type": "stream",
     "text": [
      "[!] One gaussian has been set to 0.\n",
      "[*] EM (0/20): \n",
      "     Accuracy: 0.6923076923076923\n",
      "     Balanced Accuracy: 0.8\n",
      "     F1 score: 0.6\n",
      "     Confusion matrix:\n",
      " [[6 4]\n",
      " [0 3]]\n",
      "* Fold 2\n"
     ]
    },
    {
     "name": "stderr",
     "output_type": "stream",
     "text": [
      "C:\\Users\\frigi\\Desktop\\Code\\Stage-Microbiote\\Expectation-Maximization\\src\\model\\EM\\gaussian_mixture_classifier.py:133: RuntimeWarning: divide by zero encountered in log\n",
      "  log_t_i[l] = np.log(self.pi[l]) + np.log(self.p_cond(x_i, self.mu[l], self.sigma[l]))\n"
     ]
    },
    {
     "name": "stdout",
     "output_type": "stream",
     "text": [
      "[!] One gaussian has been set to 0.\n",
      "[*] EM (0/20): \n",
      "     Accuracy: 0.5384615384615384\n",
      "     Balanced Accuracy: 0.5833333333333333\n",
      "     F1 score: 0.4\n",
      "     Confusion matrix:\n",
      " [[5 5]\n",
      " [1 2]]\n",
      "* Fold 3\n"
     ]
    },
    {
     "name": "stderr",
     "output_type": "stream",
     "text": [
      "C:\\Users\\frigi\\Desktop\\Code\\Stage-Microbiote\\Expectation-Maximization\\src\\model\\EM\\gaussian_mixture_classifier.py:133: RuntimeWarning: divide by zero encountered in log\n",
      "  log_t_i[l] = np.log(self.pi[l]) + np.log(self.p_cond(x_i, self.mu[l], self.sigma[l]))\n"
     ]
    },
    {
     "name": "stdout",
     "output_type": "stream",
     "text": [
      "[!] One gaussian has been set to 0.\n",
      "[*] EM (0/20): \n",
      "     Accuracy: 0.15384615384615385\n",
      "     Balanced Accuracy: 0.21666666666666667\n",
      "     F1 score: 0.15384615384615383\n",
      "     Confusion matrix:\n",
      " [[1 9]\n",
      " [2 1]]\n",
      "* Fold 4\n"
     ]
    },
    {
     "name": "stderr",
     "output_type": "stream",
     "text": [
      "C:\\Users\\frigi\\Desktop\\Code\\Stage-Microbiote\\Expectation-Maximization\\src\\model\\EM\\gaussian_mixture_classifier.py:133: RuntimeWarning: divide by zero encountered in log\n",
      "  log_t_i[l] = np.log(self.pi[l]) + np.log(self.p_cond(x_i, self.mu[l], self.sigma[l]))\n"
     ]
    },
    {
     "name": "stdout",
     "output_type": "stream",
     "text": [
      "[!] One gaussian has been set to 0.\n",
      "[*] EM (0/20): \n",
      "     Accuracy: 0.46153846153846156\n",
      "     Balanced Accuracy: 0.5333333333333333\n",
      "     F1 score: 0.36363636363636365\n",
      "     Confusion matrix:\n",
      " [[4 6]\n",
      " [1 2]]\n",
      "[Summary]\n",
      "     Accuracy: 0.43076923076923074 ± 0.185893014978378\n",
      "     Balanced Accuracy: 0.48999999999999994 ± 0.20564262420249574\n",
      "     F1 score: 0.33986013986013985 ± 0.16213162672522127\n",
      "     (sum) Confusion matrix:\n",
      " [[19 31]\n",
      " [ 6  9]]\n",
      "[*] Z dim: 14\n",
      "* Fold 0\n"
     ]
    },
    {
     "name": "stderr",
     "output_type": "stream",
     "text": [
      "C:\\Users\\frigi\\Desktop\\Code\\Stage-Microbiote\\Expectation-Maximization\\src\\model\\EM\\gaussian_mixture_classifier.py:133: RuntimeWarning: divide by zero encountered in log\n",
      "  log_t_i[l] = np.log(self.pi[l]) + np.log(self.p_cond(x_i, self.mu[l], self.sigma[l]))\n"
     ]
    },
    {
     "name": "stdout",
     "output_type": "stream",
     "text": [
      "[!] One gaussian has been set to 0.\n",
      "[*] EM (0/20): \n",
      "     Accuracy: 0.38461538461538464\n",
      "     Balanced Accuracy: 0.4833333333333333\n",
      "     F1 score: 0.3333333333333333\n",
      "     Confusion matrix:\n",
      " [[3 7]\n",
      " [1 2]]\n",
      "* Fold 1\n"
     ]
    },
    {
     "name": "stderr",
     "output_type": "stream",
     "text": [
      "C:\\Users\\frigi\\Desktop\\Code\\Stage-Microbiote\\Expectation-Maximization\\src\\model\\EM\\gaussian_mixture_classifier.py:133: RuntimeWarning: divide by zero encountered in log\n",
      "  log_t_i[l] = np.log(self.pi[l]) + np.log(self.p_cond(x_i, self.mu[l], self.sigma[l]))\n"
     ]
    },
    {
     "name": "stdout",
     "output_type": "stream",
     "text": [
      "[!] One gaussian has been set to 0.\n",
      "[*] EM (0/20): \n",
      "     Accuracy: 0.6153846153846154\n",
      "     Balanced Accuracy: 0.6333333333333333\n",
      "     F1 score: 0.4444444444444444\n",
      "     Confusion matrix:\n",
      " [[6 4]\n",
      " [1 2]]\n",
      "* Fold 2\n"
     ]
    },
    {
     "name": "stderr",
     "output_type": "stream",
     "text": [
      "C:\\Users\\frigi\\Desktop\\Code\\Stage-Microbiote\\Expectation-Maximization\\src\\model\\EM\\gaussian_mixture_classifier.py:133: RuntimeWarning: divide by zero encountered in log\n",
      "  log_t_i[l] = np.log(self.pi[l]) + np.log(self.p_cond(x_i, self.mu[l], self.sigma[l]))\n"
     ]
    },
    {
     "name": "stdout",
     "output_type": "stream",
     "text": [
      "[!] One gaussian has been set to 0.\n",
      "[*] EM (0/20): \n",
      "     Accuracy: 0.23076923076923078\n",
      "     Balanced Accuracy: 0.15\n",
      "     F1 score: 0.0\n",
      "     Confusion matrix:\n",
      " [[3 7]\n",
      " [3 0]]\n",
      "* Fold 3\n"
     ]
    },
    {
     "name": "stderr",
     "output_type": "stream",
     "text": [
      "C:\\Users\\frigi\\Desktop\\Code\\Stage-Microbiote\\Expectation-Maximization\\src\\model\\EM\\gaussian_mixture_classifier.py:133: RuntimeWarning: divide by zero encountered in log\n",
      "  log_t_i[l] = np.log(self.pi[l]) + np.log(self.p_cond(x_i, self.mu[l], self.sigma[l]))\n"
     ]
    },
    {
     "name": "stdout",
     "output_type": "stream",
     "text": [
      "[!] One gaussian has been set to 0.\n",
      "[*] EM (0/20): \n"
     ]
    },
    {
     "name": "stderr",
     "output_type": "stream",
     "text": [
      "C:\\Users\\frigi\\Desktop\\Code\\Stage-Microbiote\\Expectation-Maximization\\src\\model\\EM\\gaussian_mixture_classifier.py:133: RuntimeWarning: divide by zero encountered in log\n",
      "  log_t_i[l] = np.log(self.pi[l]) + np.log(self.p_cond(x_i, self.mu[l], self.sigma[l]))\n"
     ]
    },
    {
     "name": "stdout",
     "output_type": "stream",
     "text": [
      "     Accuracy: 0.46153846153846156\n",
      "     Balanced Accuracy: 0.65\n",
      "     F1 score: 0.4615384615384615\n",
      "     Confusion matrix:\n",
      " [[3 7]\n",
      " [0 3]]\n",
      "* Fold 4\n",
      "[!] One gaussian has been set to 0.\n",
      "[*] EM (0/20): \n",
      "     Accuracy: 0.6923076923076923\n",
      "     Balanced Accuracy: 0.6833333333333333\n",
      "     F1 score: 0.5\n",
      "     Confusion matrix:\n",
      " [[7 3]\n",
      " [1 2]]\n",
      "[Summary]\n",
      "     Accuracy: 0.476923076923077 ± 0.16426274233894322\n",
      "     Balanced Accuracy: 0.5199999999999999 ± 0.19731531449264988\n",
      "     F1 score: 0.34786324786324785 ± 0.18254617537384604\n",
      "     (sum) Confusion matrix:\n",
      " [[22 28]\n",
      " [ 6  9]]\n",
      "[*] Z dim: 15\n",
      "* Fold 0\n"
     ]
    },
    {
     "name": "stderr",
     "output_type": "stream",
     "text": [
      "C:\\Users\\frigi\\Desktop\\Code\\Stage-Microbiote\\Expectation-Maximization\\src\\model\\EM\\gaussian_mixture_classifier.py:133: RuntimeWarning: divide by zero encountered in log\n",
      "  log_t_i[l] = np.log(self.pi[l]) + np.log(self.p_cond(x_i, self.mu[l], self.sigma[l]))\n"
     ]
    },
    {
     "name": "stdout",
     "output_type": "stream",
     "text": [
      "[!] One gaussian has been set to 0.\n",
      "[*] EM (0/20): \n",
      "     Accuracy: 0.46153846153846156\n",
      "     Balanced Accuracy: 0.3\n",
      "     F1 score: 0.0\n",
      "     Confusion matrix:\n",
      " [[6 4]\n",
      " [3 0]]\n",
      "* Fold 1\n"
     ]
    },
    {
     "name": "stderr",
     "output_type": "stream",
     "text": [
      "C:\\Users\\frigi\\Desktop\\Code\\Stage-Microbiote\\Expectation-Maximization\\src\\model\\EM\\gaussian_mixture_classifier.py:133: RuntimeWarning: divide by zero encountered in log\n",
      "  log_t_i[l] = np.log(self.pi[l]) + np.log(self.p_cond(x_i, self.mu[l], self.sigma[l]))\n"
     ]
    },
    {
     "name": "stdout",
     "output_type": "stream",
     "text": [
      "[!] One gaussian has been set to 0.\n",
      "[*] EM (0/20): \n",
      "     Accuracy: 0.46153846153846156\n",
      "     Balanced Accuracy: 0.5333333333333333\n",
      "     F1 score: 0.36363636363636365\n",
      "     Confusion matrix:\n",
      " [[4 6]\n",
      " [1 2]]\n",
      "* Fold 2\n"
     ]
    },
    {
     "name": "stderr",
     "output_type": "stream",
     "text": [
      "C:\\Users\\frigi\\Desktop\\Code\\Stage-Microbiote\\Expectation-Maximization\\src\\model\\EM\\gaussian_mixture_classifier.py:133: RuntimeWarning: divide by zero encountered in log\n",
      "  log_t_i[l] = np.log(self.pi[l]) + np.log(self.p_cond(x_i, self.mu[l], self.sigma[l]))\n"
     ]
    },
    {
     "name": "stdout",
     "output_type": "stream",
     "text": [
      "[!] One gaussian has been set to 0.\n",
      "[*] EM (0/20): \n",
      "     Accuracy: 0.5384615384615384\n",
      "     Balanced Accuracy: 0.4666666666666667\n",
      "     F1 score: 0.25\n",
      "     Confusion matrix:\n",
      " [[6 4]\n",
      " [2 1]]\n",
      "* Fold 3\n"
     ]
    },
    {
     "name": "stderr",
     "output_type": "stream",
     "text": [
      "C:\\Users\\frigi\\Desktop\\Code\\Stage-Microbiote\\Expectation-Maximization\\src\\model\\EM\\gaussian_mixture_classifier.py:133: RuntimeWarning: divide by zero encountered in log\n",
      "  log_t_i[l] = np.log(self.pi[l]) + np.log(self.p_cond(x_i, self.mu[l], self.sigma[l]))\n"
     ]
    },
    {
     "name": "stdout",
     "output_type": "stream",
     "text": [
      "[!] One gaussian has been set to 0.\n",
      "[*] EM (0/20): \n"
     ]
    },
    {
     "name": "stderr",
     "output_type": "stream",
     "text": [
      "C:\\Users\\frigi\\Desktop\\Code\\Stage-Microbiote\\Expectation-Maximization\\src\\model\\EM\\gaussian_mixture_classifier.py:133: RuntimeWarning: divide by zero encountered in log\n",
      "  log_t_i[l] = np.log(self.pi[l]) + np.log(self.p_cond(x_i, self.mu[l], self.sigma[l]))\n"
     ]
    },
    {
     "name": "stdout",
     "output_type": "stream",
     "text": [
      "     Accuracy: 0.3076923076923077\n",
      "     Balanced Accuracy: 0.31666666666666665\n",
      "     F1 score: 0.18181818181818182\n",
      "     Confusion matrix:\n",
      " [[3 7]\n",
      " [2 1]]\n",
      "* Fold 4\n",
      "[!] One gaussian has been set to 0.\n",
      "[*] EM (0/20): \n",
      "     Accuracy: 0.46153846153846156\n",
      "     Balanced Accuracy: 0.41666666666666663\n",
      "     F1 score: 0.2222222222222222\n",
      "     Confusion matrix:\n",
      " [[5 5]\n",
      " [2 1]]\n",
      "[Summary]\n",
      "     Accuracy: 0.4461538461538462 ± 0.07536891516255932\n",
      "     Balanced Accuracy: 0.4066666666666666 ± 0.08856886837057616\n",
      "     F1 score: 0.20353535353535354 ± 0.1183543590696372\n",
      "     (sum) Confusion matrix:\n",
      " [[24 26]\n",
      " [10  5]]\n",
      "[*] Z dim: 16\n",
      "* Fold 0\n"
     ]
    },
    {
     "name": "stderr",
     "output_type": "stream",
     "text": [
      "C:\\Users\\frigi\\Desktop\\Code\\Stage-Microbiote\\Expectation-Maximization\\src\\model\\EM\\gaussian_mixture_classifier.py:133: RuntimeWarning: divide by zero encountered in log\n",
      "  log_t_i[l] = np.log(self.pi[l]) + np.log(self.p_cond(x_i, self.mu[l], self.sigma[l]))\n"
     ]
    },
    {
     "name": "stdout",
     "output_type": "stream",
     "text": [
      "[!] One gaussian has been set to 0.\n",
      "[*] EM (0/20): \n",
      "     Accuracy: 0.5384615384615384\n",
      "     Balanced Accuracy: 0.4666666666666667\n",
      "     F1 score: 0.25\n",
      "     Confusion matrix:\n",
      " [[6 4]\n",
      " [2 1]]\n",
      "* Fold 1\n"
     ]
    },
    {
     "name": "stderr",
     "output_type": "stream",
     "text": [
      "C:\\Users\\frigi\\Desktop\\Code\\Stage-Microbiote\\Expectation-Maximization\\src\\model\\EM\\gaussian_mixture_classifier.py:133: RuntimeWarning: divide by zero encountered in log\n",
      "  log_t_i[l] = np.log(self.pi[l]) + np.log(self.p_cond(x_i, self.mu[l], self.sigma[l]))\n"
     ]
    },
    {
     "name": "stdout",
     "output_type": "stream",
     "text": [
      "[!] One gaussian has been set to 0.\n",
      "[*] EM (0/20): \n",
      "     Accuracy: 0.38461538461538464\n",
      "     Balanced Accuracy: 0.3666666666666667\n",
      "     F1 score: 0.2\n",
      "     Confusion matrix:\n",
      " [[4 6]\n",
      " [2 1]]\n",
      "* Fold 2\n"
     ]
    },
    {
     "name": "stderr",
     "output_type": "stream",
     "text": [
      "C:\\Users\\frigi\\Desktop\\Code\\Stage-Microbiote\\Expectation-Maximization\\src\\model\\EM\\gaussian_mixture_classifier.py:133: RuntimeWarning: divide by zero encountered in log\n",
      "  log_t_i[l] = np.log(self.pi[l]) + np.log(self.p_cond(x_i, self.mu[l], self.sigma[l]))\n"
     ]
    },
    {
     "name": "stdout",
     "output_type": "stream",
     "text": [
      "[!] One gaussian has been set to 0.\n",
      "[*] EM (0/20): \n",
      "     Accuracy: 0.38461538461538464\n",
      "     Balanced Accuracy: 0.4833333333333333\n",
      "     F1 score: 0.3333333333333333\n",
      "     Confusion matrix:\n",
      " [[3 7]\n",
      " [1 2]]\n",
      "* Fold 3\n"
     ]
    },
    {
     "name": "stderr",
     "output_type": "stream",
     "text": [
      "C:\\Users\\frigi\\Desktop\\Code\\Stage-Microbiote\\Expectation-Maximization\\src\\model\\EM\\gaussian_mixture_classifier.py:133: RuntimeWarning: divide by zero encountered in log\n",
      "  log_t_i[l] = np.log(self.pi[l]) + np.log(self.p_cond(x_i, self.mu[l], self.sigma[l]))\n"
     ]
    },
    {
     "name": "stdout",
     "output_type": "stream",
     "text": [
      "[!] One gaussian has been set to 0.\n",
      "[*] EM (0/20): \n"
     ]
    },
    {
     "name": "stderr",
     "output_type": "stream",
     "text": [
      "C:\\Users\\frigi\\Desktop\\Code\\Stage-Microbiote\\Expectation-Maximization\\src\\model\\EM\\gaussian_mixture_classifier.py:133: RuntimeWarning: divide by zero encountered in log\n",
      "  log_t_i[l] = np.log(self.pi[l]) + np.log(self.p_cond(x_i, self.mu[l], self.sigma[l]))\n"
     ]
    },
    {
     "name": "stdout",
     "output_type": "stream",
     "text": [
      "     Accuracy: 0.46153846153846156\n",
      "     Balanced Accuracy: 0.5333333333333333\n",
      "     F1 score: 0.36363636363636365\n",
      "     Confusion matrix:\n",
      " [[4 6]\n",
      " [1 2]]\n",
      "* Fold 4\n",
      "[!] One gaussian has been set to 0.\n",
      "[*] EM (0/20): \n",
      "     Accuracy: 0.38461538461538464\n",
      "     Balanced Accuracy: 0.4833333333333333\n",
      "     F1 score: 0.3333333333333333\n",
      "     Confusion matrix:\n",
      " [[3 7]\n",
      " [1 2]]\n",
      "[Summary]\n",
      "     Accuracy: 0.43076923076923074 ± 0.06153846153846152\n",
      "     Balanced Accuracy: 0.4666666666666667 ± 0.05477225575051659\n",
      "     F1 score: 0.296060606060606 ± 0.061146078984728125\n",
      "     (sum) Confusion matrix:\n",
      " [[20 30]\n",
      " [ 7  8]]\n",
      "[*] Z dim: 17\n",
      "* Fold 0\n"
     ]
    },
    {
     "name": "stderr",
     "output_type": "stream",
     "text": [
      "C:\\Users\\frigi\\Desktop\\Code\\Stage-Microbiote\\Expectation-Maximization\\src\\model\\EM\\gaussian_mixture_classifier.py:133: RuntimeWarning: divide by zero encountered in log\n",
      "  log_t_i[l] = np.log(self.pi[l]) + np.log(self.p_cond(x_i, self.mu[l], self.sigma[l]))\n"
     ]
    },
    {
     "name": "stdout",
     "output_type": "stream",
     "text": [
      "[!] One gaussian has been set to 0.\n",
      "[*] EM (0/20): \n",
      "     Accuracy: 0.5384615384615384\n",
      "     Balanced Accuracy: 0.35\n",
      "     F1 score: 0.0\n",
      "     Confusion matrix:\n",
      " [[7 3]\n",
      " [3 0]]\n",
      "* Fold 1\n"
     ]
    },
    {
     "name": "stderr",
     "output_type": "stream",
     "text": [
      "C:\\Users\\frigi\\Desktop\\Code\\Stage-Microbiote\\Expectation-Maximization\\src\\model\\EM\\gaussian_mixture_classifier.py:133: RuntimeWarning: divide by zero encountered in log\n",
      "  log_t_i[l] = np.log(self.pi[l]) + np.log(self.p_cond(x_i, self.mu[l], self.sigma[l]))\n"
     ]
    },
    {
     "name": "stdout",
     "output_type": "stream",
     "text": [
      "[!] One gaussian has been set to 0.\n",
      "[*] EM (0/20): \n",
      "     Accuracy: 0.38461538461538464\n",
      "     Balanced Accuracy: 0.25\n",
      "     F1 score: 0.0\n",
      "     Confusion matrix:\n",
      " [[5 5]\n",
      " [3 0]]\n",
      "* Fold 2\n"
     ]
    },
    {
     "name": "stderr",
     "output_type": "stream",
     "text": [
      "C:\\Users\\frigi\\Desktop\\Code\\Stage-Microbiote\\Expectation-Maximization\\src\\model\\EM\\gaussian_mixture_classifier.py:133: RuntimeWarning: divide by zero encountered in log\n",
      "  log_t_i[l] = np.log(self.pi[l]) + np.log(self.p_cond(x_i, self.mu[l], self.sigma[l]))\n"
     ]
    },
    {
     "name": "stdout",
     "output_type": "stream",
     "text": [
      "[!] One gaussian has been set to 0.\n",
      "[*] EM (0/20): \n",
      "     Accuracy: 0.46153846153846156\n",
      "     Balanced Accuracy: 0.41666666666666663\n",
      "     F1 score: 0.2222222222222222\n",
      "     Confusion matrix:\n",
      " [[5 5]\n",
      " [2 1]]\n",
      "* Fold 3\n"
     ]
    },
    {
     "name": "stderr",
     "output_type": "stream",
     "text": [
      "C:\\Users\\frigi\\Desktop\\Code\\Stage-Microbiote\\Expectation-Maximization\\src\\model\\EM\\gaussian_mixture_classifier.py:133: RuntimeWarning: divide by zero encountered in log\n",
      "  log_t_i[l] = np.log(self.pi[l]) + np.log(self.p_cond(x_i, self.mu[l], self.sigma[l]))\n"
     ]
    },
    {
     "name": "stdout",
     "output_type": "stream",
     "text": [
      "[!] One gaussian has been set to 0.\n",
      "[*] EM (0/20): \n",
      "     Accuracy: 0.6923076923076923\n",
      "     Balanced Accuracy: 0.6833333333333333\n",
      "     F1 score: 0.5\n",
      "     Confusion matrix:\n",
      " [[7 3]\n",
      " [1 2]]\n",
      "* Fold 4\n"
     ]
    },
    {
     "name": "stderr",
     "output_type": "stream",
     "text": [
      "C:\\Users\\frigi\\Desktop\\Code\\Stage-Microbiote\\Expectation-Maximization\\src\\model\\EM\\gaussian_mixture_classifier.py:133: RuntimeWarning: divide by zero encountered in log\n",
      "  log_t_i[l] = np.log(self.pi[l]) + np.log(self.p_cond(x_i, self.mu[l], self.sigma[l]))\n"
     ]
    },
    {
     "name": "stdout",
     "output_type": "stream",
     "text": [
      "[!] One gaussian has been set to 0.\n",
      "[*] EM (0/20): \n",
      "     Accuracy: 0.15384615384615385\n",
      "     Balanced Accuracy: 0.1\n",
      "     F1 score: 0.0\n",
      "     Confusion matrix:\n",
      " [[2 8]\n",
      " [3 0]]\n",
      "[Summary]\n",
      "     Accuracy: 0.44615384615384607 ± 0.178089798504465\n",
      "     Balanced Accuracy: 0.36 ± 0.19367785395111936\n",
      "     F1 score: 0.14444444444444443 ± 0.19751543149590198\n",
      "     (sum) Confusion matrix:\n",
      " [[26 24]\n",
      " [12  3]]\n",
      "[*] Z dim: 18\n",
      "* Fold 0\n"
     ]
    },
    {
     "name": "stderr",
     "output_type": "stream",
     "text": [
      "C:\\Users\\frigi\\Desktop\\Code\\Stage-Microbiote\\Expectation-Maximization\\src\\model\\EM\\gaussian_mixture_classifier.py:133: RuntimeWarning: divide by zero encountered in log\n",
      "  log_t_i[l] = np.log(self.pi[l]) + np.log(self.p_cond(x_i, self.mu[l], self.sigma[l]))\n"
     ]
    },
    {
     "name": "stdout",
     "output_type": "stream",
     "text": [
      "[!] One gaussian has been set to 0.\n",
      "[*] EM (0/20): \n",
      "     Accuracy: 0.46153846153846156\n",
      "     Balanced Accuracy: 0.41666666666666663\n",
      "     F1 score: 0.2222222222222222\n",
      "     Confusion matrix:\n",
      " [[5 5]\n",
      " [2 1]]\n",
      "* Fold 1\n"
     ]
    },
    {
     "name": "stderr",
     "output_type": "stream",
     "text": [
      "C:\\Users\\frigi\\Desktop\\Code\\Stage-Microbiote\\Expectation-Maximization\\src\\model\\EM\\gaussian_mixture_classifier.py:133: RuntimeWarning: divide by zero encountered in log\n",
      "  log_t_i[l] = np.log(self.pi[l]) + np.log(self.p_cond(x_i, self.mu[l], self.sigma[l]))\n"
     ]
    },
    {
     "name": "stdout",
     "output_type": "stream",
     "text": [
      "[!] One gaussian has been set to 0.\n",
      "[*] EM (0/20): \n",
      "     Accuracy: 0.3076923076923077\n",
      "     Balanced Accuracy: 0.2\n",
      "     F1 score: 0.0\n",
      "     Confusion matrix:\n",
      " [[4 6]\n",
      " [3 0]]\n",
      "* Fold 2\n"
     ]
    },
    {
     "name": "stderr",
     "output_type": "stream",
     "text": [
      "C:\\Users\\frigi\\Desktop\\Code\\Stage-Microbiote\\Expectation-Maximization\\src\\model\\EM\\gaussian_mixture_classifier.py:133: RuntimeWarning: divide by zero encountered in log\n",
      "  log_t_i[l] = np.log(self.pi[l]) + np.log(self.p_cond(x_i, self.mu[l], self.sigma[l]))\n"
     ]
    },
    {
     "name": "stdout",
     "output_type": "stream",
     "text": [
      "[!] One gaussian has been set to 0.\n",
      "[*] EM (0/20): \n",
      "     Accuracy: 0.5384615384615384\n",
      "     Balanced Accuracy: 0.4666666666666667\n",
      "     F1 score: 0.25\n",
      "     Confusion matrix:\n",
      " [[6 4]\n",
      " [2 1]]\n",
      "* Fold 3\n"
     ]
    },
    {
     "name": "stderr",
     "output_type": "stream",
     "text": [
      "C:\\Users\\frigi\\Desktop\\Code\\Stage-Microbiote\\Expectation-Maximization\\src\\model\\EM\\gaussian_mixture_classifier.py:133: RuntimeWarning: divide by zero encountered in log\n",
      "  log_t_i[l] = np.log(self.pi[l]) + np.log(self.p_cond(x_i, self.mu[l], self.sigma[l]))\n"
     ]
    },
    {
     "name": "stdout",
     "output_type": "stream",
     "text": [
      "[!] One gaussian has been set to 0.\n",
      "[*] EM (0/20): \n",
      "     Accuracy: 0.38461538461538464\n",
      "     Balanced Accuracy: 0.3666666666666667\n",
      "     F1 score: 0.2\n",
      "     Confusion matrix:\n",
      " [[4 6]\n",
      " [2 1]]\n",
      "* Fold 4\n"
     ]
    },
    {
     "name": "stderr",
     "output_type": "stream",
     "text": [
      "C:\\Users\\frigi\\Desktop\\Code\\Stage-Microbiote\\Expectation-Maximization\\src\\model\\EM\\gaussian_mixture_classifier.py:133: RuntimeWarning: divide by zero encountered in log\n",
      "  log_t_i[l] = np.log(self.pi[l]) + np.log(self.p_cond(x_i, self.mu[l], self.sigma[l]))\n"
     ]
    },
    {
     "name": "stdout",
     "output_type": "stream",
     "text": [
      "[!] One gaussian has been set to 0.\n",
      "[*] EM (0/20): \n",
      "     Accuracy: 0.6153846153846154\n",
      "     Balanced Accuracy: 0.75\n",
      "     F1 score: 0.5454545454545454\n",
      "     Confusion matrix:\n",
      " [[5 5]\n",
      " [0 3]]\n",
      "[Summary]\n",
      "     Accuracy: 0.4615384615384615 ± 0.10878565864408424\n",
      "     Balanced Accuracy: 0.44000000000000006 ± 0.17907168024751058\n",
      "     F1 score: 0.24353535353535355 ± 0.17484623822001966\n",
      "     (sum) Confusion matrix:\n",
      " [[24 26]\n",
      " [ 9  6]]\n",
      "[*] Z dim: 19\n",
      "* Fold 0\n"
     ]
    },
    {
     "name": "stderr",
     "output_type": "stream",
     "text": [
      "C:\\Users\\frigi\\Desktop\\Code\\Stage-Microbiote\\Expectation-Maximization\\src\\model\\EM\\gaussian_mixture_classifier.py:133: RuntimeWarning: divide by zero encountered in log\n",
      "  log_t_i[l] = np.log(self.pi[l]) + np.log(self.p_cond(x_i, self.mu[l], self.sigma[l]))\n"
     ]
    },
    {
     "name": "stdout",
     "output_type": "stream",
     "text": [
      "[!] One gaussian has been set to 0.\n",
      "[*] EM (0/20): \n",
      "     Accuracy: 0.38461538461538464\n",
      "     Balanced Accuracy: 0.25\n",
      "     F1 score: 0.0\n",
      "     Confusion matrix:\n",
      " [[5 5]\n",
      " [3 0]]\n",
      "* Fold 1\n"
     ]
    },
    {
     "name": "stderr",
     "output_type": "stream",
     "text": [
      "C:\\Users\\frigi\\Desktop\\Code\\Stage-Microbiote\\Expectation-Maximization\\src\\model\\EM\\gaussian_mixture_classifier.py:133: RuntimeWarning: divide by zero encountered in log\n",
      "  log_t_i[l] = np.log(self.pi[l]) + np.log(self.p_cond(x_i, self.mu[l], self.sigma[l]))\n"
     ]
    },
    {
     "name": "stdout",
     "output_type": "stream",
     "text": [
      "[!] One gaussian has been set to 0.\n",
      "[*] EM (0/20): \n",
      "     Accuracy: 0.3076923076923077\n",
      "     Balanced Accuracy: 0.31666666666666665\n",
      "     F1 score: 0.18181818181818182\n",
      "     Confusion matrix:\n",
      " [[3 7]\n",
      " [2 1]]\n",
      "* Fold 2\n"
     ]
    },
    {
     "name": "stderr",
     "output_type": "stream",
     "text": [
      "C:\\Users\\frigi\\Desktop\\Code\\Stage-Microbiote\\Expectation-Maximization\\src\\model\\EM\\gaussian_mixture_classifier.py:133: RuntimeWarning: divide by zero encountered in log\n",
      "  log_t_i[l] = np.log(self.pi[l]) + np.log(self.p_cond(x_i, self.mu[l], self.sigma[l]))\n"
     ]
    },
    {
     "name": "stdout",
     "output_type": "stream",
     "text": [
      "[!] One gaussian has been set to 0.\n",
      "[*] EM (0/20): \n",
      "     Accuracy: 0.5384615384615384\n",
      "     Balanced Accuracy: 0.4666666666666667\n",
      "     F1 score: 0.25\n",
      "     Confusion matrix:\n",
      " [[6 4]\n",
      " [2 1]]\n",
      "* Fold 3\n"
     ]
    },
    {
     "name": "stderr",
     "output_type": "stream",
     "text": [
      "C:\\Users\\frigi\\Desktop\\Code\\Stage-Microbiote\\Expectation-Maximization\\src\\model\\EM\\gaussian_mixture_classifier.py:133: RuntimeWarning: divide by zero encountered in log\n",
      "  log_t_i[l] = np.log(self.pi[l]) + np.log(self.p_cond(x_i, self.mu[l], self.sigma[l]))\n"
     ]
    },
    {
     "name": "stdout",
     "output_type": "stream",
     "text": [
      "[!] One gaussian has been set to 0.\n",
      "[*] EM (0/20): \n",
      "     Accuracy: 0.46153846153846156\n",
      "     Balanced Accuracy: 0.41666666666666663\n",
      "     F1 score: 0.2222222222222222\n",
      "     Confusion matrix:\n",
      " [[5 5]\n",
      " [2 1]]\n",
      "* Fold 4\n"
     ]
    },
    {
     "name": "stderr",
     "output_type": "stream",
     "text": [
      "C:\\Users\\frigi\\Desktop\\Code\\Stage-Microbiote\\Expectation-Maximization\\src\\model\\EM\\gaussian_mixture_classifier.py:133: RuntimeWarning: divide by zero encountered in log\n",
      "  log_t_i[l] = np.log(self.pi[l]) + np.log(self.p_cond(x_i, self.mu[l], self.sigma[l]))\n"
     ]
    },
    {
     "name": "stdout",
     "output_type": "stream",
     "text": [
      "[!] One gaussian has been set to 0.\n",
      "[*] EM (0/20): \n",
      "     Accuracy: 0.5384615384615384\n",
      "     Balanced Accuracy: 0.5833333333333333\n",
      "     F1 score: 0.4\n",
      "     Confusion matrix:\n",
      " [[5 5]\n",
      " [1 2]]\n",
      "[Summary]\n",
      "     Accuracy: 0.4461538461538462 ± 0.08970695222838923\n",
      "     Balanced Accuracy: 0.4066666666666666 ± 0.11623730516108462\n",
      "     F1 score: 0.21080808080808078 ± 0.12863928841463676\n",
      "     (sum) Confusion matrix:\n",
      " [[24 26]\n",
      " [10  5]]\n",
      "[*] Z dim: 20\n",
      "* Fold 0\n"
     ]
    },
    {
     "name": "stderr",
     "output_type": "stream",
     "text": [
      "C:\\Users\\frigi\\Desktop\\Code\\Stage-Microbiote\\Expectation-Maximization\\src\\model\\EM\\gaussian_mixture_classifier.py:133: RuntimeWarning: divide by zero encountered in log\n",
      "  log_t_i[l] = np.log(self.pi[l]) + np.log(self.p_cond(x_i, self.mu[l], self.sigma[l]))\n"
     ]
    },
    {
     "name": "stdout",
     "output_type": "stream",
     "text": [
      "[!] One gaussian has been set to 0.\n",
      "[*] EM (0/20): \n",
      "     Accuracy: 0.5384615384615384\n",
      "     Balanced Accuracy: 0.4666666666666667\n",
      "     F1 score: 0.25\n",
      "     Confusion matrix:\n",
      " [[6 4]\n",
      " [2 1]]\n",
      "* Fold 1\n"
     ]
    },
    {
     "name": "stderr",
     "output_type": "stream",
     "text": [
      "C:\\Users\\frigi\\Desktop\\Code\\Stage-Microbiote\\Expectation-Maximization\\src\\model\\EM\\gaussian_mixture_classifier.py:133: RuntimeWarning: divide by zero encountered in log\n",
      "  log_t_i[l] = np.log(self.pi[l]) + np.log(self.p_cond(x_i, self.mu[l], self.sigma[l]))\n"
     ]
    },
    {
     "name": "stdout",
     "output_type": "stream",
     "text": [
      "[!] One gaussian has been set to 0.\n",
      "[*] EM (0/20): \n",
      "     Accuracy: 0.3076923076923077\n",
      "     Balanced Accuracy: 0.31666666666666665\n",
      "     F1 score: 0.18181818181818182\n",
      "     Confusion matrix:\n",
      " [[3 7]\n",
      " [2 1]]\n",
      "* Fold 2\n"
     ]
    },
    {
     "name": "stderr",
     "output_type": "stream",
     "text": [
      "C:\\Users\\frigi\\Desktop\\Code\\Stage-Microbiote\\Expectation-Maximization\\src\\model\\EM\\gaussian_mixture_classifier.py:133: RuntimeWarning: divide by zero encountered in log\n",
      "  log_t_i[l] = np.log(self.pi[l]) + np.log(self.p_cond(x_i, self.mu[l], self.sigma[l]))\n"
     ]
    },
    {
     "name": "stdout",
     "output_type": "stream",
     "text": [
      "[!] One gaussian has been set to 0.\n",
      "[*] EM (0/20): \n",
      "     Accuracy: 0.5384615384615384\n",
      "     Balanced Accuracy: 0.35\n",
      "     F1 score: 0.0\n",
      "     Confusion matrix:\n",
      " [[7 3]\n",
      " [3 0]]\n",
      "* Fold 3\n"
     ]
    },
    {
     "name": "stderr",
     "output_type": "stream",
     "text": [
      "C:\\Users\\frigi\\Desktop\\Code\\Stage-Microbiote\\Expectation-Maximization\\src\\model\\EM\\gaussian_mixture_classifier.py:133: RuntimeWarning: divide by zero encountered in log\n",
      "  log_t_i[l] = np.log(self.pi[l]) + np.log(self.p_cond(x_i, self.mu[l], self.sigma[l]))\n"
     ]
    },
    {
     "name": "stdout",
     "output_type": "stream",
     "text": [
      "[!] One gaussian has been set to 0.\n",
      "[*] EM (0/20): \n",
      "     Accuracy: 0.46153846153846156\n",
      "     Balanced Accuracy: 0.5333333333333333\n",
      "     F1 score: 0.36363636363636365\n",
      "     Confusion matrix:\n",
      " [[4 6]\n",
      " [1 2]]\n",
      "* Fold 4\n"
     ]
    },
    {
     "name": "stderr",
     "output_type": "stream",
     "text": [
      "C:\\Users\\frigi\\Desktop\\Code\\Stage-Microbiote\\Expectation-Maximization\\src\\model\\EM\\gaussian_mixture_classifier.py:133: RuntimeWarning: divide by zero encountered in log\n",
      "  log_t_i[l] = np.log(self.pi[l]) + np.log(self.p_cond(x_i, self.mu[l], self.sigma[l]))\n"
     ]
    },
    {
     "name": "stdout",
     "output_type": "stream",
     "text": [
      "[!] One gaussian has been set to 0.\n",
      "[*] EM (0/20): \n",
      "     Accuracy: 0.38461538461538464\n",
      "     Balanced Accuracy: 0.6\n",
      "     F1 score: 0.42857142857142855\n",
      "     Confusion matrix:\n",
      " [[2 8]\n",
      " [0 3]]\n",
      "[Summary]\n",
      "     Accuracy: 0.4461538461538462 ± 0.08970695222838923\n",
      "     Balanced Accuracy: 0.4533333333333333 ± 0.10718623460542352\n",
      "     F1 score: 0.2448051948051948 ± 0.14954250804908636\n",
      "     (sum) Confusion matrix:\n",
      " [[22 28]\n",
      " [ 8  7]]\n",
      "[*] Z dim: 21\n",
      "* Fold 0\n"
     ]
    },
    {
     "name": "stderr",
     "output_type": "stream",
     "text": [
      "C:\\Users\\frigi\\Desktop\\Code\\Stage-Microbiote\\Expectation-Maximization\\src\\model\\EM\\gaussian_mixture_classifier.py:133: RuntimeWarning: divide by zero encountered in log\n",
      "  log_t_i[l] = np.log(self.pi[l]) + np.log(self.p_cond(x_i, self.mu[l], self.sigma[l]))\n"
     ]
    },
    {
     "name": "stdout",
     "output_type": "stream",
     "text": [
      "[!] One gaussian has been set to 0.\n",
      "[*] EM (0/20): \n",
      "     Accuracy: 0.5384615384615384\n",
      "     Balanced Accuracy: 0.4666666666666667\n",
      "     F1 score: 0.25\n",
      "     Confusion matrix:\n",
      " [[6 4]\n",
      " [2 1]]\n",
      "* Fold 1\n"
     ]
    },
    {
     "name": "stderr",
     "output_type": "stream",
     "text": [
      "C:\\Users\\frigi\\Desktop\\Code\\Stage-Microbiote\\Expectation-Maximization\\src\\model\\EM\\gaussian_mixture_classifier.py:133: RuntimeWarning: divide by zero encountered in log\n",
      "  log_t_i[l] = np.log(self.pi[l]) + np.log(self.p_cond(x_i, self.mu[l], self.sigma[l]))\n"
     ]
    },
    {
     "name": "stdout",
     "output_type": "stream",
     "text": [
      "[!] One gaussian has been set to 0.\n",
      "[*] EM (0/20): \n",
      "     Accuracy: 0.6153846153846154\n",
      "     Balanced Accuracy: 0.6333333333333333\n",
      "     F1 score: 0.4444444444444444\n",
      "     Confusion matrix:\n",
      " [[6 4]\n",
      " [1 2]]\n",
      "* Fold 2\n"
     ]
    },
    {
     "name": "stderr",
     "output_type": "stream",
     "text": [
      "C:\\Users\\frigi\\Desktop\\Code\\Stage-Microbiote\\Expectation-Maximization\\src\\model\\EM\\gaussian_mixture_classifier.py:133: RuntimeWarning: divide by zero encountered in log\n",
      "  log_t_i[l] = np.log(self.pi[l]) + np.log(self.p_cond(x_i, self.mu[l], self.sigma[l]))\n"
     ]
    },
    {
     "name": "stdout",
     "output_type": "stream",
     "text": [
      "[!] One gaussian has been set to 0.\n",
      "[*] EM (0/20): \n",
      "     Accuracy: 0.3076923076923077\n",
      "     Balanced Accuracy: 0.31666666666666665\n",
      "     F1 score: 0.18181818181818182\n",
      "     Confusion matrix:\n",
      " [[3 7]\n",
      " [2 1]]\n",
      "* Fold 3\n"
     ]
    },
    {
     "name": "stderr",
     "output_type": "stream",
     "text": [
      "C:\\Users\\frigi\\Desktop\\Code\\Stage-Microbiote\\Expectation-Maximization\\src\\model\\EM\\gaussian_mixture_classifier.py:133: RuntimeWarning: divide by zero encountered in log\n",
      "  log_t_i[l] = np.log(self.pi[l]) + np.log(self.p_cond(x_i, self.mu[l], self.sigma[l]))\n"
     ]
    },
    {
     "name": "stdout",
     "output_type": "stream",
     "text": [
      "[!] One gaussian has been set to 0.\n",
      "[*] EM (0/20): \n",
      "     Accuracy: 0.5384615384615384\n",
      "     Balanced Accuracy: 0.5833333333333333\n",
      "     F1 score: 0.4\n",
      "     Confusion matrix:\n",
      " [[5 5]\n",
      " [1 2]]\n",
      "* Fold 4\n"
     ]
    },
    {
     "name": "stderr",
     "output_type": "stream",
     "text": [
      "C:\\Users\\frigi\\Desktop\\Code\\Stage-Microbiote\\Expectation-Maximization\\src\\model\\EM\\gaussian_mixture_classifier.py:133: RuntimeWarning: divide by zero encountered in log\n",
      "  log_t_i[l] = np.log(self.pi[l]) + np.log(self.p_cond(x_i, self.mu[l], self.sigma[l]))\n"
     ]
    },
    {
     "name": "stdout",
     "output_type": "stream",
     "text": [
      "[!] One gaussian has been set to 0.\n",
      "[*] EM (0/20): \n",
      "     Accuracy: 0.3076923076923077\n",
      "     Balanced Accuracy: 0.43333333333333335\n",
      "     F1 score: 0.30769230769230765\n",
      "     Confusion matrix:\n",
      " [[2 8]\n",
      " [1 2]]\n",
      "[Summary]\n",
      "     Accuracy: 0.4615384615384615 ± 0.12871692715908853\n",
      "     Balanced Accuracy: 0.4866666666666667 ± 0.11224972160321822\n",
      "     F1 score: 0.3167909867909868 ± 0.09589642859896524\n",
      "     (sum) Confusion matrix:\n",
      " [[22 28]\n",
      " [ 7  8]]\n",
      "[*] Z dim: 22\n",
      "* Fold 0\n"
     ]
    },
    {
     "name": "stderr",
     "output_type": "stream",
     "text": [
      "C:\\Users\\frigi\\Desktop\\Code\\Stage-Microbiote\\Expectation-Maximization\\src\\model\\EM\\gaussian_mixture_classifier.py:133: RuntimeWarning: divide by zero encountered in log\n",
      "  log_t_i[l] = np.log(self.pi[l]) + np.log(self.p_cond(x_i, self.mu[l], self.sigma[l]))\n"
     ]
    },
    {
     "name": "stdout",
     "output_type": "stream",
     "text": [
      "[!] One gaussian has been set to 0.\n",
      "[*] EM (0/20): \n",
      "     Accuracy: 0.6153846153846154\n",
      "     Balanced Accuracy: 0.75\n",
      "     F1 score: 0.5454545454545454\n",
      "     Confusion matrix:\n",
      " [[5 5]\n",
      " [0 3]]\n",
      "* Fold 1\n"
     ]
    },
    {
     "name": "stderr",
     "output_type": "stream",
     "text": [
      "C:\\Users\\frigi\\Desktop\\Code\\Stage-Microbiote\\Expectation-Maximization\\src\\model\\EM\\gaussian_mixture_classifier.py:133: RuntimeWarning: divide by zero encountered in log\n",
      "  log_t_i[l] = np.log(self.pi[l]) + np.log(self.p_cond(x_i, self.mu[l], self.sigma[l]))\n"
     ]
    },
    {
     "name": "stdout",
     "output_type": "stream",
     "text": [
      "[!] One gaussian has been set to 0.\n",
      "[*] EM (0/20): \n",
      "     Accuracy: 0.6923076923076923\n",
      "     Balanced Accuracy: 0.6833333333333333\n",
      "     F1 score: 0.5\n",
      "     Confusion matrix:\n",
      " [[7 3]\n",
      " [1 2]]\n",
      "* Fold 2\n"
     ]
    },
    {
     "name": "stderr",
     "output_type": "stream",
     "text": [
      "C:\\Users\\frigi\\Desktop\\Code\\Stage-Microbiote\\Expectation-Maximization\\src\\model\\EM\\gaussian_mixture_classifier.py:133: RuntimeWarning: divide by zero encountered in log\n",
      "  log_t_i[l] = np.log(self.pi[l]) + np.log(self.p_cond(x_i, self.mu[l], self.sigma[l]))\n"
     ]
    },
    {
     "name": "stdout",
     "output_type": "stream",
     "text": [
      "[!] One gaussian has been set to 0.\n",
      "[*] EM (0/20): \n",
      "     Accuracy: 0.38461538461538464\n",
      "     Balanced Accuracy: 0.6\n",
      "     F1 score: 0.42857142857142855\n",
      "     Confusion matrix:\n",
      " [[2 8]\n",
      " [0 3]]\n",
      "* Fold 3\n"
     ]
    },
    {
     "name": "stderr",
     "output_type": "stream",
     "text": [
      "C:\\Users\\frigi\\Desktop\\Code\\Stage-Microbiote\\Expectation-Maximization\\src\\model\\EM\\gaussian_mixture_classifier.py:133: RuntimeWarning: divide by zero encountered in log\n",
      "  log_t_i[l] = np.log(self.pi[l]) + np.log(self.p_cond(x_i, self.mu[l], self.sigma[l]))\n"
     ]
    },
    {
     "name": "stdout",
     "output_type": "stream",
     "text": [
      "[!] One gaussian has been set to 0.\n",
      "[*] EM (0/20): \n",
      "     Accuracy: 0.46153846153846156\n",
      "     Balanced Accuracy: 0.5333333333333333\n",
      "     F1 score: 0.36363636363636365\n",
      "     Confusion matrix:\n",
      " [[4 6]\n",
      " [1 2]]\n",
      "* Fold 4\n"
     ]
    },
    {
     "name": "stderr",
     "output_type": "stream",
     "text": [
      "C:\\Users\\frigi\\Desktop\\Code\\Stage-Microbiote\\Expectation-Maximization\\src\\model\\EM\\gaussian_mixture_classifier.py:133: RuntimeWarning: divide by zero encountered in log\n",
      "  log_t_i[l] = np.log(self.pi[l]) + np.log(self.p_cond(x_i, self.mu[l], self.sigma[l]))\n"
     ]
    },
    {
     "name": "stdout",
     "output_type": "stream",
     "text": [
      "[!] One gaussian has been set to 0.\n",
      "[*] EM (0/20): \n",
      "     Accuracy: 0.5384615384615384\n",
      "     Balanced Accuracy: 0.4666666666666667\n",
      "     F1 score: 0.25\n",
      "     Confusion matrix:\n",
      " [[6 4]\n",
      " [2 1]]\n",
      "[Summary]\n",
      "     Accuracy: 0.5384615384615384 ± 0.10878565864408422\n",
      "     Balanced Accuracy: 0.6066666666666667 ± 0.10143416036468626\n",
      "     F1 score: 0.41753246753246753 ± 0.10417171236444403\n",
      "     (sum) Confusion matrix:\n",
      " [[24 26]\n",
      " [ 4 11]]\n",
      "[*] Z dim: 23\n",
      "* Fold 0\n"
     ]
    },
    {
     "name": "stderr",
     "output_type": "stream",
     "text": [
      "C:\\Users\\frigi\\Desktop\\Code\\Stage-Microbiote\\Expectation-Maximization\\src\\model\\EM\\gaussian_mixture_classifier.py:133: RuntimeWarning: divide by zero encountered in log\n",
      "  log_t_i[l] = np.log(self.pi[l]) + np.log(self.p_cond(x_i, self.mu[l], self.sigma[l]))\n"
     ]
    },
    {
     "name": "stdout",
     "output_type": "stream",
     "text": [
      "[!] One gaussian has been set to 0.\n",
      "[*] EM (0/20): \n",
      "     Accuracy: 0.46153846153846156\n",
      "     Balanced Accuracy: 0.41666666666666663\n",
      "     F1 score: 0.2222222222222222\n",
      "     Confusion matrix:\n",
      " [[5 5]\n",
      " [2 1]]\n",
      "* Fold 1\n"
     ]
    },
    {
     "name": "stderr",
     "output_type": "stream",
     "text": [
      "C:\\Users\\frigi\\Desktop\\Code\\Stage-Microbiote\\Expectation-Maximization\\src\\model\\EM\\gaussian_mixture_classifier.py:133: RuntimeWarning: divide by zero encountered in log\n",
      "  log_t_i[l] = np.log(self.pi[l]) + np.log(self.p_cond(x_i, self.mu[l], self.sigma[l]))\n"
     ]
    },
    {
     "name": "stdout",
     "output_type": "stream",
     "text": [
      "[!] One gaussian has been set to 0.\n",
      "[*] EM (0/20): \n",
      "     Accuracy: 0.5384615384615384\n",
      "     Balanced Accuracy: 0.5833333333333333\n",
      "     F1 score: 0.4\n",
      "     Confusion matrix:\n",
      " [[5 5]\n",
      " [1 2]]\n",
      "* Fold 2\n"
     ]
    },
    {
     "name": "stderr",
     "output_type": "stream",
     "text": [
      "C:\\Users\\frigi\\Desktop\\Code\\Stage-Microbiote\\Expectation-Maximization\\src\\model\\EM\\gaussian_mixture_classifier.py:133: RuntimeWarning: divide by zero encountered in log\n",
      "  log_t_i[l] = np.log(self.pi[l]) + np.log(self.p_cond(x_i, self.mu[l], self.sigma[l]))\n"
     ]
    },
    {
     "name": "stdout",
     "output_type": "stream",
     "text": [
      "[!] One gaussian has been set to 0.\n",
      "[*] EM (0/20): \n",
      "     Accuracy: 0.6923076923076923\n",
      "     Balanced Accuracy: 0.5666666666666667\n",
      "     F1 score: 0.3333333333333333\n",
      "     Confusion matrix:\n",
      " [[8 2]\n",
      " [2 1]]\n",
      "* Fold 3\n"
     ]
    },
    {
     "name": "stderr",
     "output_type": "stream",
     "text": [
      "C:\\Users\\frigi\\Desktop\\Code\\Stage-Microbiote\\Expectation-Maximization\\src\\model\\EM\\gaussian_mixture_classifier.py:133: RuntimeWarning: divide by zero encountered in log\n",
      "  log_t_i[l] = np.log(self.pi[l]) + np.log(self.p_cond(x_i, self.mu[l], self.sigma[l]))\n"
     ]
    },
    {
     "name": "stdout",
     "output_type": "stream",
     "text": [
      "[!] One gaussian has been set to 0.\n",
      "[*] EM (0/20): \n",
      "     Accuracy: 0.46153846153846156\n",
      "     Balanced Accuracy: 0.65\n",
      "     F1 score: 0.4615384615384615\n",
      "     Confusion matrix:\n",
      " [[3 7]\n",
      " [0 3]]\n",
      "* Fold 4\n"
     ]
    },
    {
     "name": "stderr",
     "output_type": "stream",
     "text": [
      "C:\\Users\\frigi\\Desktop\\Code\\Stage-Microbiote\\Expectation-Maximization\\src\\model\\EM\\gaussian_mixture_classifier.py:133: RuntimeWarning: divide by zero encountered in log\n",
      "  log_t_i[l] = np.log(self.pi[l]) + np.log(self.p_cond(x_i, self.mu[l], self.sigma[l]))\n"
     ]
    },
    {
     "name": "stdout",
     "output_type": "stream",
     "text": [
      "[!] One gaussian has been set to 0.\n",
      "[*] EM (0/20): \n",
      "     Accuracy: 0.6153846153846154\n",
      "     Balanced Accuracy: 0.6333333333333333\n",
      "     F1 score: 0.4444444444444444\n",
      "     Confusion matrix:\n",
      " [[6 4]\n",
      " [1 2]]\n",
      "[Summary]\n",
      "     Accuracy: 0.5538461538461539 ± 0.08970695222838923\n",
      "     Balanced Accuracy: 0.57 ± 0.08259674462242579\n",
      "     F1 score: 0.3723076923076923 ± 0.08715199834762044\n",
      "     (sum) Confusion matrix:\n",
      " [[27 23]\n",
      " [ 6  9]]\n",
      "[*] Z dim: 24\n",
      "* Fold 0\n"
     ]
    },
    {
     "name": "stderr",
     "output_type": "stream",
     "text": [
      "C:\\Users\\frigi\\Desktop\\Code\\Stage-Microbiote\\Expectation-Maximization\\src\\model\\EM\\gaussian_mixture_classifier.py:133: RuntimeWarning: divide by zero encountered in log\n",
      "  log_t_i[l] = np.log(self.pi[l]) + np.log(self.p_cond(x_i, self.mu[l], self.sigma[l]))\n"
     ]
    },
    {
     "name": "stdout",
     "output_type": "stream",
     "text": [
      "[!] One gaussian has been set to 0.\n",
      "[*] EM (0/20): \n"
     ]
    },
    {
     "name": "stderr",
     "output_type": "stream",
     "text": [
      "C:\\Users\\frigi\\Desktop\\Code\\Stage-Microbiote\\Expectation-Maximization\\src\\model\\EM\\gaussian_mixture_classifier.py:133: RuntimeWarning: divide by zero encountered in log\n",
      "  log_t_i[l] = np.log(self.pi[l]) + np.log(self.p_cond(x_i, self.mu[l], self.sigma[l]))\n"
     ]
    },
    {
     "name": "stdout",
     "output_type": "stream",
     "text": [
      "     Accuracy: 0.5384615384615384\n",
      "     Balanced Accuracy: 0.5833333333333333\n",
      "     F1 score: 0.4\n",
      "     Confusion matrix:\n",
      " [[5 5]\n",
      " [1 2]]\n",
      "* Fold 1\n",
      "[!] One gaussian has been set to 0.\n",
      "[*] EM (0/20): \n",
      "     Accuracy: 0.6153846153846154\n",
      "     Balanced Accuracy: 0.75\n"
     ]
    },
    {
     "name": "stderr",
     "output_type": "stream",
     "text": [
      "C:\\Users\\frigi\\Desktop\\Code\\Stage-Microbiote\\Expectation-Maximization\\src\\model\\EM\\gaussian_mixture_classifier.py:133: RuntimeWarning: divide by zero encountered in log\n",
      "  log_t_i[l] = np.log(self.pi[l]) + np.log(self.p_cond(x_i, self.mu[l], self.sigma[l]))\n"
     ]
    },
    {
     "name": "stdout",
     "output_type": "stream",
     "text": [
      "     F1 score: 0.5454545454545454\n",
      "     Confusion matrix:\n",
      " [[5 5]\n",
      " [0 3]]\n",
      "* Fold 2\n",
      "[!] One gaussian has been set to 0.\n",
      "[*] EM (0/20): \n",
      "     Accuracy: 0.38461538461538464\n"
     ]
    },
    {
     "name": "stderr",
     "output_type": "stream",
     "text": [
      "C:\\Users\\frigi\\Desktop\\Code\\Stage-Microbiote\\Expectation-Maximization\\src\\model\\EM\\gaussian_mixture_classifier.py:133: RuntimeWarning: divide by zero encountered in log\n",
      "  log_t_i[l] = np.log(self.pi[l]) + np.log(self.p_cond(x_i, self.mu[l], self.sigma[l]))\n"
     ]
    },
    {
     "name": "stdout",
     "output_type": "stream",
     "text": [
      "     Balanced Accuracy: 0.3666666666666667\n",
      "     F1 score: 0.2\n",
      "     Confusion matrix:\n",
      " [[4 6]\n",
      " [2 1]]\n",
      "* Fold 3\n",
      "[!] One gaussian has been set to 0.\n",
      "[*] EM (0/20): \n",
      "     Accuracy: 0.3076923076923077\n",
      "     Balanced Accuracy: 0.43333333333333335\n",
      "     F1 score: 0.30769230769230765\n",
      "     Confusion matrix:\n",
      " [[2 8]\n",
      " [1 2]]\n",
      "* Fold 4\n"
     ]
    },
    {
     "name": "stderr",
     "output_type": "stream",
     "text": [
      "C:\\Users\\frigi\\Desktop\\Code\\Stage-Microbiote\\Expectation-Maximization\\src\\model\\EM\\gaussian_mixture_classifier.py:133: RuntimeWarning: divide by zero encountered in log\n",
      "  log_t_i[l] = np.log(self.pi[l]) + np.log(self.p_cond(x_i, self.mu[l], self.sigma[l]))\n"
     ]
    },
    {
     "name": "stdout",
     "output_type": "stream",
     "text": [
      "[!] One gaussian has been set to 0.\n",
      "[*] EM (0/20): \n",
      "     Accuracy: 0.3076923076923077\n",
      "     Balanced Accuracy: 0.31666666666666665\n",
      "     F1 score: 0.18181818181818182\n",
      "     Confusion matrix:\n",
      " [[3 7]\n",
      " [2 1]]\n",
      "[Summary]\n",
      "     Accuracy: 0.43076923076923074 ± 0.12498520622516862\n",
      "     Balanced Accuracy: 0.49000000000000005 ± 0.15797327481430382\n",
      "     F1 score: 0.32699300699300704 ± 0.13463352888346078\n",
      "     (sum) Confusion matrix:\n",
      " [[19 31]\n",
      " [ 6  9]]\n",
      "[*] Z dim: 25\n",
      "* Fold 0\n"
     ]
    },
    {
     "name": "stderr",
     "output_type": "stream",
     "text": [
      "C:\\Users\\frigi\\Desktop\\Code\\Stage-Microbiote\\Expectation-Maximization\\src\\model\\EM\\gaussian_mixture_classifier.py:133: RuntimeWarning: divide by zero encountered in log\n",
      "  log_t_i[l] = np.log(self.pi[l]) + np.log(self.p_cond(x_i, self.mu[l], self.sigma[l]))\n"
     ]
    },
    {
     "name": "stdout",
     "output_type": "stream",
     "text": [
      "[!] One gaussian has been set to 0.\n",
      "[*] EM (0/20): \n",
      "     Accuracy: 0.38461538461538464\n",
      "     Balanced Accuracy: 0.4833333333333333\n"
     ]
    },
    {
     "name": "stderr",
     "output_type": "stream",
     "text": [
      "C:\\Users\\frigi\\Desktop\\Code\\Stage-Microbiote\\Expectation-Maximization\\src\\model\\EM\\gaussian_mixture_classifier.py:133: RuntimeWarning: divide by zero encountered in log\n",
      "  log_t_i[l] = np.log(self.pi[l]) + np.log(self.p_cond(x_i, self.mu[l], self.sigma[l]))\n"
     ]
    },
    {
     "name": "stdout",
     "output_type": "stream",
     "text": [
      "     F1 score: 0.3333333333333333\n",
      "     Confusion matrix:\n",
      " [[3 7]\n",
      " [1 2]]\n",
      "* Fold 1\n",
      "[!] One gaussian has been set to 0.\n",
      "[*] EM (0/20): \n",
      "     Accuracy: 0.6923076923076923\n",
      "     Balanced Accuracy: 0.6833333333333333\n",
      "     F1 score: 0.5\n",
      "     Confusion matrix:\n",
      " [[7 3]\n",
      " [1 2]]\n",
      "* Fold 2\n"
     ]
    },
    {
     "name": "stderr",
     "output_type": "stream",
     "text": [
      "C:\\Users\\frigi\\Desktop\\Code\\Stage-Microbiote\\Expectation-Maximization\\src\\model\\EM\\gaussian_mixture_classifier.py:133: RuntimeWarning: divide by zero encountered in log\n",
      "  log_t_i[l] = np.log(self.pi[l]) + np.log(self.p_cond(x_i, self.mu[l], self.sigma[l]))\n"
     ]
    },
    {
     "name": "stdout",
     "output_type": "stream",
     "text": [
      "[!] One gaussian has been set to 0.\n",
      "[*] EM (0/20): \n"
     ]
    },
    {
     "name": "stderr",
     "output_type": "stream",
     "text": [
      "C:\\Users\\frigi\\Desktop\\Code\\Stage-Microbiote\\Expectation-Maximization\\src\\model\\EM\\gaussian_mixture_classifier.py:133: RuntimeWarning: divide by zero encountered in log\n",
      "  log_t_i[l] = np.log(self.pi[l]) + np.log(self.p_cond(x_i, self.mu[l], self.sigma[l]))\n"
     ]
    },
    {
     "name": "stdout",
     "output_type": "stream",
     "text": [
      "     Accuracy: 0.38461538461538464\n",
      "     Balanced Accuracy: 0.6\n",
      "     F1 score: 0.42857142857142855\n",
      "     Confusion matrix:\n",
      " [[2 8]\n",
      " [0 3]]\n",
      "* Fold 3\n",
      "[!] One gaussian has been set to 0.\n",
      "[*] EM (0/20): \n"
     ]
    },
    {
     "name": "stderr",
     "output_type": "stream",
     "text": [
      "C:\\Users\\frigi\\Desktop\\Code\\Stage-Microbiote\\Expectation-Maximization\\src\\model\\EM\\gaussian_mixture_classifier.py:133: RuntimeWarning: divide by zero encountered in log\n",
      "  log_t_i[l] = np.log(self.pi[l]) + np.log(self.p_cond(x_i, self.mu[l], self.sigma[l]))\n"
     ]
    },
    {
     "name": "stdout",
     "output_type": "stream",
     "text": [
      "     Accuracy: 0.5384615384615384\n",
      "     Balanced Accuracy: 0.4666666666666667\n",
      "     F1 score: 0.25\n",
      "     Confusion matrix:\n",
      " [[6 4]\n",
      " [2 1]]\n",
      "* Fold 4\n",
      "[!] One gaussian has been set to 0.\n",
      "[*] EM (0/20): \n"
     ]
    },
    {
     "name": "stderr",
     "output_type": "stream",
     "text": [
      "C:\\Users\\frigi\\Desktop\\Code\\Stage-Microbiote\\Expectation-Maximization\\src\\model\\EM\\gaussian_mixture_classifier.py:133: RuntimeWarning: divide by zero encountered in log\n",
      "  log_t_i[l] = np.log(self.pi[l]) + np.log(self.p_cond(x_i, self.mu[l], self.sigma[l]))\n"
     ]
    },
    {
     "name": "stdout",
     "output_type": "stream",
     "text": [
      "     Accuracy: 0.46153846153846156\n",
      "     Balanced Accuracy: 0.3\n",
      "     F1 score: 0.0\n",
      "     Confusion matrix:\n",
      " [[6 4]\n",
      " [3 0]]\n",
      "[Summary]\n",
      "     Accuracy: 0.49230769230769234 ± 0.11512791959304433\n",
      "     Balanced Accuracy: 0.5066666666666666 ± 0.13021349989749742\n",
      "     F1 score: 0.30238095238095236 ± 0.1732705276062881\n",
      "     (sum) Confusion matrix:\n",
      " [[24 26]\n",
      " [ 7  8]]\n",
      "[*] Z dim: 26\n",
      "* Fold 0\n",
      "[!] One gaussian has been set to 0.\n",
      "[*] EM (0/20): \n",
      "     Accuracy: 0.46153846153846156\n",
      "     Balanced Accuracy: 0.41666666666666663\n",
      "     F1 score: 0.2222222222222222\n",
      "     Confusion matrix:\n",
      " [[5 5]\n",
      " [2 1]]\n",
      "* Fold 1\n"
     ]
    },
    {
     "name": "stderr",
     "output_type": "stream",
     "text": [
      "C:\\Users\\frigi\\Desktop\\Code\\Stage-Microbiote\\Expectation-Maximization\\src\\model\\EM\\gaussian_mixture_classifier.py:133: RuntimeWarning: divide by zero encountered in log\n",
      "  log_t_i[l] = np.log(self.pi[l]) + np.log(self.p_cond(x_i, self.mu[l], self.sigma[l]))\n"
     ]
    },
    {
     "name": "stdout",
     "output_type": "stream",
     "text": [
      "[!] One gaussian has been set to 0.\n",
      "[*] EM (0/20): \n"
     ]
    },
    {
     "name": "stderr",
     "output_type": "stream",
     "text": [
      "C:\\Users\\frigi\\Desktop\\Code\\Stage-Microbiote\\Expectation-Maximization\\src\\model\\EM\\gaussian_mixture_classifier.py:133: RuntimeWarning: divide by zero encountered in log\n",
      "  log_t_i[l] = np.log(self.pi[l]) + np.log(self.p_cond(x_i, self.mu[l], self.sigma[l]))\n"
     ]
    },
    {
     "name": "stdout",
     "output_type": "stream",
     "text": [
      "     Accuracy: 0.7692307692307693\n",
      "     Balanced Accuracy: 0.85\n",
      "     F1 score: 0.6666666666666666\n",
      "     Confusion matrix:\n",
      " [[7 3]\n",
      " [0 3]]\n",
      "* Fold 2\n",
      "[!] One gaussian has been set to 0.\n",
      "[*] EM (0/20): \n"
     ]
    },
    {
     "name": "stderr",
     "output_type": "stream",
     "text": [
      "C:\\Users\\frigi\\Desktop\\Code\\Stage-Microbiote\\Expectation-Maximization\\src\\model\\EM\\gaussian_mixture_classifier.py:133: RuntimeWarning: divide by zero encountered in log\n",
      "  log_t_i[l] = np.log(self.pi[l]) + np.log(self.p_cond(x_i, self.mu[l], self.sigma[l]))\n"
     ]
    },
    {
     "name": "stdout",
     "output_type": "stream",
     "text": [
      "     Accuracy: 0.38461538461538464\n",
      "     Balanced Accuracy: 0.3666666666666667\n",
      "     F1 score: 0.2\n",
      "     Confusion matrix:\n",
      " [[4 6]\n",
      " [2 1]]\n",
      "* Fold 3\n",
      "[!] One gaussian has been set to 0.\n",
      "[*] EM (0/20): \n",
      "     Accuracy: 0.5384615384615384\n",
      "     Balanced Accuracy: 0.35\n",
      "     F1 score: 0.0\n",
      "     Confusion matrix:\n",
      " [[7 3]\n",
      " [3 0]]\n",
      "* Fold 4\n"
     ]
    },
    {
     "name": "stderr",
     "output_type": "stream",
     "text": [
      "C:\\Users\\frigi\\Desktop\\Code\\Stage-Microbiote\\Expectation-Maximization\\src\\model\\EM\\gaussian_mixture_classifier.py:133: RuntimeWarning: divide by zero encountered in log\n",
      "  log_t_i[l] = np.log(self.pi[l]) + np.log(self.p_cond(x_i, self.mu[l], self.sigma[l]))\n"
     ]
    },
    {
     "name": "stdout",
     "output_type": "stream",
     "text": [
      "[!] One gaussian has been set to 0.\n",
      "[*] EM (0/20): \n"
     ]
    },
    {
     "name": "stderr",
     "output_type": "stream",
     "text": [
      "C:\\Users\\frigi\\Desktop\\Code\\Stage-Microbiote\\Expectation-Maximization\\src\\model\\EM\\gaussian_mixture_classifier.py:133: RuntimeWarning: divide by zero encountered in log\n",
      "  log_t_i[l] = np.log(self.pi[l]) + np.log(self.p_cond(x_i, self.mu[l], self.sigma[l]))\n"
     ]
    },
    {
     "name": "stdout",
     "output_type": "stream",
     "text": [
      "     Accuracy: 0.07692307692307693\n",
      "     Balanced Accuracy: 0.05\n",
      "     F1 score: 0.0\n",
      "     Confusion matrix:\n",
      " [[1 9]\n",
      " [3 0]]\n",
      "[Summary]\n",
      "     Accuracy: 0.4461538461538462 ± 0.22505752058965836\n",
      "     Balanced Accuracy: 0.4066666666666666 ± 0.2563851269737255\n",
      "     F1 score: 0.21777777777777776 ± 0.24359448188523947\n",
      "     (sum) Confusion matrix:\n",
      " [[24 26]\n",
      " [10  5]]\n",
      "[*] Z dim: 27\n",
      "* Fold 0\n",
      "[!] One gaussian has been set to 0.\n",
      "[*] EM (0/20): \n"
     ]
    },
    {
     "name": "stderr",
     "output_type": "stream",
     "text": [
      "C:\\Users\\frigi\\Desktop\\Code\\Stage-Microbiote\\Expectation-Maximization\\src\\model\\EM\\gaussian_mixture_classifier.py:133: RuntimeWarning: divide by zero encountered in log\n",
      "  log_t_i[l] = np.log(self.pi[l]) + np.log(self.p_cond(x_i, self.mu[l], self.sigma[l]))\n"
     ]
    },
    {
     "name": "stdout",
     "output_type": "stream",
     "text": [
      "     Accuracy: 0.6153846153846154\n",
      "     Balanced Accuracy: 0.6333333333333333\n",
      "     F1 score: 0.4444444444444444\n",
      "     Confusion matrix:\n",
      " [[6 4]\n",
      " [1 2]]\n",
      "* Fold 1\n",
      "[!] One gaussian has been set to 0.\n",
      "[*] EM (0/20): \n"
     ]
    },
    {
     "name": "stderr",
     "output_type": "stream",
     "text": [
      "C:\\Users\\frigi\\Desktop\\Code\\Stage-Microbiote\\Expectation-Maximization\\src\\model\\EM\\gaussian_mixture_classifier.py:133: RuntimeWarning: divide by zero encountered in log\n",
      "  log_t_i[l] = np.log(self.pi[l]) + np.log(self.p_cond(x_i, self.mu[l], self.sigma[l]))\n"
     ]
    },
    {
     "name": "stdout",
     "output_type": "stream",
     "text": [
      "     Accuracy: 0.46153846153846156\n",
      "     Balanced Accuracy: 0.3\n",
      "     F1 score: 0.0\n",
      "     Confusion matrix:\n",
      " [[6 4]\n",
      " [3 0]]\n",
      "* Fold 2\n",
      "[!] One gaussian has been set to 0.\n",
      "[*] EM (0/20): \n"
     ]
    },
    {
     "name": "stderr",
     "output_type": "stream",
     "text": [
      "C:\\Users\\frigi\\Desktop\\Code\\Stage-Microbiote\\Expectation-Maximization\\src\\model\\EM\\gaussian_mixture_classifier.py:133: RuntimeWarning: divide by zero encountered in log\n",
      "  log_t_i[l] = np.log(self.pi[l]) + np.log(self.p_cond(x_i, self.mu[l], self.sigma[l]))\n"
     ]
    },
    {
     "name": "stdout",
     "output_type": "stream",
     "text": [
      "     Accuracy: 0.6153846153846154\n",
      "     Balanced Accuracy: 0.5166666666666666\n",
      "     F1 score: 0.28571428571428575\n",
      "     Confusion matrix:\n",
      " [[7 3]\n",
      " [2 1]]\n",
      "* Fold 3\n"
     ]
    },
    {
     "name": "stderr",
     "output_type": "stream",
     "text": [
      "C:\\Users\\frigi\\Desktop\\Code\\Stage-Microbiote\\Expectation-Maximization\\src\\model\\EM\\gaussian_mixture_classifier.py:133: RuntimeWarning: divide by zero encountered in log\n",
      "  log_t_i[l] = np.log(self.pi[l]) + np.log(self.p_cond(x_i, self.mu[l], self.sigma[l]))\n"
     ]
    },
    {
     "name": "stdout",
     "output_type": "stream",
     "text": [
      "[!] One gaussian has been set to 0.\n",
      "[*] EM (0/20): \n",
      "     Accuracy: 0.38461538461538464\n",
      "     Balanced Accuracy: 0.3666666666666667\n",
      "     F1 score: 0.2\n",
      "     Confusion matrix:\n",
      " [[4 6]\n",
      " [2 1]]\n",
      "* Fold 4\n",
      "[!] One gaussian has been set to 0.\n",
      "[*] EM (0/20): \n"
     ]
    },
    {
     "name": "stderr",
     "output_type": "stream",
     "text": [
      "C:\\Users\\frigi\\Desktop\\Code\\Stage-Microbiote\\Expectation-Maximization\\src\\model\\EM\\gaussian_mixture_classifier.py:133: RuntimeWarning: divide by zero encountered in log\n",
      "  log_t_i[l] = np.log(self.pi[l]) + np.log(self.p_cond(x_i, self.mu[l], self.sigma[l]))\n"
     ]
    },
    {
     "name": "stdout",
     "output_type": "stream",
     "text": [
      "     Accuracy: 0.6153846153846154\n",
      "     Balanced Accuracy: 0.4\n",
      "     F1 score: 0.0\n",
      "     Confusion matrix:\n",
      " [[8 2]\n",
      " [3 0]]\n",
      "[Summary]\n",
      "     Accuracy: 0.5384615384615385 ± 0.09730085108210398\n",
      "     Balanced Accuracy: 0.44333333333333336 ± 0.11813363431112898\n",
      "     F1 score: 0.18603174603174605 ± 0.17095289678777315\n",
      "     (sum) Confusion matrix:\n",
      " [[31 19]\n",
      " [11  4]]\n",
      "[*] Z dim: 28\n",
      "* Fold 0\n",
      "[!] One gaussian has been set to 0.\n",
      "[*] EM (0/20): \n"
     ]
    },
    {
     "name": "stderr",
     "output_type": "stream",
     "text": [
      "C:\\Users\\frigi\\Desktop\\Code\\Stage-Microbiote\\Expectation-Maximization\\src\\model\\EM\\gaussian_mixture_classifier.py:133: RuntimeWarning: divide by zero encountered in log\n",
      "  log_t_i[l] = np.log(self.pi[l]) + np.log(self.p_cond(x_i, self.mu[l], self.sigma[l]))\n"
     ]
    },
    {
     "name": "stdout",
     "output_type": "stream",
     "text": [
      "     Accuracy: 0.5384615384615384\n",
      "     Balanced Accuracy: 0.4666666666666667\n",
      "     F1 score: 0.25\n",
      "     Confusion matrix:\n",
      " [[6 4]\n",
      " [2 1]]\n",
      "* Fold 1\n",
      "[!] One gaussian has been set to 0.\n",
      "[*] EM (0/20): \n"
     ]
    },
    {
     "name": "stderr",
     "output_type": "stream",
     "text": [
      "C:\\Users\\frigi\\Desktop\\Code\\Stage-Microbiote\\Expectation-Maximization\\src\\model\\EM\\gaussian_mixture_classifier.py:133: RuntimeWarning: divide by zero encountered in log\n",
      "  log_t_i[l] = np.log(self.pi[l]) + np.log(self.p_cond(x_i, self.mu[l], self.sigma[l]))\n"
     ]
    },
    {
     "name": "stdout",
     "output_type": "stream",
     "text": [
      "     Accuracy: 0.46153846153846156\n",
      "     Balanced Accuracy: 0.41666666666666663\n",
      "     F1 score: 0.2222222222222222\n",
      "     Confusion matrix:\n",
      " [[5 5]\n",
      " [2 1]]\n",
      "* Fold 2\n",
      "[!] One gaussian has been set to 0.\n",
      "[*] EM (0/20): \n"
     ]
    },
    {
     "name": "stderr",
     "output_type": "stream",
     "text": [
      "C:\\Users\\frigi\\Desktop\\Code\\Stage-Microbiote\\Expectation-Maximization\\src\\model\\EM\\gaussian_mixture_classifier.py:133: RuntimeWarning: divide by zero encountered in log\n",
      "  log_t_i[l] = np.log(self.pi[l]) + np.log(self.p_cond(x_i, self.mu[l], self.sigma[l]))\n"
     ]
    },
    {
     "name": "stdout",
     "output_type": "stream",
     "text": [
      "     Accuracy: 0.23076923076923078\n",
      "     Balanced Accuracy: 0.15\n",
      "     F1 score: 0.0\n",
      "     Confusion matrix:\n",
      " [[3 7]\n",
      " [3 0]]\n",
      "* Fold 3\n",
      "[!] One gaussian has been set to 0.\n",
      "[*] EM (0/20): \n"
     ]
    },
    {
     "name": "stderr",
     "output_type": "stream",
     "text": [
      "C:\\Users\\frigi\\Desktop\\Code\\Stage-Microbiote\\Expectation-Maximization\\src\\model\\EM\\gaussian_mixture_classifier.py:133: RuntimeWarning: divide by zero encountered in log\n",
      "  log_t_i[l] = np.log(self.pi[l]) + np.log(self.p_cond(x_i, self.mu[l], self.sigma[l]))\n"
     ]
    },
    {
     "name": "stdout",
     "output_type": "stream",
     "text": [
      "     Accuracy: 0.6153846153846154\n",
      "     Balanced Accuracy: 0.75\n",
      "     F1 score: 0.5454545454545454\n",
      "     Confusion matrix:\n",
      " [[5 5]\n",
      " [0 3]]\n",
      "* Fold 4\n",
      "[!] One gaussian has been set to 0.\n",
      "[*] EM (0/20): \n"
     ]
    },
    {
     "name": "stderr",
     "output_type": "stream",
     "text": [
      "C:\\Users\\frigi\\Desktop\\Code\\Stage-Microbiote\\Expectation-Maximization\\src\\model\\EM\\gaussian_mixture_classifier.py:133: RuntimeWarning: divide by zero encountered in log\n",
      "  log_t_i[l] = np.log(self.pi[l]) + np.log(self.p_cond(x_i, self.mu[l], self.sigma[l]))\n"
     ]
    },
    {
     "name": "stdout",
     "output_type": "stream",
     "text": [
      "     Accuracy: 0.23076923076923078\n",
      "     Balanced Accuracy: 0.26666666666666666\n",
      "     F1 score: 0.16666666666666666\n",
      "     Confusion matrix:\n",
      " [[2 8]\n",
      " [2 1]]\n",
      "[Summary]\n",
      "     Accuracy: 0.4153846153846154 ± 0.15839430986133848\n",
      "     Balanced Accuracy: 0.41 ± 0.20346989949375807\n",
      "     F1 score: 0.2368686868686869 ± 0.17700128863356057\n",
      "     (sum) Confusion matrix:\n",
      " [[21 29]\n",
      " [ 9  6]]\n",
      "[*] Z dim: 29\n",
      "* Fold 0\n",
      "[!] One gaussian has been set to 0.\n",
      "[*] EM (0/20): \n"
     ]
    },
    {
     "name": "stderr",
     "output_type": "stream",
     "text": [
      "C:\\Users\\frigi\\Desktop\\Code\\Stage-Microbiote\\Expectation-Maximization\\src\\model\\EM\\gaussian_mixture_classifier.py:133: RuntimeWarning: divide by zero encountered in log\n",
      "  log_t_i[l] = np.log(self.pi[l]) + np.log(self.p_cond(x_i, self.mu[l], self.sigma[l]))\n"
     ]
    },
    {
     "name": "stdout",
     "output_type": "stream",
     "text": [
      "     Accuracy: 0.6923076923076923\n",
      "     Balanced Accuracy: 0.6833333333333333\n",
      "     F1 score: 0.5\n",
      "     Confusion matrix:\n",
      " [[7 3]\n",
      " [1 2]]\n",
      "* Fold 1\n",
      "[!] One gaussian has been set to 0.\n",
      "[*] EM (0/20): \n",
      "     Accuracy: 0.46153846153846156\n",
      "     Balanced Accuracy: 0.5333333333333333\n",
      "     F1 score: 0.36363636363636365\n",
      "     Confusion matrix:\n",
      " [[4 6]\n",
      " [1 2]]\n",
      "* Fold 2\n"
     ]
    },
    {
     "name": "stderr",
     "output_type": "stream",
     "text": [
      "C:\\Users\\frigi\\Desktop\\Code\\Stage-Microbiote\\Expectation-Maximization\\src\\model\\EM\\gaussian_mixture_classifier.py:133: RuntimeWarning: divide by zero encountered in log\n",
      "  log_t_i[l] = np.log(self.pi[l]) + np.log(self.p_cond(x_i, self.mu[l], self.sigma[l]))\n"
     ]
    },
    {
     "name": "stdout",
     "output_type": "stream",
     "text": [
      "[!] One gaussian has been set to 0.\n",
      "[*] EM (0/20): \n",
      "     Accuracy: 0.5384615384615384\n"
     ]
    },
    {
     "name": "stderr",
     "output_type": "stream",
     "text": [
      "C:\\Users\\frigi\\Desktop\\Code\\Stage-Microbiote\\Expectation-Maximization\\src\\model\\EM\\gaussian_mixture_classifier.py:133: RuntimeWarning: divide by zero encountered in log\n",
      "  log_t_i[l] = np.log(self.pi[l]) + np.log(self.p_cond(x_i, self.mu[l], self.sigma[l]))\n"
     ]
    },
    {
     "name": "stdout",
     "output_type": "stream",
     "text": [
      "     Balanced Accuracy: 0.4666666666666667\n",
      "     F1 score: 0.25\n",
      "     Confusion matrix:\n",
      " [[6 4]\n",
      " [2 1]]\n",
      "* Fold 3\n",
      "[!] One gaussian has been set to 0.\n",
      "[*] EM (0/20): \n"
     ]
    },
    {
     "name": "stderr",
     "output_type": "stream",
     "text": [
      "C:\\Users\\frigi\\Desktop\\Code\\Stage-Microbiote\\Expectation-Maximization\\src\\model\\EM\\gaussian_mixture_classifier.py:133: RuntimeWarning: divide by zero encountered in log\n",
      "  log_t_i[l] = np.log(self.pi[l]) + np.log(self.p_cond(x_i, self.mu[l], self.sigma[l]))\n"
     ]
    },
    {
     "name": "stdout",
     "output_type": "stream",
     "text": [
      "     Accuracy: 0.3076923076923077\n",
      "     Balanced Accuracy: 0.31666666666666665\n",
      "     F1 score: 0.18181818181818182\n",
      "     Confusion matrix:\n",
      " [[3 7]\n",
      " [2 1]]\n",
      "* Fold 4\n",
      "[!] One gaussian has been set to 0.\n",
      "[*] EM (0/20): \n"
     ]
    },
    {
     "name": "stderr",
     "output_type": "stream",
     "text": [
      "C:\\Users\\frigi\\Desktop\\Code\\Stage-Microbiote\\Expectation-Maximization\\src\\model\\EM\\gaussian_mixture_classifier.py:133: RuntimeWarning: divide by zero encountered in log\n",
      "  log_t_i[l] = np.log(self.pi[l]) + np.log(self.p_cond(x_i, self.mu[l], self.sigma[l]))\n"
     ]
    },
    {
     "name": "stdout",
     "output_type": "stream",
     "text": [
      "     Accuracy: 0.3076923076923077\n",
      "     Balanced Accuracy: 0.31666666666666665\n",
      "     F1 score: 0.18181818181818182\n",
      "     Confusion matrix:\n",
      " [[3 7]\n",
      " [2 1]]\n",
      "[Summary]\n",
      "     Accuracy: 0.4615384615384615 ± 0.14595127662315596\n",
      "     Balanced Accuracy: 0.46333333333333326 ± 0.13880441875771343\n",
      "     F1 score: 0.2954545454545455 ± 0.12196734422726126\n",
      "     (sum) Confusion matrix:\n",
      " [[23 27]\n",
      " [ 8  7]]\n"
     ]
    },
    {
     "data": {
      "text/plain": "<Figure size 1500x500 with 3 Axes>",
      "image/png": "[encoded data removed]"
     },
     "metadata": {},
     "output_type": "display_data"
    }
   ],
   "source": [
    "z_dims = np.arange(1, 30)\n",
    "\n",
    "accuracies = np.zeros((len(z_dims), 3))\n",
    "balanced_accuracies = np.zeros((len(z_dims), 3))\n",
    "f1_scores = np.zeros((len(z_dims), 3))\n",
    "\n",
    "\n",
    "fig, axs = plt.subplots(1, 3, figsize=(15, 5))\n",
    "for i, z_dim in enumerate(z_dims):\n",
    "    print(\"[*] Z dim:\", z_dim)\n",
    "    gmm_classif = GaussianMixtureClassifier(\n",
    "        z_dim=z_dim,\n",
    "        optimizer=GradientDescent(learning_rate=0.01, n_iter=100),\n",
    "        seed=0\n",
    "    )\n",
    "    mean_accuracy, mean_balanced_accuracy, mean_f1, mean_cm = evaluate(gmm_classif, gmm_classif.classify, training_steps=20)\n",
    "    accuracies[i] = np.array([mean_accuracy.mean(), mean_accuracy.mean()-mean_accuracy.std(), mean_accuracy.mean()+mean_accuracy.std()])\n",
    "    balanced_accuracies[i] = np.array([mean_balanced_accuracy.mean(), mean_balanced_accuracy.mean()-mean_balanced_accuracy.std(),  mean_balanced_accuracy.mean()+mean_balanced_accuracy.std()])\n",
    "    f1_scores[i] = np.array([mean_f1.mean(), mean_f1.mean()-mean_f1.std(), mean_f1.mean()+mean_f1.std()])\n",
    "\n",
    "axs[0].plot(z_dims, accuracies[:, 0], color='C0', label=\"Mean\")\n",
    "axs[1].plot(z_dims, balanced_accuracies[:, 0], color='C1', label=\"Mean\")\n",
    "axs[2].plot(z_dims, f1_scores[:, 0], color='C2', label=\"Mean\")\n",
    "axs[0].fill_between(z_dims, accuracies[:, 1], accuracies[:, 2], alpha=0.1, label=\"Std\")\n",
    "axs[1].fill_between(z_dims, balanced_accuracies[:, 1], balanced_accuracies[:, 2], color=\"C1\", alpha=0.1, label=\"Std\")\n",
    "axs[2].fill_between(z_dims, f1_scores[:, 1], f1_scores[:, 2], alpha=0.1, color=\"C2\", label=\"Std\")\n",
    "axs[0].vlines(x=np.argmax(accuracies[:, 0])+1, ymin=0, ymax=accuracies[:, 0].max(), color='C0', linestyles='--')\n",
    "axs[1].vlines(x=np.argmax(balanced_accuracies[:, 0])+1, ymin=0, ymax=balanced_accuracies[:, 0].max(), color='C1', linestyles='--')\n",
    "axs[2].vlines(x=np.argmax(f1_scores[:, 0])+1, ymin=0, ymax=f1_scores[:, 0].max(), color='C2', linestyles='--')\n",
    "axs[0].legend()\n",
    "axs[1].legend()\n",
    "axs[2].legend()\n",
    "axs[0].set_xticks(z_dims[np.arange(0, len(z_dims), 2)])\n",
    "axs[1].set_xticks(z_dims[np.arange(0, len(z_dims), 2)])\n",
    "axs[2].set_xticks(z_dims[np.arange(0, len(z_dims), 2)])\n",
    "axs[0].set_yticks(np.linspace(0, 1, 5))\n",
    "axs[1].set_yticks(np.linspace(0, 1, 5))\n",
    "axs[2].set_yticks(np.linspace(0, 1, 5))\n",
    "axs[0].set_title(\"Accuracy\")\n",
    "axs[1].set_title(\"Balanced Accuracy\")\n",
    "axs[2].set_title(\"F1\")\n",
    "plt.show()"
   ],
   "metadata": {
    "collapsed": false,
    "pycharm": {
     "name": "#%%\n"
    }
   }
  },
  {
   "cell_type": "markdown",
   "source": [
    "### Random Forest"
   ],
   "metadata": {
    "collapsed": false,
    "pycharm": {
     "name": "#%% md\n"
    }
   }
  },
  {
   "cell_type": "code",
   "execution_count": 46,
   "outputs": [
    {
     "name": "stdout",
     "output_type": "stream",
     "text": [
      "Random forest metrics:\n",
      "Accuracy: 0.7692307692307693\n",
      "Balanced Accuracy: 0.5\n",
      "Confusion matrix:\n",
      " [[10  0]\n",
      " [ 3  0]]\n"
     ]
    }
   ],
   "source": [
    "from sklearn.ensemble import RandomForestClassifier\n",
    "\n",
    "randomforest = RandomForestClassifier(\n",
    "    n_estimators=20,\n",
    "    criterion='gini',\n",
    "    max_depth=None,\n",
    "    max_features='sqrt',\n",
    "    max_samples=3,\n",
    "    class_weight={0:1, 1:1}\n",
    ")\n",
    "randomforest.fit(X_train, y_train)\n",
    "y_pred = randomforest.predict(X_test)\n",
    "print(\"Random forest metrics:\")\n",
    "print(\"Accuracy:\", randomforest.score(X_test, y_test))\n",
    "print(\"Balanced Accuracy:\", balanced_accuracy_score(y_test, y_pred))\n",
    "print(\"Confusion matrix:\\n\", confusion_matrix(y_test, y_pred))"
   ],
   "metadata": {
    "collapsed": false,
    "pycharm": {
     "name": "#%%\n"
    }
   }
  },
  {
   "cell_type": "code",
   "execution_count": 47,
   "outputs": [
    {
     "name": "stdout",
     "output_type": "stream",
     "text": [
      "* Fold 0\n",
      "     Accuracy: 0.7692307692307693\n",
      "     Balanced Accuracy: 0.5\n",
      "     F1 score: 0.0\n",
      "     Confusion matrix:\n",
      " [[10  0]\n",
      " [ 3  0]]\n",
      "* Fold 1\n",
      "     Accuracy: 0.7692307692307693\n",
      "     Balanced Accuracy: 0.5\n",
      "     F1 score: 0.0\n",
      "     Confusion matrix:\n",
      " [[10  0]\n",
      " [ 3  0]]\n",
      "* Fold 2\n",
      "     Accuracy: 0.7692307692307693\n",
      "     Balanced Accuracy: 0.5\n",
      "     F1 score: 0.0\n",
      "     Confusion matrix:\n",
      " [[10  0]\n",
      " [ 3  0]]\n",
      "* Fold 3\n",
      "     Accuracy: 0.7692307692307693\n",
      "     Balanced Accuracy: 0.5\n",
      "     F1 score: 0.0\n",
      "     Confusion matrix:\n",
      " [[10  0]\n",
      " [ 3  0]]\n",
      "* Fold 4\n",
      "     Accuracy: 0.7692307692307693\n",
      "     Balanced Accuracy: 0.5\n",
      "     F1 score: 0.0\n",
      "     Confusion matrix:\n",
      " [[10  0]\n",
      " [ 3  0]]\n",
      "[Summary]\n",
      "     Accuracy: 0.7692307692307693 ± 0.0\n",
      "     Balanced Accuracy: 0.5 ± 0.0\n",
      "     F1 score: 0.0 ± 0.0\n",
      "     (sum) Confusion matrix:\n",
      " [[50  0]\n",
      " [15  0]]\n"
     ]
    }
   ],
   "source": [
    "_ = evaluate(randomforest, randomforest.predict)"
   ],
   "metadata": {
    "collapsed": false,
    "pycharm": {
     "name": "#%%\n"
    }
   }
  },
  {
   "cell_type": "markdown",
   "source": [
    "### XGBoost"
   ],
   "metadata": {
    "collapsed": false,
    "pycharm": {
     "name": "#%% md\n"
    }
   }
  },
  {
   "cell_type": "code",
   "execution_count": 48,
   "outputs": [
    {
     "name": "stdout",
     "output_type": "stream",
     "text": [
      "Random forest metrics:\n",
      "Accuracy: 0.8461538461538461\n",
      "Balanced Accuracy: 0.6666666666666666\n",
      "Confusion matrix:\n",
      " [[10  0]\n",
      " [ 2  1]]\n"
     ]
    }
   ],
   "source": [
    "from sklearn.ensemble import GradientBoostingClassifier\n",
    "\n",
    "xgboost = GradientBoostingClassifier(\n",
    "    learning_rate=1.2,\n",
    "    n_estimators=10,\n",
    "    max_depth=1,\n",
    "    random_state=0\n",
    ")\n",
    "xgboost.fit(X_train, y_train)\n",
    "y_pred = xgboost.predict(X_test)\n",
    "print(\"Random forest metrics:\")\n",
    "print(\"Accuracy:\", xgboost.score(X_test, y_test))\n",
    "print(\"Balanced Accuracy:\", balanced_accuracy_score(y_test, y_pred))\n",
    "print(\"Confusion matrix:\\n\", confusion_matrix(y_test, y_pred))"
   ],
   "metadata": {
    "collapsed": false,
    "pycharm": {
     "name": "#%%\n"
    }
   }
  },
  {
   "cell_type": "code",
   "execution_count": 49,
   "outputs": [
    {
     "name": "stdout",
     "output_type": "stream",
     "text": [
      "* Fold 0\n",
      "     Accuracy: 0.7692307692307693\n",
      "     Balanced Accuracy: 0.85\n",
      "     F1 score: 0.6666666666666666\n",
      "     Confusion matrix:\n",
      " [[7 3]\n",
      " [0 3]]\n",
      "* Fold 1\n",
      "     Accuracy: 0.9230769230769231\n",
      "     Balanced Accuracy: 0.8333333333333333\n",
      "     F1 score: 0.8\n",
      "     Confusion matrix:\n",
      " [[10  0]\n",
      " [ 1  2]]\n",
      "* Fold 2\n",
      "     Accuracy: 0.3076923076923077\n",
      "     Balanced Accuracy: 0.31666666666666665\n",
      "     F1 score: 0.18181818181818182\n",
      "     Confusion matrix:\n",
      " [[3 7]\n",
      " [2 1]]\n",
      "* Fold 3\n",
      "     Accuracy: 0.6923076923076923\n",
      "     Balanced Accuracy: 0.5666666666666667\n",
      "     F1 score: 0.3333333333333333\n",
      "     Confusion matrix:\n",
      " [[8 2]\n",
      " [2 1]]\n",
      "* Fold 4\n",
      "     Accuracy: 0.6923076923076923\n",
      "     Balanced Accuracy: 0.6833333333333333\n",
      "     F1 score: 0.5\n",
      "     Confusion matrix:\n",
      " [[7 3]\n",
      " [1 2]]\n",
      "[Summary]\n",
      "     Accuracy: 0.676923076923077 ± 0.2029370147426603\n",
      "     Balanced Accuracy: 0.65 ± 0.19635568633364187\n",
      "     F1 score: 0.4963636363636364 ± 0.22213919477416127\n",
      "     (sum) Confusion matrix:\n",
      " [[35 15]\n",
      " [ 6  9]]\n"
     ]
    }
   ],
   "source": [
    "_ = evaluate(xgboost, xgboost.predict)"
   ],
   "metadata": {
    "collapsed": false,
    "pycharm": {
     "name": "#%%\n"
    }
   }
  }
 ],
 "metadata": {
  "kernelspec": {
   "display_name": "Python 3 (ipykernel)",
   "language": "python",
   "name": "python3"
  },
  "language_info": {
   "codemirror_mode": {
    "name": "ipython",
    "version": 3
   },
   "file_extension": ".py",
   "mimetype": "text/x-python",
   "name": "python",
   "nbconvert_exporter": "python",
   "pygments_lexer": "ipython3",
   "version": "3.9.13"
  }
 },
 "nbformat": 4,
 "nbformat_minor": 4
}